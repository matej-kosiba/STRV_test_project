{
 "cells": [
  {
   "cell_type": "code",
   "execution_count": 1,
   "metadata": {},
   "outputs": [
    {
     "name": "stdout",
     "output_type": "stream",
     "text": [
      "Requirement already satisfied: kagglehub in c:\\users\\matej\\appdata\\local\\packages\\pythonsoftwarefoundation.python.3.11_qbz5n2kfra8p0\\localcache\\local-packages\\python311\\site-packages (0.3.10)\n",
      "Requirement already satisfied: packaging in c:\\users\\matej\\appdata\\local\\packages\\pythonsoftwarefoundation.python.3.11_qbz5n2kfra8p0\\localcache\\local-packages\\python311\\site-packages (from kagglehub) (24.2)\n",
      "Requirement already satisfied: pyyaml in c:\\users\\matej\\appdata\\local\\packages\\pythonsoftwarefoundation.python.3.11_qbz5n2kfra8p0\\localcache\\local-packages\\python311\\site-packages (from kagglehub) (6.0.2)\n",
      "Requirement already satisfied: requests in c:\\users\\matej\\appdata\\local\\packages\\pythonsoftwarefoundation.python.3.11_qbz5n2kfra8p0\\localcache\\local-packages\\python311\\site-packages (from kagglehub) (2.32.3)\n",
      "Requirement already satisfied: tqdm in c:\\users\\matej\\appdata\\local\\packages\\pythonsoftwarefoundation.python.3.11_qbz5n2kfra8p0\\localcache\\local-packages\\python311\\site-packages (from kagglehub) (4.67.1)\n",
      "Requirement already satisfied: charset-normalizer<4,>=2 in c:\\users\\matej\\appdata\\local\\packages\\pythonsoftwarefoundation.python.3.11_qbz5n2kfra8p0\\localcache\\local-packages\\python311\\site-packages (from requests->kagglehub) (3.4.1)\n",
      "Requirement already satisfied: idna<4,>=2.5 in c:\\users\\matej\\appdata\\local\\packages\\pythonsoftwarefoundation.python.3.11_qbz5n2kfra8p0\\localcache\\local-packages\\python311\\site-packages (from requests->kagglehub) (3.10)\n",
      "Requirement already satisfied: urllib3<3,>=1.21.1 in c:\\users\\matej\\appdata\\local\\packages\\pythonsoftwarefoundation.python.3.11_qbz5n2kfra8p0\\localcache\\local-packages\\python311\\site-packages (from requests->kagglehub) (2.3.0)\n",
      "Requirement already satisfied: certifi>=2017.4.17 in c:\\users\\matej\\appdata\\local\\packages\\pythonsoftwarefoundation.python.3.11_qbz5n2kfra8p0\\localcache\\local-packages\\python311\\site-packages (from requests->kagglehub) (2025.1.31)\n",
      "Requirement already satisfied: colorama in c:\\users\\matej\\appdata\\local\\packages\\pythonsoftwarefoundation.python.3.11_qbz5n2kfra8p0\\localcache\\local-packages\\python311\\site-packages (from tqdm->kagglehub) (0.4.6)\n",
      "Note: you may need to restart the kernel to use updated packages.\n"
     ]
    },
    {
     "name": "stderr",
     "output_type": "stream",
     "text": [
      "\n",
      "[notice] A new release of pip is available: 24.0 -> 25.0.1\n",
      "[notice] To update, run: C:\\Users\\matej\\AppData\\Local\\Microsoft\\WindowsApps\\PythonSoftwareFoundation.Python.3.11_qbz5n2kfra8p0\\python.exe -m pip install --upgrade pip\n"
     ]
    },
    {
     "name": "stdout",
     "output_type": "stream",
     "text": [
      "Requirement already satisfied: jupyter in c:\\users\\matej\\appdata\\local\\packages\\pythonsoftwarefoundation.python.3.11_qbz5n2kfra8p0\\localcache\\local-packages\\python311\\site-packages (1.1.1)\n",
      "Requirement already satisfied: ipywidgets in c:\\users\\matej\\appdata\\local\\packages\\pythonsoftwarefoundation.python.3.11_qbz5n2kfra8p0\\localcache\\local-packages\\python311\\site-packages (8.1.5)\n",
      "Requirement already satisfied: notebook in c:\\users\\matej\\appdata\\local\\packages\\pythonsoftwarefoundation.python.3.11_qbz5n2kfra8p0\\localcache\\local-packages\\python311\\site-packages (from jupyter) (7.3.2)\n",
      "Requirement already satisfied: jupyter-console in c:\\users\\matej\\appdata\\local\\packages\\pythonsoftwarefoundation.python.3.11_qbz5n2kfra8p0\\localcache\\local-packages\\python311\\site-packages (from jupyter) (6.6.3)\n",
      "Requirement already satisfied: nbconvert in c:\\users\\matej\\appdata\\local\\packages\\pythonsoftwarefoundation.python.3.11_qbz5n2kfra8p0\\localcache\\local-packages\\python311\\site-packages (from jupyter) (7.16.6)\n",
      "Requirement already satisfied: ipykernel in c:\\users\\matej\\appdata\\local\\packages\\pythonsoftwarefoundation.python.3.11_qbz5n2kfra8p0\\localcache\\local-packages\\python311\\site-packages (from jupyter) (6.29.5)\n",
      "Requirement already satisfied: jupyterlab in c:\\users\\matej\\appdata\\local\\packages\\pythonsoftwarefoundation.python.3.11_qbz5n2kfra8p0\\localcache\\local-packages\\python311\\site-packages (from jupyter) (4.3.5)\n",
      "Requirement already satisfied: comm>=0.1.3 in c:\\users\\matej\\appdata\\local\\packages\\pythonsoftwarefoundation.python.3.11_qbz5n2kfra8p0\\localcache\\local-packages\\python311\\site-packages (from ipywidgets) (0.2.2)\n",
      "Requirement already satisfied: ipython>=6.1.0 in c:\\users\\matej\\appdata\\local\\packages\\pythonsoftwarefoundation.python.3.11_qbz5n2kfra8p0\\localcache\\local-packages\\python311\\site-packages (from ipywidgets) (9.0.2)\n",
      "Requirement already satisfied: traitlets>=4.3.1 in c:\\users\\matej\\appdata\\local\\packages\\pythonsoftwarefoundation.python.3.11_qbz5n2kfra8p0\\localcache\\local-packages\\python311\\site-packages (from ipywidgets) (5.14.3)\n",
      "Requirement already satisfied: widgetsnbextension~=4.0.12 in c:\\users\\matej\\appdata\\local\\packages\\pythonsoftwarefoundation.python.3.11_qbz5n2kfra8p0\\localcache\\local-packages\\python311\\site-packages (from ipywidgets) (4.0.13)\n",
      "Requirement already satisfied: jupyterlab-widgets~=3.0.12 in c:\\users\\matej\\appdata\\local\\packages\\pythonsoftwarefoundation.python.3.11_qbz5n2kfra8p0\\localcache\\local-packages\\python311\\site-packages (from ipywidgets) (3.0.13)\n",
      "Requirement already satisfied: colorama in c:\\users\\matej\\appdata\\local\\packages\\pythonsoftwarefoundation.python.3.11_qbz5n2kfra8p0\\localcache\\local-packages\\python311\\site-packages (from ipython>=6.1.0->ipywidgets) (0.4.6)\n",
      "Requirement already satisfied: decorator in c:\\users\\matej\\appdata\\local\\packages\\pythonsoftwarefoundation.python.3.11_qbz5n2kfra8p0\\localcache\\local-packages\\python311\\site-packages (from ipython>=6.1.0->ipywidgets) (5.2.1)\n",
      "Requirement already satisfied: ipython-pygments-lexers in c:\\users\\matej\\appdata\\local\\packages\\pythonsoftwarefoundation.python.3.11_qbz5n2kfra8p0\\localcache\\local-packages\\python311\\site-packages (from ipython>=6.1.0->ipywidgets) (1.1.1)\n",
      "Requirement already satisfied: jedi>=0.16 in c:\\users\\matej\\appdata\\local\\packages\\pythonsoftwarefoundation.python.3.11_qbz5n2kfra8p0\\localcache\\local-packages\\python311\\site-packages (from ipython>=6.1.0->ipywidgets) (0.19.2)\n",
      "Requirement already satisfied: matplotlib-inline in c:\\users\\matej\\appdata\\local\\packages\\pythonsoftwarefoundation.python.3.11_qbz5n2kfra8p0\\localcache\\local-packages\\python311\\site-packages (from ipython>=6.1.0->ipywidgets) (0.1.7)\n",
      "Requirement already satisfied: prompt_toolkit<3.1.0,>=3.0.41 in c:\\users\\matej\\appdata\\local\\packages\\pythonsoftwarefoundation.python.3.11_qbz5n2kfra8p0\\localcache\\local-packages\\python311\\site-packages (from ipython>=6.1.0->ipywidgets) (3.0.50)\n",
      "Requirement already satisfied: pygments>=2.4.0 in c:\\users\\matej\\appdata\\local\\packages\\pythonsoftwarefoundation.python.3.11_qbz5n2kfra8p0\\localcache\\local-packages\\python311\\site-packages (from ipython>=6.1.0->ipywidgets) (2.19.1)\n",
      "Requirement already satisfied: stack_data in c:\\users\\matej\\appdata\\local\\packages\\pythonsoftwarefoundation.python.3.11_qbz5n2kfra8p0\\localcache\\local-packages\\python311\\site-packages (from ipython>=6.1.0->ipywidgets) (0.6.3)\n",
      "Requirement already satisfied: typing_extensions>=4.6 in c:\\users\\matej\\appdata\\local\\packages\\pythonsoftwarefoundation.python.3.11_qbz5n2kfra8p0\\localcache\\local-packages\\python311\\site-packages (from ipython>=6.1.0->ipywidgets) (4.12.2)\n",
      "Requirement already satisfied: debugpy>=1.6.5 in c:\\users\\matej\\appdata\\local\\packages\\pythonsoftwarefoundation.python.3.11_qbz5n2kfra8p0\\localcache\\local-packages\\python311\\site-packages (from ipykernel->jupyter) (1.8.13)\n",
      "Requirement already satisfied: jupyter-client>=6.1.12 in c:\\users\\matej\\appdata\\local\\packages\\pythonsoftwarefoundation.python.3.11_qbz5n2kfra8p0\\localcache\\local-packages\\python311\\site-packages (from ipykernel->jupyter) (8.6.3)\n",
      "Requirement already satisfied: jupyter-core!=5.0.*,>=4.12 in c:\\users\\matej\\appdata\\local\\packages\\pythonsoftwarefoundation.python.3.11_qbz5n2kfra8p0\\localcache\\local-packages\\python311\\site-packages (from ipykernel->jupyter) (5.7.2)\n",
      "Requirement already satisfied: nest-asyncio in c:\\users\\matej\\appdata\\local\\packages\\pythonsoftwarefoundation.python.3.11_qbz5n2kfra8p0\\localcache\\local-packages\\python311\\site-packages (from ipykernel->jupyter) (1.6.0)\n",
      "Requirement already satisfied: packaging in c:\\users\\matej\\appdata\\local\\packages\\pythonsoftwarefoundation.python.3.11_qbz5n2kfra8p0\\localcache\\local-packages\\python311\\site-packages (from ipykernel->jupyter) (24.2)\n",
      "Requirement already satisfied: psutil in c:\\users\\matej\\appdata\\local\\packages\\pythonsoftwarefoundation.python.3.11_qbz5n2kfra8p0\\localcache\\local-packages\\python311\\site-packages (from ipykernel->jupyter) (7.0.0)\n",
      "Requirement already satisfied: pyzmq>=24 in c:\\users\\matej\\appdata\\local\\packages\\pythonsoftwarefoundation.python.3.11_qbz5n2kfra8p0\\localcache\\local-packages\\python311\\site-packages (from ipykernel->jupyter) (26.2.1)\n",
      "Requirement already satisfied: tornado>=6.1 in c:\\users\\matej\\appdata\\local\\packages\\pythonsoftwarefoundation.python.3.11_qbz5n2kfra8p0\\localcache\\local-packages\\python311\\site-packages (from ipykernel->jupyter) (6.4.2)\n",
      "Requirement already satisfied: async-lru>=1.0.0 in c:\\users\\matej\\appdata\\local\\packages\\pythonsoftwarefoundation.python.3.11_qbz5n2kfra8p0\\localcache\\local-packages\\python311\\site-packages (from jupyterlab->jupyter) (2.0.4)\n",
      "Requirement already satisfied: httpx>=0.25.0 in c:\\users\\matej\\appdata\\local\\packages\\pythonsoftwarefoundation.python.3.11_qbz5n2kfra8p0\\localcache\\local-packages\\python311\\site-packages (from jupyterlab->jupyter) (0.28.1)\n",
      "Requirement already satisfied: jinja2>=3.0.3 in c:\\users\\matej\\appdata\\local\\packages\\pythonsoftwarefoundation.python.3.11_qbz5n2kfra8p0\\localcache\\local-packages\\python311\\site-packages (from jupyterlab->jupyter) (3.1.6)\n",
      "Requirement already satisfied: jupyter-lsp>=2.0.0 in c:\\users\\matej\\appdata\\local\\packages\\pythonsoftwarefoundation.python.3.11_qbz5n2kfra8p0\\localcache\\local-packages\\python311\\site-packages (from jupyterlab->jupyter) (2.2.5)\n",
      "Requirement already satisfied: jupyter-server<3,>=2.4.0 in c:\\users\\matej\\appdata\\local\\packages\\pythonsoftwarefoundation.python.3.11_qbz5n2kfra8p0\\localcache\\local-packages\\python311\\site-packages (from jupyterlab->jupyter) (2.15.0)\n",
      "Requirement already satisfied: jupyterlab-server<3,>=2.27.1 in c:\\users\\matej\\appdata\\local\\packages\\pythonsoftwarefoundation.python.3.11_qbz5n2kfra8p0\\localcache\\local-packages\\python311\\site-packages (from jupyterlab->jupyter) (2.27.3)\n",
      "Requirement already satisfied: notebook-shim>=0.2 in c:\\users\\matej\\appdata\\local\\packages\\pythonsoftwarefoundation.python.3.11_qbz5n2kfra8p0\\localcache\\local-packages\\python311\\site-packages (from jupyterlab->jupyter) (0.2.4)\n",
      "Requirement already satisfied: setuptools>=40.8.0 in c:\\program files\\windowsapps\\pythonsoftwarefoundation.python.3.11_3.11.2544.0_x64__qbz5n2kfra8p0\\lib\\site-packages (from jupyterlab->jupyter) (65.5.0)\n",
      "Requirement already satisfied: beautifulsoup4 in c:\\users\\matej\\appdata\\local\\packages\\pythonsoftwarefoundation.python.3.11_qbz5n2kfra8p0\\localcache\\local-packages\\python311\\site-packages (from nbconvert->jupyter) (4.13.3)\n",
      "Requirement already satisfied: bleach!=5.0.0 in c:\\users\\matej\\appdata\\local\\packages\\pythonsoftwarefoundation.python.3.11_qbz5n2kfra8p0\\localcache\\local-packages\\python311\\site-packages (from bleach[css]!=5.0.0->nbconvert->jupyter) (6.2.0)\n",
      "Requirement already satisfied: defusedxml in c:\\users\\matej\\appdata\\local\\packages\\pythonsoftwarefoundation.python.3.11_qbz5n2kfra8p0\\localcache\\local-packages\\python311\\site-packages (from nbconvert->jupyter) (0.7.1)\n",
      "Requirement already satisfied: jupyterlab-pygments in c:\\users\\matej\\appdata\\local\\packages\\pythonsoftwarefoundation.python.3.11_qbz5n2kfra8p0\\localcache\\local-packages\\python311\\site-packages (from nbconvert->jupyter) (0.3.0)\n",
      "Requirement already satisfied: markupsafe>=2.0 in c:\\users\\matej\\appdata\\local\\packages\\pythonsoftwarefoundation.python.3.11_qbz5n2kfra8p0\\localcache\\local-packages\\python311\\site-packages (from nbconvert->jupyter) (3.0.2)\n",
      "Requirement already satisfied: mistune<4,>=2.0.3 in c:\\users\\matej\\appdata\\local\\packages\\pythonsoftwarefoundation.python.3.11_qbz5n2kfra8p0\\localcache\\local-packages\\python311\\site-packages (from nbconvert->jupyter) (3.1.2)\n",
      "Requirement already satisfied: nbclient>=0.5.0 in c:\\users\\matej\\appdata\\local\\packages\\pythonsoftwarefoundation.python.3.11_qbz5n2kfra8p0\\localcache\\local-packages\\python311\\site-packages (from nbconvert->jupyter) (0.10.2)\n",
      "Requirement already satisfied: nbformat>=5.7 in c:\\users\\matej\\appdata\\local\\packages\\pythonsoftwarefoundation.python.3.11_qbz5n2kfra8p0\\localcache\\local-packages\\python311\\site-packages (from nbconvert->jupyter) (5.10.4)\n",
      "Requirement already satisfied: pandocfilters>=1.4.1 in c:\\users\\matej\\appdata\\local\\packages\\pythonsoftwarefoundation.python.3.11_qbz5n2kfra8p0\\localcache\\local-packages\\python311\\site-packages (from nbconvert->jupyter) (1.5.1)\n",
      "Requirement already satisfied: webencodings in c:\\users\\matej\\appdata\\local\\packages\\pythonsoftwarefoundation.python.3.11_qbz5n2kfra8p0\\localcache\\local-packages\\python311\\site-packages (from bleach!=5.0.0->bleach[css]!=5.0.0->nbconvert->jupyter) (0.5.1)\n",
      "Requirement already satisfied: tinycss2<1.5,>=1.1.0 in c:\\users\\matej\\appdata\\local\\packages\\pythonsoftwarefoundation.python.3.11_qbz5n2kfra8p0\\localcache\\local-packages\\python311\\site-packages (from bleach[css]!=5.0.0->nbconvert->jupyter) (1.4.0)\n",
      "Requirement already satisfied: anyio in c:\\users\\matej\\appdata\\local\\packages\\pythonsoftwarefoundation.python.3.11_qbz5n2kfra8p0\\localcache\\local-packages\\python311\\site-packages (from httpx>=0.25.0->jupyterlab->jupyter) (4.8.0)\n",
      "Requirement already satisfied: certifi in c:\\users\\matej\\appdata\\local\\packages\\pythonsoftwarefoundation.python.3.11_qbz5n2kfra8p0\\localcache\\local-packages\\python311\\site-packages (from httpx>=0.25.0->jupyterlab->jupyter) (2025.1.31)\n",
      "Requirement already satisfied: httpcore==1.* in c:\\users\\matej\\appdata\\local\\packages\\pythonsoftwarefoundation.python.3.11_qbz5n2kfra8p0\\localcache\\local-packages\\python311\\site-packages (from httpx>=0.25.0->jupyterlab->jupyter) (1.0.7)\n",
      "Requirement already satisfied: idna in c:\\users\\matej\\appdata\\local\\packages\\pythonsoftwarefoundation.python.3.11_qbz5n2kfra8p0\\localcache\\local-packages\\python311\\site-packages (from httpx>=0.25.0->jupyterlab->jupyter) (3.10)\n",
      "Requirement already satisfied: h11<0.15,>=0.13 in c:\\users\\matej\\appdata\\local\\packages\\pythonsoftwarefoundation.python.3.11_qbz5n2kfra8p0\\localcache\\local-packages\\python311\\site-packages (from httpcore==1.*->httpx>=0.25.0->jupyterlab->jupyter) (0.14.0)\n",
      "Requirement already satisfied: parso<0.9.0,>=0.8.4 in c:\\users\\matej\\appdata\\local\\packages\\pythonsoftwarefoundation.python.3.11_qbz5n2kfra8p0\\localcache\\local-packages\\python311\\site-packages (from jedi>=0.16->ipython>=6.1.0->ipywidgets) (0.8.4)\n",
      "Requirement already satisfied: python-dateutil>=2.8.2 in c:\\users\\matej\\appdata\\local\\packages\\pythonsoftwarefoundation.python.3.11_qbz5n2kfra8p0\\localcache\\local-packages\\python311\\site-packages (from jupyter-client>=6.1.12->ipykernel->jupyter) (2.9.0.post0)\n",
      "Requirement already satisfied: platformdirs>=2.5 in c:\\users\\matej\\appdata\\local\\packages\\pythonsoftwarefoundation.python.3.11_qbz5n2kfra8p0\\localcache\\local-packages\\python311\\site-packages (from jupyter-core!=5.0.*,>=4.12->ipykernel->jupyter) (4.3.6)\n",
      "Requirement already satisfied: pywin32>=300 in c:\\users\\matej\\appdata\\local\\packages\\pythonsoftwarefoundation.python.3.11_qbz5n2kfra8p0\\localcache\\local-packages\\python311\\site-packages (from jupyter-core!=5.0.*,>=4.12->ipykernel->jupyter) (309)\n",
      "Requirement already satisfied: argon2-cffi>=21.1 in c:\\users\\matej\\appdata\\local\\packages\\pythonsoftwarefoundation.python.3.11_qbz5n2kfra8p0\\localcache\\local-packages\\python311\\site-packages (from jupyter-server<3,>=2.4.0->jupyterlab->jupyter) (23.1.0)\n",
      "Requirement already satisfied: jupyter-events>=0.11.0 in c:\\users\\matej\\appdata\\local\\packages\\pythonsoftwarefoundation.python.3.11_qbz5n2kfra8p0\\localcache\\local-packages\\python311\\site-packages (from jupyter-server<3,>=2.4.0->jupyterlab->jupyter) (0.12.0)\n",
      "Requirement already satisfied: jupyter-server-terminals>=0.4.4 in c:\\users\\matej\\appdata\\local\\packages\\pythonsoftwarefoundation.python.3.11_qbz5n2kfra8p0\\localcache\\local-packages\\python311\\site-packages (from jupyter-server<3,>=2.4.0->jupyterlab->jupyter) (0.5.3)\n",
      "Requirement already satisfied: overrides>=5.0 in c:\\users\\matej\\appdata\\local\\packages\\pythonsoftwarefoundation.python.3.11_qbz5n2kfra8p0\\localcache\\local-packages\\python311\\site-packages (from jupyter-server<3,>=2.4.0->jupyterlab->jupyter) (7.7.0)\n",
      "Requirement already satisfied: prometheus-client>=0.9 in c:\\users\\matej\\appdata\\local\\packages\\pythonsoftwarefoundation.python.3.11_qbz5n2kfra8p0\\localcache\\local-packages\\python311\\site-packages (from jupyter-server<3,>=2.4.0->jupyterlab->jupyter) (0.21.1)\n",
      "Requirement already satisfied: pywinpty>=2.0.1 in c:\\users\\matej\\appdata\\local\\packages\\pythonsoftwarefoundation.python.3.11_qbz5n2kfra8p0\\localcache\\local-packages\\python311\\site-packages (from jupyter-server<3,>=2.4.0->jupyterlab->jupyter) (2.0.15)\n",
      "Requirement already satisfied: send2trash>=1.8.2 in c:\\users\\matej\\appdata\\local\\packages\\pythonsoftwarefoundation.python.3.11_qbz5n2kfra8p0\\localcache\\local-packages\\python311\\site-packages (from jupyter-server<3,>=2.4.0->jupyterlab->jupyter) (1.8.3)\n",
      "Requirement already satisfied: terminado>=0.8.3 in c:\\users\\matej\\appdata\\local\\packages\\pythonsoftwarefoundation.python.3.11_qbz5n2kfra8p0\\localcache\\local-packages\\python311\\site-packages (from jupyter-server<3,>=2.4.0->jupyterlab->jupyter) (0.18.1)\n",
      "Requirement already satisfied: websocket-client>=1.7 in c:\\users\\matej\\appdata\\local\\packages\\pythonsoftwarefoundation.python.3.11_qbz5n2kfra8p0\\localcache\\local-packages\\python311\\site-packages (from jupyter-server<3,>=2.4.0->jupyterlab->jupyter) (1.8.0)\n",
      "Requirement already satisfied: babel>=2.10 in c:\\users\\matej\\appdata\\local\\packages\\pythonsoftwarefoundation.python.3.11_qbz5n2kfra8p0\\localcache\\local-packages\\python311\\site-packages (from jupyterlab-server<3,>=2.27.1->jupyterlab->jupyter) (2.17.0)\n",
      "Requirement already satisfied: json5>=0.9.0 in c:\\users\\matej\\appdata\\local\\packages\\pythonsoftwarefoundation.python.3.11_qbz5n2kfra8p0\\localcache\\local-packages\\python311\\site-packages (from jupyterlab-server<3,>=2.27.1->jupyterlab->jupyter) (0.10.0)\n",
      "Requirement already satisfied: jsonschema>=4.18.0 in c:\\users\\matej\\appdata\\local\\packages\\pythonsoftwarefoundation.python.3.11_qbz5n2kfra8p0\\localcache\\local-packages\\python311\\site-packages (from jupyterlab-server<3,>=2.27.1->jupyterlab->jupyter) (4.23.0)\n",
      "Requirement already satisfied: requests>=2.31 in c:\\users\\matej\\appdata\\local\\packages\\pythonsoftwarefoundation.python.3.11_qbz5n2kfra8p0\\localcache\\local-packages\\python311\\site-packages (from jupyterlab-server<3,>=2.27.1->jupyterlab->jupyter) (2.32.3)\n",
      "Requirement already satisfied: fastjsonschema>=2.15 in c:\\users\\matej\\appdata\\local\\packages\\pythonsoftwarefoundation.python.3.11_qbz5n2kfra8p0\\localcache\\local-packages\\python311\\site-packages (from nbformat>=5.7->nbconvert->jupyter) (2.21.1)\n",
      "Requirement already satisfied: wcwidth in c:\\users\\matej\\appdata\\local\\packages\\pythonsoftwarefoundation.python.3.11_qbz5n2kfra8p0\\localcache\\local-packages\\python311\\site-packages (from prompt_toolkit<3.1.0,>=3.0.41->ipython>=6.1.0->ipywidgets) (0.2.13)\n",
      "Requirement already satisfied: soupsieve>1.2 in c:\\users\\matej\\appdata\\local\\packages\\pythonsoftwarefoundation.python.3.11_qbz5n2kfra8p0\\localcache\\local-packages\\python311\\site-packages (from beautifulsoup4->nbconvert->jupyter) (2.6)\n",
      "Requirement already satisfied: executing>=1.2.0 in c:\\users\\matej\\appdata\\local\\packages\\pythonsoftwarefoundation.python.3.11_qbz5n2kfra8p0\\localcache\\local-packages\\python311\\site-packages (from stack_data->ipython>=6.1.0->ipywidgets) (2.2.0)\n",
      "Requirement already satisfied: asttokens>=2.1.0 in c:\\users\\matej\\appdata\\local\\packages\\pythonsoftwarefoundation.python.3.11_qbz5n2kfra8p0\\localcache\\local-packages\\python311\\site-packages (from stack_data->ipython>=6.1.0->ipywidgets) (3.0.0)\n",
      "Requirement already satisfied: pure-eval in c:\\users\\matej\\appdata\\local\\packages\\pythonsoftwarefoundation.python.3.11_qbz5n2kfra8p0\\localcache\\local-packages\\python311\\site-packages (from stack_data->ipython>=6.1.0->ipywidgets) (0.2.3)\n",
      "Requirement already satisfied: sniffio>=1.1 in c:\\users\\matej\\appdata\\local\\packages\\pythonsoftwarefoundation.python.3.11_qbz5n2kfra8p0\\localcache\\local-packages\\python311\\site-packages (from anyio->httpx>=0.25.0->jupyterlab->jupyter) (1.3.1)\n",
      "Requirement already satisfied: argon2-cffi-bindings in c:\\users\\matej\\appdata\\local\\packages\\pythonsoftwarefoundation.python.3.11_qbz5n2kfra8p0\\localcache\\local-packages\\python311\\site-packages (from argon2-cffi>=21.1->jupyter-server<3,>=2.4.0->jupyterlab->jupyter) (21.2.0)\n",
      "Requirement already satisfied: attrs>=22.2.0 in c:\\users\\matej\\appdata\\local\\packages\\pythonsoftwarefoundation.python.3.11_qbz5n2kfra8p0\\localcache\\local-packages\\python311\\site-packages (from jsonschema>=4.18.0->jupyterlab-server<3,>=2.27.1->jupyterlab->jupyter) (25.1.0)\n",
      "Requirement already satisfied: jsonschema-specifications>=2023.03.6 in c:\\users\\matej\\appdata\\local\\packages\\pythonsoftwarefoundation.python.3.11_qbz5n2kfra8p0\\localcache\\local-packages\\python311\\site-packages (from jsonschema>=4.18.0->jupyterlab-server<3,>=2.27.1->jupyterlab->jupyter) (2024.10.1)\n",
      "Requirement already satisfied: referencing>=0.28.4 in c:\\users\\matej\\appdata\\local\\packages\\pythonsoftwarefoundation.python.3.11_qbz5n2kfra8p0\\localcache\\local-packages\\python311\\site-packages (from jsonschema>=4.18.0->jupyterlab-server<3,>=2.27.1->jupyterlab->jupyter) (0.36.2)\n",
      "Requirement already satisfied: rpds-py>=0.7.1 in c:\\users\\matej\\appdata\\local\\packages\\pythonsoftwarefoundation.python.3.11_qbz5n2kfra8p0\\localcache\\local-packages\\python311\\site-packages (from jsonschema>=4.18.0->jupyterlab-server<3,>=2.27.1->jupyterlab->jupyter) (0.23.1)\n",
      "Requirement already satisfied: python-json-logger>=2.0.4 in c:\\users\\matej\\appdata\\local\\packages\\pythonsoftwarefoundation.python.3.11_qbz5n2kfra8p0\\localcache\\local-packages\\python311\\site-packages (from jupyter-events>=0.11.0->jupyter-server<3,>=2.4.0->jupyterlab->jupyter) (3.3.0)\n",
      "Requirement already satisfied: pyyaml>=5.3 in c:\\users\\matej\\appdata\\local\\packages\\pythonsoftwarefoundation.python.3.11_qbz5n2kfra8p0\\localcache\\local-packages\\python311\\site-packages (from jupyter-events>=0.11.0->jupyter-server<3,>=2.4.0->jupyterlab->jupyter) (6.0.2)\n",
      "Requirement already satisfied: rfc3339-validator in c:\\users\\matej\\appdata\\local\\packages\\pythonsoftwarefoundation.python.3.11_qbz5n2kfra8p0\\localcache\\local-packages\\python311\\site-packages (from jupyter-events>=0.11.0->jupyter-server<3,>=2.4.0->jupyterlab->jupyter) (0.1.4)\n",
      "Requirement already satisfied: rfc3986-validator>=0.1.1 in c:\\users\\matej\\appdata\\local\\packages\\pythonsoftwarefoundation.python.3.11_qbz5n2kfra8p0\\localcache\\local-packages\\python311\\site-packages (from jupyter-events>=0.11.0->jupyter-server<3,>=2.4.0->jupyterlab->jupyter) (0.1.1)\n",
      "Requirement already satisfied: six>=1.5 in c:\\users\\matej\\appdata\\local\\packages\\pythonsoftwarefoundation.python.3.11_qbz5n2kfra8p0\\localcache\\local-packages\\python311\\site-packages (from python-dateutil>=2.8.2->jupyter-client>=6.1.12->ipykernel->jupyter) (1.17.0)\n",
      "Requirement already satisfied: charset-normalizer<4,>=2 in c:\\users\\matej\\appdata\\local\\packages\\pythonsoftwarefoundation.python.3.11_qbz5n2kfra8p0\\localcache\\local-packages\\python311\\site-packages (from requests>=2.31->jupyterlab-server<3,>=2.27.1->jupyterlab->jupyter) (3.4.1)\n",
      "Requirement already satisfied: urllib3<3,>=1.21.1 in c:\\users\\matej\\appdata\\local\\packages\\pythonsoftwarefoundation.python.3.11_qbz5n2kfra8p0\\localcache\\local-packages\\python311\\site-packages (from requests>=2.31->jupyterlab-server<3,>=2.27.1->jupyterlab->jupyter) (2.3.0)\n",
      "Requirement already satisfied: fqdn in c:\\users\\matej\\appdata\\local\\packages\\pythonsoftwarefoundation.python.3.11_qbz5n2kfra8p0\\localcache\\local-packages\\python311\\site-packages (from jsonschema[format-nongpl]>=4.18.0->jupyter-events>=0.11.0->jupyter-server<3,>=2.4.0->jupyterlab->jupyter) (1.5.1)\n",
      "Requirement already satisfied: isoduration in c:\\users\\matej\\appdata\\local\\packages\\pythonsoftwarefoundation.python.3.11_qbz5n2kfra8p0\\localcache\\local-packages\\python311\\site-packages (from jsonschema[format-nongpl]>=4.18.0->jupyter-events>=0.11.0->jupyter-server<3,>=2.4.0->jupyterlab->jupyter) (20.11.0)\n",
      "Requirement already satisfied: jsonpointer>1.13 in c:\\users\\matej\\appdata\\local\\packages\\pythonsoftwarefoundation.python.3.11_qbz5n2kfra8p0\\localcache\\local-packages\\python311\\site-packages (from jsonschema[format-nongpl]>=4.18.0->jupyter-events>=0.11.0->jupyter-server<3,>=2.4.0->jupyterlab->jupyter) (3.0.0)\n",
      "Requirement already satisfied: uri-template in c:\\users\\matej\\appdata\\local\\packages\\pythonsoftwarefoundation.python.3.11_qbz5n2kfra8p0\\localcache\\local-packages\\python311\\site-packages (from jsonschema[format-nongpl]>=4.18.0->jupyter-events>=0.11.0->jupyter-server<3,>=2.4.0->jupyterlab->jupyter) (1.3.0)\n",
      "Requirement already satisfied: webcolors>=24.6.0 in c:\\users\\matej\\appdata\\local\\packages\\pythonsoftwarefoundation.python.3.11_qbz5n2kfra8p0\\localcache\\local-packages\\python311\\site-packages (from jsonschema[format-nongpl]>=4.18.0->jupyter-events>=0.11.0->jupyter-server<3,>=2.4.0->jupyterlab->jupyter) (24.11.1)\n",
      "Requirement already satisfied: cffi>=1.0.1 in c:\\users\\matej\\appdata\\local\\packages\\pythonsoftwarefoundation.python.3.11_qbz5n2kfra8p0\\localcache\\local-packages\\python311\\site-packages (from argon2-cffi-bindings->argon2-cffi>=21.1->jupyter-server<3,>=2.4.0->jupyterlab->jupyter) (1.17.1)\n",
      "Requirement already satisfied: pycparser in c:\\users\\matej\\appdata\\local\\packages\\pythonsoftwarefoundation.python.3.11_qbz5n2kfra8p0\\localcache\\local-packages\\python311\\site-packages (from cffi>=1.0.1->argon2-cffi-bindings->argon2-cffi>=21.1->jupyter-server<3,>=2.4.0->jupyterlab->jupyter) (2.22)\n",
      "Requirement already satisfied: arrow>=0.15.0 in c:\\users\\matej\\appdata\\local\\packages\\pythonsoftwarefoundation.python.3.11_qbz5n2kfra8p0\\localcache\\local-packages\\python311\\site-packages (from isoduration->jsonschema[format-nongpl]>=4.18.0->jupyter-events>=0.11.0->jupyter-server<3,>=2.4.0->jupyterlab->jupyter) (1.3.0)\n",
      "Requirement already satisfied: types-python-dateutil>=2.8.10 in c:\\users\\matej\\appdata\\local\\packages\\pythonsoftwarefoundation.python.3.11_qbz5n2kfra8p0\\localcache\\local-packages\\python311\\site-packages (from arrow>=0.15.0->isoduration->jsonschema[format-nongpl]>=4.18.0->jupyter-events>=0.11.0->jupyter-server<3,>=2.4.0->jupyterlab->jupyter) (2.9.0.20241206)\n",
      "Note: you may need to restart the kernel to use updated packages.\n"
     ]
    },
    {
     "name": "stderr",
     "output_type": "stream",
     "text": [
      "\n",
      "[notice] A new release of pip is available: 24.0 -> 25.0.1\n",
      "[notice] To update, run: C:\\Users\\matej\\AppData\\Local\\Microsoft\\WindowsApps\\PythonSoftwareFoundation.Python.3.11_qbz5n2kfra8p0\\python.exe -m pip install --upgrade pip\n"
     ]
    },
    {
     "name": "stdout",
     "output_type": "stream",
     "text": [
      "Requirement already satisfied: pandas in c:\\users\\matej\\appdata\\local\\packages\\pythonsoftwarefoundation.python.3.11_qbz5n2kfra8p0\\localcache\\local-packages\\python311\\site-packages (2.2.3)\n",
      "Requirement already satisfied: numpy>=1.23.2 in c:\\users\\matej\\appdata\\local\\packages\\pythonsoftwarefoundation.python.3.11_qbz5n2kfra8p0\\localcache\\local-packages\\python311\\site-packages (from pandas) (2.2.3)\n",
      "Requirement already satisfied: python-dateutil>=2.8.2 in c:\\users\\matej\\appdata\\local\\packages\\pythonsoftwarefoundation.python.3.11_qbz5n2kfra8p0\\localcache\\local-packages\\python311\\site-packages (from pandas) (2.9.0.post0)\n",
      "Requirement already satisfied: pytz>=2020.1 in c:\\users\\matej\\appdata\\local\\packages\\pythonsoftwarefoundation.python.3.11_qbz5n2kfra8p0\\localcache\\local-packages\\python311\\site-packages (from pandas) (2025.1)\n",
      "Requirement already satisfied: tzdata>=2022.7 in c:\\users\\matej\\appdata\\local\\packages\\pythonsoftwarefoundation.python.3.11_qbz5n2kfra8p0\\localcache\\local-packages\\python311\\site-packages (from pandas) (2025.1)\n",
      "Requirement already satisfied: six>=1.5 in c:\\users\\matej\\appdata\\local\\packages\\pythonsoftwarefoundation.python.3.11_qbz5n2kfra8p0\\localcache\\local-packages\\python311\\site-packages (from python-dateutil>=2.8.2->pandas) (1.17.0)\n",
      "Note: you may need to restart the kernel to use updated packages.\n"
     ]
    },
    {
     "name": "stderr",
     "output_type": "stream",
     "text": [
      "\n",
      "[notice] A new release of pip is available: 24.0 -> 25.0.1\n",
      "[notice] To update, run: C:\\Users\\matej\\AppData\\Local\\Microsoft\\WindowsApps\\PythonSoftwareFoundation.Python.3.11_qbz5n2kfra8p0\\python.exe -m pip install --upgrade pip\n"
     ]
    },
    {
     "name": "stdout",
     "output_type": "stream",
     "text": [
      "Requirement already satisfied: matplotlib in c:\\users\\matej\\appdata\\local\\packages\\pythonsoftwarefoundation.python.3.11_qbz5n2kfra8p0\\localcache\\local-packages\\python311\\site-packages (3.10.1)\n",
      "Requirement already satisfied: contourpy>=1.0.1 in c:\\users\\matej\\appdata\\local\\packages\\pythonsoftwarefoundation.python.3.11_qbz5n2kfra8p0\\localcache\\local-packages\\python311\\site-packages (from matplotlib) (1.3.1)\n",
      "Requirement already satisfied: cycler>=0.10 in c:\\users\\matej\\appdata\\local\\packages\\pythonsoftwarefoundation.python.3.11_qbz5n2kfra8p0\\localcache\\local-packages\\python311\\site-packages (from matplotlib) (0.12.1)\n",
      "Requirement already satisfied: fonttools>=4.22.0 in c:\\users\\matej\\appdata\\local\\packages\\pythonsoftwarefoundation.python.3.11_qbz5n2kfra8p0\\localcache\\local-packages\\python311\\site-packages (from matplotlib) (4.56.0)\n",
      "Requirement already satisfied: kiwisolver>=1.3.1 in c:\\users\\matej\\appdata\\local\\packages\\pythonsoftwarefoundation.python.3.11_qbz5n2kfra8p0\\localcache\\local-packages\\python311\\site-packages (from matplotlib) (1.4.8)\n",
      "Requirement already satisfied: numpy>=1.23 in c:\\users\\matej\\appdata\\local\\packages\\pythonsoftwarefoundation.python.3.11_qbz5n2kfra8p0\\localcache\\local-packages\\python311\\site-packages (from matplotlib) (2.2.3)\n",
      "Requirement already satisfied: packaging>=20.0 in c:\\users\\matej\\appdata\\local\\packages\\pythonsoftwarefoundation.python.3.11_qbz5n2kfra8p0\\localcache\\local-packages\\python311\\site-packages (from matplotlib) (24.2)\n",
      "Requirement already satisfied: pillow>=8 in c:\\users\\matej\\appdata\\local\\packages\\pythonsoftwarefoundation.python.3.11_qbz5n2kfra8p0\\localcache\\local-packages\\python311\\site-packages (from matplotlib) (11.1.0)\n",
      "Requirement already satisfied: pyparsing>=2.3.1 in c:\\users\\matej\\appdata\\local\\packages\\pythonsoftwarefoundation.python.3.11_qbz5n2kfra8p0\\localcache\\local-packages\\python311\\site-packages (from matplotlib) (3.2.1)\n",
      "Requirement already satisfied: python-dateutil>=2.7 in c:\\users\\matej\\appdata\\local\\packages\\pythonsoftwarefoundation.python.3.11_qbz5n2kfra8p0\\localcache\\local-packages\\python311\\site-packages (from matplotlib) (2.9.0.post0)\n",
      "Requirement already satisfied: six>=1.5 in c:\\users\\matej\\appdata\\local\\packages\\pythonsoftwarefoundation.python.3.11_qbz5n2kfra8p0\\localcache\\local-packages\\python311\\site-packages (from python-dateutil>=2.7->matplotlib) (1.17.0)\n",
      "Note: you may need to restart the kernel to use updated packages.\n"
     ]
    },
    {
     "name": "stderr",
     "output_type": "stream",
     "text": [
      "\n",
      "[notice] A new release of pip is available: 24.0 -> 25.0.1\n",
      "[notice] To update, run: C:\\Users\\matej\\AppData\\Local\\Microsoft\\WindowsApps\\PythonSoftwareFoundation.Python.3.11_qbz5n2kfra8p0\\python.exe -m pip install --upgrade pip\n"
     ]
    }
   ],
   "source": [
    "%pip install kagglehub\n",
    "%pip install --upgrade jupyter ipywidgets\n",
    "%pip install pandas\n",
    "%pip install matplotlib"
   ]
  },
  {
   "cell_type": "code",
   "execution_count": 64,
   "metadata": {},
   "outputs": [],
   "source": [
    "import pandas as pd\n",
    "import matplotlib.pyplot as plt\n",
    "import random\n",
    "import numpy as np"
   ]
  },
  {
   "cell_type": "code",
   "execution_count": 3,
   "metadata": {},
   "outputs": [
    {
     "name": "stdout",
     "output_type": "stream",
     "text": [
      "Path to dataset files: C:\\Users\\matej\\.cache\\kagglehub\\datasets\\kaggle\\us-baby-names\\versions\\2\n"
     ]
    }
   ],
   "source": [
    "import kagglehub\n",
    "\n",
    "# Download latest version\n",
    "path = kagglehub.dataset_download(\"kaggle/us-baby-names\")\n",
    "\n",
    "print(\"Path to dataset files:\", path)"
   ]
  },
  {
   "cell_type": "markdown",
   "metadata": {},
   "source": [
    "# Exploring the dataset"
   ]
  },
  {
   "cell_type": "markdown",
   "metadata": {},
   "source": [
    "## Frequency of names over the years"
   ]
  },
  {
   "cell_type": "code",
   "execution_count": 4,
   "metadata": {},
   "outputs": [],
   "source": [
    "def plot_name_occurance_change_over_time(name, dataset, state):\n",
    "    \"\"\"\n",
    "    This function plots a histogram of occurances of a selected name from a selected dataset over the years of monitoring.\n",
    "    It has 3 parameters:\n",
    "    name - defines the name of a baby to monitor, expects a string\n",
    "    dataset - defines the dataset to scan through, expected input is a string either 'National' or 'State'\n",
    "    state - relevant only if dataset = 'State' and only if we want to monitor name occurances restricted to a single state.\n",
    "            It expects a string input of the state abbreviation. Here is the list of all possible inputs:\n",
    "            AK, AL, AR, AZ, CA, CO, CT, DC, DE, FL, GA, HI, IA, ID, IL, IN, KS, KY, LA, MA, MD, ME, MI, MN, MO, MS, MT,\n",
    "            NC, ND, NE, NH, NJ, NM, NV, NY, OH, OK, OR, PA, RI, SC, SD, TN, TX, UT, VA, VT, WA, WI, WV, WY.\n",
    "            Or a None input if we do not want to narrow the statistics for a single state.\n",
    "    \"\"\"\n",
    "    file_path_NationalNames = r\"C:\\Users\\matej\\.cache\\kagglehub\\datasets\\kaggle\\us-baby-names\\versions\\2\\NationalNames.csv\"\n",
    "    df_NationalNames = pd.read_csv(file_path_NationalNames)\n",
    "\n",
    "    file_path_StateNames = r\"C:\\Users\\matej\\.cache\\kagglehub\\datasets\\kaggle\\us-baby-names\\versions\\2\\StateNames.csv\"\n",
    "    df_StateNames = pd.read_csv(file_path_StateNames)\n",
    "\n",
    "    plt.figure(figsize=(10, 6))\n",
    "\n",
    "    if dataset == 'National':\n",
    "        name_occurances = df_NationalNames[df_NationalNames[\"Name\"] == name] # selecting all occurances of the chosen name\n",
    "        name_count_per_year = name_occurances.groupby(\"Year\")[\"Count\"].sum() # counting for each year how many times the chosen name was given to a baby\n",
    "        plt.title('Occurrences of the name %s over the years' % (name), fontsize=14)\n",
    "\n",
    "\n",
    "    if dataset == 'State':\n",
    "        if state is None:\n",
    "            name_occurances = df_StateNames[df_StateNames[\"Name\"] == name] # selecting all occurances of the chosen name\n",
    "            name_count_per_year = name_occurances.groupby(\"Year\")[\"Count\"].sum() # counting for each year how many times the chosen name was given to a baby\n",
    "            plt.title('Occurrences of the name %s over the years' % (name), fontsize=14)\n",
    "\n",
    "        if state != None:    \n",
    "            name_occurances = df_StateNames[(df_StateNames[\"Name\"] == name) & (df_StateNames[\"State\"] == state)] # selecting all occurances of the chosen name in the chosen state\n",
    "            name_count_per_year = name_occurances.groupby(\"Year\")[\"Count\"].sum() # counting for each year how many times the chosen name in the chosen state was given to a baby\n",
    "            plt.title('Occurrences of the name %s over the years in the state %s' % (name, state), fontsize=14)\n",
    "\n",
    "    \n",
    "    plt.bar(name_count_per_year.index, name_count_per_year.values, color='yellow', edgecolor='black')\n",
    "    plt.xlabel('Year', fontsize=12)\n",
    "    plt.ylabel('Number of Occurrences', fontsize=12)\n",
    "    plt.xticks(ticks=range(min(name_count_per_year.index), max(name_count_per_year.index)+1, 10), rotation=45) # X-axis showing years per decade, rotated by 45 degrees\n",
    "    # it starts either at the first year of the national dataset, 1880 or the first year of the state dataset, which is 1920\n",
    "    plt.tight_layout()\n",
    "    plt.show()"
   ]
  },
  {
   "cell_type": "code",
   "execution_count": 5,
   "metadata": {},
   "outputs": [
    {
     "data": {
      "image/png": "[encoded data removed]",
      "text/plain": [
       "<Figure size 1000x600 with 1 Axes>"
      ]
     },
     "metadata": {},
     "output_type": "display_data"
    }
   ],
   "source": [
    "plot_name_occurance_change_over_time(name = 'Ida', dataset = 'National', state = None)"
   ]
  },
  {
   "cell_type": "code",
   "execution_count": 6,
   "metadata": {},
   "outputs": [
    {
     "data": {
      "image/png": "[encoded data removed]",
      "text/plain": [
       "<Figure size 1000x600 with 1 Axes>"
      ]
     },
     "metadata": {},
     "output_type": "display_data"
    }
   ],
   "source": [
    "plot_name_occurance_change_over_time(name = 'Ida', dataset = 'State', state = 'CA')"
   ]
  },
  {
   "cell_type": "code",
   "execution_count": 26,
   "metadata": {},
   "outputs": [
    {
     "data": {
      "image/png": "[encoded data removed]",
      "text/plain": [
       "<Figure size 1000x600 with 1 Axes>"
      ]
     },
     "metadata": {},
     "output_type": "display_data"
    }
   ],
   "source": [
    "\n",
    "plot_name_occurance_change_over_time(name = 'Krishna', dataset = 'National', state = None)"
   ]
  },
  {
   "cell_type": "code",
   "execution_count": 27,
   "metadata": {},
   "outputs": [
    {
     "data": {
      "image/png": "[encoded data removed]",
      "text/plain": [
       "<Figure size 1000x600 with 1 Axes>"
      ]
     },
     "metadata": {},
     "output_type": "display_data"
    }
   ],
   "source": [
    "plot_name_occurance_change_over_time(name = 'Shaya', dataset = 'National', state = None)"
   ]
  },
  {
   "cell_type": "markdown",
   "metadata": {},
   "source": [
    "## What name is the most Unisex?"
   ]
  },
  {
   "cell_type": "markdown",
   "metadata": {},
   "source": [
    "## Preparing the function for Unisex"
   ]
  },
  {
   "cell_type": "code",
   "execution_count": null,
   "metadata": {},
   "outputs": [],
   "source": [
    "def random_most_unisex_name(dataset, minimum_unisex_score, minimum_name_count, printing_the_names):\n",
    "    \"\"\"\n",
    "    The unisexness is not a trivial problem, because while simply finding the names with the exact population of assigned males and females at birth will \n",
    "    result in many names with very low occurance. And this is something the start-up and the customer families will definitely take into account. \n",
    "    While some people can actually value a very unique name for their baby, most people will want some already established name for their baby.\n",
    "    I believe this to be the case because we actually observe that the distribution of assigned names for babies is strongly skewed for a subset of\n",
    "    very popular names - the existance of this phenomena tells me I should factorize this into the function and create a function that can be set \n",
    "    with a trade-off on the occurance of the name and its 'unisexness'.\n",
    "\n",
    "    I quantifty the 'unisexness', U, as U = T / D,  where\n",
    "    T is the total number of babies of any gender that were assigned the particular name \n",
    "    and D is the absolute value of difference between the number of males and females for that particular name.\n",
    "    So we would get 'unisexness' U = 1 for a baby name that had exactly same number of female and male occurances.\n",
    "\n",
    "    Next, I take into account the total number of names that were assigned for a particular name. This is defined by a treshold of the minimum\n",
    "    number of babies with that particular name.\n",
    "\n",
    "    This function has following parameters:\n",
    "    dataset - chooosing which dataset we work with, either 'National' or 'State'\n",
    "    minimum_unisex_score - the function calculates the unisexness of names, which is a float number between 1 (most unisex name, equal occurance of female and male babies with the name) and 0\n",
    "    minimum_name_count - parameter defining the minimum number of TOTAL names assigned for the baby. It is used to filter out low occuring names\n",
    "    printing_the_names - if set to True, it prints the resulted filtered unisex names based on our input parameters\n",
    "    The function returns a random name from the list of most unisex names selected based on the input parameters\n",
    "    \"\"\"\n",
    "    \n",
    "    if dataset == 'National':\n",
    "        file_path_NationalNames = r\"C:\\Users\\matej\\.cache\\kagglehub\\datasets\\kaggle\\us-baby-names\\versions\\2\\NationalNames.csv\"\n",
    "        df_Names = pd.read_csv(file_path_NationalNames)\n",
    "\n",
    "    if dataset == 'State':\n",
    "        file_path_StateNames = r\"C:\\Users\\matej\\.cache\\kagglehub\\datasets\\kaggle\\us-baby-names\\versions\\2\\StateNames.csv\"\n",
    "        df_Names = pd.read_csv(file_path_StateNames)\n",
    "\n",
    "    # Group by Name and Gender, then sum occurrences\n",
    "    name_gender_counts = df_Names.groupby([\"Name\", \"Gender\"])[\"Count\"].sum().unstack(fill_value=0) # makes a 2 column table, name of the baby, female count, male count\n",
    "    name_gender_counts[\"Total\"] = name_gender_counts[\"M\"] + name_gender_counts[\"F\"] # computes the total number of names, of each gender and adds as a new column to the 2 column table created above\n",
    "    #name_gender_counts[\"Difference\"] = abs(name_gender_counts[\"M\"] - name_gender_counts[\"F\"]) # computes the difference between the males and females for the same name and adds as a new column\n",
    "    name_gender_counts[\"Unisex_score\"] = name_gender_counts[[\"M\", \"F\"]].min(axis=1) / name_gender_counts[[\"M\", \"F\"]].max(axis=1) # finds for each pair of female and male occurances per name their minimum and maximum value and calculates their ratio.\n",
    "    \n",
    "    unisex_names = name_gender_counts[\n",
    "        (name_gender_counts[\"M\"] > 0) & \n",
    "        (name_gender_counts[\"F\"] > 0) & \n",
    "        (name_gender_counts[\"Unisex_score\"] >= minimum_unisex_score) & \n",
    "        (name_gender_counts[\"Total\"] >= minimum_name_count)\n",
    "    ] # filters only names within defined tresholds\n",
    "\n",
    "    unisex_names_sorted = unisex_names.sort_values(by=[\"Unisex_score\", \"Total\"], ascending=[False, False]) # sorts the selected list by the Unisex_score and for names with the same Unisex_score sorts by the total number of names\n",
    "    if printing_the_names == True:\n",
    "        print(unisex_names_sorted)\n",
    "    random_name = random.choice(unisex_names_sorted.index.tolist())\n",
    "    return (random_name)"
   ]
  },
  {
   "cell_type": "code",
   "execution_count": 95,
   "metadata": {},
   "outputs": [
    {
     "name": "stdout",
     "output_type": "stream",
     "text": [
      "Gender       F      M  Total  Unisex_score\n",
      "Name                                      \n",
      "Unknown   9283   9140  18423      0.984595\n",
      "Kerry    48452  49417  97869      0.980472\n",
      "Kris     13437  13792  27229      0.974260\n",
      "Ivory     8405   8186  16591      0.973944\n",
      "Baby      5798   6034  11832      0.960888\n"
     ]
    },
    {
     "data": {
      "text/plain": [
       "'Kerry'"
      ]
     },
     "execution_count": 95,
     "metadata": {},
     "output_type": "execute_result"
    }
   ],
   "source": [
    "random_most_unisex_name(dataset = 'National', minimum_unisex_score = 0.95,  minimum_name_count = 10000, printing_the_names = True)"
   ]
  },
  {
   "cell_type": "markdown",
   "metadata": {},
   "source": [
    "## Which names are common nationally but are rare at the state level?"
   ]
  },
  {
   "cell_type": "code",
   "execution_count": 114,
   "metadata": {},
   "outputs": [
    {
     "name": "stdout",
     "output_type": "stream",
     "text": [
      "Total number of names nationally: 337135426\n"
     ]
    }
   ],
   "source": [
    "# Load the National dataset\n",
    "national_file = r\"C:\\Users\\matej\\.cache\\kagglehub\\datasets\\kaggle\\us-baby-names\\versions\\2\\NationalNames.csv\"\n",
    "df_national = pd.read_csv(national_file)\n",
    "\n",
    "# Compute total count of all names nationally\n",
    "total_national = df_national[\"Count\"].sum()\n",
    "print(f\"Total number of names nationally: {total_national}\")"
   ]
  },
  {
   "cell_type": "code",
   "execution_count": 115,
   "metadata": {},
   "outputs": [
    {
     "name": "stdout",
     "output_type": "stream",
     "text": [
      "   State     Count\n",
      "0     AK    413241\n",
      "1     AL   5688208\n",
      "2     AR   3356575\n",
      "3     AZ   3397260\n",
      "4     CA  29252805\n",
      "5     CO   3475550\n",
      "6     CT   3387873\n",
      "7     DC   1426777\n",
      "8     DE    621932\n",
      "9     FL   9457005\n",
      "10    GA   8286656\n",
      "11    HI    958614\n",
      "12    IA   4137536\n",
      "13    ID   1162216\n",
      "14    IL  15304655\n",
      "15    IN   7237478\n",
      "16    KS   3241418\n",
      "17    KY   5393279\n",
      "18    LA   5597283\n",
      "19    MA   7632504\n",
      "20    MD   4521474\n",
      "21    ME   1391490\n",
      "22    MI  11734824\n",
      "23    MN   5627719\n",
      "24    MO   6852163\n",
      "25    MS   3994730\n",
      "26    MT    949578\n",
      "27    NC   8537298\n",
      "28    ND   1066892\n",
      "29    NE   2273426\n",
      "30    NH    963412\n",
      "31    NJ   8398176\n",
      "32    NM   1656420\n",
      "33    NV    867220\n",
      "34    NY  23891045\n",
      "35    OH  14315490\n",
      "36    OK   4174518\n",
      "37    OR   2705713\n",
      "38    PA  16776664\n",
      "39    RI   1155102\n",
      "40    SC   4431860\n",
      "41    SD   1056616\n",
      "42    TN   6381224\n",
      "43    TX  21820683\n",
      "44    UT   2345758\n",
      "45    VA   6773770\n",
      "46    VT    549152\n",
      "47    WA   4699924\n",
      "48    WI   6139093\n",
      "49    WV   2976818\n",
      "50    WY    426209\n"
     ]
    }
   ],
   "source": [
    "# Load the State dataset\n",
    "state_file = r\"C:\\Users\\matej\\.cache\\kagglehub\\datasets\\kaggle\\us-baby-names\\versions\\2\\StateNames.csv\"\n",
    "df_state = pd.read_csv(state_file)\n",
    "\n",
    "# Compute total count of all names per state\n",
    "total_per_state = df_state.groupby(\"State\")[\"Count\"].sum().reset_index()\n",
    "\n",
    "# Print results\n",
    "print(total_per_state)"
   ]
  },
  {
   "cell_type": "code",
   "execution_count": 117,
   "metadata": {},
   "outputs": [
    {
     "name": "stdout",
     "output_type": "stream",
     "text": [
      "  State     Name  Count_State  Percentage_State  Count_National  \\\n",
      "0    AK  Aaliyah          144          0.034846           69917   \n",
      "1    AK    Aaron         1675          0.405332          557843   \n",
      "2    AK     Abby           26          0.006292           55582   \n",
      "3    AK     Abel           21          0.005082           41245   \n",
      "4    AK  Abigail          716          0.173265          322051   \n",
      "\n",
      "   Percentage_National  \n",
      "0             0.020739  \n",
      "1             0.165466  \n",
      "2             0.016487  \n",
      "3             0.012234  \n",
      "4             0.095526  \n"
     ]
    }
   ],
   "source": [
    "# File paths (adjust if needed)\n",
    "national_file = r\"C:\\Users\\matej\\.cache\\kagglehub\\datasets\\kaggle\\us-baby-names\\versions\\2\\NationalNames.csv\"\n",
    "state_file = r\"C:\\Users\\matej\\.cache\\kagglehub\\datasets\\kaggle\\us-baby-names\\versions\\2\\StateNames.csv\"\n",
    "\n",
    "# Load datasets\n",
    "df_national = pd.read_csv(national_file)\n",
    "df_state = pd.read_csv(state_file)\n",
    "\n",
    "### --- NATIONAL DATASET --- ###\n",
    "# Compute total births nationally\n",
    "total_national = df_national[\"Count\"].sum()\n",
    "\n",
    "# Compute percentage of each name nationally\n",
    "df_national[\"Percentage_National\"] = (df_national[\"Count\"] / total_national) * 100\n",
    "\n",
    "# Aggregate national data (sum counts per name)\n",
    "df_national_summary = df_national.groupby(\"Name\")[[\"Count\", \"Percentage_National\"]].sum().reset_index()\n",
    "\n",
    "### --- STATE DATASET --- ###\n",
    "# Compute total births per state\n",
    "total_per_state = df_state.groupby(\"State\")[\"Count\"].sum().reset_index().rename(columns={\"Count\": \"Total_State\"})\n",
    "\n",
    "# Merge total state counts back into df_state\n",
    "df_state = df_state.merge(total_per_state, on=\"State\")\n",
    "\n",
    "# Compute percentage of each name per state\n",
    "df_state[\"Percentage_State\"] = (df_state[\"Count\"] / df_state[\"Total_State\"]) * 100\n",
    "\n",
    "# Create state summary (sum counts per name, per state)\n",
    "df_state_summary = df_state.groupby([\"State\", \"Name\"])[[\"Count\", \"Percentage_State\"]].sum().reset_index()\n",
    "\n",
    "### --- MERGE NATIONAL & STATE DATA --- ###\n",
    "# Merge national and state data into a single DataFrame\n",
    "df_final = df_state_summary.merge(df_national_summary, on=\"Name\", how=\"left\", suffixes=(\"_State\", \"_National\"))\n",
    "\n",
    "# Display final DataFrame\n",
    "print(df_final.head())"
   ]
  },
  {
   "cell_type": "code",
   "execution_count": 118,
   "metadata": {},
   "outputs": [
    {
     "name": "stdout",
     "output_type": "stream",
     "text": [
      "       State   Name  Count_State  Percentage_State  Count_National  \\\n",
      "687       AK  James         6682          1.616974         5129096   \n",
      "114775    MA  James       128262          1.680471         5129096   \n",
      "281208    WV  James        75804          2.546477         5129096   \n",
      "77687     ID  James        14269          1.227741         5129096   \n",
      "164949    NE  James        32167          1.414913         5129096   \n",
      "\n",
      "        Percentage_National  \n",
      "687                1.521376  \n",
      "114775             1.521376  \n",
      "281208             1.521376  \n",
      "77687              1.521376  \n",
      "164949             1.521376  \n"
     ]
    }
   ],
   "source": [
    "# File paths (adjust if needed)\n",
    "national_file = r\"C:\\Users\\matej\\.cache\\kagglehub\\datasets\\kaggle\\us-baby-names\\versions\\2\\NationalNames.csv\"\n",
    "state_file = r\"C:\\Users\\matej\\.cache\\kagglehub\\datasets\\kaggle\\us-baby-names\\versions\\2\\StateNames.csv\"\n",
    "\n",
    "# Load datasets\n",
    "df_national = pd.read_csv(national_file)\n",
    "df_state = pd.read_csv(state_file)\n",
    "\n",
    "### --- NATIONAL DATASET --- ###\n",
    "# Compute total births nationally\n",
    "total_national = df_national[\"Count\"].sum()\n",
    "\n",
    "# Compute percentage of each name nationally\n",
    "df_national[\"Percentage_National\"] = (df_national[\"Count\"] / total_national) * 100\n",
    "\n",
    "# Aggregate national data (sum counts per name)\n",
    "df_national_summary = df_national.groupby(\"Name\")[[\"Count\", \"Percentage_National\"]].sum().reset_index()\n",
    "\n",
    "### --- STATE DATASET --- ###\n",
    "# Compute total births per state\n",
    "total_per_state = df_state.groupby(\"State\")[\"Count\"].sum().reset_index().rename(columns={\"Count\": \"Total_State\"})\n",
    "\n",
    "# Merge total state counts back into df_state\n",
    "df_state = df_state.merge(total_per_state, on=\"State\")\n",
    "\n",
    "# Compute percentage of each name per state\n",
    "df_state[\"Percentage_State\"] = (df_state[\"Count\"] / df_state[\"Total_State\"]) * 100\n",
    "\n",
    "# Create state summary (sum counts per name, per state)\n",
    "df_state_summary = df_state.groupby([\"State\", \"Name\"])[[\"Count\", \"Percentage_State\"]].sum().reset_index()\n",
    "\n",
    "### --- MERGE NATIONAL & STATE DATA --- ###\n",
    "# Merge national and state data into a single DataFrame\n",
    "df_final = df_state_summary.merge(df_national_summary, on=\"Name\", how=\"left\", suffixes=(\"_State\", \"_National\"))\n",
    "\n",
    "# Sort the merged DataFrame by the national percentage in descending order\n",
    "df_final_sorted = df_final.sort_values(by=\"Percentage_National\", ascending=False)\n",
    "\n",
    "# Display the sorted DataFrame\n",
    "print(df_final_sorted.head())"
   ]
  },
  {
   "cell_type": "code",
   "execution_count": 119,
   "metadata": {},
   "outputs": [
    {
     "name": "stdout",
     "output_type": "stream",
     "text": [
      "Empty DataFrame\n",
      "Columns: [Name, Percentage_National, Percentage_State]\n",
      "Index: []\n"
     ]
    }
   ],
   "source": [
    "# File paths (adjust if needed)\n",
    "national_file = r\"C:\\Users\\matej\\.cache\\kagglehub\\datasets\\kaggle\\us-baby-names\\versions\\2\\NationalNames.csv\"\n",
    "state_file = r\"C:\\Users\\matej\\.cache\\kagglehub\\datasets\\kaggle\\us-baby-names\\versions\\2\\StateNames.csv\"\n",
    "\n",
    "# Load datasets\n",
    "df_national = pd.read_csv(national_file)\n",
    "df_state = pd.read_csv(state_file)\n",
    "\n",
    "### --- NATIONAL DATASET --- ###\n",
    "# Compute total births nationally\n",
    "total_national = df_national[\"Count\"].sum()\n",
    "\n",
    "# Compute percentage of each name nationally\n",
    "df_national[\"Percentage_National\"] = (df_national[\"Count\"] / total_national) * 100\n",
    "\n",
    "# Aggregate national data (sum counts per name)\n",
    "df_national_summary = df_national.groupby(\"Name\")[[\"Count\", \"Percentage_National\"]].sum().reset_index()\n",
    "\n",
    "### --- STATE DATASET --- ###\n",
    "# Compute total births per state\n",
    "total_per_state = df_state.groupby(\"State\")[\"Count\"].sum().reset_index().rename(columns={\"Count\": \"Total_State\"})\n",
    "\n",
    "# Merge total state counts back into df_state\n",
    "df_state = df_state.merge(total_per_state, on=\"State\")\n",
    "\n",
    "# Compute percentage of each name per state\n",
    "df_state[\"Percentage_State\"] = (df_state[\"Count\"] / df_state[\"Total_State\"]) * 100\n",
    "\n",
    "# Create state summary (sum counts per name, per state)\n",
    "df_state_summary = df_state.groupby([\"State\", \"Name\"])[[\"Count\", \"Percentage_State\"]].sum().reset_index()\n",
    "\n",
    "### --- MERGE NATIONAL & STATE DATA --- ###\n",
    "# Merge national and state data into a single DataFrame\n",
    "df_final = df_state_summary.merge(df_national_summary, on=\"Name\", how=\"left\", suffixes=(\"_State\", \"_National\"))\n",
    "\n",
    "### --- FILTER NAMES THAT ARE COMMON NATIONALLY BUT RARE AT STATE LEVEL --- ###\n",
    "\n",
    "# Set a threshold for national percentage (common names) - e.g., top 10% of names\n",
    "top_national_threshold = df_final[\"Percentage_National\"].quantile(0.9)  # 90th percentile for national percentage\n",
    "\n",
    "# Set a threshold for state percentage (rare names) - e.g., bottom 10% of names\n",
    "bottom_state_threshold = df_final[\"Percentage_State\"].quantile(0.1)  # 10th percentile for state percentage\n",
    "\n",
    "# Filter for names that are common nationally but rare at the state level\n",
    "common_national_rare_state = df_final[(df_final[\"Percentage_National\"] >= top_national_threshold) &\n",
    "                                      (df_final[\"Percentage_State\"] <= bottom_state_threshold)]\n",
    "\n",
    "# Display the results\n",
    "print(common_national_rare_state[['Name', 'Percentage_National', 'Percentage_State']].head())"
   ]
  },
  {
   "cell_type": "code",
   "execution_count": 122,
   "metadata": {},
   "outputs": [
    {
     "name": "stdout",
     "output_type": "stream",
     "text": [
      "          Name  Relative_Commonness_National  Relative_Commonness_State\n",
      "1082      Mary                      0.805296                   0.487491\n",
      "6064   Michael                      0.844360                   0.365890\n",
      "11375  Michael                      0.844360                   0.373674\n",
      "30345     Mary                      0.805296                   0.359252\n",
      "56578     Mary                      0.805296                   0.471402\n"
     ]
    }
   ],
   "source": [
    "# File paths (adjust if needed)\n",
    "national_file = r\"C:\\Users\\matej\\.cache\\kagglehub\\datasets\\kaggle\\us-baby-names\\versions\\2\\NationalNames.csv\"\n",
    "state_file = r\"C:\\Users\\matej\\.cache\\kagglehub\\datasets\\kaggle\\us-baby-names\\versions\\2\\StateNames.csv\"\n",
    "\n",
    "# Load datasets\n",
    "df_national = pd.read_csv(national_file)\n",
    "df_state = pd.read_csv(state_file)\n",
    "\n",
    "### --- NATIONAL DATASET --- ###\n",
    "# Compute total births nationally\n",
    "total_national = df_national[\"Count\"].sum()\n",
    "\n",
    "# Compute percentage of each name nationally\n",
    "df_national[\"Percentage_National\"] = (df_national[\"Count\"] / total_national) * 100\n",
    "\n",
    "# Aggregate national data (sum counts per name)\n",
    "df_national_summary = df_national.groupby(\"Name\")[[\"Count\", \"Percentage_National\"]].sum().reset_index()\n",
    "\n",
    "# Compute relative commonness for national dataset\n",
    "max_percentage_national = df_national_summary[\"Percentage_National\"].max()\n",
    "df_national_summary[\"Relative_Commonness_National\"] = df_national_summary[\"Percentage_National\"] / max_percentage_national\n",
    "\n",
    "### --- STATE DATASET --- ###\n",
    "# Compute total births per state\n",
    "total_per_state = df_state.groupby(\"State\")[\"Count\"].sum().reset_index().rename(columns={\"Count\": \"Total_State\"})\n",
    "\n",
    "# Merge total state counts back into df_state\n",
    "df_state = df_state.merge(total_per_state, on=\"State\")\n",
    "\n",
    "# Compute percentage of each name per state\n",
    "df_state[\"Percentage_State\"] = (df_state[\"Count\"] / df_state[\"Total_State\"]) * 100\n",
    "\n",
    "# Create state summary (sum counts per name, per state)\n",
    "df_state_summary = df_state.groupby([\"State\", \"Name\"])[[\"Count\", \"Percentage_State\"]].sum().reset_index()\n",
    "\n",
    "# Compute relative commonness for state dataset (per state)\n",
    "max_percentage_state_per_state = df_state_summary.groupby(\"State\")[\"Percentage_State\"].transform(\"max\")\n",
    "df_state_summary[\"Relative_Commonness_State\"] = df_state_summary[\"Percentage_State\"] / max_percentage_state_per_state\n",
    "\n",
    "### --- MERGE NATIONAL & STATE DATA --- ###\n",
    "# Merge national and state data into a single DataFrame\n",
    "df_final = df_state_summary.merge(df_national_summary, on=\"Name\", how=\"left\", suffixes=(\"_State\", \"_National\"))\n",
    "\n",
    "### --- FILTER NAMES THAT ARE COMMON NATIONALLY BUT RARE AT STATE LEVEL --- ###\n",
    "\n",
    "# Filter for names with high national relative commonness and low state relative commonness\n",
    "threshold_national = 0.8  # Arbitrary threshold for \"high\" relative commonness nationally (70% of max)\n",
    "threshold_state = 0.5  # Arbitrary threshold for \"low\" relative commonness at the state level (10% of max)\n",
    "\n",
    "common_national_rare_state = df_final[(df_final[\"Relative_Commonness_National\"] >= threshold_national) &\n",
    "                                      (df_final[\"Relative_Commonness_State\"] <= threshold_state)]\n",
    "\n",
    "# Display the results\n",
    "print(common_national_rare_state[['Name', 'Relative_Commonness_National', 'Relative_Commonness_State']].head())"
   ]
  },
  {
   "cell_type": "code",
   "execution_count": 126,
   "metadata": {},
   "outputs": [
    {
     "name": "stdout",
     "output_type": "stream",
     "text": [
      "           Name  Relative_Commonness_National  Relative_Commonness_State\n",
      "6064    Michael                      0.844360                   0.365890\n",
      "11375   Michael                      0.844360                   0.373674\n",
      "66461   Michael                      0.844360                   0.484159\n",
      "237465  Michael                      0.844360                   0.423021\n",
      "158567  Michael                      0.844360                   0.448366\n",
      "148973  Michael                      0.844360                   0.305028\n",
      "104240  Michael                      0.844360                   0.431500\n",
      "228722  Michael                      0.844360                   0.351372\n",
      "282066  Michael                      0.844360                   0.451243\n",
      "1082       Mary                      0.805296                   0.487491\n",
      "71331      Mary                      0.805296                   0.419951\n",
      "168046     Mary                      0.805296                   0.434142\n",
      "30345      Mary                      0.805296                   0.359252\n",
      "56578      Mary                      0.805296                   0.471402\n",
      "173250     Mary                      0.805296                   0.460547\n",
      "213148     Mary                      0.805296                   0.495947\n",
      "181128     Mary                      0.805296                   0.244779\n",
      "258913     Mary                      0.805296                   0.473470\n",
      "272614     Mary                      0.805296                   0.490596\n"
     ]
    }
   ],
   "source": [
    "# File paths (adjust if needed)\n",
    "national_file = r\"C:\\Users\\matej\\.cache\\kagglehub\\datasets\\kaggle\\us-baby-names\\versions\\2\\NationalNames.csv\"\n",
    "state_file = r\"C:\\Users\\matej\\.cache\\kagglehub\\datasets\\kaggle\\us-baby-names\\versions\\2\\StateNames.csv\"\n",
    "\n",
    "# Load datasets\n",
    "df_national = pd.read_csv(national_file)\n",
    "df_state = pd.read_csv(state_file)\n",
    "\n",
    "### --- NATIONAL DATASET --- ###\n",
    "# Compute total births nationally\n",
    "total_national = df_national[\"Count\"].sum()\n",
    "\n",
    "# Compute percentage of each name nationally\n",
    "df_national[\"Percentage_National\"] = (df_national[\"Count\"] / total_national) * 100\n",
    "\n",
    "# Aggregate national data (sum counts per name)\n",
    "df_national_summary = df_national.groupby(\"Name\")[[\"Count\", \"Percentage_National\"]].sum().reset_index()\n",
    "\n",
    "# Compute relative commonness for national dataset\n",
    "max_percentage_national = df_national_summary[\"Percentage_National\"].max()\n",
    "df_national_summary[\"Relative_Commonness_National\"] = df_national_summary[\"Percentage_National\"] / max_percentage_national\n",
    "\n",
    "### --- STATE DATASET --- ###\n",
    "# Compute total births per state\n",
    "total_per_state = df_state.groupby(\"State\")[\"Count\"].sum().reset_index().rename(columns={\"Count\": \"Total_State\"})\n",
    "\n",
    "# Merge total state counts back into df_state\n",
    "df_state = df_state.merge(total_per_state, on=\"State\")\n",
    "\n",
    "# Compute percentage of each name per state\n",
    "df_state[\"Percentage_State\"] = (df_state[\"Count\"] / df_state[\"Total_State\"]) * 100\n",
    "\n",
    "# Create state summary (sum counts per name, per state)\n",
    "df_state_summary = df_state.groupby([\"State\", \"Name\"])[[\"Count\", \"Percentage_State\"]].sum().reset_index()\n",
    "\n",
    "# Compute relative commonness for state dataset (per state)\n",
    "max_percentage_state_per_state = df_state_summary.groupby(\"State\")[\"Percentage_State\"].transform(\"max\")\n",
    "df_state_summary[\"Relative_Commonness_State\"] = df_state_summary[\"Percentage_State\"] / max_percentage_state_per_state\n",
    "\n",
    "### --- MERGE NATIONAL & STATE DATA --- ###\n",
    "# Merge national and state data into a single DataFrame\n",
    "df_final = df_state_summary.merge(df_national_summary, on=\"Name\", how=\"left\", suffixes=(\"_State\", \"_National\"))\n",
    "\n",
    "### --- FILTER NAMES THAT ARE COMMON NATIONALLY BUT RARE AT STATE LEVEL --- ###\n",
    "\n",
    "# Filter for names with high national relative commonness and low state relative commonness\n",
    "threshold_national = 0.8  # Arbitrary threshold for \"high\" relative commonness nationally (70% of max)\n",
    "threshold_state = 0.5  # Arbitrary threshold for \"low\" relative commonness at the state level (10% of max)\n",
    "\n",
    "common_national_rare_state = df_final[(df_final[\"Relative_Commonness_National\"] >= threshold_national) &\n",
    "                                      (df_final[\"Relative_Commonness_State\"] <= threshold_state)]\n",
    "\n",
    "# Sort the result by relative commonness nationally (in descending order)\n",
    "common_national_rare_state_sorted = common_national_rare_state.sort_values(by='Relative_Commonness_National', ascending=False)\n",
    "\n",
    "# Display the sorted results\n",
    "print(common_national_rare_state_sorted[['Name', 'Relative_Commonness_National', 'Relative_Commonness_State']])"
   ]
  },
  {
   "cell_type": "code",
   "execution_count": 128,
   "metadata": {},
   "outputs": [
    {
     "name": "stdout",
     "output_type": "stream",
     "text": [
      "           Name  Relative_Commonness_National  Relative_Commonness_State State\n",
      "6064    Michael                      0.844360                   0.365890    AL\n",
      "11375   Michael                      0.844360                   0.373674    AR\n",
      "148973  Michael                      0.844360                   0.305028    MS\n",
      "228722  Michael                      0.844360                   0.351372    SC\n",
      "30345      Mary                      0.805296                   0.359252    CA\n",
      "181128     Mary                      0.805296                   0.244779    NV\n"
     ]
    }
   ],
   "source": [
    "# File paths (adjust if needed)\n",
    "national_file = r\"C:\\Users\\matej\\.cache\\kagglehub\\datasets\\kaggle\\us-baby-names\\versions\\2\\NationalNames.csv\"\n",
    "state_file = r\"C:\\Users\\matej\\.cache\\kagglehub\\datasets\\kaggle\\us-baby-names\\versions\\2\\StateNames.csv\"\n",
    "\n",
    "# Load datasets\n",
    "df_national = pd.read_csv(national_file)\n",
    "df_state = pd.read_csv(state_file)\n",
    "\n",
    "### --- NATIONAL DATASET --- ###\n",
    "# Compute total births nationally\n",
    "total_national = df_national[\"Count\"].sum()\n",
    "\n",
    "# Compute percentage of each name nationally\n",
    "df_national[\"Percentage_National\"] = (df_national[\"Count\"] / total_national) * 100\n",
    "\n",
    "# Aggregate national data (sum counts per name)\n",
    "df_national_summary = df_national.groupby(\"Name\")[[\"Count\", \"Percentage_National\"]].sum().reset_index()\n",
    "\n",
    "# Compute relative commonness for national dataset\n",
    "max_percentage_national = df_national_summary[\"Percentage_National\"].max()\n",
    "df_national_summary[\"Relative_Commonness_National\"] = df_national_summary[\"Percentage_National\"] / max_percentage_national\n",
    "\n",
    "### --- STATE DATASET --- ###\n",
    "# Compute total births per state\n",
    "total_per_state = df_state.groupby(\"State\")[\"Count\"].sum().reset_index().rename(columns={\"Count\": \"Total_State\"})\n",
    "\n",
    "# Merge total state counts back into df_state\n",
    "df_state = df_state.merge(total_per_state, on=\"State\")\n",
    "\n",
    "# Compute percentage of each name per state\n",
    "df_state[\"Percentage_State\"] = (df_state[\"Count\"] / df_state[\"Total_State\"]) * 100\n",
    "\n",
    "# Create state summary (sum counts per name, per state)\n",
    "df_state_summary = df_state.groupby([\"State\", \"Name\"])[[\"Count\", \"Percentage_State\"]].sum().reset_index()\n",
    "\n",
    "# Compute relative commonness for state dataset (per state)\n",
    "max_percentage_state_per_state = df_state_summary.groupby(\"State\")[\"Percentage_State\"].transform(\"max\")\n",
    "df_state_summary[\"Relative_Commonness_State\"] = df_state_summary[\"Percentage_State\"] / max_percentage_state_per_state\n",
    "\n",
    "### --- MERGE NATIONAL & STATE DATA --- ###\n",
    "# Merge national and state data into a single DataFrame\n",
    "df_final = df_state_summary.merge(df_national_summary, on=\"Name\", how=\"left\", suffixes=(\"_State\", \"_National\"))\n",
    "\n",
    "### --- FILTER NAMES THAT ARE COMMON NATIONALLY BUT RARE AT STATE LEVEL --- ###\n",
    "\n",
    "# Filter for names with high national relative commonness and low state relative commonness\n",
    "threshold_national = 0.8  # Arbitrary threshold for \"high\" relative commonness nationally (70% of max)\n",
    "threshold_state = 0.4  # Arbitrary threshold for \"low\" relative commonness at the state level (10% of max)\n",
    "\n",
    "common_national_rare_state = df_final[(df_final[\"Relative_Commonness_National\"] >= threshold_national) &\n",
    "                                      (df_final[\"Relative_Commonness_State\"] <= threshold_state)]\n",
    "\n",
    "# Sort the result by relative commonness nationally (in descending order)\n",
    "common_national_rare_state_sorted = common_national_rare_state.sort_values(by='Relative_Commonness_National', ascending=False)\n",
    "\n",
    "# Display the sorted results, adding a column for state\n",
    "print(common_national_rare_state_sorted[['Name', 'Relative_Commonness_National', 'Relative_Commonness_State', 'State']])"
   ]
  },
  {
   "cell_type": "code",
   "execution_count": 177,
   "metadata": {},
   "outputs": [],
   "source": [
    "# Function to find common names nationally but rare at the state level\n",
    "def find_common_national_rare_state(threshold_national=0.7, threshold_state=0.4, sort_by='national', keep_only_the_lowest_state_per_name=False):\n",
    "    \n",
    "    national_file = r\"C:\\Users\\matej\\.cache\\kagglehub\\datasets\\kaggle\\us-baby-names\\versions\\2\\NationalNames.csv\"\n",
    "    df_national = pd.read_csv(national_file)\n",
    "    state_file = r\"C:\\Users\\matej\\.cache\\kagglehub\\datasets\\kaggle\\us-baby-names\\versions\\2\\StateNames.csv\"\n",
    "    df_state = pd.read_csv(state_file)\n",
    "\n",
    "    ### --- NATIONAL DATASET --- ###\n",
    "    total_national = df_national[\"Count\"].sum() # computes the number of all babies born in the national dataset\n",
    "    df_national[\"Percentage_National\"] = (df_national[\"Count\"] / total_national) * 100 # adding a new column: percentage of each name's occurance in respect to all names\n",
    "    df_national_summary = df_national.groupby(\"Name\")[[\"Count\", \"Percentage_National\"]].sum().reset_index() # groups together all columns with the same baby name, sums count and percentate for all entries of the same name, finally the .reset_index just makes the Name column again a column and not functioning like an index\n",
    "    max_percentage_national = df_national_summary[\"Percentage_National\"].max() # finds the percentage of the most occuring name --> needed so we can normalize by it the occurance of all other names\n",
    "    df_national_summary[\"Relative_Commonness_National\"] = df_national_summary[\"Percentage_National\"] / max_percentage_national # adding a new column which is: normalized relative commonness of each name with respect to the most common baby name (values in range of 1 to 0)\n",
    "\n",
    "    ### --- STATE DATASET --- ###\n",
    "    total_per_state = df_state.groupby(\"State\")[\"Count\"].sum().reset_index().rename(columns={\"Count\": \"Total_State\"}) # comuptes the number of all born babes individually for each state\n",
    "    df_state = df_state.merge(total_per_state, on=\"State\") # Adds a new column for each name the total number of occurances of its name per state. For now, there are still all entries of each name per individual year of its occurance\n",
    "    df_state[\"Percentage_State\"] = (df_state[\"Count\"] / df_state[\"Total_State\"]) * 100 # adding a new column: percentage of each name's occurance in respect to all names per state\n",
    "    df_state_summary = df_state.groupby([\"State\", \"Name\"])[[\"Count\", \"Percentage_State\"]].sum().reset_index() # summing 'Count' and 'Percentage_State' of all occurances over multiple years for the same names (this is done per state)\n",
    "    max_percentage_state_per_state = df_state_summary.groupby(\"State\")[\"Percentage_State\"].transform(\"max\") # for each state, finds the percentage of the most occuring name and does the normalisation in the same fashion as in national dataset above\n",
    "    df_state_summary[\"Relative_Commonness_State\"] = df_state_summary[\"Percentage_State\"] / max_percentage_state_per_state # adding a new column of the relative commonnes of each name with respect to the most occuring name (done individually per state)\n",
    "\n",
    "    ### --- MERGING NATIONAL & STATE DATASETS --- ###\n",
    "    df_final = df_state_summary.merge(df_national_summary, on=\"Name\", how=\"left\", suffixes=(\"_State\", \"_National\")) # putting the national and state data together so the statistics can be compared\n",
    "\n",
    "    ### --- FILTER NAMES THAT ARE COMMON NATIONALLY BUT RARE AT STATE LEVEL --- ###\n",
    "    # Filter for names with high national relative commonness and low state relative commonness\n",
    "    common_national_rare_state = df_final[(df_final[\"Relative_Commonness_National\"] >= threshold_national) &\n",
    "                                          (df_final[\"Relative_Commonness_State\"] <= threshold_state)]\n",
    "\n",
    "    ### --- KEEP ONLY THE STATE WITH LOWEST COMMONNESS PER NAME --- ###\n",
    "    if keep_only_the_lowest_state_per_name == True:\n",
    "        common_national_rare_state = common_national_rare_state.loc[common_national_rare_state.groupby(\"Name\")[\"Relative_Commonness_State\"].idxmin()]\n",
    "\n",
    "    # Sort the result based on user input\n",
    "    if sort_by == 'national':\n",
    "        common_national_rare_state_sorted = common_national_rare_state.sort_values(by='Relative_Commonness_National', ascending=False)\n",
    "    elif sort_by == 'state':\n",
    "        common_national_rare_state_sorted = common_national_rare_state.sort_values(by='Relative_Commonness_State', ascending=False)\n",
    "    else:\n",
    "        raise ValueError(\"Invalid value for 'sort_by'. Please choose either 'national' or 'state'.\")\n",
    "    \n",
    "\n",
    "\n",
    "    # Return the final sorted DataFrame\n",
    "    return common_national_rare_state_sorted[['Name', 'Relative_Commonness_National', 'Relative_Commonness_State', 'State']]"
   ]
  },
  {
   "cell_type": "code",
   "execution_count": 180,
   "metadata": {},
   "outputs": [
    {
     "name": "stdout",
     "output_type": "stream",
     "text": [
      "           Name  Relative_Commonness_National  Relative_Commonness_State State\n",
      "223946    James                      1.000000                   0.626843    RI\n",
      "235901     John                      0.995612                   0.553058    TN\n",
      "229297   Robert                      0.939110                   0.512467    SC\n",
      "179092  William                      0.793779                   0.490660    NM\n",
      "148973  Michael                      0.844360                   0.305028    MS\n",
      "181128     Mary                      0.805296                   0.244779    NV\n"
     ]
    }
   ],
   "source": [
    "# Call the function (example: sorted by national relative commonness)\n",
    "result = find_common_national_rare_state(threshold_national=0.75, threshold_state=0.65, sort_by='state', keep_only_the_lowest_state_per_name=True)\n",
    "\n",
    "# Display the results\n",
    "print(result)"
   ]
  },
  {
   "cell_type": "code",
   "execution_count": 152,
   "metadata": {},
   "outputs": [
    {
     "name": "stdout",
     "output_type": "stream",
     "text": [
      "Collecting seaborn\n",
      "  Downloading seaborn-0.13.2-py3-none-any.whl.metadata (5.4 kB)\n",
      "Requirement already satisfied: numpy!=1.24.0,>=1.20 in c:\\users\\matej\\appdata\\local\\packages\\pythonsoftwarefoundation.python.3.11_qbz5n2kfra8p0\\localcache\\local-packages\\python311\\site-packages (from seaborn) (2.2.3)\n",
      "Requirement already satisfied: pandas>=1.2 in c:\\users\\matej\\appdata\\local\\packages\\pythonsoftwarefoundation.python.3.11_qbz5n2kfra8p0\\localcache\\local-packages\\python311\\site-packages (from seaborn) (2.2.3)\n",
      "Requirement already satisfied: matplotlib!=3.6.1,>=3.4 in c:\\users\\matej\\appdata\\local\\packages\\pythonsoftwarefoundation.python.3.11_qbz5n2kfra8p0\\localcache\\local-packages\\python311\\site-packages (from seaborn) (3.10.1)\n",
      "Requirement already satisfied: contourpy>=1.0.1 in c:\\users\\matej\\appdata\\local\\packages\\pythonsoftwarefoundation.python.3.11_qbz5n2kfra8p0\\localcache\\local-packages\\python311\\site-packages (from matplotlib!=3.6.1,>=3.4->seaborn) (1.3.1)\n",
      "Requirement already satisfied: cycler>=0.10 in c:\\users\\matej\\appdata\\local\\packages\\pythonsoftwarefoundation.python.3.11_qbz5n2kfra8p0\\localcache\\local-packages\\python311\\site-packages (from matplotlib!=3.6.1,>=3.4->seaborn) (0.12.1)\n",
      "Requirement already satisfied: fonttools>=4.22.0 in c:\\users\\matej\\appdata\\local\\packages\\pythonsoftwarefoundation.python.3.11_qbz5n2kfra8p0\\localcache\\local-packages\\python311\\site-packages (from matplotlib!=3.6.1,>=3.4->seaborn) (4.56.0)\n",
      "Requirement already satisfied: kiwisolver>=1.3.1 in c:\\users\\matej\\appdata\\local\\packages\\pythonsoftwarefoundation.python.3.11_qbz5n2kfra8p0\\localcache\\local-packages\\python311\\site-packages (from matplotlib!=3.6.1,>=3.4->seaborn) (1.4.8)\n",
      "Requirement already satisfied: packaging>=20.0 in c:\\users\\matej\\appdata\\local\\packages\\pythonsoftwarefoundation.python.3.11_qbz5n2kfra8p0\\localcache\\local-packages\\python311\\site-packages (from matplotlib!=3.6.1,>=3.4->seaborn) (24.2)\n",
      "Requirement already satisfied: pillow>=8 in c:\\users\\matej\\appdata\\local\\packages\\pythonsoftwarefoundation.python.3.11_qbz5n2kfra8p0\\localcache\\local-packages\\python311\\site-packages (from matplotlib!=3.6.1,>=3.4->seaborn) (11.1.0)\n",
      "Requirement already satisfied: pyparsing>=2.3.1 in c:\\users\\matej\\appdata\\local\\packages\\pythonsoftwarefoundation.python.3.11_qbz5n2kfra8p0\\localcache\\local-packages\\python311\\site-packages (from matplotlib!=3.6.1,>=3.4->seaborn) (3.2.1)\n",
      "Requirement already satisfied: python-dateutil>=2.7 in c:\\users\\matej\\appdata\\local\\packages\\pythonsoftwarefoundation.python.3.11_qbz5n2kfra8p0\\localcache\\local-packages\\python311\\site-packages (from matplotlib!=3.6.1,>=3.4->seaborn) (2.9.0.post0)\n",
      "Requirement already satisfied: pytz>=2020.1 in c:\\users\\matej\\appdata\\local\\packages\\pythonsoftwarefoundation.python.3.11_qbz5n2kfra8p0\\localcache\\local-packages\\python311\\site-packages (from pandas>=1.2->seaborn) (2025.1)\n",
      "Requirement already satisfied: tzdata>=2022.7 in c:\\users\\matej\\appdata\\local\\packages\\pythonsoftwarefoundation.python.3.11_qbz5n2kfra8p0\\localcache\\local-packages\\python311\\site-packages (from pandas>=1.2->seaborn) (2025.1)\n",
      "Requirement already satisfied: six>=1.5 in c:\\users\\matej\\appdata\\local\\packages\\pythonsoftwarefoundation.python.3.11_qbz5n2kfra8p0\\localcache\\local-packages\\python311\\site-packages (from python-dateutil>=2.7->matplotlib!=3.6.1,>=3.4->seaborn) (1.17.0)\n",
      "Downloading seaborn-0.13.2-py3-none-any.whl (294 kB)\n",
      "   ---------------------------------------- 0.0/294.9 kB ? eta -:--:--\n",
      "   ---- ----------------------------------- 30.7/294.9 kB 1.4 MB/s eta 0:00:01\n",
      "   ------------------------ --------------- 184.3/294.9 kB 2.8 MB/s eta 0:00:01\n",
      "   ---------------------------------------- 294.9/294.9 kB 3.1 MB/s eta 0:00:00\n",
      "Installing collected packages: seaborn\n",
      "Successfully installed seaborn-0.13.2\n",
      "Note: you may need to restart the kernel to use updated packages.\n"
     ]
    },
    {
     "name": "stderr",
     "output_type": "stream",
     "text": [
      "\n",
      "[notice] A new release of pip is available: 24.0 -> 25.0.1\n",
      "[notice] To update, run: C:\\Users\\matej\\AppData\\Local\\Microsoft\\WindowsApps\\PythonSoftwareFoundation.Python.3.11_qbz5n2kfra8p0\\python.exe -m pip install --upgrade pip\n"
     ]
    }
   ],
   "source": [
    "%pip install seaborn\n",
    "import seaborn as sns"
   ]
  },
  {
   "cell_type": "code",
   "execution_count": null,
   "metadata": {},
   "outputs": [],
   "source": [
    "def plot_name_commonness(name):\n",
    "    \"\"\"\n",
    "    Plots the distribution of Relative_Commonness_State for a given name\n",
    "    and includes Relative_Commonness_National in the title.\n",
    "    \n",
    "    Parameters:\n",
    "    name (str): The name to analyze.\n",
    "    \"\"\"\n",
    "\n",
    "    # Load datasets\n",
    "    national_file = r\"C:\\Users\\matej\\.cache\\kagglehub\\datasets\\kaggle\\us-baby-names\\versions\\2\\NationalNames.csv\"\n",
    "    df_national = pd.read_csv(national_file)\n",
    "    state_file = r\"C:\\Users\\matej\\.cache\\kagglehub\\datasets\\kaggle\\us-baby-names\\versions\\2\\StateNames.csv\"\n",
    "    df_state = pd.read_csv(state_file)\n",
    "\n",
    "    ### --- NATIONAL DATASET --- ###\n",
    "    total_national = df_national[\"Count\"].sum()\n",
    "    df_national[\"Percentage_National\"] = (df_national[\"Count\"] / total_national) * 100\n",
    "    df_national_summary = df_national.groupby(\"Name\")[[\"Count\", \"Percentage_National\"]].sum().reset_index()\n",
    "    max_percentage_national = df_national_summary[\"Percentage_National\"].max()\n",
    "    df_national_summary[\"Relative_Commonness_National\"] = df_national_summary[\"Percentage_National\"] / max_percentage_national\n",
    "\n",
    "    ### --- STATE DATASET --- ###\n",
    "    total_per_state = df_state.groupby(\"State\")[\"Count\"].sum().reset_index().rename(columns={\"Count\": \"Total_State\"})\n",
    "    df_state = df_state.merge(total_per_state, on=\"State\")\n",
    "    df_state[\"Percentage_State\"] = (df_state[\"Count\"] / df_state[\"Total_State\"]) * 100\n",
    "    df_state_summary = df_state.groupby([\"State\", \"Name\"])[[\"Count\", \"Percentage_State\"]].sum().reset_index()\n",
    "    max_percentage_state_per_state = df_state_summary.groupby(\"State\")[\"Percentage_State\"].transform(\"max\")\n",
    "    df_state_summary[\"Relative_Commonness_State\"] = df_state_summary[\"Percentage_State\"] / max_percentage_state_per_state\n",
    "\n",
    "    ### --- MERGING NATIONAL & STATE DATASETS --- ###\n",
    "    df_final = df_state_summary.merge(df_national_summary, on=\"Name\", how=\"left\", suffixes=(\"_State\", \"_National\"))\n",
    "\n",
    "    ### --- FILTER FOR SPECIFIC NAME --- ###\n",
    "    name_data = df_final[df_final[\"Name\"] == name]\n",
    "\n",
    "    if name_data.empty:\n",
    "        print(f\"No data found for the name '{name}'.\")\n",
    "        return\n",
    "\n",
    "    # Extract Relative_Commonness_National for title\n",
    "    relative_commonness_national = name_data[\"Relative_Commonness_National\"].iloc[0]\n",
    "\n",
    "    ### --- PLOT DISTRIBUTION --- ###\n",
    "    plt.figure(figsize=(10, 5))\n",
    "    sns.barplot(x=\"State\", y=\"Relative_Commonness_State\", data=name_data, color = 'Blue')\n",
    "    plt.xticks(rotation=90)\n",
    "    plt.xlabel(\"State\")\n",
    "    plt.ylabel(\"Relative Commonness (State)\")\n",
    "    plt.title(f\"Distribution of '{name}' across states\\nRelative Commonness National: {relative_commonness_national:.2f}\")\n",
    "    plt.show()"
   ]
  },
  {
   "cell_type": "code",
   "execution_count": 160,
   "metadata": {},
   "outputs": [
    {
     "data": {
      "image/png": "[encoded data removed]",
      "text/plain": [
       "<Figure size 1000x500 with 1 Axes>"
      ]
     },
     "metadata": {},
     "output_type": "display_data"
    }
   ],
   "source": [
    "plot_name_commonness(name = 'Michael')"
   ]
  },
  {
   "cell_type": "code",
   "execution_count": 181,
   "metadata": {},
   "outputs": [
    {
     "data": {
      "image/png": "[encoded data removed]",
      "text/plain": [
       "<Figure size 1000x500 with 1 Axes>"
      ]
     },
     "metadata": {},
     "output_type": "display_data"
    }
   ],
   "source": [
    "plot_name_commonness(name = 'Mary')"
   ]
  },
  {
   "cell_type": "code",
   "execution_count": 142,
   "metadata": {},
   "outputs": [
    {
     "data": {
      "text/html": [
       "<div>\n",
       "<style scoped>\n",
       "    .dataframe tbody tr th:only-of-type {\n",
       "        vertical-align: middle;\n",
       "    }\n",
       "\n",
       "    .dataframe tbody tr th {\n",
       "        vertical-align: top;\n",
       "    }\n",
       "\n",
       "    .dataframe thead th {\n",
       "        text-align: right;\n",
       "    }\n",
       "</style>\n",
       "<table border=\"1\" class=\"dataframe\">\n",
       "  <thead>\n",
       "    <tr style=\"text-align: right;\">\n",
       "      <th></th>\n",
       "      <th>Name</th>\n",
       "      <th>Count</th>\n",
       "      <th>Percentage_National</th>\n",
       "      <th>Relative_Commonness_National</th>\n",
       "    </tr>\n",
       "  </thead>\n",
       "  <tbody>\n",
       "    <tr>\n",
       "      <th>0</th>\n",
       "      <td>Aaban</td>\n",
       "      <td>72</td>\n",
       "      <td>0.000021</td>\n",
       "      <td>1.403756e-05</td>\n",
       "    </tr>\n",
       "    <tr>\n",
       "      <th>1</th>\n",
       "      <td>Aabha</td>\n",
       "      <td>21</td>\n",
       "      <td>0.000006</td>\n",
       "      <td>4.094289e-06</td>\n",
       "    </tr>\n",
       "    <tr>\n",
       "      <th>2</th>\n",
       "      <td>Aabid</td>\n",
       "      <td>5</td>\n",
       "      <td>0.000001</td>\n",
       "      <td>9.748307e-07</td>\n",
       "    </tr>\n",
       "    <tr>\n",
       "      <th>3</th>\n",
       "      <td>Aabriella</td>\n",
       "      <td>10</td>\n",
       "      <td>0.000003</td>\n",
       "      <td>1.949661e-06</td>\n",
       "    </tr>\n",
       "    <tr>\n",
       "      <th>4</th>\n",
       "      <td>Aadam</td>\n",
       "      <td>196</td>\n",
       "      <td>0.000058</td>\n",
       "      <td>3.821336e-05</td>\n",
       "    </tr>\n",
       "    <tr>\n",
       "      <th>...</th>\n",
       "      <td>...</td>\n",
       "      <td>...</td>\n",
       "      <td>...</td>\n",
       "      <td>...</td>\n",
       "    </tr>\n",
       "    <tr>\n",
       "      <th>93884</th>\n",
       "      <td>Zytavious</td>\n",
       "      <td>43</td>\n",
       "      <td>0.000013</td>\n",
       "      <td>8.383544e-06</td>\n",
       "    </tr>\n",
       "    <tr>\n",
       "      <th>93885</th>\n",
       "      <td>Zyvion</td>\n",
       "      <td>5</td>\n",
       "      <td>0.000001</td>\n",
       "      <td>9.748307e-07</td>\n",
       "    </tr>\n",
       "    <tr>\n",
       "      <th>93886</th>\n",
       "      <td>Zyyanna</td>\n",
       "      <td>6</td>\n",
       "      <td>0.000002</td>\n",
       "      <td>1.169797e-06</td>\n",
       "    </tr>\n",
       "    <tr>\n",
       "      <th>93887</th>\n",
       "      <td>Zyyon</td>\n",
       "      <td>6</td>\n",
       "      <td>0.000002</td>\n",
       "      <td>1.169797e-06</td>\n",
       "    </tr>\n",
       "    <tr>\n",
       "      <th>93888</th>\n",
       "      <td>Zzyzx</td>\n",
       "      <td>5</td>\n",
       "      <td>0.000001</td>\n",
       "      <td>9.748307e-07</td>\n",
       "    </tr>\n",
       "  </tbody>\n",
       "</table>\n",
       "<p>93889 rows × 4 columns</p>\n",
       "</div>"
      ],
      "text/plain": [
       "            Name  Count  Percentage_National  Relative_Commonness_National\n",
       "0          Aaban     72             0.000021                  1.403756e-05\n",
       "1          Aabha     21             0.000006                  4.094289e-06\n",
       "2          Aabid      5             0.000001                  9.748307e-07\n",
       "3      Aabriella     10             0.000003                  1.949661e-06\n",
       "4          Aadam    196             0.000058                  3.821336e-05\n",
       "...          ...    ...                  ...                           ...\n",
       "93884  Zytavious     43             0.000013                  8.383544e-06\n",
       "93885     Zyvion      5             0.000001                  9.748307e-07\n",
       "93886    Zyyanna      6             0.000002                  1.169797e-06\n",
       "93887      Zyyon      6             0.000002                  1.169797e-06\n",
       "93888      Zzyzx      5             0.000001                  9.748307e-07\n",
       "\n",
       "[93889 rows x 4 columns]"
      ]
     },
     "execution_count": 142,
     "metadata": {},
     "output_type": "execute_result"
    }
   ],
   "source": [
    "df_national[\"Percentage_National\"] = (df_national[\"Count\"] / total_national) * 100\n",
    "#df_national[\"Percentage_National\"]\n",
    "\n",
    "df_national_summary = df_national.groupby(\"Name\")[[\"Count\", \"Percentage_National\"]].sum().reset_index()\n",
    "max_percentage_national = df_national_summary[\"Percentage_National\"].max()\n",
    "df_national_summary[\"Relative_Commonness_National\"] = df_national_summary[\"Percentage_National\"] / max_percentage_national\n",
    "\n",
    "df_national_summary"
   ]
  },
  {
   "cell_type": "code",
   "execution_count": 147,
   "metadata": {},
   "outputs": [
    {
     "name": "stdout",
     "output_type": "stream",
     "text": [
      "       State  Name   Count  Percentage_State  Relative_Commonness_State\n",
      "1082      AK  Mary    3936          0.952471                   0.487491\n",
      "5942      AL  Mary  115889          2.037355                   0.735850\n",
      "11274     AR  Mary   58679          1.748181                   0.688656\n",
      "16508     AZ  Mary   22752          0.669716                   0.506467\n",
      "30345     CA  Mary  152533          0.521430                   0.359252\n",
      "40258     CO  Mary   31586          0.908806                   0.649370\n",
      "44164     CT  Mary   41659          1.229651                   0.523210\n",
      "46957     DC  Mary   22390          1.569271                   0.654851\n",
      "48986     DE  Mary    8407          1.351755                   0.555761\n",
      "56578     FL  Mary   66280          0.700856                   0.471402\n",
      "66274     GA  Mary  124895          1.507182                   0.682479\n",
      "71331     HI  Mary    5776          0.602537                   0.419951\n",
      "75253     IA  Mary   61742          1.492241                   0.869434\n",
      "78449     ID  Mary    9894          0.851305                   0.591357\n",
      "86501     IL  Mary  200359          1.309138                   0.723464\n",
      "94438     IN  Mary  100727          1.391742                   0.784527\n",
      "99302     KS  Mary   43053          1.328215                   0.841092\n",
      "104131    KY  Mary  103433          1.917813                   0.717926\n",
      "110338    LA  Mary   78575          1.403806                   0.897169\n",
      "116035    MA  Mary  116272          1.523379                   0.585423\n",
      "121244    MD  Mary   63880          1.412814                   0.736496\n",
      "124538    ME  Mary   14579          1.047726                   0.548289\n",
      "130935    MI  Mary  137387          1.170763                   0.637917\n",
      "137297    MN  Mary   70695          1.256193                   0.835895\n",
      "143257    MO  Mary  105655          1.541922                   0.853647\n",
      "148881    MS  Mary   87101          2.180398                   0.759851\n",
      "152083    MT  Mary   12889          1.357340                   0.692138\n",
      "158394    NC  Mary  133604          1.564945                   0.642444\n",
      "162827    ND  Mary   13036          1.221867                   0.801377\n",
      "165809    NE  Mary   30060          1.322233                   0.755049\n",
      "168046    NH  Mary    8451          0.877195                   0.434142\n",
      "173250    NJ  Mary   90392          1.076329                   0.460547\n",
      "178146    NM  Mary   23823          1.438222                   1.000000\n",
      "181128    NV  Mary    3317          0.382487                   0.244779\n",
      "190835    NY  Mary  277372          1.160987                   0.560235\n",
      "202007    OH  Mary  201281          1.406036                   0.723436\n",
      "208617    OK  Mary   55856          1.338023                   0.751844\n",
      "213148    OR  Mary   19702          0.728163                   0.495947\n",
      "220231    PA  Mary  292159          1.741461                   0.697483\n",
      "224396    RI  Mary   16503          1.428705                   0.558213\n",
      "228614    SC  Mary   83725          1.889162                   0.657900\n",
      "232053    SD  Mary   14218          1.345617                   0.792310\n",
      "237334    TN  Mary  105815          1.658224                   0.616318\n",
      "250527    TX  Mary  210119          0.962935                   0.766863\n",
      "258913    UT  Mary   13590          0.579344                   0.473470\n",
      "264972    VA  Mary   96140          1.419298                   0.650716\n",
      "268207    VT  Mary    7653          1.393603                   0.657079\n",
      "272614    WA  Mary   34015          0.723735                   0.490596\n",
      "278156    WI  Mary   83881          1.366342                   0.801830\n",
      "281994    WV  Mary   58586          1.968075                   0.772862\n",
      "284003    WY  Mary    6174          1.448585                   0.686458\n"
     ]
    }
   ],
   "source": [
    "state_file = r\"C:\\Users\\matej\\.cache\\kagglehub\\datasets\\kaggle\\us-baby-names\\versions\\2\\StateNames.csv\"\n",
    "df_state = pd.read_csv(state_file)\n",
    "total_per_state = df_state.groupby(\"State\")[\"Count\"].sum().reset_index().rename(columns={\"Count\": \"Total_State\"}) # comuptes the number of all born babes individually for each state\n",
    "df_state = df_state.merge(total_per_state, on=\"State\")\n",
    "\n",
    "\n",
    "# Compute percentage of each name per state\n",
    "df_state[\"Percentage_State\"] = (df_state[\"Count\"] / df_state[\"Total_State\"]) * 100\n",
    "\n",
    "# Create state summary (sum counts per name, per state)\n",
    "df_state_summary = df_state.groupby([\"State\", \"Name\"])[[\"Count\", \"Percentage_State\"]].sum().reset_index()\n",
    "\n",
    "# Compute relative commonness for state dataset (per state)\n",
    "max_percentage_state_per_state = df_state_summary.groupby(\"State\")[\"Percentage_State\"].transform(\"max\")\n",
    "df_state_summary[\"Relative_Commonness_State\"] = df_state_summary[\"Percentage_State\"] / max_percentage_state_per_state\n",
    "\n",
    "# Filter occurrences of the name \"Mary\"\n",
    "df_mary = df_state_summary[df_state_summary[\"Name\"] == \"Mary\"]\n",
    "\n",
    "# Print all occurrences of \"Mary\"\n",
    "print(df_mary)"
   ]
  },
  {
   "cell_type": "code",
   "execution_count": 137,
   "metadata": {},
   "outputs": [
    {
     "name": "stdout",
     "output_type": "stream",
     "text": [
      "           Name  Count_National  Count_State\n",
      "53965    Linden            4102        384.0\n",
      "14016    Carlin            4035        284.0\n",
      "17109    Clarke            3905        373.0\n",
      "14086    Carman            3465        285.0\n",
      "64796    Nevada            3461        206.0\n",
      "...         ...             ...          ...\n",
      "8018      Ashay              50          0.0\n",
      "77400  Shareeta              50          0.0\n",
      "79507    Siller              50          0.0\n",
      "44210    Kamili              50          0.0\n",
      "70002     Raimi              50          0.0\n",
      "\n",
      "[28684 rows x 3 columns]\n"
     ]
    },
    {
     "name": "stderr",
     "output_type": "stream",
     "text": [
      "C:\\Users\\matej\\AppData\\Local\\Temp\\ipykernel_40916\\425273555.py:29: FutureWarning: A value is trying to be set on a copy of a DataFrame or Series through chained assignment using an inplace method.\n",
      "The behavior will change in pandas 3.0. This inplace method will never work because the intermediate object on which we are setting values always behaves as a copy.\n",
      "\n",
      "For example, when doing 'df[col].method(value, inplace=True)', try using 'df.method({col: value}, inplace=True)' or df[col] = df[col].method(value) instead, to perform the operation inplace on the original object.\n",
      "\n",
      "\n",
      "  merged_counts[\"Count_State\"].fillna(0, inplace=True)\n"
     ]
    }
   ],
   "source": [
    "def common_national_rare_state(national_file, state_file, min_national_count=5, state_threshold=0.1):\n",
    "    \"\"\"\n",
    "    Finds names that are common nationally but rare at the state level.\n",
    "    \n",
    "    Parameters:\n",
    "    - national_file (str): Path to the National dataset CSV file.\n",
    "    - state_file (str): Path to the State dataset CSV file.\n",
    "    - min_national_count (int): Minimum count for a name to be considered 'common' nationally.\n",
    "    - state_threshold (float): Percentage threshold for a name to be considered 'rare' at the state level.\n",
    "    \n",
    "    Returns:\n",
    "    - DataFrame with names that are common nationally but rare at the state level.\n",
    "    \"\"\"\n",
    "    \n",
    "    # Load the datasets\n",
    "    df_national = pd.read_csv(national_file)\n",
    "    df_state = pd.read_csv(state_file)\n",
    "\n",
    "    # Aggregate national counts\n",
    "    national_counts = df_national.groupby(\"Name\")[\"Count\"].sum().reset_index()\n",
    "    \n",
    "    # Aggregate state counts (sum over all states)\n",
    "    state_counts = df_state.groupby(\"Name\")[\"Count\"].sum().reset_index()\n",
    "    \n",
    "    # Merge national and state counts\n",
    "    merged_counts = national_counts.merge(state_counts, on=\"Name\", how=\"left\", suffixes=(\"_National\", \"_State\"))\n",
    "\n",
    "    # Fill NaN values (if a name is missing in the state dataset, set state count to 0)\n",
    "    merged_counts[\"Count_State\"].fillna(0, inplace=True)\n",
    "\n",
    "    # Filter names that are common nationally but rare at the state level\n",
    "    filtered_names = merged_counts[\n",
    "        (merged_counts[\"Count_National\"] >= min_national_count) & \n",
    "        (merged_counts[\"Count_State\"] <= merged_counts[\"Count_National\"] * state_threshold)\n",
    "    ]\n",
    "\n",
    "    return filtered_names.sort_values(by=\"Count_National\", ascending=False)\n",
    "\n",
    "# Example Usage:\n",
    "national_file = r\"C:\\Users\\matej\\.cache\\kagglehub\\datasets\\kaggle\\us-baby-names\\versions\\2\\NationalNames.csv\"\n",
    "state_file = r\"C:\\Users\\matej\\.cache\\kagglehub\\datasets\\kaggle\\us-baby-names\\versions\\2\\StateNames.csv\"\n",
    "\n",
    "rare_state_names = common_national_rare_state(national_file, state_file, min_national_count=50, state_threshold=0.1)\n",
    "print(rare_state_names)"
   ]
  },
  {
   "cell_type": "code",
   "execution_count": 132,
   "metadata": {},
   "outputs": [
    {
     "name": "stdout",
     "output_type": "stream",
     "text": [
      "           Name  Count_National  Count_State\n",
      "53965    Linden            4102        384.0\n",
      "14016    Carlin            4035        284.0\n",
      "17109    Clarke            3905        373.0\n",
      "14086    Carman            3465        285.0\n",
      "64796    Nevada            3461        206.0\n",
      "...         ...             ...          ...\n",
      "8018      Ashay              50          0.0\n",
      "77400  Shareeta              50          0.0\n",
      "79507    Siller              50          0.0\n",
      "44210    Kamili              50          0.0\n",
      "70002     Raimi              50          0.0\n",
      "\n",
      "[28684 rows x 3 columns]\n"
     ]
    },
    {
     "name": "stderr",
     "output_type": "stream",
     "text": [
      "C:\\Users\\matej\\AppData\\Local\\Temp\\ipykernel_40916\\256596151.py:29: FutureWarning: A value is trying to be set on a copy of a DataFrame or Series through chained assignment using an inplace method.\n",
      "The behavior will change in pandas 3.0. This inplace method will never work because the intermediate object on which we are setting values always behaves as a copy.\n",
      "\n",
      "For example, when doing 'df[col].method(value, inplace=True)', try using 'df.method({col: value}, inplace=True)' or df[col] = df[col].method(value) instead, to perform the operation inplace on the original object.\n",
      "\n",
      "\n",
      "  merged_counts[\"Count_State\"].fillna(0, inplace=True)\n"
     ]
    }
   ],
   "source": [
    "def common_national_rare_state(national_file, state_file, min_national_count=5000, state_threshold=0.1):\n",
    "    \"\"\"\n",
    "    Finds names that are common nationally but rare at the state level.\n",
    "    \n",
    "    Parameters:\n",
    "    - national_file (str): Path to the National dataset CSV file.\n",
    "    - state_file (str): Path to the State dataset CSV file.\n",
    "    - min_national_count (int): Minimum count for a name to be considered 'common' nationally.\n",
    "    - state_threshold (float): Percentage threshold for a name to be considered 'rare' at the state level.\n",
    "    \n",
    "    Returns:\n",
    "    - DataFrame with names that are common nationally but rare at the state level.\n",
    "    \"\"\"\n",
    "    \n",
    "    # Load the datasets\n",
    "    df_national = pd.read_csv(national_file)\n",
    "    df_state = pd.read_csv(state_file)\n",
    "\n",
    "    # Aggregate national counts\n",
    "    national_counts = df_national.groupby(\"Name\")[\"Count\"].sum().reset_index()\n",
    "    \n",
    "    # Aggregate state counts (sum over all states)\n",
    "    state_counts = df_state.groupby(\"Name\")[\"Count\"].sum().reset_index()\n",
    "    \n",
    "    # Merge national and state counts\n",
    "    merged_counts = national_counts.merge(state_counts, on=\"Name\", how=\"left\", suffixes=(\"_National\", \"_State\"))\n",
    "\n",
    "    # Fill NaN values (if a name is missing in the state dataset, set state count to 0)\n",
    "    merged_counts[\"Count_State\"].fillna(0, inplace=True)\n",
    "\n",
    "    # Filter names that are common nationally but rare at the state level\n",
    "    filtered_names = merged_counts[\n",
    "        (merged_counts[\"Count_National\"] >= min_national_count) & \n",
    "        (merged_counts[\"Count_State\"] <= merged_counts[\"Count_National\"] * state_threshold)\n",
    "    ]\n",
    "\n",
    "    return filtered_names.sort_values(by=\"Count_National\", ascending=False)\n",
    "\n",
    "# Example Usage:\n",
    "national_file = r\"C:\\Users\\matej\\.cache\\kagglehub\\datasets\\kaggle\\us-baby-names\\versions\\2\\NationalNames.csv\"\n",
    "state_file = r\"C:\\Users\\matej\\.cache\\kagglehub\\datasets\\kaggle\\us-baby-names\\versions\\2\\StateNames.csv\"\n",
    "\n",
    "rare_state_names = common_national_rare_state(national_file, state_file, min_national_count=50, state_threshold=0.1)\n",
    "print(rare_state_names)"
   ]
  },
  {
   "cell_type": "markdown",
   "metadata": {},
   "source": [
    "# Top 10 trending names"
   ]
  },
  {
   "cell_type": "markdown",
   "metadata": {},
   "source": [
    "# Top 10 states with the most newborns"
   ]
  },
  {
   "cell_type": "markdown",
   "metadata": {},
   "source": [
    "# A map showing the top names by region"
   ]
  },
  {
   "cell_type": "markdown",
   "metadata": {},
   "source": []
  }
 ],
 "metadata": {
  "kernelspec": {
   "display_name": "Python 3",
   "language": "python",
   "name": "python3"
  },
  "language_info": {
   "codemirror_mode": {
    "name": "ipython",
    "version": 3
   },
   "file_extension": ".py",
   "mimetype": "text/x-python",
   "name": "python",
   "nbconvert_exporter": "python",
   "pygments_lexer": "ipython3",
   "version": "3.11.9"
  }
 },
 "nbformat": 4,
 "nbformat_minor": 2
}
