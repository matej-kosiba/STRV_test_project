{
 "cells": [
  {
   "cell_type": "code",
   "execution_count": 76,
   "metadata": {},
   "outputs": [
    {
     "name": "stdout",
     "output_type": "stream",
     "text": [
      "Requirement already satisfied: kagglehub in c:\\users\\matej\\appdata\\local\\packages\\pythonsoftwarefoundation.python.3.11_qbz5n2kfra8p0\\localcache\\local-packages\\python311\\site-packages (0.3.10)\n",
      "Requirement already satisfied: packaging in c:\\users\\matej\\appdata\\local\\packages\\pythonsoftwarefoundation.python.3.11_qbz5n2kfra8p0\\localcache\\local-packages\\python311\\site-packages (from kagglehub) (24.2)\n",
      "Requirement already satisfied: pyyaml in c:\\users\\matej\\appdata\\local\\packages\\pythonsoftwarefoundation.python.3.11_qbz5n2kfra8p0\\localcache\\local-packages\\python311\\site-packages (from kagglehub) (6.0.2)\n",
      "Requirement already satisfied: requests in c:\\users\\matej\\appdata\\local\\packages\\pythonsoftwarefoundation.python.3.11_qbz5n2kfra8p0\\localcache\\local-packages\\python311\\site-packages (from kagglehub) (2.32.3)\n",
      "Requirement already satisfied: tqdm in c:\\users\\matej\\appdata\\local\\packages\\pythonsoftwarefoundation.python.3.11_qbz5n2kfra8p0\\localcache\\local-packages\\python311\\site-packages (from kagglehub) (4.67.1)\n",
      "Requirement already satisfied: charset-normalizer<4,>=2 in c:\\users\\matej\\appdata\\local\\packages\\pythonsoftwarefoundation.python.3.11_qbz5n2kfra8p0\\localcache\\local-packages\\python311\\site-packages (from requests->kagglehub) (3.4.1)\n",
      "Requirement already satisfied: idna<4,>=2.5 in c:\\users\\matej\\appdata\\local\\packages\\pythonsoftwarefoundation.python.3.11_qbz5n2kfra8p0\\localcache\\local-packages\\python311\\site-packages (from requests->kagglehub) (3.10)\n",
      "Requirement already satisfied: urllib3<3,>=1.21.1 in c:\\users\\matej\\appdata\\local\\packages\\pythonsoftwarefoundation.python.3.11_qbz5n2kfra8p0\\localcache\\local-packages\\python311\\site-packages (from requests->kagglehub) (2.3.0)\n",
      "Requirement already satisfied: certifi>=2017.4.17 in c:\\users\\matej\\appdata\\local\\packages\\pythonsoftwarefoundation.python.3.11_qbz5n2kfra8p0\\localcache\\local-packages\\python311\\site-packages (from requests->kagglehub) (2025.1.31)\n",
      "Requirement already satisfied: colorama in c:\\users\\matej\\appdata\\local\\packages\\pythonsoftwarefoundation.python.3.11_qbz5n2kfra8p0\\localcache\\local-packages\\python311\\site-packages (from tqdm->kagglehub) (0.4.6)\n",
      "Note: you may need to restart the kernel to use updated packages.\n"
     ]
    },
    {
     "name": "stderr",
     "output_type": "stream",
     "text": [
      "\n",
      "[notice] A new release of pip is available: 24.0 -> 25.0.1\n",
      "[notice] To update, run: C:\\Users\\matej\\AppData\\Local\\Microsoft\\WindowsApps\\PythonSoftwareFoundation.Python.3.11_qbz5n2kfra8p0\\python.exe -m pip install --upgrade pip\n"
     ]
    },
    {
     "name": "stdout",
     "output_type": "stream",
     "text": [
      "Requirement already satisfied: jupyter in c:\\users\\matej\\appdata\\local\\packages\\pythonsoftwarefoundation.python.3.11_qbz5n2kfra8p0\\localcache\\local-packages\\python311\\site-packages (1.1.1)\n",
      "Requirement already satisfied: ipywidgets in c:\\users\\matej\\appdata\\local\\packages\\pythonsoftwarefoundation.python.3.11_qbz5n2kfra8p0\\localcache\\local-packages\\python311\\site-packages (8.1.5)\n",
      "Requirement already satisfied: notebook in c:\\users\\matej\\appdata\\local\\packages\\pythonsoftwarefoundation.python.3.11_qbz5n2kfra8p0\\localcache\\local-packages\\python311\\site-packages (from jupyter) (7.3.2)\n",
      "Requirement already satisfied: jupyter-console in c:\\users\\matej\\appdata\\local\\packages\\pythonsoftwarefoundation.python.3.11_qbz5n2kfra8p0\\localcache\\local-packages\\python311\\site-packages (from jupyter) (6.6.3)\n",
      "Requirement already satisfied: nbconvert in c:\\users\\matej\\appdata\\local\\packages\\pythonsoftwarefoundation.python.3.11_qbz5n2kfra8p0\\localcache\\local-packages\\python311\\site-packages (from jupyter) (7.16.6)\n",
      "Requirement already satisfied: ipykernel in c:\\users\\matej\\appdata\\local\\packages\\pythonsoftwarefoundation.python.3.11_qbz5n2kfra8p0\\localcache\\local-packages\\python311\\site-packages (from jupyter) (6.29.5)\n",
      "Requirement already satisfied: jupyterlab in c:\\users\\matej\\appdata\\local\\packages\\pythonsoftwarefoundation.python.3.11_qbz5n2kfra8p0\\localcache\\local-packages\\python311\\site-packages (from jupyter) (4.3.5)\n",
      "Requirement already satisfied: comm>=0.1.3 in c:\\users\\matej\\appdata\\local\\packages\\pythonsoftwarefoundation.python.3.11_qbz5n2kfra8p0\\localcache\\local-packages\\python311\\site-packages (from ipywidgets) (0.2.2)\n",
      "Requirement already satisfied: ipython>=6.1.0 in c:\\users\\matej\\appdata\\local\\packages\\pythonsoftwarefoundation.python.3.11_qbz5n2kfra8p0\\localcache\\local-packages\\python311\\site-packages (from ipywidgets) (9.0.2)\n",
      "Requirement already satisfied: traitlets>=4.3.1 in c:\\users\\matej\\appdata\\local\\packages\\pythonsoftwarefoundation.python.3.11_qbz5n2kfra8p0\\localcache\\local-packages\\python311\\site-packages (from ipywidgets) (5.14.3)\n",
      "Requirement already satisfied: widgetsnbextension~=4.0.12 in c:\\users\\matej\\appdata\\local\\packages\\pythonsoftwarefoundation.python.3.11_qbz5n2kfra8p0\\localcache\\local-packages\\python311\\site-packages (from ipywidgets) (4.0.13)\n",
      "Requirement already satisfied: jupyterlab-widgets~=3.0.12 in c:\\users\\matej\\appdata\\local\\packages\\pythonsoftwarefoundation.python.3.11_qbz5n2kfra8p0\\localcache\\local-packages\\python311\\site-packages (from ipywidgets) (3.0.13)\n",
      "Requirement already satisfied: colorama in c:\\users\\matej\\appdata\\local\\packages\\pythonsoftwarefoundation.python.3.11_qbz5n2kfra8p0\\localcache\\local-packages\\python311\\site-packages (from ipython>=6.1.0->ipywidgets) (0.4.6)\n",
      "Requirement already satisfied: decorator in c:\\users\\matej\\appdata\\local\\packages\\pythonsoftwarefoundation.python.3.11_qbz5n2kfra8p0\\localcache\\local-packages\\python311\\site-packages (from ipython>=6.1.0->ipywidgets) (5.2.1)\n",
      "Requirement already satisfied: ipython-pygments-lexers in c:\\users\\matej\\appdata\\local\\packages\\pythonsoftwarefoundation.python.3.11_qbz5n2kfra8p0\\localcache\\local-packages\\python311\\site-packages (from ipython>=6.1.0->ipywidgets) (1.1.1)\n",
      "Requirement already satisfied: jedi>=0.16 in c:\\users\\matej\\appdata\\local\\packages\\pythonsoftwarefoundation.python.3.11_qbz5n2kfra8p0\\localcache\\local-packages\\python311\\site-packages (from ipython>=6.1.0->ipywidgets) (0.19.2)\n",
      "Requirement already satisfied: matplotlib-inline in c:\\users\\matej\\appdata\\local\\packages\\pythonsoftwarefoundation.python.3.11_qbz5n2kfra8p0\\localcache\\local-packages\\python311\\site-packages (from ipython>=6.1.0->ipywidgets) (0.1.7)\n",
      "Requirement already satisfied: prompt_toolkit<3.1.0,>=3.0.41 in c:\\users\\matej\\appdata\\local\\packages\\pythonsoftwarefoundation.python.3.11_qbz5n2kfra8p0\\localcache\\local-packages\\python311\\site-packages (from ipython>=6.1.0->ipywidgets) (3.0.50)\n",
      "Requirement already satisfied: pygments>=2.4.0 in c:\\users\\matej\\appdata\\local\\packages\\pythonsoftwarefoundation.python.3.11_qbz5n2kfra8p0\\localcache\\local-packages\\python311\\site-packages (from ipython>=6.1.0->ipywidgets) (2.19.1)\n",
      "Requirement already satisfied: stack_data in c:\\users\\matej\\appdata\\local\\packages\\pythonsoftwarefoundation.python.3.11_qbz5n2kfra8p0\\localcache\\local-packages\\python311\\site-packages (from ipython>=6.1.0->ipywidgets) (0.6.3)\n",
      "Requirement already satisfied: typing_extensions>=4.6 in c:\\users\\matej\\appdata\\local\\packages\\pythonsoftwarefoundation.python.3.11_qbz5n2kfra8p0\\localcache\\local-packages\\python311\\site-packages (from ipython>=6.1.0->ipywidgets) (4.12.2)\n",
      "Requirement already satisfied: debugpy>=1.6.5 in c:\\users\\matej\\appdata\\local\\packages\\pythonsoftwarefoundation.python.3.11_qbz5n2kfra8p0\\localcache\\local-packages\\python311\\site-packages (from ipykernel->jupyter) (1.8.13)\n",
      "Requirement already satisfied: jupyter-client>=6.1.12 in c:\\users\\matej\\appdata\\local\\packages\\pythonsoftwarefoundation.python.3.11_qbz5n2kfra8p0\\localcache\\local-packages\\python311\\site-packages (from ipykernel->jupyter) (8.6.3)\n",
      "Requirement already satisfied: jupyter-core!=5.0.*,>=4.12 in c:\\users\\matej\\appdata\\local\\packages\\pythonsoftwarefoundation.python.3.11_qbz5n2kfra8p0\\localcache\\local-packages\\python311\\site-packages (from ipykernel->jupyter) (5.7.2)\n",
      "Requirement already satisfied: nest-asyncio in c:\\users\\matej\\appdata\\local\\packages\\pythonsoftwarefoundation.python.3.11_qbz5n2kfra8p0\\localcache\\local-packages\\python311\\site-packages (from ipykernel->jupyter) (1.6.0)\n",
      "Requirement already satisfied: packaging in c:\\users\\matej\\appdata\\local\\packages\\pythonsoftwarefoundation.python.3.11_qbz5n2kfra8p0\\localcache\\local-packages\\python311\\site-packages (from ipykernel->jupyter) (24.2)\n",
      "Requirement already satisfied: psutil in c:\\users\\matej\\appdata\\local\\packages\\pythonsoftwarefoundation.python.3.11_qbz5n2kfra8p0\\localcache\\local-packages\\python311\\site-packages (from ipykernel->jupyter) (7.0.0)\n",
      "Requirement already satisfied: pyzmq>=24 in c:\\users\\matej\\appdata\\local\\packages\\pythonsoftwarefoundation.python.3.11_qbz5n2kfra8p0\\localcache\\local-packages\\python311\\site-packages (from ipykernel->jupyter) (26.2.1)\n",
      "Requirement already satisfied: tornado>=6.1 in c:\\users\\matej\\appdata\\local\\packages\\pythonsoftwarefoundation.python.3.11_qbz5n2kfra8p0\\localcache\\local-packages\\python311\\site-packages (from ipykernel->jupyter) (6.4.2)\n",
      "Requirement already satisfied: async-lru>=1.0.0 in c:\\users\\matej\\appdata\\local\\packages\\pythonsoftwarefoundation.python.3.11_qbz5n2kfra8p0\\localcache\\local-packages\\python311\\site-packages (from jupyterlab->jupyter) (2.0.4)\n",
      "Requirement already satisfied: httpx>=0.25.0 in c:\\users\\matej\\appdata\\local\\packages\\pythonsoftwarefoundation.python.3.11_qbz5n2kfra8p0\\localcache\\local-packages\\python311\\site-packages (from jupyterlab->jupyter) (0.28.1)\n",
      "Requirement already satisfied: jinja2>=3.0.3 in c:\\users\\matej\\appdata\\local\\packages\\pythonsoftwarefoundation.python.3.11_qbz5n2kfra8p0\\localcache\\local-packages\\python311\\site-packages (from jupyterlab->jupyter) (3.1.6)\n",
      "Requirement already satisfied: jupyter-lsp>=2.0.0 in c:\\users\\matej\\appdata\\local\\packages\\pythonsoftwarefoundation.python.3.11_qbz5n2kfra8p0\\localcache\\local-packages\\python311\\site-packages (from jupyterlab->jupyter) (2.2.5)\n",
      "Requirement already satisfied: jupyter-server<3,>=2.4.0 in c:\\users\\matej\\appdata\\local\\packages\\pythonsoftwarefoundation.python.3.11_qbz5n2kfra8p0\\localcache\\local-packages\\python311\\site-packages (from jupyterlab->jupyter) (2.15.0)\n",
      "Requirement already satisfied: jupyterlab-server<3,>=2.27.1 in c:\\users\\matej\\appdata\\local\\packages\\pythonsoftwarefoundation.python.3.11_qbz5n2kfra8p0\\localcache\\local-packages\\python311\\site-packages (from jupyterlab->jupyter) (2.27.3)\n",
      "Requirement already satisfied: notebook-shim>=0.2 in c:\\users\\matej\\appdata\\local\\packages\\pythonsoftwarefoundation.python.3.11_qbz5n2kfra8p0\\localcache\\local-packages\\python311\\site-packages (from jupyterlab->jupyter) (0.2.4)\n",
      "Requirement already satisfied: setuptools>=40.8.0 in c:\\program files\\windowsapps\\pythonsoftwarefoundation.python.3.11_3.11.2544.0_x64__qbz5n2kfra8p0\\lib\\site-packages (from jupyterlab->jupyter) (65.5.0)\n",
      "Requirement already satisfied: beautifulsoup4 in c:\\users\\matej\\appdata\\local\\packages\\pythonsoftwarefoundation.python.3.11_qbz5n2kfra8p0\\localcache\\local-packages\\python311\\site-packages (from nbconvert->jupyter) (4.13.3)\n",
      "Requirement already satisfied: bleach!=5.0.0 in c:\\users\\matej\\appdata\\local\\packages\\pythonsoftwarefoundation.python.3.11_qbz5n2kfra8p0\\localcache\\local-packages\\python311\\site-packages (from bleach[css]!=5.0.0->nbconvert->jupyter) (6.2.0)\n",
      "Requirement already satisfied: defusedxml in c:\\users\\matej\\appdata\\local\\packages\\pythonsoftwarefoundation.python.3.11_qbz5n2kfra8p0\\localcache\\local-packages\\python311\\site-packages (from nbconvert->jupyter) (0.7.1)\n",
      "Requirement already satisfied: jupyterlab-pygments in c:\\users\\matej\\appdata\\local\\packages\\pythonsoftwarefoundation.python.3.11_qbz5n2kfra8p0\\localcache\\local-packages\\python311\\site-packages (from nbconvert->jupyter) (0.3.0)\n",
      "Requirement already satisfied: markupsafe>=2.0 in c:\\users\\matej\\appdata\\local\\packages\\pythonsoftwarefoundation.python.3.11_qbz5n2kfra8p0\\localcache\\local-packages\\python311\\site-packages (from nbconvert->jupyter) (3.0.2)\n",
      "Requirement already satisfied: mistune<4,>=2.0.3 in c:\\users\\matej\\appdata\\local\\packages\\pythonsoftwarefoundation.python.3.11_qbz5n2kfra8p0\\localcache\\local-packages\\python311\\site-packages (from nbconvert->jupyter) (3.1.2)\n",
      "Requirement already satisfied: nbclient>=0.5.0 in c:\\users\\matej\\appdata\\local\\packages\\pythonsoftwarefoundation.python.3.11_qbz5n2kfra8p0\\localcache\\local-packages\\python311\\site-packages (from nbconvert->jupyter) (0.10.2)\n",
      "Requirement already satisfied: nbformat>=5.7 in c:\\users\\matej\\appdata\\local\\packages\\pythonsoftwarefoundation.python.3.11_qbz5n2kfra8p0\\localcache\\local-packages\\python311\\site-packages (from nbconvert->jupyter) (5.10.4)\n",
      "Requirement already satisfied: pandocfilters>=1.4.1 in c:\\users\\matej\\appdata\\local\\packages\\pythonsoftwarefoundation.python.3.11_qbz5n2kfra8p0\\localcache\\local-packages\\python311\\site-packages (from nbconvert->jupyter) (1.5.1)\n",
      "Requirement already satisfied: webencodings in c:\\users\\matej\\appdata\\local\\packages\\pythonsoftwarefoundation.python.3.11_qbz5n2kfra8p0\\localcache\\local-packages\\python311\\site-packages (from bleach!=5.0.0->bleach[css]!=5.0.0->nbconvert->jupyter) (0.5.1)\n",
      "Requirement already satisfied: tinycss2<1.5,>=1.1.0 in c:\\users\\matej\\appdata\\local\\packages\\pythonsoftwarefoundation.python.3.11_qbz5n2kfra8p0\\localcache\\local-packages\\python311\\site-packages (from bleach[css]!=5.0.0->nbconvert->jupyter) (1.4.0)\n",
      "Requirement already satisfied: anyio in c:\\users\\matej\\appdata\\local\\packages\\pythonsoftwarefoundation.python.3.11_qbz5n2kfra8p0\\localcache\\local-packages\\python311\\site-packages (from httpx>=0.25.0->jupyterlab->jupyter) (4.8.0)\n",
      "Requirement already satisfied: certifi in c:\\users\\matej\\appdata\\local\\packages\\pythonsoftwarefoundation.python.3.11_qbz5n2kfra8p0\\localcache\\local-packages\\python311\\site-packages (from httpx>=0.25.0->jupyterlab->jupyter) (2025.1.31)\n",
      "Requirement already satisfied: httpcore==1.* in c:\\users\\matej\\appdata\\local\\packages\\pythonsoftwarefoundation.python.3.11_qbz5n2kfra8p0\\localcache\\local-packages\\python311\\site-packages (from httpx>=0.25.0->jupyterlab->jupyter) (1.0.7)\n",
      "Requirement already satisfied: idna in c:\\users\\matej\\appdata\\local\\packages\\pythonsoftwarefoundation.python.3.11_qbz5n2kfra8p0\\localcache\\local-packages\\python311\\site-packages (from httpx>=0.25.0->jupyterlab->jupyter) (3.10)\n",
      "Requirement already satisfied: h11<0.15,>=0.13 in c:\\users\\matej\\appdata\\local\\packages\\pythonsoftwarefoundation.python.3.11_qbz5n2kfra8p0\\localcache\\local-packages\\python311\\site-packages (from httpcore==1.*->httpx>=0.25.0->jupyterlab->jupyter) (0.14.0)\n",
      "Requirement already satisfied: parso<0.9.0,>=0.8.4 in c:\\users\\matej\\appdata\\local\\packages\\pythonsoftwarefoundation.python.3.11_qbz5n2kfra8p0\\localcache\\local-packages\\python311\\site-packages (from jedi>=0.16->ipython>=6.1.0->ipywidgets) (0.8.4)\n",
      "Requirement already satisfied: python-dateutil>=2.8.2 in c:\\users\\matej\\appdata\\local\\packages\\pythonsoftwarefoundation.python.3.11_qbz5n2kfra8p0\\localcache\\local-packages\\python311\\site-packages (from jupyter-client>=6.1.12->ipykernel->jupyter) (2.9.0.post0)\n",
      "Requirement already satisfied: platformdirs>=2.5 in c:\\users\\matej\\appdata\\local\\packages\\pythonsoftwarefoundation.python.3.11_qbz5n2kfra8p0\\localcache\\local-packages\\python311\\site-packages (from jupyter-core!=5.0.*,>=4.12->ipykernel->jupyter) (4.3.6)\n",
      "Requirement already satisfied: pywin32>=300 in c:\\users\\matej\\appdata\\local\\packages\\pythonsoftwarefoundation.python.3.11_qbz5n2kfra8p0\\localcache\\local-packages\\python311\\site-packages (from jupyter-core!=5.0.*,>=4.12->ipykernel->jupyter) (309)\n",
      "Requirement already satisfied: argon2-cffi>=21.1 in c:\\users\\matej\\appdata\\local\\packages\\pythonsoftwarefoundation.python.3.11_qbz5n2kfra8p0\\localcache\\local-packages\\python311\\site-packages (from jupyter-server<3,>=2.4.0->jupyterlab->jupyter) (23.1.0)\n",
      "Requirement already satisfied: jupyter-events>=0.11.0 in c:\\users\\matej\\appdata\\local\\packages\\pythonsoftwarefoundation.python.3.11_qbz5n2kfra8p0\\localcache\\local-packages\\python311\\site-packages (from jupyter-server<3,>=2.4.0->jupyterlab->jupyter) (0.12.0)\n",
      "Requirement already satisfied: jupyter-server-terminals>=0.4.4 in c:\\users\\matej\\appdata\\local\\packages\\pythonsoftwarefoundation.python.3.11_qbz5n2kfra8p0\\localcache\\local-packages\\python311\\site-packages (from jupyter-server<3,>=2.4.0->jupyterlab->jupyter) (0.5.3)\n",
      "Requirement already satisfied: overrides>=5.0 in c:\\users\\matej\\appdata\\local\\packages\\pythonsoftwarefoundation.python.3.11_qbz5n2kfra8p0\\localcache\\local-packages\\python311\\site-packages (from jupyter-server<3,>=2.4.0->jupyterlab->jupyter) (7.7.0)\n",
      "Requirement already satisfied: prometheus-client>=0.9 in c:\\users\\matej\\appdata\\local\\packages\\pythonsoftwarefoundation.python.3.11_qbz5n2kfra8p0\\localcache\\local-packages\\python311\\site-packages (from jupyter-server<3,>=2.4.0->jupyterlab->jupyter) (0.21.1)\n",
      "Requirement already satisfied: pywinpty>=2.0.1 in c:\\users\\matej\\appdata\\local\\packages\\pythonsoftwarefoundation.python.3.11_qbz5n2kfra8p0\\localcache\\local-packages\\python311\\site-packages (from jupyter-server<3,>=2.4.0->jupyterlab->jupyter) (2.0.15)\n",
      "Requirement already satisfied: send2trash>=1.8.2 in c:\\users\\matej\\appdata\\local\\packages\\pythonsoftwarefoundation.python.3.11_qbz5n2kfra8p0\\localcache\\local-packages\\python311\\site-packages (from jupyter-server<3,>=2.4.0->jupyterlab->jupyter) (1.8.3)\n",
      "Requirement already satisfied: terminado>=0.8.3 in c:\\users\\matej\\appdata\\local\\packages\\pythonsoftwarefoundation.python.3.11_qbz5n2kfra8p0\\localcache\\local-packages\\python311\\site-packages (from jupyter-server<3,>=2.4.0->jupyterlab->jupyter) (0.18.1)\n",
      "Requirement already satisfied: websocket-client>=1.7 in c:\\users\\matej\\appdata\\local\\packages\\pythonsoftwarefoundation.python.3.11_qbz5n2kfra8p0\\localcache\\local-packages\\python311\\site-packages (from jupyter-server<3,>=2.4.0->jupyterlab->jupyter) (1.8.0)\n",
      "Requirement already satisfied: babel>=2.10 in c:\\users\\matej\\appdata\\local\\packages\\pythonsoftwarefoundation.python.3.11_qbz5n2kfra8p0\\localcache\\local-packages\\python311\\site-packages (from jupyterlab-server<3,>=2.27.1->jupyterlab->jupyter) (2.17.0)\n",
      "Requirement already satisfied: json5>=0.9.0 in c:\\users\\matej\\appdata\\local\\packages\\pythonsoftwarefoundation.python.3.11_qbz5n2kfra8p0\\localcache\\local-packages\\python311\\site-packages (from jupyterlab-server<3,>=2.27.1->jupyterlab->jupyter) (0.10.0)\n",
      "Requirement already satisfied: jsonschema>=4.18.0 in c:\\users\\matej\\appdata\\local\\packages\\pythonsoftwarefoundation.python.3.11_qbz5n2kfra8p0\\localcache\\local-packages\\python311\\site-packages (from jupyterlab-server<3,>=2.27.1->jupyterlab->jupyter) (4.23.0)\n",
      "Requirement already satisfied: requests>=2.31 in c:\\users\\matej\\appdata\\local\\packages\\pythonsoftwarefoundation.python.3.11_qbz5n2kfra8p0\\localcache\\local-packages\\python311\\site-packages (from jupyterlab-server<3,>=2.27.1->jupyterlab->jupyter) (2.32.3)\n",
      "Requirement already satisfied: fastjsonschema>=2.15 in c:\\users\\matej\\appdata\\local\\packages\\pythonsoftwarefoundation.python.3.11_qbz5n2kfra8p0\\localcache\\local-packages\\python311\\site-packages (from nbformat>=5.7->nbconvert->jupyter) (2.21.1)\n",
      "Requirement already satisfied: wcwidth in c:\\users\\matej\\appdata\\local\\packages\\pythonsoftwarefoundation.python.3.11_qbz5n2kfra8p0\\localcache\\local-packages\\python311\\site-packages (from prompt_toolkit<3.1.0,>=3.0.41->ipython>=6.1.0->ipywidgets) (0.2.13)\n",
      "Requirement already satisfied: soupsieve>1.2 in c:\\users\\matej\\appdata\\local\\packages\\pythonsoftwarefoundation.python.3.11_qbz5n2kfra8p0\\localcache\\local-packages\\python311\\site-packages (from beautifulsoup4->nbconvert->jupyter) (2.6)\n",
      "Requirement already satisfied: executing>=1.2.0 in c:\\users\\matej\\appdata\\local\\packages\\pythonsoftwarefoundation.python.3.11_qbz5n2kfra8p0\\localcache\\local-packages\\python311\\site-packages (from stack_data->ipython>=6.1.0->ipywidgets) (2.2.0)\n",
      "Requirement already satisfied: asttokens>=2.1.0 in c:\\users\\matej\\appdata\\local\\packages\\pythonsoftwarefoundation.python.3.11_qbz5n2kfra8p0\\localcache\\local-packages\\python311\\site-packages (from stack_data->ipython>=6.1.0->ipywidgets) (3.0.0)\n",
      "Requirement already satisfied: pure-eval in c:\\users\\matej\\appdata\\local\\packages\\pythonsoftwarefoundation.python.3.11_qbz5n2kfra8p0\\localcache\\local-packages\\python311\\site-packages (from stack_data->ipython>=6.1.0->ipywidgets) (0.2.3)\n",
      "Requirement already satisfied: sniffio>=1.1 in c:\\users\\matej\\appdata\\local\\packages\\pythonsoftwarefoundation.python.3.11_qbz5n2kfra8p0\\localcache\\local-packages\\python311\\site-packages (from anyio->httpx>=0.25.0->jupyterlab->jupyter) (1.3.1)\n",
      "Requirement already satisfied: argon2-cffi-bindings in c:\\users\\matej\\appdata\\local\\packages\\pythonsoftwarefoundation.python.3.11_qbz5n2kfra8p0\\localcache\\local-packages\\python311\\site-packages (from argon2-cffi>=21.1->jupyter-server<3,>=2.4.0->jupyterlab->jupyter) (21.2.0)\n",
      "Requirement already satisfied: attrs>=22.2.0 in c:\\users\\matej\\appdata\\local\\packages\\pythonsoftwarefoundation.python.3.11_qbz5n2kfra8p0\\localcache\\local-packages\\python311\\site-packages (from jsonschema>=4.18.0->jupyterlab-server<3,>=2.27.1->jupyterlab->jupyter) (25.1.0)\n",
      "Requirement already satisfied: jsonschema-specifications>=2023.03.6 in c:\\users\\matej\\appdata\\local\\packages\\pythonsoftwarefoundation.python.3.11_qbz5n2kfra8p0\\localcache\\local-packages\\python311\\site-packages (from jsonschema>=4.18.0->jupyterlab-server<3,>=2.27.1->jupyterlab->jupyter) (2024.10.1)\n",
      "Requirement already satisfied: referencing>=0.28.4 in c:\\users\\matej\\appdata\\local\\packages\\pythonsoftwarefoundation.python.3.11_qbz5n2kfra8p0\\localcache\\local-packages\\python311\\site-packages (from jsonschema>=4.18.0->jupyterlab-server<3,>=2.27.1->jupyterlab->jupyter) (0.36.2)\n",
      "Requirement already satisfied: rpds-py>=0.7.1 in c:\\users\\matej\\appdata\\local\\packages\\pythonsoftwarefoundation.python.3.11_qbz5n2kfra8p0\\localcache\\local-packages\\python311\\site-packages (from jsonschema>=4.18.0->jupyterlab-server<3,>=2.27.1->jupyterlab->jupyter) (0.23.1)\n",
      "Requirement already satisfied: python-json-logger>=2.0.4 in c:\\users\\matej\\appdata\\local\\packages\\pythonsoftwarefoundation.python.3.11_qbz5n2kfra8p0\\localcache\\local-packages\\python311\\site-packages (from jupyter-events>=0.11.0->jupyter-server<3,>=2.4.0->jupyterlab->jupyter) (3.3.0)\n",
      "Requirement already satisfied: pyyaml>=5.3 in c:\\users\\matej\\appdata\\local\\packages\\pythonsoftwarefoundation.python.3.11_qbz5n2kfra8p0\\localcache\\local-packages\\python311\\site-packages (from jupyter-events>=0.11.0->jupyter-server<3,>=2.4.0->jupyterlab->jupyter) (6.0.2)\n",
      "Requirement already satisfied: rfc3339-validator in c:\\users\\matej\\appdata\\local\\packages\\pythonsoftwarefoundation.python.3.11_qbz5n2kfra8p0\\localcache\\local-packages\\python311\\site-packages (from jupyter-events>=0.11.0->jupyter-server<3,>=2.4.0->jupyterlab->jupyter) (0.1.4)\n",
      "Requirement already satisfied: rfc3986-validator>=0.1.1 in c:\\users\\matej\\appdata\\local\\packages\\pythonsoftwarefoundation.python.3.11_qbz5n2kfra8p0\\localcache\\local-packages\\python311\\site-packages (from jupyter-events>=0.11.0->jupyter-server<3,>=2.4.0->jupyterlab->jupyter) (0.1.1)\n",
      "Requirement already satisfied: six>=1.5 in c:\\users\\matej\\appdata\\local\\packages\\pythonsoftwarefoundation.python.3.11_qbz5n2kfra8p0\\localcache\\local-packages\\python311\\site-packages (from python-dateutil>=2.8.2->jupyter-client>=6.1.12->ipykernel->jupyter) (1.17.0)\n",
      "Requirement already satisfied: charset-normalizer<4,>=2 in c:\\users\\matej\\appdata\\local\\packages\\pythonsoftwarefoundation.python.3.11_qbz5n2kfra8p0\\localcache\\local-packages\\python311\\site-packages (from requests>=2.31->jupyterlab-server<3,>=2.27.1->jupyterlab->jupyter) (3.4.1)\n",
      "Requirement already satisfied: urllib3<3,>=1.21.1 in c:\\users\\matej\\appdata\\local\\packages\\pythonsoftwarefoundation.python.3.11_qbz5n2kfra8p0\\localcache\\local-packages\\python311\\site-packages (from requests>=2.31->jupyterlab-server<3,>=2.27.1->jupyterlab->jupyter) (2.3.0)\n",
      "Requirement already satisfied: fqdn in c:\\users\\matej\\appdata\\local\\packages\\pythonsoftwarefoundation.python.3.11_qbz5n2kfra8p0\\localcache\\local-packages\\python311\\site-packages (from jsonschema[format-nongpl]>=4.18.0->jupyter-events>=0.11.0->jupyter-server<3,>=2.4.0->jupyterlab->jupyter) (1.5.1)\n",
      "Requirement already satisfied: isoduration in c:\\users\\matej\\appdata\\local\\packages\\pythonsoftwarefoundation.python.3.11_qbz5n2kfra8p0\\localcache\\local-packages\\python311\\site-packages (from jsonschema[format-nongpl]>=4.18.0->jupyter-events>=0.11.0->jupyter-server<3,>=2.4.0->jupyterlab->jupyter) (20.11.0)\n",
      "Requirement already satisfied: jsonpointer>1.13 in c:\\users\\matej\\appdata\\local\\packages\\pythonsoftwarefoundation.python.3.11_qbz5n2kfra8p0\\localcache\\local-packages\\python311\\site-packages (from jsonschema[format-nongpl]>=4.18.0->jupyter-events>=0.11.0->jupyter-server<3,>=2.4.0->jupyterlab->jupyter) (3.0.0)\n",
      "Requirement already satisfied: uri-template in c:\\users\\matej\\appdata\\local\\packages\\pythonsoftwarefoundation.python.3.11_qbz5n2kfra8p0\\localcache\\local-packages\\python311\\site-packages (from jsonschema[format-nongpl]>=4.18.0->jupyter-events>=0.11.0->jupyter-server<3,>=2.4.0->jupyterlab->jupyter) (1.3.0)\n",
      "Requirement already satisfied: webcolors>=24.6.0 in c:\\users\\matej\\appdata\\local\\packages\\pythonsoftwarefoundation.python.3.11_qbz5n2kfra8p0\\localcache\\local-packages\\python311\\site-packages (from jsonschema[format-nongpl]>=4.18.0->jupyter-events>=0.11.0->jupyter-server<3,>=2.4.0->jupyterlab->jupyter) (24.11.1)\n",
      "Requirement already satisfied: cffi>=1.0.1 in c:\\users\\matej\\appdata\\local\\packages\\pythonsoftwarefoundation.python.3.11_qbz5n2kfra8p0\\localcache\\local-packages\\python311\\site-packages (from argon2-cffi-bindings->argon2-cffi>=21.1->jupyter-server<3,>=2.4.0->jupyterlab->jupyter) (1.17.1)\n",
      "Requirement already satisfied: pycparser in c:\\users\\matej\\appdata\\local\\packages\\pythonsoftwarefoundation.python.3.11_qbz5n2kfra8p0\\localcache\\local-packages\\python311\\site-packages (from cffi>=1.0.1->argon2-cffi-bindings->argon2-cffi>=21.1->jupyter-server<3,>=2.4.0->jupyterlab->jupyter) (2.22)\n",
      "Requirement already satisfied: arrow>=0.15.0 in c:\\users\\matej\\appdata\\local\\packages\\pythonsoftwarefoundation.python.3.11_qbz5n2kfra8p0\\localcache\\local-packages\\python311\\site-packages (from isoduration->jsonschema[format-nongpl]>=4.18.0->jupyter-events>=0.11.0->jupyter-server<3,>=2.4.0->jupyterlab->jupyter) (1.3.0)\n",
      "Requirement already satisfied: types-python-dateutil>=2.8.10 in c:\\users\\matej\\appdata\\local\\packages\\pythonsoftwarefoundation.python.3.11_qbz5n2kfra8p0\\localcache\\local-packages\\python311\\site-packages (from arrow>=0.15.0->isoduration->jsonschema[format-nongpl]>=4.18.0->jupyter-events>=0.11.0->jupyter-server<3,>=2.4.0->jupyterlab->jupyter) (2.9.0.20241206)\n",
      "Note: you may need to restart the kernel to use updated packages.\n"
     ]
    },
    {
     "name": "stderr",
     "output_type": "stream",
     "text": [
      "\n",
      "[notice] A new release of pip is available: 24.0 -> 25.0.1\n",
      "[notice] To update, run: C:\\Users\\matej\\AppData\\Local\\Microsoft\\WindowsApps\\PythonSoftwareFoundation.Python.3.11_qbz5n2kfra8p0\\python.exe -m pip install --upgrade pip\n"
     ]
    },
    {
     "name": "stdout",
     "output_type": "stream",
     "text": [
      "Requirement already satisfied: pandas in c:\\users\\matej\\appdata\\local\\packages\\pythonsoftwarefoundation.python.3.11_qbz5n2kfra8p0\\localcache\\local-packages\\python311\\site-packages (2.2.3)\n",
      "Requirement already satisfied: numpy>=1.23.2 in c:\\users\\matej\\appdata\\local\\packages\\pythonsoftwarefoundation.python.3.11_qbz5n2kfra8p0\\localcache\\local-packages\\python311\\site-packages (from pandas) (2.2.3)\n",
      "Requirement already satisfied: python-dateutil>=2.8.2 in c:\\users\\matej\\appdata\\local\\packages\\pythonsoftwarefoundation.python.3.11_qbz5n2kfra8p0\\localcache\\local-packages\\python311\\site-packages (from pandas) (2.9.0.post0)\n",
      "Requirement already satisfied: pytz>=2020.1 in c:\\users\\matej\\appdata\\local\\packages\\pythonsoftwarefoundation.python.3.11_qbz5n2kfra8p0\\localcache\\local-packages\\python311\\site-packages (from pandas) (2025.1)\n",
      "Requirement already satisfied: tzdata>=2022.7 in c:\\users\\matej\\appdata\\local\\packages\\pythonsoftwarefoundation.python.3.11_qbz5n2kfra8p0\\localcache\\local-packages\\python311\\site-packages (from pandas) (2025.1)\n",
      "Requirement already satisfied: six>=1.5 in c:\\users\\matej\\appdata\\local\\packages\\pythonsoftwarefoundation.python.3.11_qbz5n2kfra8p0\\localcache\\local-packages\\python311\\site-packages (from python-dateutil>=2.8.2->pandas) (1.17.0)\n",
      "Note: you may need to restart the kernel to use updated packages.\n"
     ]
    },
    {
     "name": "stderr",
     "output_type": "stream",
     "text": [
      "\n",
      "[notice] A new release of pip is available: 24.0 -> 25.0.1\n",
      "[notice] To update, run: C:\\Users\\matej\\AppData\\Local\\Microsoft\\WindowsApps\\PythonSoftwareFoundation.Python.3.11_qbz5n2kfra8p0\\python.exe -m pip install --upgrade pip\n"
     ]
    },
    {
     "name": "stdout",
     "output_type": "stream",
     "text": [
      "Requirement already satisfied: matplotlib in c:\\users\\matej\\appdata\\local\\packages\\pythonsoftwarefoundation.python.3.11_qbz5n2kfra8p0\\localcache\\local-packages\\python311\\site-packages (3.10.1)\n",
      "Requirement already satisfied: contourpy>=1.0.1 in c:\\users\\matej\\appdata\\local\\packages\\pythonsoftwarefoundation.python.3.11_qbz5n2kfra8p0\\localcache\\local-packages\\python311\\site-packages (from matplotlib) (1.3.1)\n",
      "Requirement already satisfied: cycler>=0.10 in c:\\users\\matej\\appdata\\local\\packages\\pythonsoftwarefoundation.python.3.11_qbz5n2kfra8p0\\localcache\\local-packages\\python311\\site-packages (from matplotlib) (0.12.1)\n",
      "Requirement already satisfied: fonttools>=4.22.0 in c:\\users\\matej\\appdata\\local\\packages\\pythonsoftwarefoundation.python.3.11_qbz5n2kfra8p0\\localcache\\local-packages\\python311\\site-packages (from matplotlib) (4.56.0)\n",
      "Requirement already satisfied: kiwisolver>=1.3.1 in c:\\users\\matej\\appdata\\local\\packages\\pythonsoftwarefoundation.python.3.11_qbz5n2kfra8p0\\localcache\\local-packages\\python311\\site-packages (from matplotlib) (1.4.8)\n",
      "Requirement already satisfied: numpy>=1.23 in c:\\users\\matej\\appdata\\local\\packages\\pythonsoftwarefoundation.python.3.11_qbz5n2kfra8p0\\localcache\\local-packages\\python311\\site-packages (from matplotlib) (2.2.3)\n",
      "Requirement already satisfied: packaging>=20.0 in c:\\users\\matej\\appdata\\local\\packages\\pythonsoftwarefoundation.python.3.11_qbz5n2kfra8p0\\localcache\\local-packages\\python311\\site-packages (from matplotlib) (24.2)\n",
      "Requirement already satisfied: pillow>=8 in c:\\users\\matej\\appdata\\local\\packages\\pythonsoftwarefoundation.python.3.11_qbz5n2kfra8p0\\localcache\\local-packages\\python311\\site-packages (from matplotlib) (11.1.0)\n",
      "Requirement already satisfied: pyparsing>=2.3.1 in c:\\users\\matej\\appdata\\local\\packages\\pythonsoftwarefoundation.python.3.11_qbz5n2kfra8p0\\localcache\\local-packages\\python311\\site-packages (from matplotlib) (3.2.1)\n",
      "Requirement already satisfied: python-dateutil>=2.7 in c:\\users\\matej\\appdata\\local\\packages\\pythonsoftwarefoundation.python.3.11_qbz5n2kfra8p0\\localcache\\local-packages\\python311\\site-packages (from matplotlib) (2.9.0.post0)\n",
      "Requirement already satisfied: six>=1.5 in c:\\users\\matej\\appdata\\local\\packages\\pythonsoftwarefoundation.python.3.11_qbz5n2kfra8p0\\localcache\\local-packages\\python311\\site-packages (from python-dateutil>=2.7->matplotlib) (1.17.0)\n",
      "Note: you may need to restart the kernel to use updated packages.\n"
     ]
    },
    {
     "name": "stderr",
     "output_type": "stream",
     "text": [
      "\n",
      "[notice] A new release of pip is available: 24.0 -> 25.0.1\n",
      "[notice] To update, run: C:\\Users\\matej\\AppData\\Local\\Microsoft\\WindowsApps\\PythonSoftwareFoundation.Python.3.11_qbz5n2kfra8p0\\python.exe -m pip install --upgrade pip\n"
     ]
    }
   ],
   "source": [
    "%pip install kagglehub\n",
    "%pip install --upgrade jupyter ipywidgets\n",
    "%pip install pandas\n",
    "%pip install matplotlib"
   ]
  },
  {
   "cell_type": "code",
   "execution_count": 77,
   "metadata": {},
   "outputs": [],
   "source": [
    "import pandas as pd\n",
    "import matplotlib.pyplot as plt\n",
    "import random\n",
    "import numpy as np"
   ]
  },
  {
   "cell_type": "code",
   "execution_count": 78,
   "metadata": {},
   "outputs": [
    {
     "name": "stdout",
     "output_type": "stream",
     "text": [
      "Path to dataset files: C:\\Users\\matej\\.cache\\kagglehub\\datasets\\kaggle\\us-baby-names\\versions\\2\n"
     ]
    }
   ],
   "source": [
    "import kagglehub\n",
    "\n",
    "# Download latest version\n",
    "path = kagglehub.dataset_download(\"kaggle/us-baby-names\")\n",
    "\n",
    "print(\"Path to dataset files:\", path)"
   ]
  },
  {
   "cell_type": "markdown",
   "metadata": {},
   "source": [
    "# Exploring the dataset"
   ]
  },
  {
   "cell_type": "markdown",
   "metadata": {},
   "source": [
    "## Basic properties"
   ]
  },
  {
   "cell_type": "code",
   "execution_count": 22,
   "metadata": {},
   "outputs": [
    {
     "data": {
      "text/html": [
       "<div>\n",
       "<style scoped>\n",
       "    .dataframe tbody tr th:only-of-type {\n",
       "        vertical-align: middle;\n",
       "    }\n",
       "\n",
       "    .dataframe tbody tr th {\n",
       "        vertical-align: top;\n",
       "    }\n",
       "\n",
       "    .dataframe thead th {\n",
       "        text-align: right;\n",
       "    }\n",
       "</style>\n",
       "<table border=\"1\" class=\"dataframe\">\n",
       "  <thead>\n",
       "    <tr style=\"text-align: right;\">\n",
       "      <th></th>\n",
       "      <th>Id</th>\n",
       "      <th>Name</th>\n",
       "      <th>Year</th>\n",
       "      <th>Gender</th>\n",
       "      <th>Count</th>\n",
       "    </tr>\n",
       "  </thead>\n",
       "  <tbody>\n",
       "    <tr>\n",
       "      <th>0</th>\n",
       "      <td>1</td>\n",
       "      <td>Mary</td>\n",
       "      <td>1880</td>\n",
       "      <td>F</td>\n",
       "      <td>7065</td>\n",
       "    </tr>\n",
       "    <tr>\n",
       "      <th>1</th>\n",
       "      <td>2</td>\n",
       "      <td>Anna</td>\n",
       "      <td>1880</td>\n",
       "      <td>F</td>\n",
       "      <td>2604</td>\n",
       "    </tr>\n",
       "    <tr>\n",
       "      <th>2</th>\n",
       "      <td>3</td>\n",
       "      <td>Emma</td>\n",
       "      <td>1880</td>\n",
       "      <td>F</td>\n",
       "      <td>2003</td>\n",
       "    </tr>\n",
       "    <tr>\n",
       "      <th>3</th>\n",
       "      <td>4</td>\n",
       "      <td>Elizabeth</td>\n",
       "      <td>1880</td>\n",
       "      <td>F</td>\n",
       "      <td>1939</td>\n",
       "    </tr>\n",
       "    <tr>\n",
       "      <th>4</th>\n",
       "      <td>5</td>\n",
       "      <td>Minnie</td>\n",
       "      <td>1880</td>\n",
       "      <td>F</td>\n",
       "      <td>1746</td>\n",
       "    </tr>\n",
       "    <tr>\n",
       "      <th>...</th>\n",
       "      <td>...</td>\n",
       "      <td>...</td>\n",
       "      <td>...</td>\n",
       "      <td>...</td>\n",
       "      <td>...</td>\n",
       "    </tr>\n",
       "    <tr>\n",
       "      <th>1825428</th>\n",
       "      <td>1825429</td>\n",
       "      <td>Zykeem</td>\n",
       "      <td>2014</td>\n",
       "      <td>M</td>\n",
       "      <td>5</td>\n",
       "    </tr>\n",
       "    <tr>\n",
       "      <th>1825429</th>\n",
       "      <td>1825430</td>\n",
       "      <td>Zymeer</td>\n",
       "      <td>2014</td>\n",
       "      <td>M</td>\n",
       "      <td>5</td>\n",
       "    </tr>\n",
       "    <tr>\n",
       "      <th>1825430</th>\n",
       "      <td>1825431</td>\n",
       "      <td>Zymiere</td>\n",
       "      <td>2014</td>\n",
       "      <td>M</td>\n",
       "      <td>5</td>\n",
       "    </tr>\n",
       "    <tr>\n",
       "      <th>1825431</th>\n",
       "      <td>1825432</td>\n",
       "      <td>Zyran</td>\n",
       "      <td>2014</td>\n",
       "      <td>M</td>\n",
       "      <td>5</td>\n",
       "    </tr>\n",
       "    <tr>\n",
       "      <th>1825432</th>\n",
       "      <td>1825433</td>\n",
       "      <td>Zyrin</td>\n",
       "      <td>2014</td>\n",
       "      <td>M</td>\n",
       "      <td>5</td>\n",
       "    </tr>\n",
       "  </tbody>\n",
       "</table>\n",
       "<p>1825433 rows × 5 columns</p>\n",
       "</div>"
      ],
      "text/plain": [
       "              Id       Name  Year Gender  Count\n",
       "0              1       Mary  1880      F   7065\n",
       "1              2       Anna  1880      F   2604\n",
       "2              3       Emma  1880      F   2003\n",
       "3              4  Elizabeth  1880      F   1939\n",
       "4              5     Minnie  1880      F   1746\n",
       "...          ...        ...   ...    ...    ...\n",
       "1825428  1825429     Zykeem  2014      M      5\n",
       "1825429  1825430     Zymeer  2014      M      5\n",
       "1825430  1825431    Zymiere  2014      M      5\n",
       "1825431  1825432      Zyran  2014      M      5\n",
       "1825432  1825433      Zyrin  2014      M      5\n",
       "\n",
       "[1825433 rows x 5 columns]"
      ]
     },
     "execution_count": 22,
     "metadata": {},
     "output_type": "execute_result"
    }
   ],
   "source": [
    "file_path_NationalNames = r\"C:\\Users\\matej\\.cache\\kagglehub\\datasets\\kaggle\\us-baby-names\\versions\\2\\NationalNames.csv\"\n",
    "df_NationalNames = pd.read_csv(file_path_NationalNames)\n",
    "\n",
    "df_NationalNames"
   ]
  },
  {
   "cell_type": "code",
   "execution_count": 23,
   "metadata": {},
   "outputs": [
    {
     "data": {
      "text/html": [
       "<div>\n",
       "<style scoped>\n",
       "    .dataframe tbody tr th:only-of-type {\n",
       "        vertical-align: middle;\n",
       "    }\n",
       "\n",
       "    .dataframe tbody tr th {\n",
       "        vertical-align: top;\n",
       "    }\n",
       "\n",
       "    .dataframe thead th {\n",
       "        text-align: right;\n",
       "    }\n",
       "</style>\n",
       "<table border=\"1\" class=\"dataframe\">\n",
       "  <thead>\n",
       "    <tr style=\"text-align: right;\">\n",
       "      <th></th>\n",
       "      <th>Id</th>\n",
       "      <th>Name</th>\n",
       "      <th>Year</th>\n",
       "      <th>Gender</th>\n",
       "      <th>State</th>\n",
       "      <th>Count</th>\n",
       "    </tr>\n",
       "  </thead>\n",
       "  <tbody>\n",
       "    <tr>\n",
       "      <th>0</th>\n",
       "      <td>1</td>\n",
       "      <td>Mary</td>\n",
       "      <td>1910</td>\n",
       "      <td>F</td>\n",
       "      <td>AK</td>\n",
       "      <td>14</td>\n",
       "    </tr>\n",
       "    <tr>\n",
       "      <th>1</th>\n",
       "      <td>2</td>\n",
       "      <td>Annie</td>\n",
       "      <td>1910</td>\n",
       "      <td>F</td>\n",
       "      <td>AK</td>\n",
       "      <td>12</td>\n",
       "    </tr>\n",
       "    <tr>\n",
       "      <th>2</th>\n",
       "      <td>3</td>\n",
       "      <td>Anna</td>\n",
       "      <td>1910</td>\n",
       "      <td>F</td>\n",
       "      <td>AK</td>\n",
       "      <td>10</td>\n",
       "    </tr>\n",
       "    <tr>\n",
       "      <th>3</th>\n",
       "      <td>4</td>\n",
       "      <td>Margaret</td>\n",
       "      <td>1910</td>\n",
       "      <td>F</td>\n",
       "      <td>AK</td>\n",
       "      <td>8</td>\n",
       "    </tr>\n",
       "    <tr>\n",
       "      <th>4</th>\n",
       "      <td>5</td>\n",
       "      <td>Helen</td>\n",
       "      <td>1910</td>\n",
       "      <td>F</td>\n",
       "      <td>AK</td>\n",
       "      <td>7</td>\n",
       "    </tr>\n",
       "    <tr>\n",
       "      <th>...</th>\n",
       "      <td>...</td>\n",
       "      <td>...</td>\n",
       "      <td>...</td>\n",
       "      <td>...</td>\n",
       "      <td>...</td>\n",
       "      <td>...</td>\n",
       "    </tr>\n",
       "    <tr>\n",
       "      <th>5647421</th>\n",
       "      <td>5647422</td>\n",
       "      <td>Seth</td>\n",
       "      <td>2014</td>\n",
       "      <td>M</td>\n",
       "      <td>WY</td>\n",
       "      <td>5</td>\n",
       "    </tr>\n",
       "    <tr>\n",
       "      <th>5647422</th>\n",
       "      <td>5647423</td>\n",
       "      <td>Spencer</td>\n",
       "      <td>2014</td>\n",
       "      <td>M</td>\n",
       "      <td>WY</td>\n",
       "      <td>5</td>\n",
       "    </tr>\n",
       "    <tr>\n",
       "      <th>5647423</th>\n",
       "      <td>5647424</td>\n",
       "      <td>Tyce</td>\n",
       "      <td>2014</td>\n",
       "      <td>M</td>\n",
       "      <td>WY</td>\n",
       "      <td>5</td>\n",
       "    </tr>\n",
       "    <tr>\n",
       "      <th>5647424</th>\n",
       "      <td>5647425</td>\n",
       "      <td>Victor</td>\n",
       "      <td>2014</td>\n",
       "      <td>M</td>\n",
       "      <td>WY</td>\n",
       "      <td>5</td>\n",
       "    </tr>\n",
       "    <tr>\n",
       "      <th>5647425</th>\n",
       "      <td>5647426</td>\n",
       "      <td>Waylon</td>\n",
       "      <td>2014</td>\n",
       "      <td>M</td>\n",
       "      <td>WY</td>\n",
       "      <td>5</td>\n",
       "    </tr>\n",
       "  </tbody>\n",
       "</table>\n",
       "<p>5647426 rows × 6 columns</p>\n",
       "</div>"
      ],
      "text/plain": [
       "              Id      Name  Year Gender State  Count\n",
       "0              1      Mary  1910      F    AK     14\n",
       "1              2     Annie  1910      F    AK     12\n",
       "2              3      Anna  1910      F    AK     10\n",
       "3              4  Margaret  1910      F    AK      8\n",
       "4              5     Helen  1910      F    AK      7\n",
       "...          ...       ...   ...    ...   ...    ...\n",
       "5647421  5647422      Seth  2014      M    WY      5\n",
       "5647422  5647423   Spencer  2014      M    WY      5\n",
       "5647423  5647424      Tyce  2014      M    WY      5\n",
       "5647424  5647425    Victor  2014      M    WY      5\n",
       "5647425  5647426    Waylon  2014      M    WY      5\n",
       "\n",
       "[5647426 rows x 6 columns]"
      ]
     },
     "execution_count": 23,
     "metadata": {},
     "output_type": "execute_result"
    }
   ],
   "source": [
    "file_path_StateNames = r\"C:\\Users\\matej\\.cache\\kagglehub\\datasets\\kaggle\\us-baby-names\\versions\\2\\StateNames.csv\"\n",
    "df_StateNames = pd.read_csv(file_path_StateNames)\n",
    "\n",
    "df_StateNames"
   ]
  },
  {
   "cell_type": "code",
   "execution_count": 88,
   "metadata": {},
   "outputs": [],
   "source": [
    "def check_year_span(file_path, dataset_name):\n",
    "    df = pd.read_csv(file_path)\n",
    "    min_year = df[\"Year\"].min()\n",
    "    max_year = df[\"Year\"].max()\n",
    "    print ()\n",
    "    #print(f\"Dataset: {file_path}\")\n",
    "    print(f\"Year span of dataset {dataset_name}: {min_year} - {max_year}\\n\")"
   ]
  },
  {
   "cell_type": "code",
   "execution_count": 89,
   "metadata": {},
   "outputs": [
    {
     "name": "stdout",
     "output_type": "stream",
     "text": [
      "\n",
      "Year span of dataset NationalNames: 1880 - 2014\n",
      "\n"
     ]
    }
   ],
   "source": [
    "check_year_span(r\"C:\\Users\\matej\\.cache\\kagglehub\\datasets\\kaggle\\us-baby-names\\versions\\2\\NationalNames.csv\", 'NationalNames')"
   ]
  },
  {
   "cell_type": "code",
   "execution_count": 90,
   "metadata": {},
   "outputs": [
    {
     "name": "stdout",
     "output_type": "stream",
     "text": [
      "\n",
      "Year span of dataset StatelNames: 1910 - 2014\n",
      "\n"
     ]
    }
   ],
   "source": [
    "check_year_span(r\"C:\\Users\\matej\\.cache\\kagglehub\\datasets\\kaggle\\us-baby-names\\versions\\2\\StateNames.csv\", 'StatelNames')"
   ]
  },
  {
   "cell_type": "code",
   "execution_count": null,
   "metadata": {},
   "outputs": [
    {
     "name": "stdout",
     "output_type": "stream",
     "text": [
      "Dataset: C:\\Users\\matej\\.cache\\kagglehub\\datasets\\kaggle\\us-baby-names\\versions\\2\\NationalNames.csv\n",
      "Year span: 1880 - 2014\n",
      "\n",
      "Dataset: C:\\Users\\matej\\.cache\\kagglehub\\datasets\\kaggle\\us-baby-names\\versions\\2\\StateNames.csv\n",
      "Year span: 1910 - 2014\n",
      "\n"
     ]
    }
   ],
   "source": [
    "\n",
    "\n",
    "# Define file paths\n",
    "national_file = r\"C:\\Users\\matej\\.cache\\kagglehub\\datasets\\kaggle\\us-baby-names\\versions\\2\\NationalNames.csv\"\n",
    "state_file = r\"C:\\Users\\matej\\.cache\\kagglehub\\datasets\\kaggle\\us-baby-names\\versions\\2\\StateNames.csv\"\n",
    "\n",
    "# Check year spans\n",
    "check_year_span(national_file)\n",
    "check_year_span(state_file)"
   ]
  },
  {
   "cell_type": "code",
   "execution_count": 105,
   "metadata": {},
   "outputs": [],
   "source": [
    "def calculate_yearly_occurrence(file_path, name, start_year, end_year):\n",
    "    \"\"\"\n",
    "    This function calculates the average number of newborns (average occurance) and the maximum number of newborns in one year \n",
    "    for a given period of years defined by the start_year and the end_year.\n",
    "\n",
    "    Parameters:\n",
    "    file_path - path to the dataset\n",
    "    name - the newborn name of interest\n",
    "    start_year - the year from which we want to start monitoring the period of interest\n",
    "    end_year - the last year for which we want to monitor the period of interest\n",
    "    \"\"\"\n",
    "    df = pd.read_csv(file_path)\n",
    "    df_filtered = df[(df[\"Name\"] == name) & (df[\"Year\"] >= start_year) & (df[\"Year\"] <= end_year)] # filters only the data of the input name between the start_year and end_year\n",
    "    total_occurrences = df_filtered[\"Count\"].sum() # calculates the total number of babies born with the input name in the period between start_year and end_year\n",
    "    num_years = end_year - start_year + 1 # calculates the number of years in the period specified by start_year and end_year\n",
    "    average_occurance = total_occurrences / num_years if num_years > 0 else 0 # calculates the average occurance of newborns per year in the desired time period\n",
    "\n",
    "    if not df_filtered.empty:\n",
    "        max_row = df_filtered.loc[df_filtered[\"Count\"].idxmax()] # id of the row with the year of the highest count of newborns in the given time period\n",
    "        max_yearly_occurrence = max_row[\"Count\"] # the largest number of newborns with the given name in the given time period in a year\n",
    "        max_year = max_row[\"Year\"] # the year in which the peak occurance was recorded\n",
    "    else:\n",
    "        max_yearly_occurrence = 0\n",
    "        max_year = None  # if there is no maximum year recorded\n",
    "\n",
    "    print(f\"Average yearly occurrence of '{name}' from {start_year} to {end_year} is {average_occurance:.2f}\")\n",
    "    print(f\"Maximum yearly occurrence of '{name}' in this period is {max_yearly_occurrence} (occurred in {max_year})\")"
   ]
  },
  {
   "cell_type": "code",
   "execution_count": 106,
   "metadata": {},
   "outputs": [
    {
     "name": "stdout",
     "output_type": "stream",
     "text": [
      "Average yearly occurrence of 'Ida' from 1910 to 1930 is 3493.57\n",
      "Maximum yearly occurrence of 'Ida' in this period is 4451 (occurred in 1918)\n"
     ]
    }
   ],
   "source": [
    "calculate_yearly_occurrence(file_path = r\"C:\\Users\\matej\\.cache\\kagglehub\\datasets\\kaggle\\us-baby-names\\versions\\2\\NationalNames.csv\", name = \"Ida\", start_year = 1910, end_year = 1930)"
   ]
  },
  {
   "cell_type": "code",
   "execution_count": null,
   "metadata": {},
   "outputs": [
    {
     "name": "stdout",
     "output_type": "stream",
     "text": [
      "Average yearly occurrence of 'Ida' from 1910 to 1930: 3493.57\n",
      "Maximum yearly occurrence of 'Ida' in this period: 4451 (Occurred in 1918)\n"
     ]
    }
   ],
   "source": [
    "\"\"\"\n",
    "# Example usage:\n",
    "file_path = r\"C:\\Users\\matej\\.cache\\kagglehub\\datasets\\kaggle\\us-baby-names\\versions\\2\\NationalNames.csv\"\n",
    "name = 'Ida'\n",
    "start_year = 1910\n",
    "end_year = 1930\n",
    "\n",
    "average_occurrence, max_occurrence, max_year = calculate_yearly_occurrence(file_path, name, start_year, end_year)\n",
    "print(f\"Average yearly occurrence of '{name}' from {start_year} to {end_year}: {average_occurrence:.2f}\")\n",
    "print(f\"Maximum yearly occurrence of '{name}' in this period: {max_occurrence} (Occurred in {max_year})\")\"\n",
    "\"\"\""
   ]
  },
  {
   "cell_type": "markdown",
   "metadata": {},
   "source": [
    "## Frequency of names over the years"
   ]
  },
  {
   "cell_type": "code",
   "execution_count": 107,
   "metadata": {},
   "outputs": [],
   "source": [
    "def plot_name_occurance_change_over_time(name, dataset, state):\n",
    "    \"\"\"\n",
    "    This function plots a histogram of occurances of a selected name from a selected dataset over the years of monitoring.\n",
    "    It has 3 parameters:\n",
    "    name - defines the name of a baby to monitor, expects a string\n",
    "    dataset - defines the dataset to scan through, expected input is a string either 'National' or 'State'\n",
    "    state - relevant only if dataset = 'State' and only if we want to monitor name occurances restricted to a single state.\n",
    "            It expects a string input of the state abbreviation. Here is the list of all possible inputs:\n",
    "            AK, AL, AR, AZ, CA, CO, CT, DC, DE, FL, GA, HI, IA, ID, IL, IN, KS, KY, LA, MA, MD, ME, MI, MN, MO, MS, MT,\n",
    "            NC, ND, NE, NH, NJ, NM, NV, NY, OH, OK, OR, PA, RI, SC, SD, TN, TX, UT, VA, VT, WA, WI, WV, WY.\n",
    "            Or a None input if we do not want to narrow the statistics for a single state.\n",
    "    \"\"\"\n",
    "    file_path_NationalNames = r\"C:\\Users\\matej\\.cache\\kagglehub\\datasets\\kaggle\\us-baby-names\\versions\\2\\NationalNames.csv\"\n",
    "    df_NationalNames = pd.read_csv(file_path_NationalNames)\n",
    "\n",
    "    file_path_StateNames = r\"C:\\Users\\matej\\.cache\\kagglehub\\datasets\\kaggle\\us-baby-names\\versions\\2\\StateNames.csv\"\n",
    "    df_StateNames = pd.read_csv(file_path_StateNames)\n",
    "\n",
    "    plt.figure(figsize=(10, 6))\n",
    "\n",
    "    if dataset == 'National':\n",
    "        name_occurances = df_NationalNames[df_NationalNames[\"Name\"] == name] # selecting all occurances of the chosen name\n",
    "        name_count_per_year = name_occurances.groupby(\"Year\")[\"Count\"].sum() # counting for each year how many times the chosen name was given to a baby\n",
    "        plt.title('Occurrences of the name %s over the years' % (name), fontsize=14)\n",
    "\n",
    "\n",
    "    if dataset == 'State':\n",
    "        if state is None:\n",
    "            name_occurances = df_StateNames[df_StateNames[\"Name\"] == name] # selecting all occurances of the chosen name\n",
    "            name_count_per_year = name_occurances.groupby(\"Year\")[\"Count\"].sum() # counting for each year how many times the chosen name was given to a baby\n",
    "            plt.title('Occurrences of the name %s over the years' % (name), fontsize=14)\n",
    "\n",
    "        if state != None:    \n",
    "            name_occurances = df_StateNames[(df_StateNames[\"Name\"] == name) & (df_StateNames[\"State\"] == state)] # selecting all occurances of the chosen name in the chosen state\n",
    "            name_count_per_year = name_occurances.groupby(\"Year\")[\"Count\"].sum() # counting for each year how many times the chosen name in the chosen state was given to a baby\n",
    "            plt.title('Occurrences of the name %s over the years in the state %s' % (name, state), fontsize=14)\n",
    "\n",
    "    \n",
    "    plt.bar(name_count_per_year.index, name_count_per_year.values, color='lightblue', edgecolor='black')\n",
    "    plt.xlabel('Year', fontsize=12)\n",
    "    plt.ylabel('Number of Occurrences', fontsize=12)\n",
    "    plt.xticks(ticks=range(min(name_count_per_year.index), max(name_count_per_year.index)+1, 10), rotation=45) # X-axis showing years per decade, rotated by 45 degrees\n",
    "    # it starts either at the first year of the national dataset, 1880 or the first year of the state dataset, which is 1920\n",
    "    plt.tight_layout()\n",
    "    plt.show()"
   ]
  },
  {
   "cell_type": "code",
   "execution_count": 108,
   "metadata": {},
   "outputs": [
    {
     "data": {
      "image/png": "[encoded data removed]",
      "text/plain": [
       "<Figure size 1000x600 with 1 Axes>"
      ]
     },
     "metadata": {},
     "output_type": "display_data"
    }
   ],
   "source": [
    "plot_name_occurance_change_over_time(name = 'Ida', dataset = 'National', state = None)"
   ]
  },
  {
   "cell_type": "code",
   "execution_count": 109,
   "metadata": {},
   "outputs": [
    {
     "data": {
      "image/png": "[encoded data removed]",
      "text/plain": [
       "<Figure size 1000x600 with 1 Axes>"
      ]
     },
     "metadata": {},
     "output_type": "display_data"
    }
   ],
   "source": [
    "plot_name_occurance_change_over_time(name = 'Ida', dataset = 'State', state = 'CA')"
   ]
  },
  {
   "cell_type": "code",
   "execution_count": 110,
   "metadata": {},
   "outputs": [
    {
     "data": {
      "image/png": "[encoded data removed]",
      "text/plain": [
       "<Figure size 1000x600 with 1 Axes>"
      ]
     },
     "metadata": {},
     "output_type": "display_data"
    }
   ],
   "source": [
    "\n",
    "plot_name_occurance_change_over_time(name = 'Krishna', dataset = 'National', state = None)"
   ]
  },
  {
   "cell_type": "code",
   "execution_count": 111,
   "metadata": {},
   "outputs": [
    {
     "data": {
      "image/png": "[encoded data removed]",
      "text/plain": [
       "<Figure size 1000x600 with 1 Axes>"
      ]
     },
     "metadata": {},
     "output_type": "display_data"
    }
   ],
   "source": [
    "plot_name_occurance_change_over_time(name = 'Shaya', dataset = 'National', state = None)"
   ]
  },
  {
   "cell_type": "code",
   "execution_count": 112,
   "metadata": {},
   "outputs": [
    {
     "data": {
      "image/png": "[encoded data removed]",
      "text/plain": [
       "<Figure size 1000x600 with 1 Axes>"
      ]
     },
     "metadata": {},
     "output_type": "display_data"
    }
   ],
   "source": [
    "\n",
    "plot_name_occurance_change_over_time(name = 'Liam', dataset = 'National', state = None)"
   ]
  },
  {
   "cell_type": "markdown",
   "metadata": {},
   "source": [
    "## What name is the most Unisex?"
   ]
  },
  {
   "cell_type": "code",
   "execution_count": 117,
   "metadata": {},
   "outputs": [],
   "source": [
    "def random_most_unisex_name(dataset, minimum_unisex_score, minimum_name_count, printing_the_names):\n",
    "    \"\"\"\n",
    "    The unisexness is not a trivial problem, because while simply finding the names with the exact population of assigned males and females at birth will \n",
    "    result in many names with very low occurance. And this is something the start-up and the customer families will definitely take into account. \n",
    "    While some people can actually value a very unique name for their baby, most people will want some already established name for their baby.\n",
    "    I believe this to be the case because we actually observe that the distribution of assigned names for babies is strongly skewed for a subset of\n",
    "    very popular names - the existance of this phenomena tells me I should factorize this into the function and create a function that can be set \n",
    "    with a trade-off on the occurance of the name and its 'unisexness'.\n",
    "\n",
    "    I quantifty the 'unisexness', U, as U = T / D,  where\n",
    "    T is the total number of babies of any gender that were assigned the particular name \n",
    "    and D is the absolute value of difference between the number of males and females for that particular name.\n",
    "    So we would get 'unisexness' U = 1 for a baby name that had exactly same number of female and male occurances.\n",
    "\n",
    "    Next, I take into account the total number of names that were assigned for a particular name. This is defined by a treshold of the minimum\n",
    "    number of babies with that particular name.\n",
    "\n",
    "    This function has following parameters:\n",
    "    dataset - chooosing which dataset we work with, either 'National' or 'State'\n",
    "    minimum_unisex_score - the function calculates the unisexness of names, which is a float number between 1 (most unisex name, equal occurance of female and male babies with the name) and 0\n",
    "    minimum_name_count - parameter defining the minimum number of TOTAL names assigned for the baby. It is used to filter out low occuring names\n",
    "    printing_the_names - if set to True, it prints the resulted filtered unisex names based on our input parameters\n",
    "    The function returns a random name from the list of most unisex names selected based on the input parameters\n",
    "    \"\"\"\n",
    "    \n",
    "    if dataset == 'National':\n",
    "        file_path_NationalNames = r\"C:\\Users\\matej\\.cache\\kagglehub\\datasets\\kaggle\\us-baby-names\\versions\\2\\NationalNames.csv\"\n",
    "        df_Names = pd.read_csv(file_path_NationalNames)\n",
    "\n",
    "    if dataset == 'State':\n",
    "        file_path_StateNames = r\"C:\\Users\\matej\\.cache\\kagglehub\\datasets\\kaggle\\us-baby-names\\versions\\2\\StateNames.csv\"\n",
    "        df_Names = pd.read_csv(file_path_StateNames)\n",
    "\n",
    "    # Group by Name and Gender, then sum occurrences\n",
    "    name_gender_counts = df_Names.groupby([\"Name\", \"Gender\"])[\"Count\"].sum().unstack(fill_value=0) # makes a 2 column table, name of the baby, female count, male count\n",
    "    name_gender_counts[\"Total\"] = name_gender_counts[\"M\"] + name_gender_counts[\"F\"] # computes the total number of names, of each gender and adds as a new column to the 2 column table created above\n",
    "    #name_gender_counts[\"Difference\"] = abs(name_gender_counts[\"M\"] - name_gender_counts[\"F\"]) # computes the difference between the males and females for the same name and adds as a new column\n",
    "    name_gender_counts[\"Unisex_score\"] = name_gender_counts[[\"M\", \"F\"]].min(axis=1) / name_gender_counts[[\"M\", \"F\"]].max(axis=1) # finds for each pair of female and male occurances per name their minimum and maximum value and calculates their ratio.\n",
    "    \n",
    "    unisex_names = name_gender_counts[\n",
    "        (name_gender_counts[\"M\"] > 0) & \n",
    "        (name_gender_counts[\"F\"] > 0) & \n",
    "        (name_gender_counts[\"Unisex_score\"] >= minimum_unisex_score) & \n",
    "        (name_gender_counts[\"Total\"] >= minimum_name_count)\n",
    "    ] # filters only names within defined tresholds\n",
    "\n",
    "    unisex_names_sorted = unisex_names.sort_values(by=[\"Total\", \"Unisex_score\"], ascending=[False, False]) # sorts the selected list by the total number of names (count) and for the names with the same count by the Unisex_score\n",
    "    if printing_the_names == True:\n",
    "        print(unisex_names_sorted)\n",
    "    random_name = random.choice(unisex_names_sorted.index.tolist())\n",
    "    #return (random_name)\n",
    "    return (unisex_names_sorted)"
   ]
  },
  {
   "cell_type": "code",
   "execution_count": 127,
   "metadata": {},
   "outputs": [
    {
     "name": "stdout",
     "output_type": "stream",
     "text": [
      "Gender       F      M   Total  Unisex_score\n",
      "Name                                       \n",
      "Riley    81605  87494  169099      0.932693\n",
      "Jackie   90337  78148  168485      0.865072\n",
      "Kerry    48452  49417   97869      0.980472\n",
      "Frankie  32355  39894   72249      0.811024\n",
      "Robbie   22215  20676   42891      0.930722\n",
      "Justice  13778  15423   29201      0.893341\n",
      "Kris     13437  13792   27229      0.974260\n",
      "Blair    12502  14242   26744      0.877826\n",
      "Elisha   13214  12431   25645      0.940745\n",
      "Amari    11469  12562   24031      0.912992\n",
      "Unknown   9283   9140   18423      0.984595\n",
      "Ivory     8405   8186   16591      0.973944\n",
      "Finley    7416   6302   13718      0.849784\n",
      "Devyn     7041   6000   13041      0.852152\n",
      "Baby      5798   6034   11832      0.960888\n"
     ]
    }
   ],
   "source": [
    "most_unisex_name = random_most_unisex_name(dataset = 'National', minimum_unisex_score = 0.8,  minimum_name_count = 10000, printing_the_names = True)"
   ]
  },
  {
   "cell_type": "code",
   "execution_count": 128,
   "metadata": {},
   "outputs": [
    {
     "data": {
      "text/plain": [
       "'Riley'"
      ]
     },
     "execution_count": 128,
     "metadata": {},
     "output_type": "execute_result"
    }
   ],
   "source": [
    "most_unisex_name.index[0]"
   ]
  },
  {
   "cell_type": "code",
   "execution_count": 124,
   "metadata": {},
   "outputs": [
    {
     "ename": "KeyError",
     "evalue": "'Name'",
     "output_type": "error",
     "traceback": [
      "\u001b[31m---------------------------------------------------------------------------\u001b[39m",
      "\u001b[31mKeyError\u001b[39m                                  Traceback (most recent call last)",
      "\u001b[36mFile \u001b[39m\u001b[32m~\\AppData\\Local\\Packages\\PythonSoftwareFoundation.Python.3.11_qbz5n2kfra8p0\\LocalCache\\local-packages\\Python311\\site-packages\\pandas\\core\\indexes\\base.py:3805\u001b[39m, in \u001b[36mIndex.get_loc\u001b[39m\u001b[34m(self, key)\u001b[39m\n\u001b[32m   3804\u001b[39m \u001b[38;5;28;01mtry\u001b[39;00m:\n\u001b[32m-> \u001b[39m\u001b[32m3805\u001b[39m     \u001b[38;5;28;01mreturn\u001b[39;00m \u001b[38;5;28;43mself\u001b[39;49m\u001b[43m.\u001b[49m\u001b[43m_engine\u001b[49m\u001b[43m.\u001b[49m\u001b[43mget_loc\u001b[49m\u001b[43m(\u001b[49m\u001b[43mcasted_key\u001b[49m\u001b[43m)\u001b[49m\n\u001b[32m   3806\u001b[39m \u001b[38;5;28;01mexcept\u001b[39;00m \u001b[38;5;167;01mKeyError\u001b[39;00m \u001b[38;5;28;01mas\u001b[39;00m err:\n",
      "\u001b[36mFile \u001b[39m\u001b[32mindex.pyx:167\u001b[39m, in \u001b[36mpandas._libs.index.IndexEngine.get_loc\u001b[39m\u001b[34m()\u001b[39m\n",
      "\u001b[36mFile \u001b[39m\u001b[32mindex.pyx:196\u001b[39m, in \u001b[36mpandas._libs.index.IndexEngine.get_loc\u001b[39m\u001b[34m()\u001b[39m\n",
      "\u001b[36mFile \u001b[39m\u001b[32mpandas\\\\_libs\\\\hashtable_class_helper.pxi:7081\u001b[39m, in \u001b[36mpandas._libs.hashtable.PyObjectHashTable.get_item\u001b[39m\u001b[34m()\u001b[39m\n",
      "\u001b[36mFile \u001b[39m\u001b[32mpandas\\\\_libs\\\\hashtable_class_helper.pxi:7089\u001b[39m, in \u001b[36mpandas._libs.hashtable.PyObjectHashTable.get_item\u001b[39m\u001b[34m()\u001b[39m\n",
      "\u001b[31mKeyError\u001b[39m: 'Name'",
      "\nThe above exception was the direct cause of the following exception:\n",
      "\u001b[31mKeyError\u001b[39m                                  Traceback (most recent call last)",
      "\u001b[36mCell\u001b[39m\u001b[36m \u001b[39m\u001b[32mIn[124]\u001b[39m\u001b[32m, line 1\u001b[39m\n\u001b[32m----> \u001b[39m\u001b[32m1\u001b[39m \u001b[43mmost_unisex_name\u001b[49m\u001b[43m[\u001b[49m\u001b[33;43m\"\u001b[39;49m\u001b[33;43mName\u001b[39;49m\u001b[33;43m\"\u001b[39;49m\u001b[43m]\u001b[49m\n",
      "\u001b[36mFile \u001b[39m\u001b[32m~\\AppData\\Local\\Packages\\PythonSoftwareFoundation.Python.3.11_qbz5n2kfra8p0\\LocalCache\\local-packages\\Python311\\site-packages\\pandas\\core\\frame.py:4102\u001b[39m, in \u001b[36mDataFrame.__getitem__\u001b[39m\u001b[34m(self, key)\u001b[39m\n\u001b[32m   4100\u001b[39m \u001b[38;5;28;01mif\u001b[39;00m \u001b[38;5;28mself\u001b[39m.columns.nlevels > \u001b[32m1\u001b[39m:\n\u001b[32m   4101\u001b[39m     \u001b[38;5;28;01mreturn\u001b[39;00m \u001b[38;5;28mself\u001b[39m._getitem_multilevel(key)\n\u001b[32m-> \u001b[39m\u001b[32m4102\u001b[39m indexer = \u001b[38;5;28;43mself\u001b[39;49m\u001b[43m.\u001b[49m\u001b[43mcolumns\u001b[49m\u001b[43m.\u001b[49m\u001b[43mget_loc\u001b[49m\u001b[43m(\u001b[49m\u001b[43mkey\u001b[49m\u001b[43m)\u001b[49m\n\u001b[32m   4103\u001b[39m \u001b[38;5;28;01mif\u001b[39;00m is_integer(indexer):\n\u001b[32m   4104\u001b[39m     indexer = [indexer]\n",
      "\u001b[36mFile \u001b[39m\u001b[32m~\\AppData\\Local\\Packages\\PythonSoftwareFoundation.Python.3.11_qbz5n2kfra8p0\\LocalCache\\local-packages\\Python311\\site-packages\\pandas\\core\\indexes\\base.py:3812\u001b[39m, in \u001b[36mIndex.get_loc\u001b[39m\u001b[34m(self, key)\u001b[39m\n\u001b[32m   3807\u001b[39m     \u001b[38;5;28;01mif\u001b[39;00m \u001b[38;5;28misinstance\u001b[39m(casted_key, \u001b[38;5;28mslice\u001b[39m) \u001b[38;5;129;01mor\u001b[39;00m (\n\u001b[32m   3808\u001b[39m         \u001b[38;5;28misinstance\u001b[39m(casted_key, abc.Iterable)\n\u001b[32m   3809\u001b[39m         \u001b[38;5;129;01mand\u001b[39;00m \u001b[38;5;28many\u001b[39m(\u001b[38;5;28misinstance\u001b[39m(x, \u001b[38;5;28mslice\u001b[39m) \u001b[38;5;28;01mfor\u001b[39;00m x \u001b[38;5;129;01min\u001b[39;00m casted_key)\n\u001b[32m   3810\u001b[39m     ):\n\u001b[32m   3811\u001b[39m         \u001b[38;5;28;01mraise\u001b[39;00m InvalidIndexError(key)\n\u001b[32m-> \u001b[39m\u001b[32m3812\u001b[39m     \u001b[38;5;28;01mraise\u001b[39;00m \u001b[38;5;167;01mKeyError\u001b[39;00m(key) \u001b[38;5;28;01mfrom\u001b[39;00m\u001b[38;5;250m \u001b[39m\u001b[34;01merr\u001b[39;00m\n\u001b[32m   3813\u001b[39m \u001b[38;5;28;01mexcept\u001b[39;00m \u001b[38;5;167;01mTypeError\u001b[39;00m:\n\u001b[32m   3814\u001b[39m     \u001b[38;5;66;03m# If we have a listlike key, _check_indexing_error will raise\u001b[39;00m\n\u001b[32m   3815\u001b[39m     \u001b[38;5;66;03m#  InvalidIndexError. Otherwise we fall through and re-raise\u001b[39;00m\n\u001b[32m   3816\u001b[39m     \u001b[38;5;66;03m#  the TypeError.\u001b[39;00m\n\u001b[32m   3817\u001b[39m     \u001b[38;5;28mself\u001b[39m._check_indexing_error(key)\n",
      "\u001b[31mKeyError\u001b[39m: 'Name'"
     ]
    }
   ],
   "source": [
    "most_unisex_name[\"Name\"]"
   ]
  },
  {
   "cell_type": "markdown",
   "metadata": {},
   "source": [
    "## Which names are common nationally but are rare at the state level?"
   ]
  },
  {
   "cell_type": "code",
   "execution_count": 114,
   "metadata": {},
   "outputs": [
    {
     "name": "stdout",
     "output_type": "stream",
     "text": [
      "Total number of names nationally: 337135426\n"
     ]
    }
   ],
   "source": [
    "# Load the National dataset\n",
    "national_file = r\"C:\\Users\\matej\\.cache\\kagglehub\\datasets\\kaggle\\us-baby-names\\versions\\2\\NationalNames.csv\"\n",
    "df_national = pd.read_csv(national_file)\n",
    "\n",
    "# Compute total count of all names nationally\n",
    "total_national = df_national[\"Count\"].sum()\n",
    "print(f\"Total number of names nationally: {total_national}\")"
   ]
  },
  {
   "cell_type": "code",
   "execution_count": 115,
   "metadata": {},
   "outputs": [
    {
     "name": "stdout",
     "output_type": "stream",
     "text": [
      "   State     Count\n",
      "0     AK    413241\n",
      "1     AL   5688208\n",
      "2     AR   3356575\n",
      "3     AZ   3397260\n",
      "4     CA  29252805\n",
      "5     CO   3475550\n",
      "6     CT   3387873\n",
      "7     DC   1426777\n",
      "8     DE    621932\n",
      "9     FL   9457005\n",
      "10    GA   8286656\n",
      "11    HI    958614\n",
      "12    IA   4137536\n",
      "13    ID   1162216\n",
      "14    IL  15304655\n",
      "15    IN   7237478\n",
      "16    KS   3241418\n",
      "17    KY   5393279\n",
      "18    LA   5597283\n",
      "19    MA   7632504\n",
      "20    MD   4521474\n",
      "21    ME   1391490\n",
      "22    MI  11734824\n",
      "23    MN   5627719\n",
      "24    MO   6852163\n",
      "25    MS   3994730\n",
      "26    MT    949578\n",
      "27    NC   8537298\n",
      "28    ND   1066892\n",
      "29    NE   2273426\n",
      "30    NH    963412\n",
      "31    NJ   8398176\n",
      "32    NM   1656420\n",
      "33    NV    867220\n",
      "34    NY  23891045\n",
      "35    OH  14315490\n",
      "36    OK   4174518\n",
      "37    OR   2705713\n",
      "38    PA  16776664\n",
      "39    RI   1155102\n",
      "40    SC   4431860\n",
      "41    SD   1056616\n",
      "42    TN   6381224\n",
      "43    TX  21820683\n",
      "44    UT   2345758\n",
      "45    VA   6773770\n",
      "46    VT    549152\n",
      "47    WA   4699924\n",
      "48    WI   6139093\n",
      "49    WV   2976818\n",
      "50    WY    426209\n"
     ]
    }
   ],
   "source": [
    "# Load the State dataset\n",
    "state_file = r\"C:\\Users\\matej\\.cache\\kagglehub\\datasets\\kaggle\\us-baby-names\\versions\\2\\StateNames.csv\"\n",
    "df_state = pd.read_csv(state_file)\n",
    "\n",
    "# Compute total count of all names per state\n",
    "total_per_state = df_state.groupby(\"State\")[\"Count\"].sum().reset_index()\n",
    "\n",
    "# Print results\n",
    "print(total_per_state)"
   ]
  },
  {
   "cell_type": "code",
   "execution_count": 117,
   "metadata": {},
   "outputs": [
    {
     "name": "stdout",
     "output_type": "stream",
     "text": [
      "  State     Name  Count_State  Percentage_State  Count_National  \\\n",
      "0    AK  Aaliyah          144          0.034846           69917   \n",
      "1    AK    Aaron         1675          0.405332          557843   \n",
      "2    AK     Abby           26          0.006292           55582   \n",
      "3    AK     Abel           21          0.005082           41245   \n",
      "4    AK  Abigail          716          0.173265          322051   \n",
      "\n",
      "   Percentage_National  \n",
      "0             0.020739  \n",
      "1             0.165466  \n",
      "2             0.016487  \n",
      "3             0.012234  \n",
      "4             0.095526  \n"
     ]
    }
   ],
   "source": [
    "# File paths (adjust if needed)\n",
    "national_file = r\"C:\\Users\\matej\\.cache\\kagglehub\\datasets\\kaggle\\us-baby-names\\versions\\2\\NationalNames.csv\"\n",
    "state_file = r\"C:\\Users\\matej\\.cache\\kagglehub\\datasets\\kaggle\\us-baby-names\\versions\\2\\StateNames.csv\"\n",
    "\n",
    "# Load datasets\n",
    "df_national = pd.read_csv(national_file)\n",
    "df_state = pd.read_csv(state_file)\n",
    "\n",
    "### --- NATIONAL DATASET --- ###\n",
    "# Compute total births nationally\n",
    "total_national = df_national[\"Count\"].sum()\n",
    "\n",
    "# Compute percentage of each name nationally\n",
    "df_national[\"Percentage_National\"] = (df_national[\"Count\"] / total_national) * 100\n",
    "\n",
    "# Aggregate national data (sum counts per name)\n",
    "df_national_summary = df_national.groupby(\"Name\")[[\"Count\", \"Percentage_National\"]].sum().reset_index()\n",
    "\n",
    "### --- STATE DATASET --- ###\n",
    "# Compute total births per state\n",
    "total_per_state = df_state.groupby(\"State\")[\"Count\"].sum().reset_index().rename(columns={\"Count\": \"Total_State\"})\n",
    "\n",
    "# Merge total state counts back into df_state\n",
    "df_state = df_state.merge(total_per_state, on=\"State\")\n",
    "\n",
    "# Compute percentage of each name per state\n",
    "df_state[\"Percentage_State\"] = (df_state[\"Count\"] / df_state[\"Total_State\"]) * 100\n",
    "\n",
    "# Create state summary (sum counts per name, per state)\n",
    "df_state_summary = df_state.groupby([\"State\", \"Name\"])[[\"Count\", \"Percentage_State\"]].sum().reset_index()\n",
    "\n",
    "### --- MERGE NATIONAL & STATE DATA --- ###\n",
    "# Merge national and state data into a single DataFrame\n",
    "df_final = df_state_summary.merge(df_national_summary, on=\"Name\", how=\"left\", suffixes=(\"_State\", \"_National\"))\n",
    "\n",
    "# Display final DataFrame\n",
    "print(df_final.head())"
   ]
  },
  {
   "cell_type": "code",
   "execution_count": 118,
   "metadata": {},
   "outputs": [
    {
     "name": "stdout",
     "output_type": "stream",
     "text": [
      "       State   Name  Count_State  Percentage_State  Count_National  \\\n",
      "687       AK  James         6682          1.616974         5129096   \n",
      "114775    MA  James       128262          1.680471         5129096   \n",
      "281208    WV  James        75804          2.546477         5129096   \n",
      "77687     ID  James        14269          1.227741         5129096   \n",
      "164949    NE  James        32167          1.414913         5129096   \n",
      "\n",
      "        Percentage_National  \n",
      "687                1.521376  \n",
      "114775             1.521376  \n",
      "281208             1.521376  \n",
      "77687              1.521376  \n",
      "164949             1.521376  \n"
     ]
    }
   ],
   "source": [
    "# File paths (adjust if needed)\n",
    "national_file = r\"C:\\Users\\matej\\.cache\\kagglehub\\datasets\\kaggle\\us-baby-names\\versions\\2\\NationalNames.csv\"\n",
    "state_file = r\"C:\\Users\\matej\\.cache\\kagglehub\\datasets\\kaggle\\us-baby-names\\versions\\2\\StateNames.csv\"\n",
    "\n",
    "# Load datasets\n",
    "df_national = pd.read_csv(national_file)\n",
    "df_state = pd.read_csv(state_file)\n",
    "\n",
    "### --- NATIONAL DATASET --- ###\n",
    "# Compute total births nationally\n",
    "total_national = df_national[\"Count\"].sum()\n",
    "\n",
    "# Compute percentage of each name nationally\n",
    "df_national[\"Percentage_National\"] = (df_national[\"Count\"] / total_national) * 100\n",
    "\n",
    "# Aggregate national data (sum counts per name)\n",
    "df_national_summary = df_national.groupby(\"Name\")[[\"Count\", \"Percentage_National\"]].sum().reset_index()\n",
    "\n",
    "### --- STATE DATASET --- ###\n",
    "# Compute total births per state\n",
    "total_per_state = df_state.groupby(\"State\")[\"Count\"].sum().reset_index().rename(columns={\"Count\": \"Total_State\"})\n",
    "\n",
    "# Merge total state counts back into df_state\n",
    "df_state = df_state.merge(total_per_state, on=\"State\")\n",
    "\n",
    "# Compute percentage of each name per state\n",
    "df_state[\"Percentage_State\"] = (df_state[\"Count\"] / df_state[\"Total_State\"]) * 100\n",
    "\n",
    "# Create state summary (sum counts per name, per state)\n",
    "df_state_summary = df_state.groupby([\"State\", \"Name\"])[[\"Count\", \"Percentage_State\"]].sum().reset_index()\n",
    "\n",
    "### --- MERGE NATIONAL & STATE DATA --- ###\n",
    "# Merge national and state data into a single DataFrame\n",
    "df_final = df_state_summary.merge(df_national_summary, on=\"Name\", how=\"left\", suffixes=(\"_State\", \"_National\"))\n",
    "\n",
    "# Sort the merged DataFrame by the national percentage in descending order\n",
    "df_final_sorted = df_final.sort_values(by=\"Percentage_National\", ascending=False)\n",
    "\n",
    "# Display the sorted DataFrame\n",
    "print(df_final_sorted.head())"
   ]
  },
  {
   "cell_type": "code",
   "execution_count": 119,
   "metadata": {},
   "outputs": [
    {
     "name": "stdout",
     "output_type": "stream",
     "text": [
      "Empty DataFrame\n",
      "Columns: [Name, Percentage_National, Percentage_State]\n",
      "Index: []\n"
     ]
    }
   ],
   "source": [
    "# File paths (adjust if needed)\n",
    "national_file = r\"C:\\Users\\matej\\.cache\\kagglehub\\datasets\\kaggle\\us-baby-names\\versions\\2\\NationalNames.csv\"\n",
    "state_file = r\"C:\\Users\\matej\\.cache\\kagglehub\\datasets\\kaggle\\us-baby-names\\versions\\2\\StateNames.csv\"\n",
    "\n",
    "# Load datasets\n",
    "df_national = pd.read_csv(national_file)\n",
    "df_state = pd.read_csv(state_file)\n",
    "\n",
    "### --- NATIONAL DATASET --- ###\n",
    "# Compute total births nationally\n",
    "total_national = df_national[\"Count\"].sum()\n",
    "\n",
    "# Compute percentage of each name nationally\n",
    "df_national[\"Percentage_National\"] = (df_national[\"Count\"] / total_national) * 100\n",
    "\n",
    "# Aggregate national data (sum counts per name)\n",
    "df_national_summary = df_national.groupby(\"Name\")[[\"Count\", \"Percentage_National\"]].sum().reset_index()\n",
    "\n",
    "### --- STATE DATASET --- ###\n",
    "# Compute total births per state\n",
    "total_per_state = df_state.groupby(\"State\")[\"Count\"].sum().reset_index().rename(columns={\"Count\": \"Total_State\"})\n",
    "\n",
    "# Merge total state counts back into df_state\n",
    "df_state = df_state.merge(total_per_state, on=\"State\")\n",
    "\n",
    "# Compute percentage of each name per state\n",
    "df_state[\"Percentage_State\"] = (df_state[\"Count\"] / df_state[\"Total_State\"]) * 100\n",
    "\n",
    "# Create state summary (sum counts per name, per state)\n",
    "df_state_summary = df_state.groupby([\"State\", \"Name\"])[[\"Count\", \"Percentage_State\"]].sum().reset_index()\n",
    "\n",
    "### --- MERGE NATIONAL & STATE DATA --- ###\n",
    "# Merge national and state data into a single DataFrame\n",
    "df_final = df_state_summary.merge(df_national_summary, on=\"Name\", how=\"left\", suffixes=(\"_State\", \"_National\"))\n",
    "\n",
    "### --- FILTER NAMES THAT ARE COMMON NATIONALLY BUT RARE AT STATE LEVEL --- ###\n",
    "\n",
    "# Set a threshold for national percentage (common names) - e.g., top 10% of names\n",
    "top_national_threshold = df_final[\"Percentage_National\"].quantile(0.9)  # 90th percentile for national percentage\n",
    "\n",
    "# Set a threshold for state percentage (rare names) - e.g., bottom 10% of names\n",
    "bottom_state_threshold = df_final[\"Percentage_State\"].quantile(0.1)  # 10th percentile for state percentage\n",
    "\n",
    "# Filter for names that are common nationally but rare at the state level\n",
    "common_national_rare_state = df_final[(df_final[\"Percentage_National\"] >= top_national_threshold) &\n",
    "                                      (df_final[\"Percentage_State\"] <= bottom_state_threshold)]\n",
    "\n",
    "# Display the results\n",
    "print(common_national_rare_state[['Name', 'Percentage_National', 'Percentage_State']].head())"
   ]
  },
  {
   "cell_type": "code",
   "execution_count": 122,
   "metadata": {},
   "outputs": [
    {
     "name": "stdout",
     "output_type": "stream",
     "text": [
      "          Name  Relative_Commonness_National  Relative_Commonness_State\n",
      "1082      Mary                      0.805296                   0.487491\n",
      "6064   Michael                      0.844360                   0.365890\n",
      "11375  Michael                      0.844360                   0.373674\n",
      "30345     Mary                      0.805296                   0.359252\n",
      "56578     Mary                      0.805296                   0.471402\n"
     ]
    }
   ],
   "source": [
    "# File paths (adjust if needed)\n",
    "national_file = r\"C:\\Users\\matej\\.cache\\kagglehub\\datasets\\kaggle\\us-baby-names\\versions\\2\\NationalNames.csv\"\n",
    "state_file = r\"C:\\Users\\matej\\.cache\\kagglehub\\datasets\\kaggle\\us-baby-names\\versions\\2\\StateNames.csv\"\n",
    "\n",
    "# Load datasets\n",
    "df_national = pd.read_csv(national_file)\n",
    "df_state = pd.read_csv(state_file)\n",
    "\n",
    "### --- NATIONAL DATASET --- ###\n",
    "# Compute total births nationally\n",
    "total_national = df_national[\"Count\"].sum()\n",
    "\n",
    "# Compute percentage of each name nationally\n",
    "df_national[\"Percentage_National\"] = (df_national[\"Count\"] / total_national) * 100\n",
    "\n",
    "# Aggregate national data (sum counts per name)\n",
    "df_national_summary = df_national.groupby(\"Name\")[[\"Count\", \"Percentage_National\"]].sum().reset_index()\n",
    "\n",
    "# Compute relative commonness for national dataset\n",
    "max_percentage_national = df_national_summary[\"Percentage_National\"].max()\n",
    "df_national_summary[\"Relative_Commonness_National\"] = df_national_summary[\"Percentage_National\"] / max_percentage_national\n",
    "\n",
    "### --- STATE DATASET --- ###\n",
    "# Compute total births per state\n",
    "total_per_state = df_state.groupby(\"State\")[\"Count\"].sum().reset_index().rename(columns={\"Count\": \"Total_State\"})\n",
    "\n",
    "# Merge total state counts back into df_state\n",
    "df_state = df_state.merge(total_per_state, on=\"State\")\n",
    "\n",
    "# Compute percentage of each name per state\n",
    "df_state[\"Percentage_State\"] = (df_state[\"Count\"] / df_state[\"Total_State\"]) * 100\n",
    "\n",
    "# Create state summary (sum counts per name, per state)\n",
    "df_state_summary = df_state.groupby([\"State\", \"Name\"])[[\"Count\", \"Percentage_State\"]].sum().reset_index()\n",
    "\n",
    "# Compute relative commonness for state dataset (per state)\n",
    "max_percentage_state_per_state = df_state_summary.groupby(\"State\")[\"Percentage_State\"].transform(\"max\")\n",
    "df_state_summary[\"Relative_Commonness_State\"] = df_state_summary[\"Percentage_State\"] / max_percentage_state_per_state\n",
    "\n",
    "### --- MERGE NATIONAL & STATE DATA --- ###\n",
    "# Merge national and state data into a single DataFrame\n",
    "df_final = df_state_summary.merge(df_national_summary, on=\"Name\", how=\"left\", suffixes=(\"_State\", \"_National\"))\n",
    "\n",
    "### --- FILTER NAMES THAT ARE COMMON NATIONALLY BUT RARE AT STATE LEVEL --- ###\n",
    "\n",
    "# Filter for names with high national relative commonness and low state relative commonness\n",
    "threshold_national = 0.8  # Arbitrary threshold for \"high\" relative commonness nationally (70% of max)\n",
    "threshold_state = 0.5  # Arbitrary threshold for \"low\" relative commonness at the state level (10% of max)\n",
    "\n",
    "common_national_rare_state = df_final[(df_final[\"Relative_Commonness_National\"] >= threshold_national) &\n",
    "                                      (df_final[\"Relative_Commonness_State\"] <= threshold_state)]\n",
    "\n",
    "# Display the results\n",
    "print(common_national_rare_state[['Name', 'Relative_Commonness_National', 'Relative_Commonness_State']].head())"
   ]
  },
  {
   "cell_type": "code",
   "execution_count": 126,
   "metadata": {},
   "outputs": [
    {
     "name": "stdout",
     "output_type": "stream",
     "text": [
      "           Name  Relative_Commonness_National  Relative_Commonness_State\n",
      "6064    Michael                      0.844360                   0.365890\n",
      "11375   Michael                      0.844360                   0.373674\n",
      "66461   Michael                      0.844360                   0.484159\n",
      "237465  Michael                      0.844360                   0.423021\n",
      "158567  Michael                      0.844360                   0.448366\n",
      "148973  Michael                      0.844360                   0.305028\n",
      "104240  Michael                      0.844360                   0.431500\n",
      "228722  Michael                      0.844360                   0.351372\n",
      "282066  Michael                      0.844360                   0.451243\n",
      "1082       Mary                      0.805296                   0.487491\n",
      "71331      Mary                      0.805296                   0.419951\n",
      "168046     Mary                      0.805296                   0.434142\n",
      "30345      Mary                      0.805296                   0.359252\n",
      "56578      Mary                      0.805296                   0.471402\n",
      "173250     Mary                      0.805296                   0.460547\n",
      "213148     Mary                      0.805296                   0.495947\n",
      "181128     Mary                      0.805296                   0.244779\n",
      "258913     Mary                      0.805296                   0.473470\n",
      "272614     Mary                      0.805296                   0.490596\n"
     ]
    }
   ],
   "source": [
    "# File paths (adjust if needed)\n",
    "national_file = r\"C:\\Users\\matej\\.cache\\kagglehub\\datasets\\kaggle\\us-baby-names\\versions\\2\\NationalNames.csv\"\n",
    "state_file = r\"C:\\Users\\matej\\.cache\\kagglehub\\datasets\\kaggle\\us-baby-names\\versions\\2\\StateNames.csv\"\n",
    "\n",
    "# Load datasets\n",
    "df_national = pd.read_csv(national_file)\n",
    "df_state = pd.read_csv(state_file)\n",
    "\n",
    "### --- NATIONAL DATASET --- ###\n",
    "# Compute total births nationally\n",
    "total_national = df_national[\"Count\"].sum()\n",
    "\n",
    "# Compute percentage of each name nationally\n",
    "df_national[\"Percentage_National\"] = (df_national[\"Count\"] / total_national) * 100\n",
    "\n",
    "# Aggregate national data (sum counts per name)\n",
    "df_national_summary = df_national.groupby(\"Name\")[[\"Count\", \"Percentage_National\"]].sum().reset_index()\n",
    "\n",
    "# Compute relative commonness for national dataset\n",
    "max_percentage_national = df_national_summary[\"Percentage_National\"].max()\n",
    "df_national_summary[\"Relative_Commonness_National\"] = df_national_summary[\"Percentage_National\"] / max_percentage_national\n",
    "\n",
    "### --- STATE DATASET --- ###\n",
    "# Compute total births per state\n",
    "total_per_state = df_state.groupby(\"State\")[\"Count\"].sum().reset_index().rename(columns={\"Count\": \"Total_State\"})\n",
    "\n",
    "# Merge total state counts back into df_state\n",
    "df_state = df_state.merge(total_per_state, on=\"State\")\n",
    "\n",
    "# Compute percentage of each name per state\n",
    "df_state[\"Percentage_State\"] = (df_state[\"Count\"] / df_state[\"Total_State\"]) * 100\n",
    "\n",
    "# Create state summary (sum counts per name, per state)\n",
    "df_state_summary = df_state.groupby([\"State\", \"Name\"])[[\"Count\", \"Percentage_State\"]].sum().reset_index()\n",
    "\n",
    "# Compute relative commonness for state dataset (per state)\n",
    "max_percentage_state_per_state = df_state_summary.groupby(\"State\")[\"Percentage_State\"].transform(\"max\")\n",
    "df_state_summary[\"Relative_Commonness_State\"] = df_state_summary[\"Percentage_State\"] / max_percentage_state_per_state\n",
    "\n",
    "### --- MERGE NATIONAL & STATE DATA --- ###\n",
    "# Merge national and state data into a single DataFrame\n",
    "df_final = df_state_summary.merge(df_national_summary, on=\"Name\", how=\"left\", suffixes=(\"_State\", \"_National\"))\n",
    "\n",
    "### --- FILTER NAMES THAT ARE COMMON NATIONALLY BUT RARE AT STATE LEVEL --- ###\n",
    "\n",
    "# Filter for names with high national relative commonness and low state relative commonness\n",
    "threshold_national = 0.8  # Arbitrary threshold for \"high\" relative commonness nationally (70% of max)\n",
    "threshold_state = 0.5  # Arbitrary threshold for \"low\" relative commonness at the state level (10% of max)\n",
    "\n",
    "common_national_rare_state = df_final[(df_final[\"Relative_Commonness_National\"] >= threshold_national) &\n",
    "                                      (df_final[\"Relative_Commonness_State\"] <= threshold_state)]\n",
    "\n",
    "# Sort the result by relative commonness nationally (in descending order)\n",
    "common_national_rare_state_sorted = common_national_rare_state.sort_values(by='Relative_Commonness_National', ascending=False)\n",
    "\n",
    "# Display the sorted results\n",
    "print(common_national_rare_state_sorted[['Name', 'Relative_Commonness_National', 'Relative_Commonness_State']])"
   ]
  },
  {
   "cell_type": "code",
   "execution_count": 128,
   "metadata": {},
   "outputs": [
    {
     "name": "stdout",
     "output_type": "stream",
     "text": [
      "           Name  Relative_Commonness_National  Relative_Commonness_State State\n",
      "6064    Michael                      0.844360                   0.365890    AL\n",
      "11375   Michael                      0.844360                   0.373674    AR\n",
      "148973  Michael                      0.844360                   0.305028    MS\n",
      "228722  Michael                      0.844360                   0.351372    SC\n",
      "30345      Mary                      0.805296                   0.359252    CA\n",
      "181128     Mary                      0.805296                   0.244779    NV\n"
     ]
    }
   ],
   "source": [
    "# File paths (adjust if needed)\n",
    "national_file = r\"C:\\Users\\matej\\.cache\\kagglehub\\datasets\\kaggle\\us-baby-names\\versions\\2\\NationalNames.csv\"\n",
    "state_file = r\"C:\\Users\\matej\\.cache\\kagglehub\\datasets\\kaggle\\us-baby-names\\versions\\2\\StateNames.csv\"\n",
    "\n",
    "# Load datasets\n",
    "df_national = pd.read_csv(national_file)\n",
    "df_state = pd.read_csv(state_file)\n",
    "\n",
    "### --- NATIONAL DATASET --- ###\n",
    "# Compute total births nationally\n",
    "total_national = df_national[\"Count\"].sum()\n",
    "\n",
    "# Compute percentage of each name nationally\n",
    "df_national[\"Percentage_National\"] = (df_national[\"Count\"] / total_national) * 100\n",
    "\n",
    "# Aggregate national data (sum counts per name)\n",
    "df_national_summary = df_national.groupby(\"Name\")[[\"Count\", \"Percentage_National\"]].sum().reset_index()\n",
    "\n",
    "# Compute relative commonness for national dataset\n",
    "max_percentage_national = df_national_summary[\"Percentage_National\"].max()\n",
    "df_national_summary[\"Relative_Commonness_National\"] = df_national_summary[\"Percentage_National\"] / max_percentage_national\n",
    "\n",
    "### --- STATE DATASET --- ###\n",
    "# Compute total births per state\n",
    "total_per_state = df_state.groupby(\"State\")[\"Count\"].sum().reset_index().rename(columns={\"Count\": \"Total_State\"})\n",
    "\n",
    "# Merge total state counts back into df_state\n",
    "df_state = df_state.merge(total_per_state, on=\"State\")\n",
    "\n",
    "# Compute percentage of each name per state\n",
    "df_state[\"Percentage_State\"] = (df_state[\"Count\"] / df_state[\"Total_State\"]) * 100\n",
    "\n",
    "# Create state summary (sum counts per name, per state)\n",
    "df_state_summary = df_state.groupby([\"State\", \"Name\"])[[\"Count\", \"Percentage_State\"]].sum().reset_index()\n",
    "\n",
    "# Compute relative commonness for state dataset (per state)\n",
    "max_percentage_state_per_state = df_state_summary.groupby(\"State\")[\"Percentage_State\"].transform(\"max\")\n",
    "df_state_summary[\"Relative_Commonness_State\"] = df_state_summary[\"Percentage_State\"] / max_percentage_state_per_state\n",
    "\n",
    "### --- MERGE NATIONAL & STATE DATA --- ###\n",
    "# Merge national and state data into a single DataFrame\n",
    "df_final = df_state_summary.merge(df_national_summary, on=\"Name\", how=\"left\", suffixes=(\"_State\", \"_National\"))\n",
    "\n",
    "### --- FILTER NAMES THAT ARE COMMON NATIONALLY BUT RARE AT STATE LEVEL --- ###\n",
    "\n",
    "# Filter for names with high national relative commonness and low state relative commonness\n",
    "threshold_national = 0.8  # Arbitrary threshold for \"high\" relative commonness nationally (70% of max)\n",
    "threshold_state = 0.4  # Arbitrary threshold for \"low\" relative commonness at the state level (10% of max)\n",
    "\n",
    "common_national_rare_state = df_final[(df_final[\"Relative_Commonness_National\"] >= threshold_national) &\n",
    "                                      (df_final[\"Relative_Commonness_State\"] <= threshold_state)]\n",
    "\n",
    "# Sort the result by relative commonness nationally (in descending order)\n",
    "common_national_rare_state_sorted = common_national_rare_state.sort_values(by='Relative_Commonness_National', ascending=False)\n",
    "\n",
    "# Display the sorted results, adding a column for state\n",
    "print(common_national_rare_state_sorted[['Name', 'Relative_Commonness_National', 'Relative_Commonness_State', 'State']])"
   ]
  },
  {
   "cell_type": "code",
   "execution_count": 68,
   "metadata": {},
   "outputs": [
    {
     "data": {
      "text/plain": [
       "np.int64(5129096)"
      ]
     },
     "execution_count": 68,
     "metadata": {},
     "output_type": "execute_result"
    }
   ],
   "source": [
    "national_file = r\"C:\\Users\\matej\\.cache\\kagglehub\\datasets\\kaggle\\us-baby-names\\versions\\2\\NationalNames.csv\"\n",
    "df_national = pd.read_csv(national_file)\n",
    "total_national = df_national[\"Count\"].sum() # computes the number of all babies born in the national dataset\n",
    "#total_national\n",
    "\n",
    "\n",
    "df_count_summed_over_time = df_national.groupby(\"Name\")[[\"Count\"]].sum().reset_index()\n",
    "max_count = df_count_summed_over_time[\"Count\"].max() \n",
    "max_count"
   ]
  },
  {
   "cell_type": "markdown",
   "metadata": {},
   "source": [
    "### Interesting from here"
   ]
  },
  {
   "cell_type": "code",
   "execution_count": null,
   "metadata": {},
   "outputs": [],
   "source": [
    "# Function to find common names nationally but rare at the state level\n",
    "def find_common_national_rare_state(threshold_national=0.7, threshold_state=0.4, sort_by='national', keep_only_the_lowest_state_per_name=False):\n",
    "    \n",
    "    national_file = r\"C:\\Users\\matej\\.cache\\kagglehub\\datasets\\kaggle\\us-baby-names\\versions\\2\\NationalNames.csv\"\n",
    "    df_national = pd.read_csv(national_file)\n",
    "    state_file = r\"C:\\Users\\matej\\.cache\\kagglehub\\datasets\\kaggle\\us-baby-names\\versions\\2\\StateNames.csv\"\n",
    "    df_state = pd.read_csv(state_file)\n",
    "\n",
    "    ### --- NATIONAL DATASET --- ###\n",
    "    \"\"\"\n",
    "    total_national = df_national[\"Count\"].sum() # computes the number of all babies born in the national dataset\n",
    "    df_national[\"Percentage_National\"] = (df_national[\"Count\"] / total_national) * 100 # adding a new column: percentage of each name's occurance in respect to all names\n",
    "    df_national_summary = df_national.groupby(\"Name\")[[\"Count\", \"Percentage_National\"]].sum().reset_index() # groups together all columns with the same baby name, sums count and percentate for all entries of the same name, finally the .reset_index just makes the Name column again a column and not functioning like an index\n",
    "    max_percentage_national = df_national_summary[\"Percentage_National\"].max() # finds the percentage of the most occuring name --> needed so we can normalize by it the occurance of all other names\n",
    "    df_national_summary[\"Relative_Commonness_National\"] = df_national_summary[\"Percentage_National\"] / max_percentage_national # adding a new column which is: normalized relative commonness of each name with respect to the most common baby name (values in range of 1 to 0)\n",
    "    \"\"\"\n",
    "\n",
    "    df_national_summary = df_national.groupby(\"Name\")[[\"Count\"]].sum().reset_index()\n",
    "    max_count = df_national_summary[\"Count\"].max()\n",
    "    df_national_summary[\"Relative_Commonness_National\"] = (df_national_summary[\"Count\"] / max_count)# * 100\n",
    "\n",
    "    ### --- STATE DATASET --- ###\n",
    "    \"\"\"\n",
    "    total_per_state = df_state.groupby(\"State\")[\"Count\"].sum().reset_index().rename(columns={\"Count\": \"Total_State\"}) # comuptes the number of all born babes individually for each state\n",
    "    df_state = df_state.merge(total_per_state, on=\"State\") # Adds a new column for each name the total number of occurances of its name per state. For now, there are still all entries of each name per individual year of its occurance\n",
    "    df_state[\"Percentage_State\"] = (df_state[\"Count\"] / df_state[\"Total_State\"]) * 100 # adding a new column: percentage of each name's occurance in respect to all names per state\n",
    "    df_state_summary = df_state.groupby([\"State\", \"Name\"])[[\"Count\", \"Percentage_State\"]].sum().reset_index() # summing 'Count' and 'Percentage_State' of all occurances over multiple years for the same names (this is done per state)\n",
    "    max_percentage_state_per_state = df_state_summary.groupby(\"State\")[\"Percentage_State\"].transform(\"max\") # for each state, finds the percentage of the most occuring name and does the normalisation in the same fashion as in national dataset above\n",
    "    df_state_summary[\"Relative_Commonness_State\"] = df_state_summary[\"Percentage_State\"] / max_percentage_state_per_state # adding a new column of the relative commonnes of each name with respect to the most occuring name (done individually per state)\n",
    "    \"\"\"\n",
    "    \n",
    "    df_state_summary = df_state.groupby([\"State\", \"Name\"])[\"Count\"].sum().reset_index() # groups dataset by state and name, sums all counts over years for the same name in a particular state, reset_index converts back to pd.df\n",
    "    max_count_per_state = df_state_summary.groupby(\"State\")[\"Count\"].transform(\"max\"), # groups dataset by state, finds the largest value in the count column for each state and stores it as a new column --> the most common name per state\n",
    "    df_state_summary[\"Relative_Commonness_State\"] = df_state_summary[\"Count\"] / max_count_per_state # creates a new column \"Relative_Commonness_State\" which is the ratio of a name's count to the most common name's coun in that particular state\n",
    "\n",
    "\n",
    "\n",
    "    ### --- MERGING NATIONAL & STATE DATASETS --- ###\n",
    "    df_final = df_state_summary.merge(df_national_summary, on=\"Name\", how=\"left\", suffixes=(\"_State\", \"_National\")) # putting the national and state data together so the statistics can be compared\n",
    "\n",
    "    ### --- FILTER NAMES THAT ARE COMMON NATIONALLY BUT RARE AT STATE LEVEL --- ###\n",
    "    # Filter for names with high national relative commonness and low state relative commonness\n",
    "    common_national_rare_state = df_final[(df_final[\"Relative_Commonness_National\"] >= threshold_national) &\n",
    "                                          (df_final[\"Relative_Commonness_State\"] <= threshold_state)]\n",
    "\n",
    "    ### --- KEEP ONLY THE STATE WITH LOWEST COMMONNESS PER NAME --- ###\n",
    "    if keep_only_the_lowest_state_per_name == True:\n",
    "        common_national_rare_state = common_national_rare_state.loc[common_national_rare_state.groupby(\"Name\")[\"Relative_Commonness_State\"].idxmin()]\n",
    "\n",
    "    # Sort the result based on user input\n",
    "    if sort_by == 'national':\n",
    "        common_national_rare_state_sorted = common_national_rare_state.sort_values(by='Relative_Commonness_National', ascending=False)\n",
    "    elif sort_by == 'state':\n",
    "        common_national_rare_state_sorted = common_national_rare_state.sort_values(by='Relative_Commonness_State', ascending=False)\n",
    "    else:\n",
    "        raise ValueError(\"Invalid value for 'sort_by'. Please choose either 'national' or 'state'.\")\n",
    "    \n",
    "\n",
    "\n",
    "    # Return the final sorted DataFrame\n",
    "    return common_national_rare_state_sorted[['Name', 'Relative_Commonness_National', 'Relative_Commonness_State', 'State']]"
   ]
  },
  {
   "cell_type": "code",
   "execution_count": 130,
   "metadata": {},
   "outputs": [
    {
     "data": {
      "text/html": [
       "<div>\n",
       "<style scoped>\n",
       "    .dataframe tbody tr th:only-of-type {\n",
       "        vertical-align: middle;\n",
       "    }\n",
       "\n",
       "    .dataframe tbody tr th {\n",
       "        vertical-align: top;\n",
       "    }\n",
       "\n",
       "    .dataframe thead th {\n",
       "        text-align: right;\n",
       "    }\n",
       "</style>\n",
       "<table border=\"1\" class=\"dataframe\">\n",
       "  <thead>\n",
       "    <tr style=\"text-align: right;\">\n",
       "      <th></th>\n",
       "      <th>State</th>\n",
       "      <th>Total_State</th>\n",
       "    </tr>\n",
       "  </thead>\n",
       "  <tbody>\n",
       "    <tr>\n",
       "      <th>0</th>\n",
       "      <td>AK</td>\n",
       "      <td>413241</td>\n",
       "    </tr>\n",
       "    <tr>\n",
       "      <th>1</th>\n",
       "      <td>AL</td>\n",
       "      <td>5688208</td>\n",
       "    </tr>\n",
       "    <tr>\n",
       "      <th>2</th>\n",
       "      <td>AR</td>\n",
       "      <td>3356575</td>\n",
       "    </tr>\n",
       "    <tr>\n",
       "      <th>3</th>\n",
       "      <td>AZ</td>\n",
       "      <td>3397260</td>\n",
       "    </tr>\n",
       "    <tr>\n",
       "      <th>4</th>\n",
       "      <td>CA</td>\n",
       "      <td>29252805</td>\n",
       "    </tr>\n",
       "    <tr>\n",
       "      <th>5</th>\n",
       "      <td>CO</td>\n",
       "      <td>3475550</td>\n",
       "    </tr>\n",
       "    <tr>\n",
       "      <th>6</th>\n",
       "      <td>CT</td>\n",
       "      <td>3387873</td>\n",
       "    </tr>\n",
       "    <tr>\n",
       "      <th>7</th>\n",
       "      <td>DC</td>\n",
       "      <td>1426777</td>\n",
       "    </tr>\n",
       "    <tr>\n",
       "      <th>8</th>\n",
       "      <td>DE</td>\n",
       "      <td>621932</td>\n",
       "    </tr>\n",
       "    <tr>\n",
       "      <th>9</th>\n",
       "      <td>FL</td>\n",
       "      <td>9457005</td>\n",
       "    </tr>\n",
       "    <tr>\n",
       "      <th>10</th>\n",
       "      <td>GA</td>\n",
       "      <td>8286656</td>\n",
       "    </tr>\n",
       "    <tr>\n",
       "      <th>11</th>\n",
       "      <td>HI</td>\n",
       "      <td>958614</td>\n",
       "    </tr>\n",
       "    <tr>\n",
       "      <th>12</th>\n",
       "      <td>IA</td>\n",
       "      <td>4137536</td>\n",
       "    </tr>\n",
       "    <tr>\n",
       "      <th>13</th>\n",
       "      <td>ID</td>\n",
       "      <td>1162216</td>\n",
       "    </tr>\n",
       "    <tr>\n",
       "      <th>14</th>\n",
       "      <td>IL</td>\n",
       "      <td>15304655</td>\n",
       "    </tr>\n",
       "    <tr>\n",
       "      <th>15</th>\n",
       "      <td>IN</td>\n",
       "      <td>7237478</td>\n",
       "    </tr>\n",
       "    <tr>\n",
       "      <th>16</th>\n",
       "      <td>KS</td>\n",
       "      <td>3241418</td>\n",
       "    </tr>\n",
       "    <tr>\n",
       "      <th>17</th>\n",
       "      <td>KY</td>\n",
       "      <td>5393279</td>\n",
       "    </tr>\n",
       "    <tr>\n",
       "      <th>18</th>\n",
       "      <td>LA</td>\n",
       "      <td>5597283</td>\n",
       "    </tr>\n",
       "    <tr>\n",
       "      <th>19</th>\n",
       "      <td>MA</td>\n",
       "      <td>7632504</td>\n",
       "    </tr>\n",
       "    <tr>\n",
       "      <th>20</th>\n",
       "      <td>MD</td>\n",
       "      <td>4521474</td>\n",
       "    </tr>\n",
       "    <tr>\n",
       "      <th>21</th>\n",
       "      <td>ME</td>\n",
       "      <td>1391490</td>\n",
       "    </tr>\n",
       "    <tr>\n",
       "      <th>22</th>\n",
       "      <td>MI</td>\n",
       "      <td>11734824</td>\n",
       "    </tr>\n",
       "    <tr>\n",
       "      <th>23</th>\n",
       "      <td>MN</td>\n",
       "      <td>5627719</td>\n",
       "    </tr>\n",
       "    <tr>\n",
       "      <th>24</th>\n",
       "      <td>MO</td>\n",
       "      <td>6852163</td>\n",
       "    </tr>\n",
       "    <tr>\n",
       "      <th>25</th>\n",
       "      <td>MS</td>\n",
       "      <td>3994730</td>\n",
       "    </tr>\n",
       "    <tr>\n",
       "      <th>26</th>\n",
       "      <td>MT</td>\n",
       "      <td>949578</td>\n",
       "    </tr>\n",
       "    <tr>\n",
       "      <th>27</th>\n",
       "      <td>NC</td>\n",
       "      <td>8537298</td>\n",
       "    </tr>\n",
       "    <tr>\n",
       "      <th>28</th>\n",
       "      <td>ND</td>\n",
       "      <td>1066892</td>\n",
       "    </tr>\n",
       "    <tr>\n",
       "      <th>29</th>\n",
       "      <td>NE</td>\n",
       "      <td>2273426</td>\n",
       "    </tr>\n",
       "    <tr>\n",
       "      <th>30</th>\n",
       "      <td>NH</td>\n",
       "      <td>963412</td>\n",
       "    </tr>\n",
       "    <tr>\n",
       "      <th>31</th>\n",
       "      <td>NJ</td>\n",
       "      <td>8398176</td>\n",
       "    </tr>\n",
       "    <tr>\n",
       "      <th>32</th>\n",
       "      <td>NM</td>\n",
       "      <td>1656420</td>\n",
       "    </tr>\n",
       "    <tr>\n",
       "      <th>33</th>\n",
       "      <td>NV</td>\n",
       "      <td>867220</td>\n",
       "    </tr>\n",
       "    <tr>\n",
       "      <th>34</th>\n",
       "      <td>NY</td>\n",
       "      <td>23891045</td>\n",
       "    </tr>\n",
       "    <tr>\n",
       "      <th>35</th>\n",
       "      <td>OH</td>\n",
       "      <td>14315490</td>\n",
       "    </tr>\n",
       "    <tr>\n",
       "      <th>36</th>\n",
       "      <td>OK</td>\n",
       "      <td>4174518</td>\n",
       "    </tr>\n",
       "    <tr>\n",
       "      <th>37</th>\n",
       "      <td>OR</td>\n",
       "      <td>2705713</td>\n",
       "    </tr>\n",
       "    <tr>\n",
       "      <th>38</th>\n",
       "      <td>PA</td>\n",
       "      <td>16776664</td>\n",
       "    </tr>\n",
       "    <tr>\n",
       "      <th>39</th>\n",
       "      <td>RI</td>\n",
       "      <td>1155102</td>\n",
       "    </tr>\n",
       "    <tr>\n",
       "      <th>40</th>\n",
       "      <td>SC</td>\n",
       "      <td>4431860</td>\n",
       "    </tr>\n",
       "    <tr>\n",
       "      <th>41</th>\n",
       "      <td>SD</td>\n",
       "      <td>1056616</td>\n",
       "    </tr>\n",
       "    <tr>\n",
       "      <th>42</th>\n",
       "      <td>TN</td>\n",
       "      <td>6381224</td>\n",
       "    </tr>\n",
       "    <tr>\n",
       "      <th>43</th>\n",
       "      <td>TX</td>\n",
       "      <td>21820683</td>\n",
       "    </tr>\n",
       "    <tr>\n",
       "      <th>44</th>\n",
       "      <td>UT</td>\n",
       "      <td>2345758</td>\n",
       "    </tr>\n",
       "    <tr>\n",
       "      <th>45</th>\n",
       "      <td>VA</td>\n",
       "      <td>6773770</td>\n",
       "    </tr>\n",
       "    <tr>\n",
       "      <th>46</th>\n",
       "      <td>VT</td>\n",
       "      <td>549152</td>\n",
       "    </tr>\n",
       "    <tr>\n",
       "      <th>47</th>\n",
       "      <td>WA</td>\n",
       "      <td>4699924</td>\n",
       "    </tr>\n",
       "    <tr>\n",
       "      <th>48</th>\n",
       "      <td>WI</td>\n",
       "      <td>6139093</td>\n",
       "    </tr>\n",
       "    <tr>\n",
       "      <th>49</th>\n",
       "      <td>WV</td>\n",
       "      <td>2976818</td>\n",
       "    </tr>\n",
       "    <tr>\n",
       "      <th>50</th>\n",
       "      <td>WY</td>\n",
       "      <td>426209</td>\n",
       "    </tr>\n",
       "  </tbody>\n",
       "</table>\n",
       "</div>"
      ],
      "text/plain": [
       "   State  Total_State\n",
       "0     AK       413241\n",
       "1     AL      5688208\n",
       "2     AR      3356575\n",
       "3     AZ      3397260\n",
       "4     CA     29252805\n",
       "5     CO      3475550\n",
       "6     CT      3387873\n",
       "7     DC      1426777\n",
       "8     DE       621932\n",
       "9     FL      9457005\n",
       "10    GA      8286656\n",
       "11    HI       958614\n",
       "12    IA      4137536\n",
       "13    ID      1162216\n",
       "14    IL     15304655\n",
       "15    IN      7237478\n",
       "16    KS      3241418\n",
       "17    KY      5393279\n",
       "18    LA      5597283\n",
       "19    MA      7632504\n",
       "20    MD      4521474\n",
       "21    ME      1391490\n",
       "22    MI     11734824\n",
       "23    MN      5627719\n",
       "24    MO      6852163\n",
       "25    MS      3994730\n",
       "26    MT       949578\n",
       "27    NC      8537298\n",
       "28    ND      1066892\n",
       "29    NE      2273426\n",
       "30    NH       963412\n",
       "31    NJ      8398176\n",
       "32    NM      1656420\n",
       "33    NV       867220\n",
       "34    NY     23891045\n",
       "35    OH     14315490\n",
       "36    OK      4174518\n",
       "37    OR      2705713\n",
       "38    PA     16776664\n",
       "39    RI      1155102\n",
       "40    SC      4431860\n",
       "41    SD      1056616\n",
       "42    TN      6381224\n",
       "43    TX     21820683\n",
       "44    UT      2345758\n",
       "45    VA      6773770\n",
       "46    VT       549152\n",
       "47    WA      4699924\n",
       "48    WI      6139093\n",
       "49    WV      2976818\n",
       "50    WY       426209"
      ]
     },
     "execution_count": 130,
     "metadata": {},
     "output_type": "execute_result"
    }
   ],
   "source": [
    "state_file = r\"C:\\Users\\matej\\.cache\\kagglehub\\datasets\\kaggle\\us-baby-names\\versions\\2\\StateNames.csv\"\n",
    "df_state = pd.read_csv(state_file)\n",
    "total_per_state = df_state.groupby(\"State\")[\"Count\"].sum().reset_index().rename(columns={\"Count\": \"Total_State\"}) # comuptes the number of all born babes individually for each state\n",
    "total_per_state"
   ]
  },
  {
   "cell_type": "code",
   "execution_count": 133,
   "metadata": {},
   "outputs": [
    {
     "name": "stdout",
     "output_type": "stream",
     "text": [
      "           Name  Relative_Commonness_National  Relative_Commonness_State State\n",
      "223946    James                      1.000000                   0.626843    RI\n",
      "235901     John                      0.995612                   0.553058    TN\n",
      "229297   Robert                      0.939110                   0.512467    SC\n",
      "179092  William                      0.793779                   0.490660    NM\n",
      "148973  Michael                      0.844360                   0.305028    MS\n",
      "181128     Mary                      0.805296                   0.244779    NV\n"
     ]
    }
   ],
   "source": [
    "# Call the function (example: sorted by national relative commonness)\n",
    "result = find_common_national_rare_state(threshold_national=0.75, threshold_state=0.65, sort_by='state', keep_only_the_lowest_state_per_name=True)\n",
    "\n",
    "# Display the results\n",
    "print(result)"
   ]
  },
  {
   "cell_type": "code",
   "execution_count": 180,
   "metadata": {},
   "outputs": [
    {
     "name": "stdout",
     "output_type": "stream",
     "text": [
      "           Name  Relative_Commonness_National  Relative_Commonness_State State\n",
      "223946    James                      1.000000                   0.626843    RI\n",
      "235901     John                      0.995612                   0.553058    TN\n",
      "229297   Robert                      0.939110                   0.512467    SC\n",
      "179092  William                      0.793779                   0.490660    NM\n",
      "148973  Michael                      0.844360                   0.305028    MS\n",
      "181128     Mary                      0.805296                   0.244779    NV\n"
     ]
    }
   ],
   "source": [
    "# Call the function (example: sorted by national relative commonness)\n",
    "result = find_common_national_rare_state(threshold_national=0.75, threshold_state=0.65, sort_by='state', keep_only_the_lowest_state_per_name=True)\n",
    "\n",
    "# Display the results\n",
    "print(result)"
   ]
  },
  {
   "cell_type": "code",
   "execution_count": 152,
   "metadata": {},
   "outputs": [
    {
     "name": "stdout",
     "output_type": "stream",
     "text": [
      "Collecting seaborn\n",
      "  Downloading seaborn-0.13.2-py3-none-any.whl.metadata (5.4 kB)\n",
      "Requirement already satisfied: numpy!=1.24.0,>=1.20 in c:\\users\\matej\\appdata\\local\\packages\\pythonsoftwarefoundation.python.3.11_qbz5n2kfra8p0\\localcache\\local-packages\\python311\\site-packages (from seaborn) (2.2.3)\n",
      "Requirement already satisfied: pandas>=1.2 in c:\\users\\matej\\appdata\\local\\packages\\pythonsoftwarefoundation.python.3.11_qbz5n2kfra8p0\\localcache\\local-packages\\python311\\site-packages (from seaborn) (2.2.3)\n",
      "Requirement already satisfied: matplotlib!=3.6.1,>=3.4 in c:\\users\\matej\\appdata\\local\\packages\\pythonsoftwarefoundation.python.3.11_qbz5n2kfra8p0\\localcache\\local-packages\\python311\\site-packages (from seaborn) (3.10.1)\n",
      "Requirement already satisfied: contourpy>=1.0.1 in c:\\users\\matej\\appdata\\local\\packages\\pythonsoftwarefoundation.python.3.11_qbz5n2kfra8p0\\localcache\\local-packages\\python311\\site-packages (from matplotlib!=3.6.1,>=3.4->seaborn) (1.3.1)\n",
      "Requirement already satisfied: cycler>=0.10 in c:\\users\\matej\\appdata\\local\\packages\\pythonsoftwarefoundation.python.3.11_qbz5n2kfra8p0\\localcache\\local-packages\\python311\\site-packages (from matplotlib!=3.6.1,>=3.4->seaborn) (0.12.1)\n",
      "Requirement already satisfied: fonttools>=4.22.0 in c:\\users\\matej\\appdata\\local\\packages\\pythonsoftwarefoundation.python.3.11_qbz5n2kfra8p0\\localcache\\local-packages\\python311\\site-packages (from matplotlib!=3.6.1,>=3.4->seaborn) (4.56.0)\n",
      "Requirement already satisfied: kiwisolver>=1.3.1 in c:\\users\\matej\\appdata\\local\\packages\\pythonsoftwarefoundation.python.3.11_qbz5n2kfra8p0\\localcache\\local-packages\\python311\\site-packages (from matplotlib!=3.6.1,>=3.4->seaborn) (1.4.8)\n",
      "Requirement already satisfied: packaging>=20.0 in c:\\users\\matej\\appdata\\local\\packages\\pythonsoftwarefoundation.python.3.11_qbz5n2kfra8p0\\localcache\\local-packages\\python311\\site-packages (from matplotlib!=3.6.1,>=3.4->seaborn) (24.2)\n",
      "Requirement already satisfied: pillow>=8 in c:\\users\\matej\\appdata\\local\\packages\\pythonsoftwarefoundation.python.3.11_qbz5n2kfra8p0\\localcache\\local-packages\\python311\\site-packages (from matplotlib!=3.6.1,>=3.4->seaborn) (11.1.0)\n",
      "Requirement already satisfied: pyparsing>=2.3.1 in c:\\users\\matej\\appdata\\local\\packages\\pythonsoftwarefoundation.python.3.11_qbz5n2kfra8p0\\localcache\\local-packages\\python311\\site-packages (from matplotlib!=3.6.1,>=3.4->seaborn) (3.2.1)\n",
      "Requirement already satisfied: python-dateutil>=2.7 in c:\\users\\matej\\appdata\\local\\packages\\pythonsoftwarefoundation.python.3.11_qbz5n2kfra8p0\\localcache\\local-packages\\python311\\site-packages (from matplotlib!=3.6.1,>=3.4->seaborn) (2.9.0.post0)\n",
      "Requirement already satisfied: pytz>=2020.1 in c:\\users\\matej\\appdata\\local\\packages\\pythonsoftwarefoundation.python.3.11_qbz5n2kfra8p0\\localcache\\local-packages\\python311\\site-packages (from pandas>=1.2->seaborn) (2025.1)\n",
      "Requirement already satisfied: tzdata>=2022.7 in c:\\users\\matej\\appdata\\local\\packages\\pythonsoftwarefoundation.python.3.11_qbz5n2kfra8p0\\localcache\\local-packages\\python311\\site-packages (from pandas>=1.2->seaborn) (2025.1)\n",
      "Requirement already satisfied: six>=1.5 in c:\\users\\matej\\appdata\\local\\packages\\pythonsoftwarefoundation.python.3.11_qbz5n2kfra8p0\\localcache\\local-packages\\python311\\site-packages (from python-dateutil>=2.7->matplotlib!=3.6.1,>=3.4->seaborn) (1.17.0)\n",
      "Downloading seaborn-0.13.2-py3-none-any.whl (294 kB)\n",
      "   ---------------------------------------- 0.0/294.9 kB ? eta -:--:--\n",
      "   ---- ----------------------------------- 30.7/294.9 kB 1.4 MB/s eta 0:00:01\n",
      "   ------------------------ --------------- 184.3/294.9 kB 2.8 MB/s eta 0:00:01\n",
      "   ---------------------------------------- 294.9/294.9 kB 3.1 MB/s eta 0:00:00\n",
      "Installing collected packages: seaborn\n",
      "Successfully installed seaborn-0.13.2\n",
      "Note: you may need to restart the kernel to use updated packages.\n"
     ]
    },
    {
     "name": "stderr",
     "output_type": "stream",
     "text": [
      "\n",
      "[notice] A new release of pip is available: 24.0 -> 25.0.1\n",
      "[notice] To update, run: C:\\Users\\matej\\AppData\\Local\\Microsoft\\WindowsApps\\PythonSoftwareFoundation.Python.3.11_qbz5n2kfra8p0\\python.exe -m pip install --upgrade pip\n"
     ]
    }
   ],
   "source": [
    "%pip install seaborn\n",
    "import seaborn as sns"
   ]
  },
  {
   "cell_type": "code",
   "execution_count": null,
   "metadata": {},
   "outputs": [],
   "source": [
    "def plot_name_commonness(name):\n",
    "    \"\"\"\n",
    "    Plots the distribution of Relative_Commonness_State for a given name\n",
    "    and includes Relative_Commonness_National in the title.\n",
    "    \n",
    "    Parameters:\n",
    "    name (str): The name to analyze.\n",
    "    \"\"\"\n",
    "\n",
    "    # Load datasets\n",
    "    national_file = r\"C:\\Users\\matej\\.cache\\kagglehub\\datasets\\kaggle\\us-baby-names\\versions\\2\\NationalNames.csv\"\n",
    "    df_national = pd.read_csv(national_file)\n",
    "    state_file = r\"C:\\Users\\matej\\.cache\\kagglehub\\datasets\\kaggle\\us-baby-names\\versions\\2\\StateNames.csv\"\n",
    "    df_state = pd.read_csv(state_file)\n",
    "\n",
    "    ### --- NATIONAL DATASET --- ###\n",
    "    total_national = df_national[\"Count\"].sum()\n",
    "    df_national[\"Percentage_National\"] = (df_national[\"Count\"] / total_national) * 100\n",
    "    df_national_summary = df_national.groupby(\"Name\")[[\"Count\", \"Percentage_National\"]].sum().reset_index()\n",
    "    max_percentage_national = df_national_summary[\"Percentage_National\"].max()\n",
    "    df_national_summary[\"Relative_Commonness_National\"] = df_national_summary[\"Percentage_National\"] / max_percentage_national\n",
    "\n",
    "    ### --- STATE DATASET --- ###\n",
    "    total_per_state = df_state.groupby(\"State\")[\"Count\"].sum().reset_index().rename(columns={\"Count\": \"Total_State\"})\n",
    "    df_state = df_state.merge(total_per_state, on=\"State\")\n",
    "    df_state[\"Percentage_State\"] = (df_state[\"Count\"] / df_state[\"Total_State\"]) * 100\n",
    "    df_state_summary = df_state.groupby([\"State\", \"Name\"])[[\"Count\", \"Percentage_State\"]].sum().reset_index()\n",
    "    max_percentage_state_per_state = df_state_summary.groupby(\"State\")[\"Percentage_State\"].transform(\"max\")\n",
    "    df_state_summary[\"Relative_Commonness_State\"] = df_state_summary[\"Percentage_State\"] / max_percentage_state_per_state\n",
    "\n",
    "    ### --- MERGING NATIONAL & STATE DATASETS --- ###\n",
    "    df_final = df_state_summary.merge(df_national_summary, on=\"Name\", how=\"left\", suffixes=(\"_State\", \"_National\"))\n",
    "\n",
    "    ### --- FILTER FOR SPECIFIC NAME --- ###\n",
    "    name_data = df_final[df_final[\"Name\"] == name]\n",
    "\n",
    "    if name_data.empty:\n",
    "        print(f\"No data found for the name '{name}'.\")\n",
    "        return\n",
    "\n",
    "    # Extract Relative_Commonness_National for title\n",
    "    relative_commonness_national = name_data[\"Relative_Commonness_National\"].iloc[0]\n",
    "\n",
    "    ### --- PLOT DISTRIBUTION --- ###\n",
    "    plt.figure(figsize=(10, 5))\n",
    "    sns.barplot(x=\"State\", y=\"Relative_Commonness_State\", data=name_data, color = 'Blue')\n",
    "    plt.xticks(rotation=90)\n",
    "    plt.xlabel(\"State\")\n",
    "    plt.ylabel(\"Relative Commonness (State)\")\n",
    "    plt.title(f\"Distribution of '{name}' across states\\nRelative Commonness National: {relative_commonness_national:.2f}\")\n",
    "    plt.show()"
   ]
  },
  {
   "cell_type": "code",
   "execution_count": 182,
   "metadata": {},
   "outputs": [
    {
     "data": {
      "image/png": "[encoded data removed]",
      "text/plain": [
       "<Figure size 1000x500 with 1 Axes>"
      ]
     },
     "metadata": {},
     "output_type": "display_data"
    }
   ],
   "source": [
    "plot_name_commonness(name='Michael')"
   ]
  },
  {
   "cell_type": "code",
   "execution_count": 183,
   "metadata": {},
   "outputs": [
    {
     "data": {
      "image/png": "[encoded data removed]",
      "text/plain": [
       "<Figure size 1000x500 with 1 Axes>"
      ]
     },
     "metadata": {},
     "output_type": "display_data"
    }
   ],
   "source": [
    "plot_name_commonness(name='Mary')"
   ]
  },
  {
   "cell_type": "code",
   "execution_count": 142,
   "metadata": {},
   "outputs": [
    {
     "data": {
      "text/html": [
       "<div>\n",
       "<style scoped>\n",
       "    .dataframe tbody tr th:only-of-type {\n",
       "        vertical-align: middle;\n",
       "    }\n",
       "\n",
       "    .dataframe tbody tr th {\n",
       "        vertical-align: top;\n",
       "    }\n",
       "\n",
       "    .dataframe thead th {\n",
       "        text-align: right;\n",
       "    }\n",
       "</style>\n",
       "<table border=\"1\" class=\"dataframe\">\n",
       "  <thead>\n",
       "    <tr style=\"text-align: right;\">\n",
       "      <th></th>\n",
       "      <th>Name</th>\n",
       "      <th>Count</th>\n",
       "      <th>Percentage_National</th>\n",
       "      <th>Relative_Commonness_National</th>\n",
       "    </tr>\n",
       "  </thead>\n",
       "  <tbody>\n",
       "    <tr>\n",
       "      <th>0</th>\n",
       "      <td>Aaban</td>\n",
       "      <td>72</td>\n",
       "      <td>0.000021</td>\n",
       "      <td>1.403756e-05</td>\n",
       "    </tr>\n",
       "    <tr>\n",
       "      <th>1</th>\n",
       "      <td>Aabha</td>\n",
       "      <td>21</td>\n",
       "      <td>0.000006</td>\n",
       "      <td>4.094289e-06</td>\n",
       "    </tr>\n",
       "    <tr>\n",
       "      <th>2</th>\n",
       "      <td>Aabid</td>\n",
       "      <td>5</td>\n",
       "      <td>0.000001</td>\n",
       "      <td>9.748307e-07</td>\n",
       "    </tr>\n",
       "    <tr>\n",
       "      <th>3</th>\n",
       "      <td>Aabriella</td>\n",
       "      <td>10</td>\n",
       "      <td>0.000003</td>\n",
       "      <td>1.949661e-06</td>\n",
       "    </tr>\n",
       "    <tr>\n",
       "      <th>4</th>\n",
       "      <td>Aadam</td>\n",
       "      <td>196</td>\n",
       "      <td>0.000058</td>\n",
       "      <td>3.821336e-05</td>\n",
       "    </tr>\n",
       "    <tr>\n",
       "      <th>...</th>\n",
       "      <td>...</td>\n",
       "      <td>...</td>\n",
       "      <td>...</td>\n",
       "      <td>...</td>\n",
       "    </tr>\n",
       "    <tr>\n",
       "      <th>93884</th>\n",
       "      <td>Zytavious</td>\n",
       "      <td>43</td>\n",
       "      <td>0.000013</td>\n",
       "      <td>8.383544e-06</td>\n",
       "    </tr>\n",
       "    <tr>\n",
       "      <th>93885</th>\n",
       "      <td>Zyvion</td>\n",
       "      <td>5</td>\n",
       "      <td>0.000001</td>\n",
       "      <td>9.748307e-07</td>\n",
       "    </tr>\n",
       "    <tr>\n",
       "      <th>93886</th>\n",
       "      <td>Zyyanna</td>\n",
       "      <td>6</td>\n",
       "      <td>0.000002</td>\n",
       "      <td>1.169797e-06</td>\n",
       "    </tr>\n",
       "    <tr>\n",
       "      <th>93887</th>\n",
       "      <td>Zyyon</td>\n",
       "      <td>6</td>\n",
       "      <td>0.000002</td>\n",
       "      <td>1.169797e-06</td>\n",
       "    </tr>\n",
       "    <tr>\n",
       "      <th>93888</th>\n",
       "      <td>Zzyzx</td>\n",
       "      <td>5</td>\n",
       "      <td>0.000001</td>\n",
       "      <td>9.748307e-07</td>\n",
       "    </tr>\n",
       "  </tbody>\n",
       "</table>\n",
       "<p>93889 rows × 4 columns</p>\n",
       "</div>"
      ],
      "text/plain": [
       "            Name  Count  Percentage_National  Relative_Commonness_National\n",
       "0          Aaban     72             0.000021                  1.403756e-05\n",
       "1          Aabha     21             0.000006                  4.094289e-06\n",
       "2          Aabid      5             0.000001                  9.748307e-07\n",
       "3      Aabriella     10             0.000003                  1.949661e-06\n",
       "4          Aadam    196             0.000058                  3.821336e-05\n",
       "...          ...    ...                  ...                           ...\n",
       "93884  Zytavious     43             0.000013                  8.383544e-06\n",
       "93885     Zyvion      5             0.000001                  9.748307e-07\n",
       "93886    Zyyanna      6             0.000002                  1.169797e-06\n",
       "93887      Zyyon      6             0.000002                  1.169797e-06\n",
       "93888      Zzyzx      5             0.000001                  9.748307e-07\n",
       "\n",
       "[93889 rows x 4 columns]"
      ]
     },
     "execution_count": 142,
     "metadata": {},
     "output_type": "execute_result"
    }
   ],
   "source": [
    "df_national[\"Percentage_National\"] = (df_national[\"Count\"] / total_national) * 100\n",
    "#df_national[\"Percentage_National\"]\n",
    "\n",
    "df_national_summary = df_national.groupby(\"Name\")[[\"Count\", \"Percentage_National\"]].sum().reset_index()\n",
    "max_percentage_national = df_national_summary[\"Percentage_National\"].max()\n",
    "df_national_summary[\"Relative_Commonness_National\"] = df_national_summary[\"Percentage_National\"] / max_percentage_national\n",
    "\n",
    "df_national_summary"
   ]
  },
  {
   "cell_type": "code",
   "execution_count": 147,
   "metadata": {},
   "outputs": [
    {
     "name": "stdout",
     "output_type": "stream",
     "text": [
      "       State  Name   Count  Percentage_State  Relative_Commonness_State\n",
      "1082      AK  Mary    3936          0.952471                   0.487491\n",
      "5942      AL  Mary  115889          2.037355                   0.735850\n",
      "11274     AR  Mary   58679          1.748181                   0.688656\n",
      "16508     AZ  Mary   22752          0.669716                   0.506467\n",
      "30345     CA  Mary  152533          0.521430                   0.359252\n",
      "40258     CO  Mary   31586          0.908806                   0.649370\n",
      "44164     CT  Mary   41659          1.229651                   0.523210\n",
      "46957     DC  Mary   22390          1.569271                   0.654851\n",
      "48986     DE  Mary    8407          1.351755                   0.555761\n",
      "56578     FL  Mary   66280          0.700856                   0.471402\n",
      "66274     GA  Mary  124895          1.507182                   0.682479\n",
      "71331     HI  Mary    5776          0.602537                   0.419951\n",
      "75253     IA  Mary   61742          1.492241                   0.869434\n",
      "78449     ID  Mary    9894          0.851305                   0.591357\n",
      "86501     IL  Mary  200359          1.309138                   0.723464\n",
      "94438     IN  Mary  100727          1.391742                   0.784527\n",
      "99302     KS  Mary   43053          1.328215                   0.841092\n",
      "104131    KY  Mary  103433          1.917813                   0.717926\n",
      "110338    LA  Mary   78575          1.403806                   0.897169\n",
      "116035    MA  Mary  116272          1.523379                   0.585423\n",
      "121244    MD  Mary   63880          1.412814                   0.736496\n",
      "124538    ME  Mary   14579          1.047726                   0.548289\n",
      "130935    MI  Mary  137387          1.170763                   0.637917\n",
      "137297    MN  Mary   70695          1.256193                   0.835895\n",
      "143257    MO  Mary  105655          1.541922                   0.853647\n",
      "148881    MS  Mary   87101          2.180398                   0.759851\n",
      "152083    MT  Mary   12889          1.357340                   0.692138\n",
      "158394    NC  Mary  133604          1.564945                   0.642444\n",
      "162827    ND  Mary   13036          1.221867                   0.801377\n",
      "165809    NE  Mary   30060          1.322233                   0.755049\n",
      "168046    NH  Mary    8451          0.877195                   0.434142\n",
      "173250    NJ  Mary   90392          1.076329                   0.460547\n",
      "178146    NM  Mary   23823          1.438222                   1.000000\n",
      "181128    NV  Mary    3317          0.382487                   0.244779\n",
      "190835    NY  Mary  277372          1.160987                   0.560235\n",
      "202007    OH  Mary  201281          1.406036                   0.723436\n",
      "208617    OK  Mary   55856          1.338023                   0.751844\n",
      "213148    OR  Mary   19702          0.728163                   0.495947\n",
      "220231    PA  Mary  292159          1.741461                   0.697483\n",
      "224396    RI  Mary   16503          1.428705                   0.558213\n",
      "228614    SC  Mary   83725          1.889162                   0.657900\n",
      "232053    SD  Mary   14218          1.345617                   0.792310\n",
      "237334    TN  Mary  105815          1.658224                   0.616318\n",
      "250527    TX  Mary  210119          0.962935                   0.766863\n",
      "258913    UT  Mary   13590          0.579344                   0.473470\n",
      "264972    VA  Mary   96140          1.419298                   0.650716\n",
      "268207    VT  Mary    7653          1.393603                   0.657079\n",
      "272614    WA  Mary   34015          0.723735                   0.490596\n",
      "278156    WI  Mary   83881          1.366342                   0.801830\n",
      "281994    WV  Mary   58586          1.968075                   0.772862\n",
      "284003    WY  Mary    6174          1.448585                   0.686458\n"
     ]
    }
   ],
   "source": [
    "state_file = r\"C:\\Users\\matej\\.cache\\kagglehub\\datasets\\kaggle\\us-baby-names\\versions\\2\\StateNames.csv\"\n",
    "df_state = pd.read_csv(state_file)\n",
    "total_per_state = df_state.groupby(\"State\")[\"Count\"].sum().reset_index().rename(columns={\"Count\": \"Total_State\"}) # comuptes the number of all born babes individually for each state\n",
    "df_state = df_state.merge(total_per_state, on=\"State\")\n",
    "\n",
    "\n",
    "# Compute percentage of each name per state\n",
    "df_state[\"Percentage_State\"] = (df_state[\"Count\"] / df_state[\"Total_State\"]) * 100\n",
    "\n",
    "# Create state summary (sum counts per name, per state)\n",
    "df_state_summary = df_state.groupby([\"State\", \"Name\"])[[\"Count\", \"Percentage_State\"]].sum().reset_index()\n",
    "\n",
    "# Compute relative commonness for state dataset (per state)\n",
    "max_percentage_state_per_state = df_state_summary.groupby(\"State\")[\"Percentage_State\"].transform(\"max\")\n",
    "df_state_summary[\"Relative_Commonness_State\"] = df_state_summary[\"Percentage_State\"] / max_percentage_state_per_state\n",
    "\n",
    "# Filter occurrences of the name \"Mary\"\n",
    "df_mary = df_state_summary[df_state_summary[\"Name\"] == \"Mary\"]\n",
    "\n",
    "# Print all occurrences of \"Mary\"\n",
    "print(df_mary)"
   ]
  },
  {
   "cell_type": "code",
   "execution_count": 137,
   "metadata": {},
   "outputs": [
    {
     "name": "stdout",
     "output_type": "stream",
     "text": [
      "           Name  Count_National  Count_State\n",
      "53965    Linden            4102        384.0\n",
      "14016    Carlin            4035        284.0\n",
      "17109    Clarke            3905        373.0\n",
      "14086    Carman            3465        285.0\n",
      "64796    Nevada            3461        206.0\n",
      "...         ...             ...          ...\n",
      "8018      Ashay              50          0.0\n",
      "77400  Shareeta              50          0.0\n",
      "79507    Siller              50          0.0\n",
      "44210    Kamili              50          0.0\n",
      "70002     Raimi              50          0.0\n",
      "\n",
      "[28684 rows x 3 columns]\n"
     ]
    },
    {
     "name": "stderr",
     "output_type": "stream",
     "text": [
      "C:\\Users\\matej\\AppData\\Local\\Temp\\ipykernel_40916\\425273555.py:29: FutureWarning: A value is trying to be set on a copy of a DataFrame or Series through chained assignment using an inplace method.\n",
      "The behavior will change in pandas 3.0. This inplace method will never work because the intermediate object on which we are setting values always behaves as a copy.\n",
      "\n",
      "For example, when doing 'df[col].method(value, inplace=True)', try using 'df.method({col: value}, inplace=True)' or df[col] = df[col].method(value) instead, to perform the operation inplace on the original object.\n",
      "\n",
      "\n",
      "  merged_counts[\"Count_State\"].fillna(0, inplace=True)\n"
     ]
    }
   ],
   "source": [
    "def common_national_rare_state(national_file, state_file, min_national_count=5, state_threshold=0.1):\n",
    "    \"\"\"\n",
    "    Finds names that are common nationally but rare at the state level.\n",
    "    \n",
    "    Parameters:\n",
    "    - national_file (str): Path to the National dataset CSV file.\n",
    "    - state_file (str): Path to the State dataset CSV file.\n",
    "    - min_national_count (int): Minimum count for a name to be considered 'common' nationally.\n",
    "    - state_threshold (float): Percentage threshold for a name to be considered 'rare' at the state level.\n",
    "    \n",
    "    Returns:\n",
    "    - DataFrame with names that are common nationally but rare at the state level.\n",
    "    \"\"\"\n",
    "    \n",
    "    # Load the datasets\n",
    "    df_national = pd.read_csv(national_file)\n",
    "    df_state = pd.read_csv(state_file)\n",
    "\n",
    "    # Aggregate national counts\n",
    "    national_counts = df_national.groupby(\"Name\")[\"Count\"].sum().reset_index()\n",
    "    \n",
    "    # Aggregate state counts (sum over all states)\n",
    "    state_counts = df_state.groupby(\"Name\")[\"Count\"].sum().reset_index()\n",
    "    \n",
    "    # Merge national and state counts\n",
    "    merged_counts = national_counts.merge(state_counts, on=\"Name\", how=\"left\", suffixes=(\"_National\", \"_State\"))\n",
    "\n",
    "    # Fill NaN values (if a name is missing in the state dataset, set state count to 0)\n",
    "    merged_counts[\"Count_State\"].fillna(0, inplace=True)\n",
    "\n",
    "    # Filter names that are common nationally but rare at the state level\n",
    "    filtered_names = merged_counts[\n",
    "        (merged_counts[\"Count_National\"] >= min_national_count) & \n",
    "        (merged_counts[\"Count_State\"] <= merged_counts[\"Count_National\"] * state_threshold)\n",
    "    ]\n",
    "\n",
    "    return filtered_names.sort_values(by=\"Count_National\", ascending=False)\n",
    "\n",
    "# Example Usage:\n",
    "national_file = r\"C:\\Users\\matej\\.cache\\kagglehub\\datasets\\kaggle\\us-baby-names\\versions\\2\\NationalNames.csv\"\n",
    "state_file = r\"C:\\Users\\matej\\.cache\\kagglehub\\datasets\\kaggle\\us-baby-names\\versions\\2\\StateNames.csv\"\n",
    "\n",
    "rare_state_names = common_national_rare_state(national_file, state_file, min_national_count=50, state_threshold=0.1)\n",
    "print(rare_state_names)"
   ]
  },
  {
   "cell_type": "code",
   "execution_count": 132,
   "metadata": {},
   "outputs": [
    {
     "name": "stdout",
     "output_type": "stream",
     "text": [
      "           Name  Count_National  Count_State\n",
      "53965    Linden            4102        384.0\n",
      "14016    Carlin            4035        284.0\n",
      "17109    Clarke            3905        373.0\n",
      "14086    Carman            3465        285.0\n",
      "64796    Nevada            3461        206.0\n",
      "...         ...             ...          ...\n",
      "8018      Ashay              50          0.0\n",
      "77400  Shareeta              50          0.0\n",
      "79507    Siller              50          0.0\n",
      "44210    Kamili              50          0.0\n",
      "70002     Raimi              50          0.0\n",
      "\n",
      "[28684 rows x 3 columns]\n"
     ]
    },
    {
     "name": "stderr",
     "output_type": "stream",
     "text": [
      "C:\\Users\\matej\\AppData\\Local\\Temp\\ipykernel_40916\\256596151.py:29: FutureWarning: A value is trying to be set on a copy of a DataFrame or Series through chained assignment using an inplace method.\n",
      "The behavior will change in pandas 3.0. This inplace method will never work because the intermediate object on which we are setting values always behaves as a copy.\n",
      "\n",
      "For example, when doing 'df[col].method(value, inplace=True)', try using 'df.method({col: value}, inplace=True)' or df[col] = df[col].method(value) instead, to perform the operation inplace on the original object.\n",
      "\n",
      "\n",
      "  merged_counts[\"Count_State\"].fillna(0, inplace=True)\n"
     ]
    }
   ],
   "source": [
    "def common_national_rare_state(national_file, state_file, min_national_count=5000, state_threshold=0.1):\n",
    "    \"\"\"\n",
    "    Finds names that are common nationally but rare at the state level.\n",
    "    \n",
    "    Parameters:\n",
    "    - national_file (str): Path to the National dataset CSV file.\n",
    "    - state_file (str): Path to the State dataset CSV file.\n",
    "    - min_national_count (int): Minimum count for a name to be considered 'common' nationally.\n",
    "    - state_threshold (float): Percentage threshold for a name to be considered 'rare' at the state level.\n",
    "    \n",
    "    Returns:\n",
    "    - DataFrame with names that are common nationally but rare at the state level.\n",
    "    \"\"\"\n",
    "    \n",
    "    # Load the datasets\n",
    "    df_national = pd.read_csv(national_file)\n",
    "    df_state = pd.read_csv(state_file)\n",
    "\n",
    "    # Aggregate national counts\n",
    "    national_counts = df_national.groupby(\"Name\")[\"Count\"].sum().reset_index()\n",
    "    \n",
    "    # Aggregate state counts (sum over all states)\n",
    "    state_counts = df_state.groupby(\"Name\")[\"Count\"].sum().reset_index()\n",
    "    \n",
    "    # Merge national and state counts\n",
    "    merged_counts = national_counts.merge(state_counts, on=\"Name\", how=\"left\", suffixes=(\"_National\", \"_State\"))\n",
    "\n",
    "    # Fill NaN values (if a name is missing in the state dataset, set state count to 0)\n",
    "    merged_counts[\"Count_State\"].fillna(0, inplace=True)\n",
    "\n",
    "    # Filter names that are common nationally but rare at the state level\n",
    "    filtered_names = merged_counts[\n",
    "        (merged_counts[\"Count_National\"] >= min_national_count) & \n",
    "        (merged_counts[\"Count_State\"] <= merged_counts[\"Count_National\"] * state_threshold)\n",
    "    ]\n",
    "\n",
    "    return filtered_names.sort_values(by=\"Count_National\", ascending=False)\n",
    "\n",
    "# Example Usage:\n",
    "national_file = r\"C:\\Users\\matej\\.cache\\kagglehub\\datasets\\kaggle\\us-baby-names\\versions\\2\\NationalNames.csv\"\n",
    "state_file = r\"C:\\Users\\matej\\.cache\\kagglehub\\datasets\\kaggle\\us-baby-names\\versions\\2\\StateNames.csv\"\n",
    "\n",
    "rare_state_names = common_national_rare_state(national_file, state_file, min_national_count=50, state_threshold=0.1)\n",
    "print(rare_state_names)"
   ]
  },
  {
   "cell_type": "markdown",
   "metadata": {},
   "source": []
  },
  {
   "cell_type": "code",
   "execution_count": 136,
   "metadata": {},
   "outputs": [
    {
     "data": {
      "text/html": [
       "<div>\n",
       "<style scoped>\n",
       "    .dataframe tbody tr th:only-of-type {\n",
       "        vertical-align: middle;\n",
       "    }\n",
       "\n",
       "    .dataframe tbody tr th {\n",
       "        vertical-align: top;\n",
       "    }\n",
       "\n",
       "    .dataframe thead th {\n",
       "        text-align: right;\n",
       "    }\n",
       "</style>\n",
       "<table border=\"1\" class=\"dataframe\">\n",
       "  <thead>\n",
       "    <tr style=\"text-align: right;\">\n",
       "      <th></th>\n",
       "      <th>Name</th>\n",
       "      <th>Count</th>\n",
       "    </tr>\n",
       "  </thead>\n",
       "  <tbody>\n",
       "    <tr>\n",
       "      <th>0</th>\n",
       "      <td>Aaban</td>\n",
       "      <td>72</td>\n",
       "    </tr>\n",
       "    <tr>\n",
       "      <th>1</th>\n",
       "      <td>Aabha</td>\n",
       "      <td>21</td>\n",
       "    </tr>\n",
       "    <tr>\n",
       "      <th>2</th>\n",
       "      <td>Aabriella</td>\n",
       "      <td>10</td>\n",
       "    </tr>\n",
       "    <tr>\n",
       "      <th>3</th>\n",
       "      <td>Aadam</td>\n",
       "      <td>108</td>\n",
       "    </tr>\n",
       "    <tr>\n",
       "      <th>4</th>\n",
       "      <td>Aadan</td>\n",
       "      <td>107</td>\n",
       "    </tr>\n",
       "    <tr>\n",
       "      <th>...</th>\n",
       "      <td>...</td>\n",
       "      <td>...</td>\n",
       "    </tr>\n",
       "    <tr>\n",
       "      <th>56929</th>\n",
       "      <td>Zytavious</td>\n",
       "      <td>31</td>\n",
       "    </tr>\n",
       "    <tr>\n",
       "      <th>56930</th>\n",
       "      <td>Zyvion</td>\n",
       "      <td>5</td>\n",
       "    </tr>\n",
       "    <tr>\n",
       "      <th>56931</th>\n",
       "      <td>Zyyanna</td>\n",
       "      <td>6</td>\n",
       "    </tr>\n",
       "    <tr>\n",
       "      <th>56932</th>\n",
       "      <td>Zyyon</td>\n",
       "      <td>6</td>\n",
       "    </tr>\n",
       "    <tr>\n",
       "      <th>56933</th>\n",
       "      <td>Zzyzx</td>\n",
       "      <td>5</td>\n",
       "    </tr>\n",
       "  </tbody>\n",
       "</table>\n",
       "<p>56934 rows × 2 columns</p>\n",
       "</div>"
      ],
      "text/plain": [
       "            Name  Count\n",
       "0          Aaban     72\n",
       "1          Aabha     21\n",
       "2      Aabriella     10\n",
       "3          Aadam    108\n",
       "4          Aadan    107\n",
       "...          ...    ...\n",
       "56929  Zytavious     31\n",
       "56930     Zyvion      5\n",
       "56931    Zyyanna      6\n",
       "56932      Zyyon      6\n",
       "56933      Zzyzx      5\n",
       "\n",
       "[56934 rows x 2 columns]"
      ]
     },
     "execution_count": 136,
     "metadata": {},
     "output_type": "execute_result"
    }
   ],
   "source": [
    "years_to_analyze=10\n",
    "# Load National Names dataset\n",
    "national_file = r\"C:\\Users\\matej\\.cache\\kagglehub\\datasets\\kaggle\\us-baby-names\\versions\\2\\NationalNames.csv\"\n",
    "df_national = pd.read_csv(national_file)\n",
    "\n",
    "# Find the most recent year\n",
    "max_year = df_national[\"Year\"].max()\n",
    "min_year = max_year - years_to_analyze + 1  # Earliest year to include in analysis\n",
    "recent_years = list(range(max_year - years_to_analyze + 1, max_year + 1))  # Last N years\n",
    "\n",
    "# Filter dataset to include only the last N years\n",
    "df_filtered = df_national[df_national[\"Year\"] >= min_year]\n",
    "\n",
    "# Aggregate name occurrences by year\n",
    "df_national = df_filtered.groupby([\"Name\", \"Year\"])[\"Count\"].sum().reset_index()\n",
    "\n",
    "# Calculate total occurrences per name in each period\n",
    "recent_counts = df_national[df_national[\"Year\"].isin(recent_years)].groupby(\"Name\")[\"Count\"].sum().reset_index()\n",
    "\n",
    "recent_counts"
   ]
  },
  {
   "cell_type": "code",
   "execution_count": 137,
   "metadata": {},
   "outputs": [
    {
     "data": {
      "text/html": [
       "<div>\n",
       "<style scoped>\n",
       "    .dataframe tbody tr th:only-of-type {\n",
       "        vertical-align: middle;\n",
       "    }\n",
       "\n",
       "    .dataframe tbody tr th {\n",
       "        vertical-align: top;\n",
       "    }\n",
       "\n",
       "    .dataframe thead th {\n",
       "        text-align: right;\n",
       "    }\n",
       "</style>\n",
       "<table border=\"1\" class=\"dataframe\">\n",
       "  <thead>\n",
       "    <tr style=\"text-align: right;\">\n",
       "      <th></th>\n",
       "      <th>Name</th>\n",
       "      <th>Trend_Slope</th>\n",
       "    </tr>\n",
       "  </thead>\n",
       "  <tbody>\n",
       "    <tr>\n",
       "      <th>0</th>\n",
       "      <td>Aaban</td>\n",
       "      <td>1.614754</td>\n",
       "    </tr>\n",
       "    <tr>\n",
       "      <th>1</th>\n",
       "      <td>Aabha</td>\n",
       "      <td>0.857143</td>\n",
       "    </tr>\n",
       "    <tr>\n",
       "      <th>2</th>\n",
       "      <td>Aabriella</td>\n",
       "      <td>0.000000</td>\n",
       "    </tr>\n",
       "    <tr>\n",
       "      <th>3</th>\n",
       "      <td>Aadam</td>\n",
       "      <td>1.284848</td>\n",
       "    </tr>\n",
       "    <tr>\n",
       "      <th>4</th>\n",
       "      <td>Aadan</td>\n",
       "      <td>-0.964286</td>\n",
       "    </tr>\n",
       "    <tr>\n",
       "      <th>...</th>\n",
       "      <td>...</td>\n",
       "      <td>...</td>\n",
       "    </tr>\n",
       "    <tr>\n",
       "      <th>44108</th>\n",
       "      <td>Zyrus</td>\n",
       "      <td>0.000000</td>\n",
       "    </tr>\n",
       "    <tr>\n",
       "      <th>44109</th>\n",
       "      <td>Zyshaun</td>\n",
       "      <td>0.500000</td>\n",
       "    </tr>\n",
       "    <tr>\n",
       "      <th>44110</th>\n",
       "      <td>Zyshawn</td>\n",
       "      <td>0.103030</td>\n",
       "    </tr>\n",
       "    <tr>\n",
       "      <th>44111</th>\n",
       "      <td>Zytaveon</td>\n",
       "      <td>-0.333333</td>\n",
       "    </tr>\n",
       "    <tr>\n",
       "      <th>44112</th>\n",
       "      <td>Zytavious</td>\n",
       "      <td>0.151163</td>\n",
       "    </tr>\n",
       "  </tbody>\n",
       "</table>\n",
       "<p>44113 rows × 2 columns</p>\n",
       "</div>"
      ],
      "text/plain": [
       "            Name  Trend_Slope\n",
       "0          Aaban     1.614754\n",
       "1          Aabha     0.857143\n",
       "2      Aabriella     0.000000\n",
       "3          Aadam     1.284848\n",
       "4          Aadan    -0.964286\n",
       "...          ...          ...\n",
       "44108      Zyrus     0.000000\n",
       "44109    Zyshaun     0.500000\n",
       "44110    Zyshawn     0.103030\n",
       "44111   Zytaveon    -0.333333\n",
       "44112  Zytavious     0.151163\n",
       "\n",
       "[44113 rows x 2 columns]"
      ]
     },
     "execution_count": 137,
     "metadata": {},
     "output_type": "execute_result"
    }
   ],
   "source": [
    "# Prepare storage for trend slopes\n",
    "name_trends = []\n",
    "\n",
    "# Iterate through each name and fit a regression model\n",
    "for name, group in df_national.groupby(\"Name\"):\n",
    "    # Extract years and counts\n",
    "    X = group[\"Year\"].values.reshape(-1, 1)  # Reshape for sklearn\n",
    "    y = group[\"Count\"].values\n",
    "\n",
    "    # Ensure there are enough data points to fit a model\n",
    "    if len(y) < 2:\n",
    "        continue  # Skip names with less than 2 years of data\n",
    "\n",
    "    # Fit linear regression model\n",
    "    model = LinearRegression()\n",
    "    model.fit(X, y)\n",
    "\n",
    "    # Store the trend slope (steeper slope = more trending)\n",
    "    name_trends.append({\"Name\": name, \"Trend_Slope\": model.coef_[0]})\n",
    "\n",
    "# Convert results to DataFrame\n",
    "df_trends = pd.DataFrame(name_trends)\n",
    "\n",
    "df_trends"
   ]
  },
  {
   "cell_type": "code",
   "execution_count": 138,
   "metadata": {},
   "outputs": [
    {
     "data": {
      "text/html": [
       "<div>\n",
       "<style scoped>\n",
       "    .dataframe tbody tr th:only-of-type {\n",
       "        vertical-align: middle;\n",
       "    }\n",
       "\n",
       "    .dataframe tbody tr th {\n",
       "        vertical-align: top;\n",
       "    }\n",
       "\n",
       "    .dataframe thead th {\n",
       "        text-align: right;\n",
       "    }\n",
       "</style>\n",
       "<table border=\"1\" class=\"dataframe\">\n",
       "  <thead>\n",
       "    <tr style=\"text-align: right;\">\n",
       "      <th></th>\n",
       "      <th>Name</th>\n",
       "      <th>Trend_Slope</th>\n",
       "    </tr>\n",
       "  </thead>\n",
       "  <tbody>\n",
       "    <tr>\n",
       "      <th>26426</th>\n",
       "      <td>Liam</td>\n",
       "      <td>1854.787879</td>\n",
       "    </tr>\n",
       "    <tr>\n",
       "      <th>29015</th>\n",
       "      <td>Mason</td>\n",
       "      <td>1137.163636</td>\n",
       "    </tr>\n",
       "    <tr>\n",
       "      <th>15765</th>\n",
       "      <td>Harper</td>\n",
       "      <td>1117.751515</td>\n",
       "    </tr>\n",
       "    <tr>\n",
       "      <th>38183</th>\n",
       "      <td>Sophia</td>\n",
       "      <td>928.678788</td>\n",
       "    </tr>\n",
       "    <tr>\n",
       "      <th>8441</th>\n",
       "      <td>Charlotte</td>\n",
       "      <td>873.884848</td>\n",
       "    </tr>\n",
       "    <tr>\n",
       "      <th>...</th>\n",
       "      <td>...</td>\n",
       "      <td>...</td>\n",
       "    </tr>\n",
       "    <tr>\n",
       "      <th>31892</th>\n",
       "      <td>Nicholas</td>\n",
       "      <td>-1208.315152</td>\n",
       "    </tr>\n",
       "    <tr>\n",
       "      <th>13251</th>\n",
       "      <td>Emily</td>\n",
       "      <td>-1212.103030</td>\n",
       "    </tr>\n",
       "    <tr>\n",
       "      <th>8797</th>\n",
       "      <td>Christopher</td>\n",
       "      <td>-1212.303030</td>\n",
       "    </tr>\n",
       "    <tr>\n",
       "      <th>41002</th>\n",
       "      <td>Tyler</td>\n",
       "      <td>-1284.733333</td>\n",
       "    </tr>\n",
       "    <tr>\n",
       "      <th>20829</th>\n",
       "      <td>Joshua</td>\n",
       "      <td>-1486.424242</td>\n",
       "    </tr>\n",
       "  </tbody>\n",
       "</table>\n",
       "<p>44113 rows × 2 columns</p>\n",
       "</div>"
      ],
      "text/plain": [
       "              Name  Trend_Slope\n",
       "26426         Liam  1854.787879\n",
       "29015        Mason  1137.163636\n",
       "15765       Harper  1117.751515\n",
       "38183       Sophia   928.678788\n",
       "8441     Charlotte   873.884848\n",
       "...            ...          ...\n",
       "31892     Nicholas -1208.315152\n",
       "13251        Emily -1212.103030\n",
       "8797   Christopher -1212.303030\n",
       "41002        Tyler -1284.733333\n",
       "20829       Joshua -1486.424242\n",
       "\n",
       "[44113 rows x 2 columns]"
      ]
     },
     "execution_count": 138,
     "metadata": {},
     "output_type": "execute_result"
    }
   ],
   "source": [
    "# Sort by trend slope in descending order (higher slope = more trending)\n",
    "df_trends_sorted = df_trends.sort_values(by=\"Trend_Slope\", ascending=False)\n",
    "\n",
    "df_trends_sorted"
   ]
  },
  {
   "cell_type": "code",
   "execution_count": 139,
   "metadata": {},
   "outputs": [
    {
     "data": {
      "text/html": [
       "<div>\n",
       "<style scoped>\n",
       "    .dataframe tbody tr th:only-of-type {\n",
       "        vertical-align: middle;\n",
       "    }\n",
       "\n",
       "    .dataframe tbody tr th {\n",
       "        vertical-align: top;\n",
       "    }\n",
       "\n",
       "    .dataframe thead th {\n",
       "        text-align: right;\n",
       "    }\n",
       "</style>\n",
       "<table border=\"1\" class=\"dataframe\">\n",
       "  <thead>\n",
       "    <tr style=\"text-align: right;\">\n",
       "      <th></th>\n",
       "      <th>Name</th>\n",
       "      <th>Trend_Slope</th>\n",
       "    </tr>\n",
       "  </thead>\n",
       "  <tbody>\n",
       "    <tr>\n",
       "      <th>26426</th>\n",
       "      <td>Liam</td>\n",
       "      <td>1854.787879</td>\n",
       "    </tr>\n",
       "    <tr>\n",
       "      <th>29015</th>\n",
       "      <td>Mason</td>\n",
       "      <td>1137.163636</td>\n",
       "    </tr>\n",
       "    <tr>\n",
       "      <th>15765</th>\n",
       "      <td>Harper</td>\n",
       "      <td>1117.751515</td>\n",
       "    </tr>\n",
       "    <tr>\n",
       "      <th>38183</th>\n",
       "      <td>Sophia</td>\n",
       "      <td>928.678788</td>\n",
       "    </tr>\n",
       "    <tr>\n",
       "      <th>8441</th>\n",
       "      <td>Charlotte</td>\n",
       "      <td>873.884848</td>\n",
       "    </tr>\n",
       "    <tr>\n",
       "      <th>6055</th>\n",
       "      <td>Bentley</td>\n",
       "      <td>780.327273</td>\n",
       "    </tr>\n",
       "    <tr>\n",
       "      <th>19004</th>\n",
       "      <td>Jaxon</td>\n",
       "      <td>748.618182</td>\n",
       "    </tr>\n",
       "    <tr>\n",
       "      <th>32678</th>\n",
       "      <td>Oliver</td>\n",
       "      <td>748.175758</td>\n",
       "    </tr>\n",
       "    <tr>\n",
       "      <th>9837</th>\n",
       "      <td>Daleyza</td>\n",
       "      <td>709.500000</td>\n",
       "    </tr>\n",
       "    <tr>\n",
       "      <th>12695</th>\n",
       "      <td>Eli</td>\n",
       "      <td>674.296970</td>\n",
       "    </tr>\n",
       "  </tbody>\n",
       "</table>\n",
       "</div>"
      ],
      "text/plain": [
       "            Name  Trend_Slope\n",
       "26426       Liam  1854.787879\n",
       "29015      Mason  1137.163636\n",
       "15765     Harper  1117.751515\n",
       "38183     Sophia   928.678788\n",
       "8441   Charlotte   873.884848\n",
       "6055     Bentley   780.327273\n",
       "19004      Jaxon   748.618182\n",
       "32678     Oliver   748.175758\n",
       "9837     Daleyza   709.500000\n",
       "12695        Eli   674.296970"
      ]
     },
     "execution_count": 139,
     "metadata": {},
     "output_type": "execute_result"
    }
   ],
   "source": [
    "df_trends_sorted.head(10)"
   ]
  },
  {
   "cell_type": "code",
   "execution_count": 140,
   "metadata": {},
   "outputs": [
    {
     "data": {
      "text/html": [
       "<div>\n",
       "<style scoped>\n",
       "    .dataframe tbody tr th:only-of-type {\n",
       "        vertical-align: middle;\n",
       "    }\n",
       "\n",
       "    .dataframe tbody tr th {\n",
       "        vertical-align: top;\n",
       "    }\n",
       "\n",
       "    .dataframe thead th {\n",
       "        text-align: right;\n",
       "    }\n",
       "</style>\n",
       "<table border=\"1\" class=\"dataframe\">\n",
       "  <thead>\n",
       "    <tr style=\"text-align: right;\">\n",
       "      <th></th>\n",
       "      <th>Name</th>\n",
       "      <th>Trend_Slope</th>\n",
       "    </tr>\n",
       "  </thead>\n",
       "  <tbody>\n",
       "    <tr>\n",
       "      <th>0</th>\n",
       "      <td>Liam</td>\n",
       "      <td>1854.787879</td>\n",
       "    </tr>\n",
       "    <tr>\n",
       "      <th>1</th>\n",
       "      <td>Mason</td>\n",
       "      <td>1137.163636</td>\n",
       "    </tr>\n",
       "    <tr>\n",
       "      <th>2</th>\n",
       "      <td>Harper</td>\n",
       "      <td>1117.751515</td>\n",
       "    </tr>\n",
       "    <tr>\n",
       "      <th>3</th>\n",
       "      <td>Sophia</td>\n",
       "      <td>928.678788</td>\n",
       "    </tr>\n",
       "    <tr>\n",
       "      <th>4</th>\n",
       "      <td>Charlotte</td>\n",
       "      <td>873.884848</td>\n",
       "    </tr>\n",
       "    <tr>\n",
       "      <th>5</th>\n",
       "      <td>Bentley</td>\n",
       "      <td>780.327273</td>\n",
       "    </tr>\n",
       "    <tr>\n",
       "      <th>6</th>\n",
       "      <td>Jaxon</td>\n",
       "      <td>748.618182</td>\n",
       "    </tr>\n",
       "    <tr>\n",
       "      <th>7</th>\n",
       "      <td>Oliver</td>\n",
       "      <td>748.175758</td>\n",
       "    </tr>\n",
       "    <tr>\n",
       "      <th>8</th>\n",
       "      <td>Daleyza</td>\n",
       "      <td>709.500000</td>\n",
       "    </tr>\n",
       "    <tr>\n",
       "      <th>9</th>\n",
       "      <td>Eli</td>\n",
       "      <td>674.296970</td>\n",
       "    </tr>\n",
       "  </tbody>\n",
       "</table>\n",
       "</div>"
      ],
      "text/plain": [
       "        Name  Trend_Slope\n",
       "0       Liam  1854.787879\n",
       "1      Mason  1137.163636\n",
       "2     Harper  1117.751515\n",
       "3     Sophia   928.678788\n",
       "4  Charlotte   873.884848\n",
       "5    Bentley   780.327273\n",
       "6      Jaxon   748.618182\n",
       "7     Oliver   748.175758\n",
       "8    Daleyza   709.500000\n",
       "9        Eli   674.296970"
      ]
     },
     "execution_count": 140,
     "metadata": {},
     "output_type": "execute_result"
    }
   ],
   "source": [
    "df_trends_sorted.head(10).reset_index(drop=True)"
   ]
  },
  {
   "cell_type": "markdown",
   "metadata": {},
   "source": [
    "### CCC"
   ]
  },
  {
   "cell_type": "code",
   "execution_count": 148,
   "metadata": {},
   "outputs": [
    {
     "data": {
      "text/html": [
       "<div>\n",
       "<style scoped>\n",
       "    .dataframe tbody tr th:only-of-type {\n",
       "        vertical-align: middle;\n",
       "    }\n",
       "\n",
       "    .dataframe tbody tr th {\n",
       "        vertical-align: top;\n",
       "    }\n",
       "\n",
       "    .dataframe thead th {\n",
       "        text-align: right;\n",
       "    }\n",
       "</style>\n",
       "<table border=\"1\" class=\"dataframe\">\n",
       "  <thead>\n",
       "    <tr style=\"text-align: right;\">\n",
       "      <th></th>\n",
       "      <th>Name</th>\n",
       "      <th>Trend_Slope</th>\n",
       "      <th>Recent_Counts</th>\n",
       "    </tr>\n",
       "  </thead>\n",
       "  <tbody>\n",
       "    <tr>\n",
       "      <th>0</th>\n",
       "      <td>Oliver</td>\n",
       "      <td>2117.0</td>\n",
       "      <td>16639</td>\n",
       "    </tr>\n",
       "    <tr>\n",
       "      <th>1</th>\n",
       "      <td>Sebastian</td>\n",
       "      <td>1709.0</td>\n",
       "      <td>16783</td>\n",
       "    </tr>\n",
       "    <tr>\n",
       "      <th>2</th>\n",
       "      <td>Logan</td>\n",
       "      <td>1378.0</td>\n",
       "      <td>27436</td>\n",
       "    </tr>\n",
       "    <tr>\n",
       "      <th>3</th>\n",
       "      <td>Olivia</td>\n",
       "      <td>1306.0</td>\n",
       "      <td>38086</td>\n",
       "    </tr>\n",
       "    <tr>\n",
       "      <th>4</th>\n",
       "      <td>Harper</td>\n",
       "      <td>1258.0</td>\n",
       "      <td>18524</td>\n",
       "    </tr>\n",
       "    <tr>\n",
       "      <th>5</th>\n",
       "      <td>Nora</td>\n",
       "      <td>1211.0</td>\n",
       "      <td>8215</td>\n",
       "    </tr>\n",
       "    <tr>\n",
       "      <th>6</th>\n",
       "      <td>Carter</td>\n",
       "      <td>1100.0</td>\n",
       "      <td>20808</td>\n",
       "    </tr>\n",
       "    <tr>\n",
       "      <th>7</th>\n",
       "      <td>Ariana</td>\n",
       "      <td>1075.0</td>\n",
       "      <td>9867</td>\n",
       "    </tr>\n",
       "    <tr>\n",
       "      <th>8</th>\n",
       "      <td>Everly</td>\n",
       "      <td>1047.0</td>\n",
       "      <td>2671</td>\n",
       "    </tr>\n",
       "    <tr>\n",
       "      <th>9</th>\n",
       "      <td>Evelyn</td>\n",
       "      <td>1036.0</td>\n",
       "      <td>16358</td>\n",
       "    </tr>\n",
       "  </tbody>\n",
       "</table>\n",
       "</div>"
      ],
      "text/plain": [
       "        Name  Trend_Slope  Recent_Counts\n",
       "0     Oliver       2117.0          16639\n",
       "1  Sebastian       1709.0          16783\n",
       "2      Logan       1378.0          27436\n",
       "3     Olivia       1306.0          38086\n",
       "4     Harper       1258.0          18524\n",
       "5       Nora       1211.0           8215\n",
       "6     Carter       1100.0          20808\n",
       "7     Ariana       1075.0           9867\n",
       "8     Everly       1047.0           2671\n",
       "9     Evelyn       1036.0          16358"
      ]
     },
     "execution_count": 148,
     "metadata": {},
     "output_type": "execute_result"
    }
   ],
   "source": [
    "years_to_analyze=2\n",
    "# Load National Names dataset\n",
    "national_file = r\"C:\\Users\\matej\\.cache\\kagglehub\\datasets\\kaggle\\us-baby-names\\versions\\2\\NationalNames.csv\"\n",
    "df_national = pd.read_csv(national_file)\n",
    "\n",
    "# Find the most recent year\n",
    "max_year = df_national[\"Year\"].max()\n",
    "min_year = max_year - years_to_analyze + 1  # Earliest year to include in analysis\n",
    "recent_years = list(range(max_year - years_to_analyze + 1, max_year + 1))  # Last N years\n",
    "\n",
    "# Filter dataset to include only the last N years\n",
    "df_filtered = df_national[df_national[\"Year\"] >= min_year]\n",
    "\n",
    "# Aggregate name occurrences by year\n",
    "df_national = df_filtered.groupby([\"Name\", \"Year\"])[\"Count\"].sum().reset_index()\n",
    "\n",
    "# Calculate total occurrences per name in each period\n",
    "recent_counts = df_national[df_national[\"Year\"].isin(recent_years)].groupby(\"Name\")[\"Count\"].sum().reset_index()\n",
    "\n",
    "recent_counts.rename(columns={\"Count\": \"Recent_Counts\"}, inplace=True)\n",
    "\n",
    "# Prepare storage for trend slopes\n",
    "name_trends = []\n",
    "\n",
    "# Iterate through each name and fit a regression model\n",
    "for name, group in df_national.groupby(\"Name\"):\n",
    "    # Extract years and counts\n",
    "    X = group[\"Year\"].values.reshape(-1, 1)  # Reshape for sklearn\n",
    "    y = group[\"Count\"].values\n",
    "\n",
    "    # Ensure there are enough data points to fit a model\n",
    "    if len(y) < 2:\n",
    "        continue  # Skip names with less than 2 years of data\n",
    "\n",
    "    # Fit linear regression model\n",
    "    model = LinearRegression()\n",
    "    model.fit(X, y)\n",
    "\n",
    "    # Store the trend slope (steeper slope = more trending)\n",
    "    name_trends.append({\"Name\": name, \"Trend_Slope\": model.coef_[0]})\n",
    "\n",
    "# Convert results to DataFrame\n",
    "df_trends = pd.DataFrame(name_trends)\n",
    "\n",
    "df_trends = df_trends.merge(recent_counts, on=\"Name\", how=\"left\")\n",
    "\n",
    "# Sort by trend slope in descending order (higher slope = more trending)\n",
    "df_trends_sorted = df_trends.sort_values(by=\"Trend_Slope\", ascending=False)\n",
    "\n",
    "df_trends_sorted.head(10).reset_index(drop=True)"
   ]
  },
  {
   "cell_type": "code",
   "execution_count": null,
   "metadata": {},
   "outputs": [],
   "source": [
    "Last 2 years\n",
    "0\tOliver\t2117.0\t16639\n",
    "1\tSebastian\t1709.0\t16783\n",
    "2\tLogan\t1378.0\t27436\n",
    "3\tOlivia\t1306.0\t38086\n",
    "4\tHarper\t1258.0\t18524\n",
    "5\tNora\t1211.0\t8215\n",
    "6\tCarter\t1100.0\t20808\n",
    "7\tAriana\t1075.0\t9867\n",
    "8\tEverly\t1047.0\t2671\n",
    "9\tEvelyn\t1036.0\t16358"
   ]
  },
  {
   "cell_type": "code",
   "execution_count": null,
   "metadata": {},
   "outputs": [],
   "source": [
    "Last 5 years\n",
    "0\tLiam\t1953.2\t77663\n",
    "1\tHarper\t1740.5\t34159\n",
    "2\tAria\t1310.2\t17195\n",
    "3\tCharlotte\t1225.8\t38589\n",
    "4\tOliver\t1127.3\t32633\n",
    "5\tJase\t1074.5\t10307\n",
    "6\tJaxon\t1042.0\t30118\n",
    "7\tJace\t985.6\t23904\n",
    "8\tPenelope\t944.0\t15282\n",
    "9\tEmma\t902.8\t98776"
   ]
  },
  {
   "cell_type": "code",
   "execution_count": null,
   "metadata": {},
   "outputs": [],
   "source": [
    "Last 10 years:\n",
    "0\tLiam\t1854.787879\t106052\n",
    "1\tMason\t1137.163636\t141040\n",
    "2\tHarper\t1117.751515\t40001\n",
    "3\tSophia\t928.678788\t180692\n",
    "4\tCharlotte\t873.884848\t54987\n",
    "5\tBentley\t780.327273\t28098\n",
    "6\tJaxon\t748.618182\t41532\n",
    "7\tOliver\t748.175758\t47589\n",
    "8\tDaleyza\t709.500000\t1988\n",
    "9\tEli\t674.296970\t55709"
   ]
  },
  {
   "cell_type": "code",
   "execution_count": 164,
   "metadata": {},
   "outputs": [
    {
     "name": "stderr",
     "output_type": "stream",
     "text": [
      "C:\\Users\\matej\\AppData\\Local\\Temp\\ipykernel_32068\\1443068266.py:86: DeprecationWarning:\n",
      "\n",
      "Conversion of an array with ndim > 0 to a scalar is deprecated, and will error in future. Ensure you extract a single element from your array before performing this operation. (Deprecated NumPy 1.25.)\n",
      "\n",
      "C:\\Users\\matej\\AppData\\Local\\Temp\\ipykernel_32068\\1443068266.py:95: DeprecationWarning:\n",
      "\n",
      "Conversion of an array with ndim > 0 to a scalar is deprecated, and will error in future. Ensure you extract a single element from your array before performing this operation. (Deprecated NumPy 1.25.)\n",
      "\n"
     ]
    },
    {
     "data": {
      "image/png": "[encoded data removed]",
      "text/plain": [
       "<Figure size 800x500 with 1 Axes>"
      ]
     },
     "metadata": {},
     "output_type": "display_data"
    },
    {
     "name": "stderr",
     "output_type": "stream",
     "text": [
      "C:\\Users\\matej\\AppData\\Local\\Temp\\ipykernel_32068\\1443068266.py:86: DeprecationWarning:\n",
      "\n",
      "Conversion of an array with ndim > 0 to a scalar is deprecated, and will error in future. Ensure you extract a single element from your array before performing this operation. (Deprecated NumPy 1.25.)\n",
      "\n",
      "C:\\Users\\matej\\AppData\\Local\\Temp\\ipykernel_32068\\1443068266.py:95: DeprecationWarning:\n",
      "\n",
      "Conversion of an array with ndim > 0 to a scalar is deprecated, and will error in future. Ensure you extract a single element from your array before performing this operation. (Deprecated NumPy 1.25.)\n",
      "\n"
     ]
    },
    {
     "data": {
      "image/png": "[encoded data removed]",
      "text/plain": [
       "<Figure size 800x500 with 1 Axes>"
      ]
     },
     "metadata": {},
     "output_type": "display_data"
    },
    {
     "name": "stderr",
     "output_type": "stream",
     "text": [
      "C:\\Users\\matej\\AppData\\Local\\Temp\\ipykernel_32068\\1443068266.py:86: DeprecationWarning:\n",
      "\n",
      "Conversion of an array with ndim > 0 to a scalar is deprecated, and will error in future. Ensure you extract a single element from your array before performing this operation. (Deprecated NumPy 1.25.)\n",
      "\n",
      "C:\\Users\\matej\\AppData\\Local\\Temp\\ipykernel_32068\\1443068266.py:95: DeprecationWarning:\n",
      "\n",
      "Conversion of an array with ndim > 0 to a scalar is deprecated, and will error in future. Ensure you extract a single element from your array before performing this operation. (Deprecated NumPy 1.25.)\n",
      "\n"
     ]
    },
    {
     "data": {
      "image/png": "[encoded data removed]",
      "text/plain": [
       "<Figure size 800x500 with 1 Axes>"
      ]
     },
     "metadata": {},
     "output_type": "display_data"
    },
    {
     "name": "stderr",
     "output_type": "stream",
     "text": [
      "C:\\Users\\matej\\AppData\\Local\\Temp\\ipykernel_32068\\1443068266.py:86: DeprecationWarning:\n",
      "\n",
      "Conversion of an array with ndim > 0 to a scalar is deprecated, and will error in future. Ensure you extract a single element from your array before performing this operation. (Deprecated NumPy 1.25.)\n",
      "\n",
      "C:\\Users\\matej\\AppData\\Local\\Temp\\ipykernel_32068\\1443068266.py:95: DeprecationWarning:\n",
      "\n",
      "Conversion of an array with ndim > 0 to a scalar is deprecated, and will error in future. Ensure you extract a single element from your array before performing this operation. (Deprecated NumPy 1.25.)\n",
      "\n"
     ]
    },
    {
     "data": {
      "image/png": "[encoded data removed]",
      "text/plain": [
       "<Figure size 800x500 with 1 Axes>"
      ]
     },
     "metadata": {},
     "output_type": "display_data"
    },
    {
     "name": "stderr",
     "output_type": "stream",
     "text": [
      "C:\\Users\\matej\\AppData\\Local\\Temp\\ipykernel_32068\\1443068266.py:86: DeprecationWarning:\n",
      "\n",
      "Conversion of an array with ndim > 0 to a scalar is deprecated, and will error in future. Ensure you extract a single element from your array before performing this operation. (Deprecated NumPy 1.25.)\n",
      "\n",
      "C:\\Users\\matej\\AppData\\Local\\Temp\\ipykernel_32068\\1443068266.py:95: DeprecationWarning:\n",
      "\n",
      "Conversion of an array with ndim > 0 to a scalar is deprecated, and will error in future. Ensure you extract a single element from your array before performing this operation. (Deprecated NumPy 1.25.)\n",
      "\n"
     ]
    },
    {
     "data": {
      "image/png": "[encoded data removed]",
      "text/plain": [
       "<Figure size 800x500 with 1 Axes>"
      ]
     },
     "metadata": {},
     "output_type": "display_data"
    },
    {
     "name": "stderr",
     "output_type": "stream",
     "text": [
      "C:\\Users\\matej\\AppData\\Local\\Temp\\ipykernel_32068\\1443068266.py:86: DeprecationWarning:\n",
      "\n",
      "Conversion of an array with ndim > 0 to a scalar is deprecated, and will error in future. Ensure you extract a single element from your array before performing this operation. (Deprecated NumPy 1.25.)\n",
      "\n",
      "C:\\Users\\matej\\AppData\\Local\\Temp\\ipykernel_32068\\1443068266.py:95: DeprecationWarning:\n",
      "\n",
      "Conversion of an array with ndim > 0 to a scalar is deprecated, and will error in future. Ensure you extract a single element from your array before performing this operation. (Deprecated NumPy 1.25.)\n",
      "\n"
     ]
    },
    {
     "data": {
      "image/png": "[encoded data removed]",
      "text/plain": [
       "<Figure size 800x500 with 1 Axes>"
      ]
     },
     "metadata": {},
     "output_type": "display_data"
    },
    {
     "name": "stderr",
     "output_type": "stream",
     "text": [
      "C:\\Users\\matej\\AppData\\Local\\Temp\\ipykernel_32068\\1443068266.py:86: DeprecationWarning:\n",
      "\n",
      "Conversion of an array with ndim > 0 to a scalar is deprecated, and will error in future. Ensure you extract a single element from your array before performing this operation. (Deprecated NumPy 1.25.)\n",
      "\n",
      "C:\\Users\\matej\\AppData\\Local\\Temp\\ipykernel_32068\\1443068266.py:95: DeprecationWarning:\n",
      "\n",
      "Conversion of an array with ndim > 0 to a scalar is deprecated, and will error in future. Ensure you extract a single element from your array before performing this operation. (Deprecated NumPy 1.25.)\n",
      "\n"
     ]
    },
    {
     "data": {
      "image/png": "[encoded data removed]",
      "text/plain": [
       "<Figure size 800x500 with 1 Axes>"
      ]
     },
     "metadata": {},
     "output_type": "display_data"
    },
    {
     "name": "stderr",
     "output_type": "stream",
     "text": [
      "C:\\Users\\matej\\AppData\\Local\\Temp\\ipykernel_32068\\1443068266.py:86: DeprecationWarning:\n",
      "\n",
      "Conversion of an array with ndim > 0 to a scalar is deprecated, and will error in future. Ensure you extract a single element from your array before performing this operation. (Deprecated NumPy 1.25.)\n",
      "\n",
      "C:\\Users\\matej\\AppData\\Local\\Temp\\ipykernel_32068\\1443068266.py:95: DeprecationWarning:\n",
      "\n",
      "Conversion of an array with ndim > 0 to a scalar is deprecated, and will error in future. Ensure you extract a single element from your array before performing this operation. (Deprecated NumPy 1.25.)\n",
      "\n"
     ]
    },
    {
     "data": {
      "image/png": "[encoded data removed]",
      "text/plain": [
       "<Figure size 800x500 with 1 Axes>"
      ]
     },
     "metadata": {},
     "output_type": "display_data"
    },
    {
     "name": "stderr",
     "output_type": "stream",
     "text": [
      "C:\\Users\\matej\\AppData\\Local\\Temp\\ipykernel_32068\\1443068266.py:86: DeprecationWarning:\n",
      "\n",
      "Conversion of an array with ndim > 0 to a scalar is deprecated, and will error in future. Ensure you extract a single element from your array before performing this operation. (Deprecated NumPy 1.25.)\n",
      "\n",
      "C:\\Users\\matej\\AppData\\Local\\Temp\\ipykernel_32068\\1443068266.py:95: DeprecationWarning:\n",
      "\n",
      "Conversion of an array with ndim > 0 to a scalar is deprecated, and will error in future. Ensure you extract a single element from your array before performing this operation. (Deprecated NumPy 1.25.)\n",
      "\n"
     ]
    },
    {
     "data": {
      "image/png": "[encoded data removed]",
      "text/plain": [
       "<Figure size 800x500 with 1 Axes>"
      ]
     },
     "metadata": {},
     "output_type": "display_data"
    },
    {
     "name": "stderr",
     "output_type": "stream",
     "text": [
      "C:\\Users\\matej\\AppData\\Local\\Temp\\ipykernel_32068\\1443068266.py:86: DeprecationWarning:\n",
      "\n",
      "Conversion of an array with ndim > 0 to a scalar is deprecated, and will error in future. Ensure you extract a single element from your array before performing this operation. (Deprecated NumPy 1.25.)\n",
      "\n",
      "C:\\Users\\matej\\AppData\\Local\\Temp\\ipykernel_32068\\1443068266.py:95: DeprecationWarning:\n",
      "\n",
      "Conversion of an array with ndim > 0 to a scalar is deprecated, and will error in future. Ensure you extract a single element from your array before performing this operation. (Deprecated NumPy 1.25.)\n",
      "\n"
     ]
    },
    {
     "data": {
      "image/png": "[encoded data removed]",
      "text/plain": [
       "<Figure size 800x500 with 1 Axes>"
      ]
     },
     "metadata": {},
     "output_type": "display_data"
    },
    {
     "name": "stdout",
     "output_type": "stream",
     "text": [
      "        Name  Trend_Slope  Recent_Counts\n",
      "0       Liam  1854.787879         106052\n",
      "1      Mason  1137.163636         141040\n",
      "2     Harper  1117.751515          40001\n",
      "3     Sophia   928.678788         180692\n",
      "4  Charlotte   873.884848          54987\n",
      "5    Bentley   780.327273          28098\n",
      "6      Jaxon   748.618182          41532\n",
      "7     Oliver   748.175758          47589\n",
      "8    Daleyza   709.500000           1988\n",
      "9        Eli   674.296970          55709\n"
     ]
    }
   ],
   "source": [
    "from sklearn.linear_model import LinearRegression\n",
    "\n",
    "def find_trending_names_by_slope(path_to_NationalNames_dataset, years_to_analyze=20, plot_top_n = 10):\n",
    "    \"\"\"\n",
    "    Finds the top 10 trending baby names by fitting a linear regression model to measure the trend slope.\n",
    "\n",
    "    Parameters:\n",
    "    - years_to_analyze (int): The number of years to include in the trend analysis.\n",
    "\n",
    "    Returns:\n",
    "    - DataFrame: A DataFrame with the top 10 trending names, showing their trend slope.\n",
    "    \"\"\"\n",
    "    \n",
    "    # Load National Names dataset\n",
    "    df_national = pd.read_csv(path_to_NationalNames_dataset)\n",
    "\n",
    "    # Find the most recent year\n",
    "    max_year = df_national[\"Year\"].max()\n",
    "    min_year = max_year - years_to_analyze + 1  # Earliest year to include in analysis\n",
    "    recent_years = list(range(min_year, max_year + 1))  # Last N years\n",
    "\n",
    "    # Filter dataset to include only the last N years\n",
    "    df_filtered = df_national[df_national[\"Year\"] >= min_year]\n",
    "\n",
    "    # Aggregate name occurrences by year\n",
    "    df_national = df_filtered.groupby([\"Name\", \"Year\"])[\"Count\"].sum().reset_index()\n",
    "\n",
    "    # Calculate total occurrences per name in each period\n",
    "    recent_counts = df_national[df_national[\"Year\"].isin(recent_years)].groupby(\"Name\")[\"Count\"].sum().reset_index()\n",
    "\n",
    "    recent_counts.rename(columns={\"Count\": \"Recent_Counts\"}, inplace=True)\n",
    "\n",
    "    # Prepare storage for trend slopes\n",
    "    name_trends = []\n",
    "\n",
    "    # Iterate through each name and fit a regression model\n",
    "    for name, group in df_national.groupby(\"Name\"):\n",
    "        # Extract years and counts\n",
    "        X = group[\"Year\"].values.reshape(-1, 1)  # Reshape for sklearn\n",
    "        y = group[\"Count\"].values\n",
    "\n",
    "        # Ensure there are enough data points to fit a model\n",
    "        if len(y) < 2:\n",
    "            continue  # Skip names with less than 2 years of data\n",
    "\n",
    "        # Fit linear regression model\n",
    "        model = LinearRegression()\n",
    "        model.fit(X, y)\n",
    "\n",
    "        # Store the trend slope (steeper slope = more trending)\n",
    "        #name_trends.append({\"Name\": name, \"Trend_Slope\": model.coef_[0]})\n",
    "\n",
    "        # Store the trend slope (ONLY POSITIVE)\n",
    "        slope = model.coef_[0]\n",
    "        if slope > 0:  # Keep only increasing trends\n",
    "            name_trends.append({\"Name\": name, \"Trend_Slope\": slope})\n",
    "\n",
    "    # Convert results to DataFrame\n",
    "    df_trends = pd.DataFrame(name_trends)\n",
    "\n",
    "    df_trends = df_trends.merge(recent_counts, on=\"Name\", how=\"left\")\n",
    "\n",
    "    # Sort by trend slope in descending order (higher slope = more trending)\n",
    "    df_trends_sorted = df_trends.sort_values(by=\"Trend_Slope\", ascending=False)\n",
    "\n",
    "    df_trends_sorted.head(10).reset_index(drop=True)\n",
    "\n",
    "    top_trending_names = df_trends_sorted.head(plot_top_n).reset_index(drop=True)\n",
    "\n",
    "    # ---- PLOTTING ----\n",
    "    #for i, name in enumerate(df_trends_sorted[\"Name\"]):\n",
    "    #    group = df_trends_sorted[df_national[\"Name\"] == name]\n",
    "\n",
    "    for i, name in enumerate(top_trending_names[\"Name\"]):\n",
    "        # Select only the relevant range of years for regression\n",
    "        name_data = df_national[(df_national[\"Name\"] == name) & (df_national[\"Year\"] >= min_year)]\n",
    "\n",
    "        X = name_data[\"Year\"].values.reshape(-1, 1)\n",
    "        y = name_data[\"Count\"].values\n",
    "\n",
    "        # Fit linear regression model\n",
    "        model = LinearRegression()\n",
    "        model.fit(X, y)\n",
    "\n",
    "        # Predict trend line\n",
    "        X_pred = np.arange(min(X), max(X) + 1).reshape(-1, 1)\n",
    "        y_pred = model.predict(X_pred)\n",
    "\n",
    "        \n",
    "\n",
    "        # Plot\n",
    "        plt.figure(figsize=(8, 5))\n",
    "        plt.scatter(X, y, color=\"blue\", label=\"Count\", alpha=0.6)\n",
    "        plt.plot(X_pred, y_pred, color=\"red\", linestyle=\"-\", label=\"Trend Line\", linewidth=1)\n",
    "        plt.xticks(np.arange(min(X), max(X) + 1, 1))  # plotting only years, no floats\n",
    "        plt.xlabel(\"Year\")\n",
    "        plt.ylabel(\"Count\")\n",
    "        plt.title(f\"Trend for {name} over the last {years_to_analyze} years\")\n",
    "        plt.legend()\n",
    "        #plt.grid(True)\n",
    "        plt.show()\n",
    "\n",
    "    #return top_trending\n",
    "\n",
    "    # Get the top 10 trending names\n",
    "    return df_trends_sorted.head(10).reset_index(drop=True)\n",
    "\n",
    "# Example usage:\n",
    "top_trending = find_trending_names_by_slope(path_to_NationalNames_dataset = r\"C:\\Users\\matej\\.cache\\kagglehub\\datasets\\kaggle\\us-baby-names\\versions\\2\\NationalNames.csv\",\n",
    "                                            years_to_analyze=10, \n",
    "                                            plot_top_n = 10\n",
    "                                            )\n",
    "print(top_trending)"
   ]
  },
  {
   "cell_type": "code",
   "execution_count": null,
   "metadata": {},
   "outputs": [],
   "source": [
    "        Name  Trend_Slope  Recent_Counts\n",
    "0       Liam  1854.787879         106052\n",
    "1      Mason  1137.163636         141040\n",
    "2     Harper  1117.751515          40001\n",
    "3     Sophia   928.678788         180692\n",
    "4  Charlotte   873.884848          54987\n",
    "5    Bentley   780.327273          28098\n",
    "6      Jaxon   748.618182          41532\n",
    "7     Oliver   748.175758          47589\n",
    "8    Daleyza   709.500000           1988\n",
    "9        Eli   674.296970          55709"
   ]
  },
  {
   "cell_type": "code",
   "execution_count": 184,
   "metadata": {},
   "outputs": [
    {
     "name": "stdout",
     "output_type": "stream",
     "text": [
      "       Name  Past_Count  Recent_Count  Growth_Rate\n",
      "0  Cataleya         0.0        2037.0       2037.0\n",
      "1   Daleyza         0.0        1988.0       1988.0\n",
      "2    Neymar         0.0        1425.0       1425.0\n",
      "3  Khaleesi         0.0         785.0        785.0\n",
      "4  Kataleya         0.0         675.0        675.0\n",
      "5    Jionni         0.0         652.0        652.0\n",
      "6   Zendaya         0.0         625.0        625.0\n",
      "7  Cattleya         0.0         377.0        377.0\n",
      "8    Tahiry         0.0         249.0        249.0\n",
      "9     Itzae         0.0         234.0        234.0\n"
     ]
    }
   ],
   "source": [
    "def find_top_trending_names(years_to_compare=5):\n",
    "    \"\"\"\n",
    "    Finds the top 10 trending baby names by comparing the growth in name frequency over time.\n",
    "\n",
    "    Parameters:\n",
    "    - years_to_compare (int): The number of years to use for calculating past and recent trends.\n",
    "\n",
    "    Returns:\n",
    "    - DataFrame: A DataFrame with the top 10 trending names, showing their past and recent average occurrences\n",
    "      and growth percentage.\n",
    "    \"\"\"\n",
    "    \n",
    "    # Load National Names dataset\n",
    "    national_file = r\"C:\\Users\\matej\\.cache\\kagglehub\\datasets\\kaggle\\us-baby-names\\versions\\2\\NationalNames.csv\"\n",
    "    df_national = pd.read_csv(national_file)\n",
    "\n",
    "    # Find the most recent year and split into two periods\n",
    "    max_year = df_national[\"Year\"].max()\n",
    "    recent_years = list(range(max_year - years_to_compare + 1, max_year + 1))  # Last N years\n",
    "    past_years = list(range(max_year - 2 * years_to_compare + 1, max_year - years_to_compare + 1))  # Previous N years\n",
    "\n",
    "    # Calculate total occurrences per name in each period\n",
    "    recent_counts = df_national[df_national[\"Year\"].isin(recent_years)].groupby(\"Name\")[\"Count\"].sum()\n",
    "    past_counts = df_national[df_national[\"Year\"].isin(past_years)].groupby(\"Name\")[\"Count\"].sum()\n",
    "\n",
    "    # Merge data and fill missing values (if a name was not present in one period)\n",
    "    trending_names = pd.DataFrame({\"Past_Count\": past_counts, \"Recent_Count\": recent_counts}).fillna(0)\n",
    "\n",
    "    # Calculate growth rate\n",
    "    trending_names[\"Growth_Rate\"] = (trending_names[\"Recent_Count\"] - trending_names[\"Past_Count\"]) / (trending_names[\"Past_Count\"] + 1)  # +1 to avoid division by zero\n",
    "\n",
    "    # Sort by highest growth rate\n",
    "    trending_names_sorted = trending_names.sort_values(by=\"Growth_Rate\", ascending=False)\n",
    "\n",
    "    # Get the top 10 trending names\n",
    "    return trending_names_sorted.head(10).reset_index()\n",
    "\n",
    "# Example usage:\n",
    "top_trending = find_top_trending_names()\n",
    "print(top_trending)"
   ]
  },
  {
   "cell_type": "code",
   "execution_count": 191,
   "metadata": {},
   "outputs": [
    {
     "name": "stdout",
     "output_type": "stream",
     "text": [
      "Collecting scikit-learn\n",
      "  Downloading scikit_learn-1.6.1-cp311-cp311-win_amd64.whl.metadata (15 kB)\n",
      "Requirement already satisfied: numpy>=1.19.5 in c:\\users\\matej\\appdata\\local\\packages\\pythonsoftwarefoundation.python.3.11_qbz5n2kfra8p0\\localcache\\local-packages\\python311\\site-packages (from scikit-learn) (2.2.3)\n",
      "Collecting scipy>=1.6.0 (from scikit-learn)\n",
      "  Downloading scipy-1.15.2-cp311-cp311-win_amd64.whl.metadata (60 kB)\n",
      "     ---------------------------------------- 0.0/60.8 kB ? eta -:--:--\n",
      "     ---------------------------------------- 60.8/60.8 kB 1.6 MB/s eta 0:00:00\n",
      "Collecting joblib>=1.2.0 (from scikit-learn)\n",
      "  Downloading joblib-1.4.2-py3-none-any.whl.metadata (5.4 kB)\n",
      "Collecting threadpoolctl>=3.1.0 (from scikit-learn)\n",
      "  Downloading threadpoolctl-3.5.0-py3-none-any.whl.metadata (13 kB)\n",
      "Downloading scikit_learn-1.6.1-cp311-cp311-win_amd64.whl (11.1 MB)\n",
      "   ---------------------------------------- 0.0/11.1 MB ? eta -:--:--\n",
      "   ---------------------------------------- 0.1/11.1 MB 5.1 MB/s eta 0:00:03\n",
      "    --------------------------------------- 0.2/11.1 MB 3.6 MB/s eta 0:00:04\n",
      "   - -------------------------------------- 0.4/11.1 MB 3.5 MB/s eta 0:00:04\n",
      "   -- ------------------------------------- 0.6/11.1 MB 3.5 MB/s eta 0:00:03\n",
      "   -- ------------------------------------- 0.7/11.1 MB 3.5 MB/s eta 0:00:03\n",
      "   --- ------------------------------------ 0.9/11.1 MB 3.4 MB/s eta 0:00:03\n",
      "   --- ------------------------------------ 1.1/11.1 MB 3.7 MB/s eta 0:00:03\n",
      "   ---- ----------------------------------- 1.2/11.1 MB 3.6 MB/s eta 0:00:03\n",
      "   ----- ---------------------------------- 1.5/11.1 MB 3.7 MB/s eta 0:00:03\n",
      "   ----- ---------------------------------- 1.6/11.1 MB 3.8 MB/s eta 0:00:03\n",
      "   ------ --------------------------------- 1.8/11.1 MB 3.9 MB/s eta 0:00:03\n",
      "   ------- -------------------------------- 2.0/11.1 MB 3.9 MB/s eta 0:00:03\n",
      "   ------- -------------------------------- 2.2/11.1 MB 3.9 MB/s eta 0:00:03\n",
      "   -------- ------------------------------- 2.4/11.1 MB 4.0 MB/s eta 0:00:03\n",
      "   --------- ------------------------------ 2.7/11.1 MB 4.0 MB/s eta 0:00:03\n",
      "   ---------- ----------------------------- 2.9/11.1 MB 4.0 MB/s eta 0:00:03\n",
      "   ----------- ---------------------------- 3.1/11.1 MB 4.1 MB/s eta 0:00:02\n",
      "   ----------- ---------------------------- 3.3/11.1 MB 4.1 MB/s eta 0:00:02\n",
      "   ------------ --------------------------- 3.6/11.1 MB 4.1 MB/s eta 0:00:02\n",
      "   ------------- -------------------------- 3.9/11.1 MB 4.3 MB/s eta 0:00:02\n",
      "   -------------- ------------------------- 4.1/11.1 MB 4.3 MB/s eta 0:00:02\n",
      "   --------------- ------------------------ 4.3/11.1 MB 4.4 MB/s eta 0:00:02\n",
      "   ---------------- ----------------------- 4.6/11.1 MB 4.4 MB/s eta 0:00:02\n",
      "   ----------------- ---------------------- 4.9/11.1 MB 4.4 MB/s eta 0:00:02\n",
      "   ------------------ --------------------- 5.1/11.1 MB 4.5 MB/s eta 0:00:02\n",
      "   ------------------- -------------------- 5.4/11.1 MB 4.5 MB/s eta 0:00:02\n",
      "   -------------------- ------------------- 5.7/11.1 MB 4.6 MB/s eta 0:00:02\n",
      "   --------------------- ------------------ 5.9/11.1 MB 4.6 MB/s eta 0:00:02\n",
      "   ---------------------- ----------------- 6.2/11.1 MB 4.7 MB/s eta 0:00:02\n",
      "   ----------------------- ---------------- 6.5/11.1 MB 4.8 MB/s eta 0:00:01\n",
      "   ------------------------ --------------- 6.8/11.1 MB 4.8 MB/s eta 0:00:01\n",
      "   ------------------------- -------------- 7.2/11.1 MB 4.9 MB/s eta 0:00:01\n",
      "   -------------------------- ------------- 7.5/11.1 MB 5.0 MB/s eta 0:00:01\n",
      "   ---------------------------- ----------- 7.8/11.1 MB 5.1 MB/s eta 0:00:01\n",
      "   ----------------------------- ---------- 8.2/11.1 MB 5.1 MB/s eta 0:00:01\n",
      "   ------------------------------ --------- 8.5/11.1 MB 5.2 MB/s eta 0:00:01\n",
      "   ------------------------------- -------- 8.9/11.1 MB 5.2 MB/s eta 0:00:01\n",
      "   -------------------------------- ------- 9.2/11.1 MB 5.3 MB/s eta 0:00:01\n",
      "   ---------------------------------- ----- 9.5/11.1 MB 5.3 MB/s eta 0:00:01\n",
      "   ----------------------------------- ---- 9.9/11.1 MB 5.4 MB/s eta 0:00:01\n",
      "   ------------------------------------ --- 10.2/11.1 MB 5.4 MB/s eta 0:00:01\n",
      "   ------------------------------------- -- 10.6/11.1 MB 5.6 MB/s eta 0:00:01\n",
      "   ---------------------------------------  10.9/11.1 MB 5.7 MB/s eta 0:00:01\n",
      "   ---------------------------------------- 11.1/11.1 MB 5.8 MB/s eta 0:00:00\n",
      "Downloading joblib-1.4.2-py3-none-any.whl (301 kB)\n",
      "   ---------------------------------------- 0.0/301.8 kB ? eta -:--:--\n",
      "   ---------------------------------------- 301.8/301.8 kB 6.2 MB/s eta 0:00:00\n",
      "Downloading scipy-1.15.2-cp311-cp311-win_amd64.whl (41.2 MB)\n",
      "   ---------------------------------------- 0.0/41.2 MB ? eta -:--:--\n",
      "   ---------------------------------------- 0.4/41.2 MB 7.4 MB/s eta 0:00:06\n",
      "    --------------------------------------- 0.7/41.2 MB 7.6 MB/s eta 0:00:06\n",
      "   - -------------------------------------- 1.1/41.2 MB 7.7 MB/s eta 0:00:06\n",
      "   - -------------------------------------- 1.5/41.2 MB 7.9 MB/s eta 0:00:06\n",
      "   - -------------------------------------- 1.9/41.2 MB 7.9 MB/s eta 0:00:05\n",
      "   -- ------------------------------------- 2.2/41.2 MB 7.9 MB/s eta 0:00:05\n",
      "   -- ------------------------------------- 2.6/41.2 MB 8.0 MB/s eta 0:00:05\n",
      "   -- ------------------------------------- 3.0/41.2 MB 8.1 MB/s eta 0:00:05\n",
      "   --- ------------------------------------ 3.5/41.2 MB 8.2 MB/s eta 0:00:05\n",
      "   --- ------------------------------------ 3.9/41.2 MB 8.2 MB/s eta 0:00:05\n",
      "   ---- ----------------------------------- 4.2/41.2 MB 8.2 MB/s eta 0:00:05\n",
      "   ---- ----------------------------------- 4.7/41.2 MB 8.3 MB/s eta 0:00:05\n",
      "   ---- ----------------------------------- 5.1/41.2 MB 8.4 MB/s eta 0:00:05\n",
      "   ----- ---------------------------------- 5.5/41.2 MB 8.4 MB/s eta 0:00:05\n",
      "   ----- ---------------------------------- 5.9/41.2 MB 8.4 MB/s eta 0:00:05\n",
      "   ------ --------------------------------- 6.4/41.2 MB 8.5 MB/s eta 0:00:05\n",
      "   ------ --------------------------------- 6.8/41.2 MB 8.6 MB/s eta 0:00:05\n",
      "   ------- -------------------------------- 7.2/41.2 MB 8.6 MB/s eta 0:00:04\n",
      "   ------- -------------------------------- 7.7/41.2 MB 8.6 MB/s eta 0:00:04\n",
      "   ------- -------------------------------- 8.2/41.2 MB 8.7 MB/s eta 0:00:04\n",
      "   -------- ------------------------------- 8.6/41.2 MB 8.7 MB/s eta 0:00:04\n",
      "   -------- ------------------------------- 9.1/41.2 MB 8.8 MB/s eta 0:00:04\n",
      "   --------- ------------------------------ 9.6/41.2 MB 8.9 MB/s eta 0:00:04\n",
      "   --------- ------------------------------ 10.1/41.2 MB 8.9 MB/s eta 0:00:04\n",
      "   ---------- ----------------------------- 10.5/41.2 MB 9.1 MB/s eta 0:00:04\n",
      "   ---------- ----------------------------- 11.0/41.2 MB 9.2 MB/s eta 0:00:04\n",
      "   ----------- ---------------------------- 11.5/41.2 MB 9.4 MB/s eta 0:00:04\n",
      "   ----------- ---------------------------- 12.0/41.2 MB 9.4 MB/s eta 0:00:04\n",
      "   ------------ --------------------------- 12.5/41.2 MB 9.5 MB/s eta 0:00:04\n",
      "   ------------ --------------------------- 13.0/41.2 MB 9.6 MB/s eta 0:00:03\n",
      "   ------------- -------------------------- 13.5/41.2 MB 9.6 MB/s eta 0:00:03\n",
      "   ------------- -------------------------- 14.0/41.2 MB 9.9 MB/s eta 0:00:03\n",
      "   -------------- ------------------------- 14.6/41.2 MB 10.1 MB/s eta 0:00:03\n",
      "   -------------- ------------------------- 15.2/41.2 MB 10.2 MB/s eta 0:00:03\n",
      "   --------------- ------------------------ 15.7/41.2 MB 10.4 MB/s eta 0:00:03\n",
      "   --------------- ------------------------ 16.3/41.2 MB 10.6 MB/s eta 0:00:03\n",
      "   ---------------- ----------------------- 17.0/41.2 MB 10.7 MB/s eta 0:00:03\n",
      "   ---------------- ----------------------- 17.5/41.2 MB 10.9 MB/s eta 0:00:03\n",
      "   ----------------- ---------------------- 18.2/41.2 MB 11.1 MB/s eta 0:00:03\n",
      "   ------------------ --------------------- 18.8/41.2 MB 11.3 MB/s eta 0:00:02\n",
      "   ------------------ --------------------- 19.4/41.2 MB 11.5 MB/s eta 0:00:02\n",
      "   ------------------- -------------------- 20.1/41.2 MB 11.7 MB/s eta 0:00:02\n",
      "   -------------------- ------------------- 20.7/41.2 MB 12.1 MB/s eta 0:00:02\n",
      "   -------------------- ------------------- 21.4/41.2 MB 12.4 MB/s eta 0:00:02\n",
      "   --------------------- ------------------ 22.0/41.2 MB 12.6 MB/s eta 0:00:02\n",
      "   ---------------------- ----------------- 22.7/41.2 MB 13.1 MB/s eta 0:00:02\n",
      "   ---------------------- ----------------- 23.3/41.2 MB 13.1 MB/s eta 0:00:02\n",
      "   ----------------------- ---------------- 24.0/41.2 MB 13.4 MB/s eta 0:00:02\n",
      "   ----------------------- ---------------- 24.7/41.2 MB 13.6 MB/s eta 0:00:02\n",
      "   ------------------------ --------------- 25.4/41.2 MB 13.9 MB/s eta 0:00:02\n",
      "   ------------------------- -------------- 26.1/41.2 MB 13.9 MB/s eta 0:00:02\n",
      "   ------------------------- -------------- 26.8/41.2 MB 14.2 MB/s eta 0:00:02\n",
      "   -------------------------- ------------- 27.5/41.2 MB 14.2 MB/s eta 0:00:01\n",
      "   --------------------------- ------------ 28.2/41.2 MB 14.5 MB/s eta 0:00:01\n",
      "   ---------------------------- ----------- 28.9/41.2 MB 14.6 MB/s eta 0:00:01\n",
      "   ---------------------------- ----------- 29.6/41.2 MB 14.9 MB/s eta 0:00:01\n",
      "   ----------------------------- ---------- 30.4/41.2 MB 14.9 MB/s eta 0:00:01\n",
      "   ------------------------------ --------- 30.9/41.2 MB 14.9 MB/s eta 0:00:01\n",
      "   ------------------------------ --------- 31.6/41.2 MB 14.6 MB/s eta 0:00:01\n",
      "   ------------------------------- -------- 32.2/41.2 MB 14.6 MB/s eta 0:00:01\n",
      "   ------------------------------- -------- 32.8/41.2 MB 14.6 MB/s eta 0:00:01\n",
      "   -------------------------------- ------- 33.5/41.2 MB 14.5 MB/s eta 0:00:01\n",
      "   --------------------------------- ------ 34.2/41.2 MB 14.6 MB/s eta 0:00:01\n",
      "   --------------------------------- ------ 34.8/41.2 MB 14.6 MB/s eta 0:00:01\n",
      "   ---------------------------------- ----- 35.6/41.2 MB 14.9 MB/s eta 0:00:01\n",
      "   ----------------------------------- ---- 36.4/41.2 MB 14.9 MB/s eta 0:00:01\n",
      "   ------------------------------------ --- 37.2/41.2 MB 14.9 MB/s eta 0:00:01\n",
      "   ------------------------------------ --- 38.0/41.2 MB 14.9 MB/s eta 0:00:01\n",
      "   ------------------------------------- -- 38.7/41.2 MB 14.9 MB/s eta 0:00:01\n",
      "   -------------------------------------- - 39.3/41.2 MB 14.9 MB/s eta 0:00:01\n",
      "   -------------------------------------- - 40.0/41.2 MB 14.9 MB/s eta 0:00:01\n",
      "   ---------------------------------------  40.8/41.2 MB 14.9 MB/s eta 0:00:01\n",
      "   ---------------------------------------  41.2/41.2 MB 15.2 MB/s eta 0:00:01\n",
      "   ---------------------------------------- 41.2/41.2 MB 14.2 MB/s eta 0:00:00\n",
      "Downloading threadpoolctl-3.5.0-py3-none-any.whl (18 kB)\n",
      "Installing collected packages: threadpoolctl, scipy, joblib, scikit-learn\n",
      "Successfully installed joblib-1.4.2 scikit-learn-1.6.1 scipy-1.15.2 threadpoolctl-3.5.0\n",
      "Note: you may need to restart the kernel to use updated packages.\n"
     ]
    },
    {
     "name": "stderr",
     "output_type": "stream",
     "text": [
      "\n",
      "[notice] A new release of pip is available: 24.0 -> 25.0.1\n",
      "[notice] To update, run: C:\\Users\\matej\\AppData\\Local\\Microsoft\\WindowsApps\\PythonSoftwareFoundation.Python.3.11_qbz5n2kfra8p0\\python.exe -m pip install --upgrade pip\n"
     ]
    }
   ],
   "source": [
    "%pip install scikit-learn\n"
   ]
  },
  {
   "cell_type": "code",
   "execution_count": null,
   "metadata": {},
   "outputs": [],
   "source": []
  },
  {
   "cell_type": "code",
   "execution_count": 173,
   "metadata": {},
   "outputs": [
    {
     "name": "stdout",
     "output_type": "stream",
     "text": [
      "        Name  Trend_Slope\n",
      "0       Liam  1854.787879\n",
      "1      Mason  1137.163636\n",
      "2     Harper  1117.751515\n",
      "3     Sophia   928.678788\n",
      "4  Charlotte   873.884848\n",
      "5    Bentley   780.327273\n",
      "6      Jaxon   748.618182\n",
      "7     Oliver   748.175758\n",
      "8    Daleyza   709.500000\n",
      "9        Eli   674.296970\n"
     ]
    }
   ],
   "source": [
    "from sklearn.linear_model import LinearRegression\n",
    "\n",
    "def find_trending_names_by_slope(years_to_analyze=20):\n",
    "    \"\"\"\n",
    "    Finds the top 10 trending baby names by fitting a linear regression model to measure the trend slope.\n",
    "\n",
    "    Parameters:\n",
    "    - years_to_analyze (int): The number of years to include in the trend analysis.\n",
    "\n",
    "    Returns:\n",
    "    - DataFrame: A DataFrame with the top 10 trending names, showing their trend slope.\n",
    "    \"\"\"\n",
    "    \n",
    "    # Load National Names dataset\n",
    "    national_file = r\"C:\\Users\\matej\\.cache\\kagglehub\\datasets\\kaggle\\us-baby-names\\versions\\2\\NationalNames.csv\"\n",
    "    df_national = pd.read_csv(national_file)\n",
    "\n",
    "    # Find the most recent year\n",
    "    max_year = df_national[\"Year\"].max()\n",
    "    min_year = max_year - years_to_analyze + 1  # Earliest year to include in analysis\n",
    "\n",
    "    # Filter dataset to include only the last N years\n",
    "    df_filtered = df_national[df_national[\"Year\"] >= min_year]\n",
    "\n",
    "    # Aggregate name occurrences by year\n",
    "    df_grouped = df_filtered.groupby([\"Name\", \"Year\"])[\"Count\"].sum().reset_index()\n",
    "\n",
    "    # Prepare storage for trend slopes\n",
    "    name_trends = []\n",
    "\n",
    "    # Iterate through each name and fit a regression model\n",
    "    for name, group in df_grouped.groupby(\"Name\"):\n",
    "        # Extract years and counts\n",
    "        X = group[\"Year\"].values.reshape(-1, 1)  # Reshape for sklearn\n",
    "        y = group[\"Count\"].values\n",
    "\n",
    "        # Ensure there are enough data points to fit a model\n",
    "        if len(y) < 2:\n",
    "            continue  # Skip names with less than 2 years of data\n",
    "\n",
    "        # Fit linear regression model\n",
    "        model = LinearRegression()\n",
    "        model.fit(X, y)\n",
    "\n",
    "        # Store the trend slope (steeper slope = more trending)\n",
    "        #name_trends.append({\"Name\": name, \"Trend_Slope\": model.coef_[0]})\n",
    "        name_trends.append({\"Name\": name, \"Trend_Slope\": model.coef_.flatten()[0]})\n",
    "\n",
    "    # Convert results to DataFrame\n",
    "    df_trends = pd.DataFrame(name_trends)\n",
    "\n",
    "    # Sort by trend slope in descending order (higher slope = more trending)\n",
    "    df_trends_sorted = df_trends.sort_values(by=\"Trend_Slope\", ascending=False)\n",
    "\n",
    "    # Get the top 10 trending names\n",
    "    return df_trends_sorted.head(10).reset_index(drop=True)\n",
    "\n",
    "# Example usage:\n",
    "top_trending = find_trending_names_by_slope(10)\n",
    "print(top_trending)"
   ]
  },
  {
   "cell_type": "code",
   "execution_count": null,
   "metadata": {},
   "outputs": [],
   "source": [
    "        Name  Trend_Slope\n",
    "0       Liam  1854.787879\n",
    "1      Mason  1137.163636\n",
    "2     Harper  1117.751515\n",
    "3     Sophia   928.678788\n",
    "4  Charlotte   873.884848\n",
    "5    Bentley   780.327273\n",
    "6      Jaxon   748.618182\n",
    "7     Oliver   748.175758\n",
    "8    Daleyza   709.500000\n",
    "9        Eli   674.296970"
   ]
  },
  {
   "cell_type": "code",
   "execution_count": 171,
   "metadata": {},
   "outputs": [
    {
     "name": "stdout",
     "output_type": "stream",
     "text": [
      "Shape of model.coef_: (1,)\n"
     ]
    }
   ],
   "source": [
    "print(f\"Shape of model.coef_: {model.coef_.shape}\")"
   ]
  },
  {
   "cell_type": "code",
   "execution_count": 172,
   "metadata": {},
   "outputs": [
    {
     "data": {
      "text/plain": [
       "np.float64(-6.999999999999998)"
      ]
     },
     "execution_count": 172,
     "metadata": {},
     "output_type": "execute_result"
    }
   ],
   "source": [
    "slope = model.coef_.flatten()[0]\n",
    "slope"
   ]
  },
  {
   "cell_type": "code",
   "execution_count": 195,
   "metadata": {},
   "outputs": [],
   "source": [
    "def find_trending_names(N=10, alpha=0.7, beta=0.3):\n",
    "    \"\"\"\n",
    "    Finds the top trending baby names based on the rate of increase in occurrences over the past N years,\n",
    "    adjusted for relative commonness. \n",
    "    \n",
    "    Parameters:\n",
    "        N (int): Number of years to consider for trend analysis.\n",
    "        alpha (float): Weight for trendiness (slope influence).\n",
    "        beta (float): Weight for relative commonness.\n",
    "    \n",
    "    Returns:\n",
    "        DataFrame: Top 10 trending names sorted by a combined score.\n",
    "    \"\"\"\n",
    "    # Load dataset\n",
    "    national_file = r\"C:\\Users\\matej\\.cache\\kagglehub\\datasets\\kaggle\\us-baby-names\\versions\\2\\NationalNames.csv\"\n",
    "    df_national = pd.read_csv(national_file)\n",
    "    \n",
    "    # Get the most recent year in the dataset\n",
    "    max_year = df_national['Year'].max()\n",
    "    \n",
    "    # Filter data for the last N years\n",
    "    df_recent = df_national[df_national['Year'] >= max_year - (N - 1)]\n",
    "    \n",
    "    # Compute total births per year to normalize later\n",
    "    total_per_year = df_recent.groupby(\"Year\")[\"Count\"].sum().reset_index().rename(columns={\"Count\": \"Total_Year\"})\n",
    "    df_recent = df_recent.merge(total_per_year, on=\"Year\")\n",
    "    df_recent[\"Relative_Commonness\"] = df_recent[\"Count\"] / df_recent[\"Total_Year\"]\n",
    "    \n",
    "    # Get the most common name's relative frequency to normalize commonness\n",
    "    max_relative_commonness = df_recent.groupby(\"Year\")[\"Relative_Commonness\"].transform(\"max\")\n",
    "    df_recent[\"Normalized_Relative_Commonness\"] = df_recent[\"Relative_Commonness\"] / max_relative_commonness\n",
    "    \n",
    "    # Prepare for trend analysis\n",
    "    trending_names = []\n",
    "    for name, group in df_recent.groupby(\"Name\"):\n",
    "        if len(group) < 2:\n",
    "            continue  # Skip names with fewer than 2 data points (no trend possible)\n",
    "        \n",
    "        # Fit a linear regression model to the name occurrences over time\n",
    "        X = group[\"Year\"].values.reshape(-1, 1)\n",
    "        y = group[\"Count\"].values.reshape(-1, 1)\n",
    "        model = LinearRegression()\n",
    "        model.fit(X, y)\n",
    "        slope = model.coef_[0][0]  # Extract the trendiness slope\n",
    "        \n",
    "        # Compute the average relative commonness of the name over the period\n",
    "        avg_relative_commonness = group[\"Normalized_Relative_Commonness\"].mean()\n",
    "        \n",
    "        # Compute final score\n",
    "        score = (alpha * slope) + (beta * avg_relative_commonness)\n",
    "        \n",
    "        # Append to results\n",
    "        trending_names.append({\n",
    "            \"Name\": name,\n",
    "            \"Trendiness_Slope\": slope,\n",
    "            \"Avg_Relative_Commonness\": avg_relative_commonness,\n",
    "            \"Final_Score\": score\n",
    "        })\n",
    "    \n",
    "    # Convert results to DataFrame and sort by final score\n",
    "    df_trending = pd.DataFrame(trending_names)\n",
    "    df_trending = df_trending.sort_values(by=\"Final_Score\", ascending=False).head(10)\n",
    "    \n",
    "    return df_trending"
   ]
  },
  {
   "cell_type": "code",
   "execution_count": 196,
   "metadata": {},
   "outputs": [
    {
     "data": {
      "text/html": [
       "<div>\n",
       "<style scoped>\n",
       "    .dataframe tbody tr th:only-of-type {\n",
       "        vertical-align: middle;\n",
       "    }\n",
       "\n",
       "    .dataframe tbody tr th {\n",
       "        vertical-align: top;\n",
       "    }\n",
       "\n",
       "    .dataframe thead th {\n",
       "        text-align: right;\n",
       "    }\n",
       "</style>\n",
       "<table border=\"1\" class=\"dataframe\">\n",
       "  <thead>\n",
       "    <tr style=\"text-align: right;\">\n",
       "      <th></th>\n",
       "      <th>Name</th>\n",
       "      <th>Trendiness_Slope</th>\n",
       "      <th>Avg_Relative_Commonness</th>\n",
       "      <th>Final_Score</th>\n",
       "    </tr>\n",
       "  </thead>\n",
       "  <tbody>\n",
       "    <tr>\n",
       "      <th>26440</th>\n",
       "      <td>Liam</td>\n",
       "      <td>927.393939</td>\n",
       "      <td>0.239700</td>\n",
       "      <td>649.247667</td>\n",
       "    </tr>\n",
       "    <tr>\n",
       "      <th>9841</th>\n",
       "      <td>Daleyza</td>\n",
       "      <td>709.500000</td>\n",
       "      <td>0.031688</td>\n",
       "      <td>496.659506</td>\n",
       "    </tr>\n",
       "    <tr>\n",
       "      <th>29029</th>\n",
       "      <td>Mason</td>\n",
       "      <td>568.581818</td>\n",
       "      <td>0.313714</td>\n",
       "      <td>398.101387</td>\n",
       "    </tr>\n",
       "    <tr>\n",
       "      <th>15772</th>\n",
       "      <td>Harper</td>\n",
       "      <td>558.875758</td>\n",
       "      <td>0.091914</td>\n",
       "      <td>391.240604</td>\n",
       "    </tr>\n",
       "    <tr>\n",
       "      <th>36602</th>\n",
       "      <td>Scarlett</td>\n",
       "      <td>474.184211</td>\n",
       "      <td>0.107135</td>\n",
       "      <td>331.961088</td>\n",
       "    </tr>\n",
       "    <tr>\n",
       "      <th>33256</th>\n",
       "      <td>Penelope</td>\n",
       "      <td>473.430303</td>\n",
       "      <td>0.088991</td>\n",
       "      <td>331.427909</td>\n",
       "    </tr>\n",
       "    <tr>\n",
       "      <th>38205</th>\n",
       "      <td>Sophia</td>\n",
       "      <td>464.339394</td>\n",
       "      <td>0.400280</td>\n",
       "      <td>325.157660</td>\n",
       "    </tr>\n",
       "    <tr>\n",
       "      <th>6057</th>\n",
       "      <td>Bentley</td>\n",
       "      <td>390.163636</td>\n",
       "      <td>0.064387</td>\n",
       "      <td>273.133861</td>\n",
       "    </tr>\n",
       "    <tr>\n",
       "      <th>8933</th>\n",
       "      <td>Claire</td>\n",
       "      <td>383.574324</td>\n",
       "      <td>0.144392</td>\n",
       "      <td>268.545345</td>\n",
       "    </tr>\n",
       "    <tr>\n",
       "      <th>19012</th>\n",
       "      <td>Jaxon</td>\n",
       "      <td>374.309091</td>\n",
       "      <td>0.094004</td>\n",
       "      <td>262.044565</td>\n",
       "    </tr>\n",
       "  </tbody>\n",
       "</table>\n",
       "</div>"
      ],
      "text/plain": [
       "           Name  Trendiness_Slope  Avg_Relative_Commonness  Final_Score\n",
       "26440      Liam        927.393939                 0.239700   649.247667\n",
       "9841    Daleyza        709.500000                 0.031688   496.659506\n",
       "29029     Mason        568.581818                 0.313714   398.101387\n",
       "15772    Harper        558.875758                 0.091914   391.240604\n",
       "36602  Scarlett        474.184211                 0.107135   331.961088\n",
       "33256  Penelope        473.430303                 0.088991   331.427909\n",
       "38205    Sophia        464.339394                 0.400280   325.157660\n",
       "6057    Bentley        390.163636                 0.064387   273.133861\n",
       "8933     Claire        383.574324                 0.144392   268.545345\n",
       "19012     Jaxon        374.309091                 0.094004   262.044565"
      ]
     },
     "execution_count": 196,
     "metadata": {},
     "output_type": "execute_result"
    }
   ],
   "source": [
    "find_trending_names(N=10, alpha=0.7, beta=0.3)"
   ]
  },
  {
   "cell_type": "code",
   "execution_count": 204,
   "metadata": {},
   "outputs": [
    {
     "data": {
      "text/html": [
       "<div>\n",
       "<style scoped>\n",
       "    .dataframe tbody tr th:only-of-type {\n",
       "        vertical-align: middle;\n",
       "    }\n",
       "\n",
       "    .dataframe tbody tr th {\n",
       "        vertical-align: top;\n",
       "    }\n",
       "\n",
       "    .dataframe thead th {\n",
       "        text-align: right;\n",
       "    }\n",
       "</style>\n",
       "<table border=\"1\" class=\"dataframe\">\n",
       "  <thead>\n",
       "    <tr style=\"text-align: right;\">\n",
       "      <th></th>\n",
       "      <th>Name</th>\n",
       "      <th>Trendiness_Slope</th>\n",
       "      <th>Avg_Relative_Commonness</th>\n",
       "    </tr>\n",
       "  </thead>\n",
       "  <tbody>\n",
       "  </tbody>\n",
       "</table>\n",
       "</div>"
      ],
      "text/plain": [
       "Empty DataFrame\n",
       "Columns: [Name, Trendiness_Slope, Avg_Relative_Commonness]\n",
       "Index: []"
      ]
     },
     "execution_count": 204,
     "metadata": {},
     "output_type": "execute_result"
    }
   ],
   "source": [
    "def find_trending_names(N=10, threshold_commonness=0.01):\n",
    "    # Load dataset\n",
    "    national_file = r\"C:\\Users\\matej\\.cache\\kagglehub\\datasets\\kaggle\\us-baby-names\\versions\\2\\NationalNames.csv\"\n",
    "    df = pd.read_csv(national_file)\n",
    "    \n",
    "    # Filter last N years\n",
    "    max_year = df[\"Year\"].max()\n",
    "    df_recent = df[df[\"Year\"] >= max_year - N]\n",
    "    \n",
    "    # Compute total occurrences per year\n",
    "    total_per_year = df_recent.groupby(\"Year\")[\"Count\"].sum().reset_index().rename(columns={\"Count\": \"Total_Year\"})\n",
    "    df_recent = df_recent.merge(total_per_year, on=\"Year\")\n",
    "    \n",
    "    # Compute relative commonness per year\n",
    "    df_recent[\"Relative_Commonness\"] = df_recent[\"Count\"] / df_recent[\"Total_Year\"]\n",
    "    \n",
    "    # Compute trendiness slope for each name\n",
    "    name_trends = []\n",
    "    for name, group in df_recent.groupby(\"Name\"):\n",
    "        if len(group) < 2:\n",
    "            continue  # Skip names that appear in less than 2 years\n",
    "        \n",
    "        X = group[\"Year\"].values.reshape(-1, 1)\n",
    "        y = group[\"Count\"].values.reshape(-1, 1)\n",
    "        model = LinearRegression().fit(X, y)\n",
    "        slope = model.coef_[0][0]\n",
    "        \n",
    "        # Compute average relative commonness\n",
    "        avg_commonness = group[\"Relative_Commonness\"].mean()\n",
    "        \n",
    "        if avg_commonness >= threshold_commonness:\n",
    "            name_trends.append((name, slope, avg_commonness))\n",
    "    \n",
    "    # Convert to DataFrame and sort by trendiness\n",
    "    df_trends = pd.DataFrame(name_trends, columns=[\"Name\", \"Trendiness_Slope\", \"Avg_Relative_Commonness\"])\n",
    "    df_trends = df_trends.sort_values(by=\"Trendiness_Slope\", ascending=False)\n",
    "    \n",
    "    return df_trends.head(N)\n",
    "\n",
    "find_trending_names(N=10, threshold_commonness=0.01)"
   ]
  },
  {
   "cell_type": "code",
   "execution_count": 209,
   "metadata": {},
   "outputs": [
    {
     "name": "stdout",
     "output_type": "stream",
     "text": [
      "           Name  Trendiness_Slope  Avg_Relative_Commonness\n",
      "27094      Liam        849.254545                 0.001344\n",
      "10063   Daleyza        709.500000                 0.000181\n",
      "29745     Mason        547.481818                 0.001817\n",
      "39185    Sophia        509.940909                 0.002318\n",
      "16154    Harper        502.090909                 0.000498\n",
      "...         ...               ...                      ...\n",
      "2012     Alexis       -597.936364                 0.001427\n",
      "32704  Nicholas       -624.595455                 0.001537\n",
      "42095     Tyler       -633.336364                 0.001556\n",
      "13577     Emily       -650.072727                 0.002279\n",
      "21358    Joshua       -729.054545                 0.002291\n",
      "\n",
      "[45274 rows x 3 columns]\n"
     ]
    },
    {
     "data": {
      "text/html": [
       "<div>\n",
       "<style scoped>\n",
       "    .dataframe tbody tr th:only-of-type {\n",
       "        vertical-align: middle;\n",
       "    }\n",
       "\n",
       "    .dataframe tbody tr th {\n",
       "        vertical-align: top;\n",
       "    }\n",
       "\n",
       "    .dataframe thead th {\n",
       "        text-align: right;\n",
       "    }\n",
       "</style>\n",
       "<table border=\"1\" class=\"dataframe\">\n",
       "  <thead>\n",
       "    <tr style=\"text-align: right;\">\n",
       "      <th></th>\n",
       "      <th>Name</th>\n",
       "      <th>Trendiness_Slope</th>\n",
       "      <th>Avg_Relative_Commonness</th>\n",
       "    </tr>\n",
       "  </thead>\n",
       "  <tbody>\n",
       "    <tr>\n",
       "      <th>27094</th>\n",
       "      <td>Liam</td>\n",
       "      <td>849.254545</td>\n",
       "      <td>0.001344</td>\n",
       "    </tr>\n",
       "    <tr>\n",
       "      <th>10063</th>\n",
       "      <td>Daleyza</td>\n",
       "      <td>709.500000</td>\n",
       "      <td>0.000181</td>\n",
       "    </tr>\n",
       "    <tr>\n",
       "      <th>29745</th>\n",
       "      <td>Mason</td>\n",
       "      <td>547.481818</td>\n",
       "      <td>0.001817</td>\n",
       "    </tr>\n",
       "    <tr>\n",
       "      <th>39185</th>\n",
       "      <td>Sophia</td>\n",
       "      <td>509.940909</td>\n",
       "      <td>0.002318</td>\n",
       "    </tr>\n",
       "    <tr>\n",
       "      <th>16154</th>\n",
       "      <td>Harper</td>\n",
       "      <td>502.090909</td>\n",
       "      <td>0.000498</td>\n",
       "    </tr>\n",
       "    <tr>\n",
       "      <th>37524</th>\n",
       "      <td>Scarlett</td>\n",
       "      <td>435.886216</td>\n",
       "      <td>0.000598</td>\n",
       "    </tr>\n",
       "    <tr>\n",
       "      <th>34096</th>\n",
       "      <td>Penelope</td>\n",
       "      <td>424.254545</td>\n",
       "      <td>0.000488</td>\n",
       "    </tr>\n",
       "    <tr>\n",
       "      <th>9134</th>\n",
       "      <td>Claire</td>\n",
       "      <td>368.139456</td>\n",
       "      <td>0.000814</td>\n",
       "    </tr>\n",
       "    <tr>\n",
       "      <th>6179</th>\n",
       "      <td>Bentley</td>\n",
       "      <td>353.163636</td>\n",
       "      <td>0.000350</td>\n",
       "    </tr>\n",
       "    <tr>\n",
       "      <th>19483</th>\n",
       "      <td>Jaxon</td>\n",
       "      <td>347.031818</td>\n",
       "      <td>0.000523</td>\n",
       "    </tr>\n",
       "  </tbody>\n",
       "</table>\n",
       "</div>"
      ],
      "text/plain": [
       "           Name  Trendiness_Slope  Avg_Relative_Commonness\n",
       "27094      Liam        849.254545                 0.001344\n",
       "10063   Daleyza        709.500000                 0.000181\n",
       "29745     Mason        547.481818                 0.001817\n",
       "39185    Sophia        509.940909                 0.002318\n",
       "16154    Harper        502.090909                 0.000498\n",
       "37524  Scarlett        435.886216                 0.000598\n",
       "34096  Penelope        424.254545                 0.000488\n",
       "9134     Claire        368.139456                 0.000814\n",
       "6179    Bentley        353.163636                 0.000350\n",
       "19483     Jaxon        347.031818                 0.000523"
      ]
     },
     "execution_count": 209,
     "metadata": {},
     "output_type": "execute_result"
    }
   ],
   "source": [
    "def find_trending_names(file_path, N=10, alpha=1.0, threshold_commonness=0.01):\n",
    "    # Load dataset\n",
    "    df = pd.read_csv(file_path)\n",
    "    \n",
    "    # Filter last N years\n",
    "    max_year = df[\"Year\"].max()\n",
    "    df_recent = df[df[\"Year\"] >= max_year - N]\n",
    "    \n",
    "    # Compute total occurrences per year\n",
    "    total_per_year = df_recent.groupby(\"Year\")[\"Count\"].sum().reset_index().rename(columns={\"Count\": \"Total_Year\"})\n",
    "    df_recent = df_recent.merge(total_per_year, on=\"Year\")\n",
    "    \n",
    "    # Compute relative commonness per year\n",
    "    df_recent[\"Relative_Commonness\"] = df_recent[\"Count\"] / df_recent[\"Total_Year\"]\n",
    "    \n",
    "    # Compute trendiness slope for each name\n",
    "    name_trends = []\n",
    "    for name, group in df_recent.groupby(\"Name\"):\n",
    "        if len(group) < 2:\n",
    "            continue  # Skip names that appear in less than 2 years\n",
    "        \n",
    "        X = group[\"Year\"].values.reshape(-1, 1)\n",
    "        y = group[\"Count\"].values.reshape(-1, 1)\n",
    "        model = LinearRegression().fit(X, y)\n",
    "        slope = model.coef_[0][0]\n",
    "\n",
    "        \n",
    "        \n",
    "        # Compute average relative commonness\n",
    "        avg_commonness = group[\"Relative_Commonness\"].mean()\n",
    "\n",
    "        name_trends.append((name, slope, avg_commonness))\n",
    "        '''\n",
    "        if avg_commonness >= threshold_commonness:\n",
    "            name_trends.append((name, slope, avg_commonness))\n",
    "        '''\n",
    "    # Convert to DataFrame and sort by trendiness\n",
    "    df_trends = pd.DataFrame(name_trends, columns=[\"Name\", \"Trendiness_Slope\", \"Avg_Relative_Commonness\"])\n",
    "    df_trends = df_trends.sort_values(by=\"Trendiness_Slope\", ascending=False)\n",
    "    \n",
    "    print(df_trends)  # Print the results including relative commonness\n",
    "    \n",
    "    return df_trends.head(N)\n",
    "\n",
    "file_path = r\"C:\\Users\\matej\\.cache\\kagglehub\\datasets\\kaggle\\us-baby-names\\versions\\2\\NationalNames.csv\"\n",
    "find_trending_names(file_path, N=10, alpha=1.0, threshold_commonness=0.01)"
   ]
  },
  {
   "cell_type": "code",
   "execution_count": 210,
   "metadata": {},
   "outputs": [
    {
     "name": "stdout",
     "output_type": "stream",
     "text": [
      "        Name  Trendiness_Slope  Avg_Relative_Commonness  Total_Assigned\n",
      "58      Liam        849.254545                 0.001344          109894\n",
      "63     Mason        547.481818                 0.001817          149818\n",
      "79    Sophia        509.940909                 0.002318          191647\n",
      "48    Jayden        300.718182                 0.002013          167081\n",
      "13     Avery        296.995455                 0.001117           92333\n",
      "..       ...               ...                      ...             ...\n",
      "5     Alexis       -597.936364                 0.001427          119678\n",
      "69  Nicholas       -624.595455                 0.001537          128919\n",
      "82     Tyler       -633.336364                 0.001556          130521\n",
      "30     Emily       -650.072727                 0.002279          190549\n",
      "54    Joshua       -729.054545                 0.002291          191809\n",
      "\n",
      "[85 rows x 4 columns]\n"
     ]
    },
    {
     "data": {
      "text/html": [
       "<div>\n",
       "<style scoped>\n",
       "    .dataframe tbody tr th:only-of-type {\n",
       "        vertical-align: middle;\n",
       "    }\n",
       "\n",
       "    .dataframe tbody tr th {\n",
       "        vertical-align: top;\n",
       "    }\n",
       "\n",
       "    .dataframe thead th {\n",
       "        text-align: right;\n",
       "    }\n",
       "</style>\n",
       "<table border=\"1\" class=\"dataframe\">\n",
       "  <thead>\n",
       "    <tr style=\"text-align: right;\">\n",
       "      <th></th>\n",
       "      <th>Name</th>\n",
       "      <th>Trendiness_Slope</th>\n",
       "      <th>Avg_Relative_Commonness</th>\n",
       "      <th>Total_Assigned</th>\n",
       "    </tr>\n",
       "  </thead>\n",
       "  <tbody>\n",
       "    <tr>\n",
       "      <th>58</th>\n",
       "      <td>Liam</td>\n",
       "      <td>849.254545</td>\n",
       "      <td>0.001344</td>\n",
       "      <td>109894</td>\n",
       "    </tr>\n",
       "    <tr>\n",
       "      <th>63</th>\n",
       "      <td>Mason</td>\n",
       "      <td>547.481818</td>\n",
       "      <td>0.001817</td>\n",
       "      <td>149818</td>\n",
       "    </tr>\n",
       "    <tr>\n",
       "      <th>79</th>\n",
       "      <td>Sophia</td>\n",
       "      <td>509.940909</td>\n",
       "      <td>0.002318</td>\n",
       "      <td>191647</td>\n",
       "    </tr>\n",
       "    <tr>\n",
       "      <th>48</th>\n",
       "      <td>Jayden</td>\n",
       "      <td>300.718182</td>\n",
       "      <td>0.002013</td>\n",
       "      <td>167081</td>\n",
       "    </tr>\n",
       "    <tr>\n",
       "      <th>13</th>\n",
       "      <td>Avery</td>\n",
       "      <td>296.995455</td>\n",
       "      <td>0.001117</td>\n",
       "      <td>92333</td>\n",
       "    </tr>\n",
       "    <tr>\n",
       "      <th>3</th>\n",
       "      <td>Aiden</td>\n",
       "      <td>283.263636</td>\n",
       "      <td>0.001765</td>\n",
       "      <td>146430</td>\n",
       "    </tr>\n",
       "    <tr>\n",
       "      <th>18</th>\n",
       "      <td>Carter</td>\n",
       "      <td>270.959091</td>\n",
       "      <td>0.001049</td>\n",
       "      <td>86727</td>\n",
       "    </tr>\n",
       "    <tr>\n",
       "      <th>70</th>\n",
       "      <td>Noah</td>\n",
       "      <td>262.550000</td>\n",
       "      <td>0.002174</td>\n",
       "      <td>180411</td>\n",
       "    </tr>\n",
       "    <tr>\n",
       "      <th>60</th>\n",
       "      <td>Lucas</td>\n",
       "      <td>247.363636</td>\n",
       "      <td>0.001271</td>\n",
       "      <td>105260</td>\n",
       "    </tr>\n",
       "    <tr>\n",
       "      <th>35</th>\n",
       "      <td>Gabriella</td>\n",
       "      <td>222.768895</td>\n",
       "      <td>0.001066</td>\n",
       "      <td>60435</td>\n",
       "    </tr>\n",
       "  </tbody>\n",
       "</table>\n",
       "</div>"
      ],
      "text/plain": [
       "         Name  Trendiness_Slope  Avg_Relative_Commonness  Total_Assigned\n",
       "58       Liam        849.254545                 0.001344          109894\n",
       "63      Mason        547.481818                 0.001817          149818\n",
       "79     Sophia        509.940909                 0.002318          191647\n",
       "48     Jayden        300.718182                 0.002013          167081\n",
       "13      Avery        296.995455                 0.001117           92333\n",
       "3       Aiden        283.263636                 0.001765          146430\n",
       "18     Carter        270.959091                 0.001049           86727\n",
       "70       Noah        262.550000                 0.002174          180411\n",
       "60      Lucas        247.363636                 0.001271          105260\n",
       "35  Gabriella        222.768895                 0.001066           60435"
      ]
     },
     "execution_count": 210,
     "metadata": {},
     "output_type": "execute_result"
    }
   ],
   "source": [
    "def find_trending_names(N=10, threshold_commonness=0.01):\n",
    "    # Load dataset\n",
    "    file_path = r\"C:\\Users\\matej\\.cache\\kagglehub\\datasets\\kaggle\\us-baby-names\\versions\\2\\NationalNames.csv\"\n",
    "    df = pd.read_csv(file_path)\n",
    "    \n",
    "    # Filter last N years\n",
    "    max_year = df[\"Year\"].max()\n",
    "    df_recent = df[df[\"Year\"] >= max_year - N]\n",
    "    \n",
    "    # Compute total occurrences per year\n",
    "    total_per_year = df_recent.groupby(\"Year\")[\"Count\"].sum().reset_index().rename(columns={\"Count\": \"Total_Year\"})\n",
    "    df_recent = df_recent.merge(total_per_year, on=\"Year\")\n",
    "    \n",
    "    # Compute relative commonness per year\n",
    "    df_recent[\"Relative_Commonness\"] = df_recent[\"Count\"] / df_recent[\"Total_Year\"]\n",
    "    \n",
    "    # Compute trendiness slope for each name\n",
    "    name_trends = []\n",
    "    for name, group in df_recent.groupby(\"Name\"):\n",
    "        if len(group) < 2:\n",
    "            continue  # Skip names that appear in less than 2 years\n",
    "        \n",
    "        X = group[\"Year\"].values.reshape(-1, 1)\n",
    "        y = group[\"Count\"].values.reshape(-1, 1)\n",
    "        model = LinearRegression().fit(X, y)\n",
    "        slope = model.coef_[0][0]\n",
    "        \n",
    "        # Compute average relative commonness\n",
    "        avg_commonness = group[\"Relative_Commonness\"].mean()\n",
    "        \n",
    "        # Compute total assigned baby names over the period\n",
    "        total_assigned = group[\"Count\"].sum()\n",
    "        \n",
    "        if avg_commonness >= threshold_commonness:\n",
    "            name_trends.append((name, slope, avg_commonness, total_assigned))\n",
    "    \n",
    "    # Convert to DataFrame and sort by trendiness\n",
    "    df_trends = pd.DataFrame(name_trends, columns=[\"Name\", \"Trendiness_Slope\", \"Avg_Relative_Commonness\", \"Total_Assigned\"])\n",
    "    df_trends = df_trends.sort_values(by=\"Trendiness_Slope\", ascending=False)\n",
    "    \n",
    "    print(df_trends)  # Print the results including relative commonness and total assigned names\n",
    "    \n",
    "    return df_trends.head(N)\n",
    "\n",
    "find_trending_names(N=10, threshold_commonness=0.001)"
   ]
  },
  {
   "cell_type": "code",
   "execution_count": 212,
   "metadata": {},
   "outputs": [
    {
     "name": "stdout",
     "output_type": "stream",
     "text": [
      "        Name  Trendiness_Slope  Avg_Relative_Commonness  Total_Assigned\n",
      "58      Liam        849.254545                 0.461005          109894\n",
      "63     Mason        547.481818                 0.623521          149818\n",
      "79    Sophia        509.940909                 0.795101          191647\n",
      "48    Jayden        300.718182                 0.690627          167081\n",
      "13     Avery        296.995455                 0.383312           92333\n",
      "..       ...               ...                      ...             ...\n",
      "5     Alexis       -597.936364                 0.489505          119678\n",
      "69  Nicholas       -624.595455                 0.527372          128919\n",
      "82     Tyler       -633.336364                 0.533878          130521\n",
      "30     Emily       -650.072727                 0.781919          190549\n",
      "54    Joshua       -729.054545                 0.785834          191809\n",
      "\n",
      "[85 rows x 4 columns]\n"
     ]
    },
    {
     "data": {
      "text/html": [
       "<div>\n",
       "<style scoped>\n",
       "    .dataframe tbody tr th:only-of-type {\n",
       "        vertical-align: middle;\n",
       "    }\n",
       "\n",
       "    .dataframe tbody tr th {\n",
       "        vertical-align: top;\n",
       "    }\n",
       "\n",
       "    .dataframe thead th {\n",
       "        text-align: right;\n",
       "    }\n",
       "</style>\n",
       "<table border=\"1\" class=\"dataframe\">\n",
       "  <thead>\n",
       "    <tr style=\"text-align: right;\">\n",
       "      <th></th>\n",
       "      <th>Name</th>\n",
       "      <th>Trendiness_Slope</th>\n",
       "      <th>Avg_Relative_Commonness</th>\n",
       "      <th>Total_Assigned</th>\n",
       "    </tr>\n",
       "  </thead>\n",
       "  <tbody>\n",
       "    <tr>\n",
       "      <th>58</th>\n",
       "      <td>Liam</td>\n",
       "      <td>849.254545</td>\n",
       "      <td>0.461005</td>\n",
       "      <td>109894</td>\n",
       "    </tr>\n",
       "    <tr>\n",
       "      <th>63</th>\n",
       "      <td>Mason</td>\n",
       "      <td>547.481818</td>\n",
       "      <td>0.623521</td>\n",
       "      <td>149818</td>\n",
       "    </tr>\n",
       "    <tr>\n",
       "      <th>79</th>\n",
       "      <td>Sophia</td>\n",
       "      <td>509.940909</td>\n",
       "      <td>0.795101</td>\n",
       "      <td>191647</td>\n",
       "    </tr>\n",
       "    <tr>\n",
       "      <th>48</th>\n",
       "      <td>Jayden</td>\n",
       "      <td>300.718182</td>\n",
       "      <td>0.690627</td>\n",
       "      <td>167081</td>\n",
       "    </tr>\n",
       "    <tr>\n",
       "      <th>13</th>\n",
       "      <td>Avery</td>\n",
       "      <td>296.995455</td>\n",
       "      <td>0.383312</td>\n",
       "      <td>92333</td>\n",
       "    </tr>\n",
       "    <tr>\n",
       "      <th>3</th>\n",
       "      <td>Aiden</td>\n",
       "      <td>283.263636</td>\n",
       "      <td>0.605606</td>\n",
       "      <td>146430</td>\n",
       "    </tr>\n",
       "    <tr>\n",
       "      <th>18</th>\n",
       "      <td>Carter</td>\n",
       "      <td>270.959091</td>\n",
       "      <td>0.360034</td>\n",
       "      <td>86727</td>\n",
       "    </tr>\n",
       "    <tr>\n",
       "      <th>70</th>\n",
       "      <td>Noah</td>\n",
       "      <td>262.550000</td>\n",
       "      <td>0.745870</td>\n",
       "      <td>180411</td>\n",
       "    </tr>\n",
       "    <tr>\n",
       "      <th>60</th>\n",
       "      <td>Lucas</td>\n",
       "      <td>247.363636</td>\n",
       "      <td>0.436185</td>\n",
       "      <td>105260</td>\n",
       "    </tr>\n",
       "    <tr>\n",
       "      <th>35</th>\n",
       "      <td>Gabriella</td>\n",
       "      <td>222.768895</td>\n",
       "      <td>0.365825</td>\n",
       "      <td>60435</td>\n",
       "    </tr>\n",
       "  </tbody>\n",
       "</table>\n",
       "</div>"
      ],
      "text/plain": [
       "         Name  Trendiness_Slope  Avg_Relative_Commonness  Total_Assigned\n",
       "58       Liam        849.254545                 0.461005          109894\n",
       "63      Mason        547.481818                 0.623521          149818\n",
       "79     Sophia        509.940909                 0.795101          191647\n",
       "48     Jayden        300.718182                 0.690627          167081\n",
       "13      Avery        296.995455                 0.383312           92333\n",
       "3       Aiden        283.263636                 0.605606          146430\n",
       "18     Carter        270.959091                 0.360034           86727\n",
       "70       Noah        262.550000                 0.745870          180411\n",
       "60      Lucas        247.363636                 0.436185          105260\n",
       "35  Gabriella        222.768895                 0.365825           60435"
      ]
     },
     "execution_count": 212,
     "metadata": {},
     "output_type": "execute_result"
    }
   ],
   "source": [
    "def find_trending_names(N=10, threshold_commonness=0.01):\n",
    "    # Load dataset\n",
    "    file_path = r\"C:\\Users\\matej\\.cache\\kagglehub\\datasets\\kaggle\\us-baby-names\\versions\\2\\NationalNames.csv\"\n",
    "    df = pd.read_csv(file_path)\n",
    "    \n",
    "    # Filter last N years\n",
    "    max_year = df[\"Year\"].max()\n",
    "    df_recent = df[df[\"Year\"] >= max_year - N]\n",
    "    \n",
    "    # Compute total occurrences per year\n",
    "    total_per_year = df_recent.groupby(\"Year\")[\"Count\"].sum().reset_index().rename(columns={\"Count\": \"Total_Year\"})\n",
    "    df_recent = df_recent.merge(total_per_year, on=\"Year\")\n",
    "    \n",
    "    # Compute relative commonness per year\n",
    "    df_recent[\"Relative_Commonness\"] = df_recent[\"Count\"] / df_recent[\"Total_Year\"]\n",
    "    \n",
    "    # Compute trendiness slope for each name\n",
    "    name_trends = []\n",
    "    for name, group in df_recent.groupby(\"Name\"):\n",
    "        if len(group) < 2:\n",
    "            continue  # Skip names that appear in less than 2 years\n",
    "        \n",
    "        X = group[\"Year\"].values.reshape(-1, 1)\n",
    "        y = group[\"Count\"].values.reshape(-1, 1)\n",
    "        model = LinearRegression().fit(X, y)\n",
    "        slope = model.coef_[0][0]\n",
    "        \n",
    "        # Compute average relative commonness\n",
    "        avg_commonness = group[\"Relative_Commonness\"].mean()\n",
    "        \n",
    "        # Compute total assigned baby names over the period\n",
    "        total_assigned = group[\"Count\"].sum()\n",
    "        \n",
    "        if avg_commonness >= threshold_commonness:\n",
    "            name_trends.append((name, slope, avg_commonness, total_assigned))\n",
    "    \n",
    "    # Convert to DataFrame and normalize Avg_Relative_Commonness\n",
    "    df_trends = pd.DataFrame(name_trends, columns=[\"Name\", \"Trendiness_Slope\", \"Avg_Relative_Commonness\", \"Total_Assigned\"])\n",
    "    \n",
    "    if not df_trends.empty:\n",
    "        max_commonness = df_trends[\"Avg_Relative_Commonness\"].max()\n",
    "        df_trends[\"Avg_Relative_Commonness\"] /= max_commonness  # Normalize to range [0,1]\n",
    "    \n",
    "    # Sort by trendiness\n",
    "    df_trends = df_trends.sort_values(by=\"Trendiness_Slope\", ascending=False)\n",
    "    \n",
    "    print(df_trends)  # Print the results including normalized relative commonness and total assigned names\n",
    "    \n",
    "    return df_trends.head(N)\n",
    "\n",
    "find_trending_names(N=10, threshold_commonness=0.001)"
   ]
  },
  {
   "cell_type": "markdown",
   "metadata": {},
   "source": [
    "# Top 10 trading names"
   ]
  },
  {
   "cell_type": "code",
   "execution_count": null,
   "metadata": {},
   "outputs": [
    {
     "name": "stderr",
     "output_type": "stream",
     "text": [
      "C:\\Users\\matej\\AppData\\Local\\Temp\\ipykernel_32068\\1949369799.py:59: DeprecationWarning:\n",
      "\n",
      "Conversion of an array with ndim > 0 to a scalar is deprecated, and will error in future. Ensure you extract a single element from your array before performing this operation. (Deprecated NumPy 1.25.)\n",
      "\n",
      "C:\\Users\\matej\\AppData\\Local\\Temp\\ipykernel_32068\\1949369799.py:65: DeprecationWarning:\n",
      "\n",
      "Conversion of an array with ndim > 0 to a scalar is deprecated, and will error in future. Ensure you extract a single element from your array before performing this operation. (Deprecated NumPy 1.25.)\n",
      "\n",
      "C:\\Users\\matej\\AppData\\Local\\Temp\\ipykernel_32068\\1949369799.py:59: DeprecationWarning:\n",
      "\n",
      "Conversion of an array with ndim > 0 to a scalar is deprecated, and will error in future. Ensure you extract a single element from your array before performing this operation. (Deprecated NumPy 1.25.)\n",
      "\n",
      "C:\\Users\\matej\\AppData\\Local\\Temp\\ipykernel_32068\\1949369799.py:65: DeprecationWarning:\n",
      "\n",
      "Conversion of an array with ndim > 0 to a scalar is deprecated, and will error in future. Ensure you extract a single element from your array before performing this operation. (Deprecated NumPy 1.25.)\n",
      "\n"
     ]
    },
    {
     "name": "stdout",
     "output_type": "stream",
     "text": [
      "The plot has been saved in the folder Results \n",
      "\n",
      "The plot has been saved in the folder Results \n",
      "\n"
     ]
    },
    {
     "name": "stderr",
     "output_type": "stream",
     "text": [
      "C:\\Users\\matej\\AppData\\Local\\Temp\\ipykernel_32068\\1949369799.py:59: DeprecationWarning:\n",
      "\n",
      "Conversion of an array with ndim > 0 to a scalar is deprecated, and will error in future. Ensure you extract a single element from your array before performing this operation. (Deprecated NumPy 1.25.)\n",
      "\n",
      "C:\\Users\\matej\\AppData\\Local\\Temp\\ipykernel_32068\\1949369799.py:65: DeprecationWarning:\n",
      "\n",
      "Conversion of an array with ndim > 0 to a scalar is deprecated, and will error in future. Ensure you extract a single element from your array before performing this operation. (Deprecated NumPy 1.25.)\n",
      "\n",
      "C:\\Users\\matej\\AppData\\Local\\Temp\\ipykernel_32068\\1949369799.py:59: DeprecationWarning:\n",
      "\n",
      "Conversion of an array with ndim > 0 to a scalar is deprecated, and will error in future. Ensure you extract a single element from your array before performing this operation. (Deprecated NumPy 1.25.)\n",
      "\n",
      "C:\\Users\\matej\\AppData\\Local\\Temp\\ipykernel_32068\\1949369799.py:65: DeprecationWarning:\n",
      "\n",
      "Conversion of an array with ndim > 0 to a scalar is deprecated, and will error in future. Ensure you extract a single element from your array before performing this operation. (Deprecated NumPy 1.25.)\n",
      "\n"
     ]
    },
    {
     "name": "stdout",
     "output_type": "stream",
     "text": [
      "The plot has been saved in the folder Results \n",
      "\n",
      "The plot has been saved in the folder Results \n",
      "\n"
     ]
    },
    {
     "name": "stderr",
     "output_type": "stream",
     "text": [
      "C:\\Users\\matej\\AppData\\Local\\Temp\\ipykernel_32068\\1949369799.py:59: DeprecationWarning:\n",
      "\n",
      "Conversion of an array with ndim > 0 to a scalar is deprecated, and will error in future. Ensure you extract a single element from your array before performing this operation. (Deprecated NumPy 1.25.)\n",
      "\n",
      "C:\\Users\\matej\\AppData\\Local\\Temp\\ipykernel_32068\\1949369799.py:65: DeprecationWarning:\n",
      "\n",
      "Conversion of an array with ndim > 0 to a scalar is deprecated, and will error in future. Ensure you extract a single element from your array before performing this operation. (Deprecated NumPy 1.25.)\n",
      "\n",
      "C:\\Users\\matej\\AppData\\Local\\Temp\\ipykernel_32068\\1949369799.py:59: DeprecationWarning:\n",
      "\n",
      "Conversion of an array with ndim > 0 to a scalar is deprecated, and will error in future. Ensure you extract a single element from your array before performing this operation. (Deprecated NumPy 1.25.)\n",
      "\n",
      "C:\\Users\\matej\\AppData\\Local\\Temp\\ipykernel_32068\\1949369799.py:65: DeprecationWarning:\n",
      "\n",
      "Conversion of an array with ndim > 0 to a scalar is deprecated, and will error in future. Ensure you extract a single element from your array before performing this operation. (Deprecated NumPy 1.25.)\n",
      "\n"
     ]
    },
    {
     "name": "stdout",
     "output_type": "stream",
     "text": [
      "The plot has been saved in the folder Results \n",
      "\n",
      "The plot has been saved in the folder Results \n",
      "\n"
     ]
    },
    {
     "name": "stderr",
     "output_type": "stream",
     "text": [
      "C:\\Users\\matej\\AppData\\Local\\Temp\\ipykernel_32068\\1949369799.py:59: DeprecationWarning:\n",
      "\n",
      "Conversion of an array with ndim > 0 to a scalar is deprecated, and will error in future. Ensure you extract a single element from your array before performing this operation. (Deprecated NumPy 1.25.)\n",
      "\n",
      "C:\\Users\\matej\\AppData\\Local\\Temp\\ipykernel_32068\\1949369799.py:65: DeprecationWarning:\n",
      "\n",
      "Conversion of an array with ndim > 0 to a scalar is deprecated, and will error in future. Ensure you extract a single element from your array before performing this operation. (Deprecated NumPy 1.25.)\n",
      "\n",
      "C:\\Users\\matej\\AppData\\Local\\Temp\\ipykernel_32068\\1949369799.py:59: DeprecationWarning:\n",
      "\n",
      "Conversion of an array with ndim > 0 to a scalar is deprecated, and will error in future. Ensure you extract a single element from your array before performing this operation. (Deprecated NumPy 1.25.)\n",
      "\n",
      "C:\\Users\\matej\\AppData\\Local\\Temp\\ipykernel_32068\\1949369799.py:65: DeprecationWarning:\n",
      "\n",
      "Conversion of an array with ndim > 0 to a scalar is deprecated, and will error in future. Ensure you extract a single element from your array before performing this operation. (Deprecated NumPy 1.25.)\n",
      "\n"
     ]
    },
    {
     "name": "stdout",
     "output_type": "stream",
     "text": [
      "The plot has been saved in the folder Results \n",
      "\n",
      "The plot has been saved in the folder Results \n",
      "\n"
     ]
    },
    {
     "name": "stderr",
     "output_type": "stream",
     "text": [
      "C:\\Users\\matej\\AppData\\Local\\Temp\\ipykernel_32068\\1949369799.py:59: DeprecationWarning:\n",
      "\n",
      "Conversion of an array with ndim > 0 to a scalar is deprecated, and will error in future. Ensure you extract a single element from your array before performing this operation. (Deprecated NumPy 1.25.)\n",
      "\n",
      "C:\\Users\\matej\\AppData\\Local\\Temp\\ipykernel_32068\\1949369799.py:65: DeprecationWarning:\n",
      "\n",
      "Conversion of an array with ndim > 0 to a scalar is deprecated, and will error in future. Ensure you extract a single element from your array before performing this operation. (Deprecated NumPy 1.25.)\n",
      "\n",
      "C:\\Users\\matej\\AppData\\Local\\Temp\\ipykernel_32068\\1949369799.py:59: DeprecationWarning:\n",
      "\n",
      "Conversion of an array with ndim > 0 to a scalar is deprecated, and will error in future. Ensure you extract a single element from your array before performing this operation. (Deprecated NumPy 1.25.)\n",
      "\n",
      "C:\\Users\\matej\\AppData\\Local\\Temp\\ipykernel_32068\\1949369799.py:65: DeprecationWarning:\n",
      "\n",
      "Conversion of an array with ndim > 0 to a scalar is deprecated, and will error in future. Ensure you extract a single element from your array before performing this operation. (Deprecated NumPy 1.25.)\n",
      "\n"
     ]
    },
    {
     "name": "stdout",
     "output_type": "stream",
     "text": [
      "The plot has been saved in the folder Results \n",
      "\n",
      "The plot has been saved in the folder Results \n",
      "\n",
      "        Name  Trend_Slope  Recent_Counts\n",
      "0       Liam  1854.787879         106052\n",
      "1      Mason  1137.163636         141040\n",
      "2     Harper  1117.751515          40001\n",
      "3     Sophia   928.678788         180692\n",
      "4  Charlotte   873.884848          54987\n",
      "5    Bentley   780.327273          28098\n",
      "6      Jaxon   748.618182          41532\n",
      "7     Oliver   748.175758          47589\n",
      "8    Daleyza   709.500000           1988\n",
      "9        Eli   674.296970          55709\n"
     ]
    }
   ],
   "source": [
    "from sklearn.linear_model import LinearRegression\n",
    "import os\n",
    "\n",
    "def find_trending_names_by_slope(path_to_NationalNames_dataset, years_to_analyze=20, plot_top_n = 10, path_to_results = r\"C:\\Users\\matej\\VSCode_projects\\STRV_test_project\\STRV_test_project\\Results\", plotname_to_save = 'trending_analysis'):\n",
    "    \"\"\"\n",
    "    This function fits a linear regression model to measure the slope of change of number of newborns with a certain name over the last 'years_to_analyze' years.\n",
    "    It is designed to find and print the top 10 trending names in this time period.\n",
    "\n",
    "    Parameters:\n",
    "    path_to_NationalNames_dataset - path to the NationalNames dataset\n",
    "    years_to_analyze - number of years for which we calculate the slope of the trend. It starts from the most recent year.\n",
    "    plot_top_n - the number off top trending names to plot, default for the task is 10\n",
    "    path_to_results - path for the directory to which the function saves the plots of the 'plot_top_n' names with lin.reg. fit. X axis are the analyzed years, Y axis is the total count of the newborns with the baby name in a year\n",
    "    plotname_to_save - starting part of the name of plots for saving, some results of the analysis are added after this starting string \n",
    "    \"\"\"\n",
    "    df_national = pd.read_csv(path_to_NationalNames_dataset)\n",
    "    max_year = df_national[\"Year\"].max() # the last year in the dataset\n",
    "    min_year = max_year - years_to_analyze + 1  # earliest year to include in analysis\n",
    "    recent_years = list(range(min_year, max_year + 1))  # the list of the years to analyze\n",
    "\n",
    "    df_filtered = df_national[df_national[\"Year\"] >= min_year] # selecting only the last 'years_to_analyze' years\n",
    "    df_national = df_filtered.groupby([\"Name\", \"Year\"])[\"Count\"].sum().reset_index() # total count of each name in each year across genders\n",
    "    recent_counts = df_national[df_national[\"Year\"].isin(recent_years)].groupby(\"Name\")[\"Count\"].sum().reset_index() # calculating total occurance of each name in the entire analyzed period --> good for business needs of startup \n",
    "    recent_counts.rename(columns={\"Count\": \"Recent_Counts\"}, inplace=True)\n",
    "\n",
    "    name_trends = [] # array for storing the steepness of slope after lin.reg. fitting\n",
    "\n",
    "    for name, group in df_national.groupby(\"Name\"): # iterating through names\n",
    "        X = group[\"Year\"].values.reshape(-1, 1)  # X values are  years, reshapen for sklearn\n",
    "        y = group[\"Count\"].values # y values are counts\n",
    "\n",
    "        if len(y) < 2:\n",
    "            continue  # lin.reg. needs at least 2 data points for fitting\n",
    "\n",
    "        model = LinearRegression() \n",
    "        model.fit(X, y) # lin.reg. fitting\n",
    "\n",
    "        slope = model.coef_.flatten()[0]\n",
    "\n",
    "        if slope > 0:  # filtering only the positive values of slope, getting rid of highly decreasing names over the insepcted period\n",
    "            name_trends.append({\"Name\": name, \"Trend_Slope\": slope})\n",
    "\n",
    "    df_trends = pd.DataFrame(name_trends)\n",
    "    df_trends = df_trends.merge(recent_counts, on=\"Name\", how=\"left\")\n",
    "    df_trends_sorted = df_trends.sort_values(by=\"Trend_Slope\", ascending=False) # sorting by the steepness \n",
    "    top_trending_names = df_trends_sorted.head(plot_top_n).reset_index(drop=True)\n",
    "\n",
    "    for i, name in enumerate(top_trending_names[\"Name\"]):\n",
    "        name_data = df_national[(df_national[\"Name\"] == name) & (df_national[\"Year\"] >= min_year)] # selecting only the 'years_to_analyze' years for fitting the lin.reg\n",
    "        trend_slope = top_trending_names.loc[top_trending_names[\"Name\"] == name, \"Trend_Slope\"].values[0] # retrieving the slope for a specific name\n",
    "\n",
    "        X = name_data[\"Year\"].values.reshape(-1, 1)\n",
    "        y = name_data[\"Count\"].values\n",
    "\n",
    "        model = LinearRegression() \n",
    "        model.fit(X, y) # fitting lin.reg.\n",
    "\n",
    "        X_pred = np.arange(min(X), max(X) + 1).reshape(-1, 1)\n",
    "        y_pred = model.predict(X_pred) # predicting the lin.reg. trend\n",
    "\n",
    "        plt.figure(figsize=(8, 5))\n",
    "        plt.scatter(X, y, color=\"blue\", label=\"Count\", alpha=0.6)\n",
    "        plt.plot(X_pred, y_pred, color=\"red\", linestyle=\"-\", label=\"Trend Line\", linewidth=1)\n",
    "        plt.xticks(np.arange(min(X), max(X) + 1, 1))  # plotting only int. years, not floats\n",
    "        plt.xlabel(\"Year\")\n",
    "        plt.ylabel(\"Count\")\n",
    "        plt.title(f\"Trend for {name} over the last {years_to_analyze} years\")\n",
    "        plt.legend()\n",
    "        save_path = os.path.join(path_to_results, f\"{plotname_to_save}_for_past_{years_to_analyze}_years_slope_{trend_slope:.0f}_{name}.png\")\n",
    "        plt.savefig(save_path, dpi=300, bbox_inches=\"tight\")\n",
    "        print ('The plot has been saved in the folder Results \\n')\n",
    "        plt.close() \n",
    "\n",
    "    print top_trending_names\n",
    "\n",
    "top_trending = find_trending_names_by_slope(path_to_NationalNames_dataset = r\"C:\\Users\\matej\\.cache\\kagglehub\\datasets\\kaggle\\us-baby-names\\versions\\2\\NationalNames.csv\",\n",
    "                                            years_to_analyze=10, \n",
    "                                            plot_top_n = 10,\n",
    "                                            path_to_results = r\"C:\\Users\\matej\\VSCode_projects\\STRV_test_project\\STRV_test_project\\Results\",\n",
    "                                            plotname_to_save = 'trending_analysis'\n",
    "                                            )\n"
   ]
  },
  {
   "cell_type": "markdown",
   "metadata": {},
   "source": [
    "# Top 10 states with the most newborns"
   ]
  },
  {
   "cell_type": "code",
   "execution_count": 186,
   "metadata": {},
   "outputs": [
    {
     "name": "stdout",
     "output_type": "stream",
     "text": [
      "  State     Count\n",
      "0    CA  29252805\n",
      "1    NY  23891045\n",
      "2    TX  21820683\n",
      "3    PA  16776664\n",
      "4    IL  15304655\n",
      "5    OH  14315490\n",
      "6    MI  11734824\n",
      "7    FL   9457005\n",
      "8    NC   8537298\n",
      "9    NJ   8398176\n"
     ]
    }
   ],
   "source": [
    "def top_10_states_most_newborns(path_to_StateNames_dataset = r\"C:\\Users\\matej\\.cache\\kagglehub\\datasets\\kaggle\\us-baby-names\\versions\\2\\StateNames.csv\", top_N_states = 10):\n",
    "    \"\"\"\n",
    "    This function loads the StateNames datasets, counts all newborns in each state, sorts states by the number of newborns and prints the top 'top_N_states' states by the number of newborns and the count of newborns.\n",
    "\n",
    "    Parameters:\n",
    "    path_to_StateNames_dataset - path to the StateNames dataset\n",
    "    top_N_states - the number of top states we want to print\n",
    "    \"\"\"\n",
    "    df = pd.read_csv(path_to_StateNames_dataset)\n",
    "    total_per_state = df.groupby(\"State\")[\"Count\"].sum().reset_index() # number of all newborns per state\n",
    "    top_states = total_per_state.sort_values(by=\"Count\", ascending=False).head(top_N_states).reset_index(drop=True) # sorts states by the number of all newborns, keeps the top 'top_N_states' and resets the original indexes by the new order\n",
    "    \n",
    "    print(top_states)\n",
    "\n",
    "top_10_states_most_newborns(path_to_StateNames_dataset = r\"C:\\Users\\matej\\.cache\\kagglehub\\datasets\\kaggle\\us-baby-names\\versions\\2\\StateNames.csv\", top_N_states = 10)"
   ]
  },
  {
   "cell_type": "markdown",
   "metadata": {},
   "source": [
    "# A map showing the top names by region"
   ]
  },
  {
   "cell_type": "code",
   "execution_count": 8,
   "metadata": {},
   "outputs": [
    {
     "name": "stdout",
     "output_type": "stream",
     "text": [
      "Collecting plotly\n",
      "  Downloading plotly-6.0.0-py3-none-any.whl.metadata (5.6 kB)\n",
      "Collecting narwhals>=1.15.1 (from plotly)\n",
      "  Downloading narwhals-1.30.0-py3-none-any.whl.metadata (11 kB)\n",
      "Requirement already satisfied: packaging in c:\\users\\matej\\appdata\\local\\packages\\pythonsoftwarefoundation.python.3.11_qbz5n2kfra8p0\\localcache\\local-packages\\python311\\site-packages (from plotly) (24.2)\n",
      "Downloading plotly-6.0.0-py3-none-any.whl (14.8 MB)\n",
      "   ---------------------------------------- 0.0/14.8 MB ? eta -:--:--\n",
      "   ---------------------------------------- 0.1/14.8 MB 2.6 MB/s eta 0:00:06\n",
      "   - -------------------------------------- 0.4/14.8 MB 5.4 MB/s eta 0:00:03\n",
      "   ---- ----------------------------------- 1.7/14.8 MB 13.7 MB/s eta 0:00:01\n",
      "   ---------- ----------------------------- 3.8/14.8 MB 22.2 MB/s eta 0:00:01\n",
      "   ----------------- ---------------------- 6.5/14.8 MB 29.6 MB/s eta 0:00:01\n",
      "   ------------------------ --------------- 9.2/14.8 MB 34.5 MB/s eta 0:00:01\n",
      "   -------------------------- ------------- 9.6/14.8 MB 30.8 MB/s eta 0:00:01\n",
      "   --------------------------- ------------ 10.3/14.8 MB 31.2 MB/s eta 0:00:01\n",
      "   ----------------------------------- ---- 13.0/14.8 MB 40.9 MB/s eta 0:00:01\n",
      "   ---------------------------------------- 14.8/14.8 MB 38.5 MB/s eta 0:00:00\n",
      "Downloading narwhals-1.30.0-py3-none-any.whl (313 kB)\n",
      "   ---------------------------------------- 0.0/313.6 kB ? eta -:--:--\n",
      "   ----- --------------------------------- 41.0/313.6 kB 991.0 kB/s eta 0:00:01\n",
      "   ---------- ---------------------------- 81.9/313.6 kB 919.0 kB/s eta 0:00:01\n",
      "   ------------ ------------------------- 102.4/313.6 kB 737.3 kB/s eta 0:00:01\n",
      "   ----------------- -------------------- 143.4/313.6 kB 853.3 kB/s eta 0:00:01\n",
      "   ------------------------ ------------- 204.8/313.6 kB 892.5 kB/s eta 0:00:01\n",
      "   -------------------------------- ----- 266.2/313.6 kB 966.0 kB/s eta 0:00:01\n",
      "   -------------------------------------- 313.6/313.6 kB 972.3 kB/s eta 0:00:00\n",
      "Installing collected packages: narwhals, plotly\n",
      "Successfully installed narwhals-1.30.0 plotly-6.0.0\n",
      "Note: you may need to restart the kernel to use updated packages.\n"
     ]
    },
    {
     "name": "stderr",
     "output_type": "stream",
     "text": [
      "\n",
      "[notice] A new release of pip is available: 24.0 -> 25.0.1\n",
      "[notice] To update, run: C:\\Users\\matej\\AppData\\Local\\Microsoft\\WindowsApps\\PythonSoftwareFoundation.Python.3.11_qbz5n2kfra8p0\\python.exe -m pip install --upgrade pip\n"
     ]
    }
   ],
   "source": [
    "%pip install plotly"
   ]
  },
  {
   "cell_type": "code",
   "execution_count": null,
   "metadata": {},
   "outputs": [
    {
     "data": {
      "application/vnd.plotly.v1+json": {
       "config": {
        "plotlyServerURL": "https://plot.ly"
       },
       "data": [
        {
         "colorscale": [
          [
           0,
           "rgb(141,211,199)"
          ],
          [
           1,
           "rgb(141,211,199)"
          ]
         ],
         "customdata": [
          [
           "AK",
           "Michael",
           8074
          ],
          [
           "AZ",
           "Michael",
           44923
          ],
          [
           "CA",
           "Michael",
           424585
          ],
          [
           "CO",
           "Michael",
           48641
          ],
          [
           "FL",
           "Michael",
           140602
          ],
          [
           "HI",
           "Michael",
           13754
          ],
          [
           "NV",
           "Michael",
           13551
          ],
          [
           "OR",
           "Michael",
           39726
          ],
          [
           "UT",
           "Michael",
           28703
          ],
          [
           "WA",
           "Michael",
           69334
          ]
         ],
         "geo": "geo",
         "hovertemplate": "<b>%{hovertext}</b><br><br>Name=%{customdata[1]}<br>State=%{customdata[0]}<br>Count=%{customdata[2]}<extra></extra>",
         "hovertext": [
          "Michael",
          "Michael",
          "Michael",
          "Michael",
          "Michael",
          "Michael",
          "Michael",
          "Michael",
          "Michael",
          "Michael"
         ],
         "locationmode": "USA-states",
         "locations": [
          "AK",
          "AZ",
          "CA",
          "CO",
          "FL",
          "HI",
          "NV",
          "OR",
          "UT",
          "WA"
         ],
         "name": "Michael",
         "showlegend": true,
         "showscale": false,
         "type": "choropleth",
         "z": [
          1,
          1,
          1,
          1,
          1,
          1,
          1,
          1,
          1,
          1
         ]
        },
        {
         "colorscale": [
          [
           0,
           "rgb(255,255,179)"
          ],
          [
           1,
           "rgb(255,255,179)"
          ]
         ],
         "customdata": [
          [
           "AL",
           "James",
           157490
          ],
          [
           "AR",
           "James",
           85208
          ],
          [
           "GA",
           "James",
           183002
          ],
          [
           "KY",
           "James",
           144072
          ],
          [
           "LA",
           "James",
           87581
          ],
          [
           "MO",
           "James",
           123769
          ],
          [
           "MS",
           "James",
           114629
          ],
          [
           "NC",
           "James",
           207962
          ],
          [
           "OK",
           "James",
           74292
          ],
          [
           "SC",
           "James",
           127261
          ],
          [
           "TN",
           "James",
           171689
          ],
          [
           "TX",
           "James",
           273998
          ],
          [
           "VA",
           "James",
           147745
          ],
          [
           "WV",
           "James",
           75804
          ]
         ],
         "geo": "geo",
         "hovertemplate": "<b>%{hovertext}</b><br><br>Name=%{customdata[1]}<br>State=%{customdata[0]}<br>Count=%{customdata[2]}<extra></extra>",
         "hovertext": [
          "James",
          "James",
          "James",
          "James",
          "James",
          "James",
          "James",
          "James",
          "James",
          "James",
          "James",
          "James",
          "James",
          "James"
         ],
         "locationmode": "USA-states",
         "locations": [
          "AL",
          "AR",
          "GA",
          "KY",
          "LA",
          "MO",
          "MS",
          "NC",
          "OK",
          "SC",
          "TN",
          "TX",
          "VA",
          "WV"
         ],
         "name": "James",
         "showlegend": true,
         "showscale": false,
         "type": "choropleth",
         "z": [
          1,
          1,
          1,
          1,
          1,
          1,
          1,
          1,
          1,
          1,
          1,
          1,
          1,
          1
         ]
        },
        {
         "colorscale": [
          [
           0,
           "rgb(190,186,218)"
          ],
          [
           1,
           "rgb(190,186,218)"
          ]
         ],
         "customdata": [
          [
           "CT",
           "John",
           79622
          ],
          [
           "DC",
           "John",
           34191
          ],
          [
           "DE",
           "John",
           15127
          ],
          [
           "MA",
           "John",
           198612
          ],
          [
           "MD",
           "John",
           86735
          ],
          [
           "MN",
           "John",
           84574
          ],
          [
           "NJ",
           "John",
           196271
          ],
          [
           "NY",
           "John",
           495099
          ],
          [
           "PA",
           "John",
           418876
          ],
          [
           "RI",
           "John",
           29564
          ]
         ],
         "geo": "geo",
         "hovertemplate": "<b>%{hovertext}</b><br><br>Name=%{customdata[1]}<br>State=%{customdata[0]}<br>Count=%{customdata[2]}<extra></extra>",
         "hovertext": [
          "John",
          "John",
          "John",
          "John",
          "John",
          "John",
          "John",
          "John",
          "John",
          "John"
         ],
         "locationmode": "USA-states",
         "locations": [
          "CT",
          "DC",
          "DE",
          "MA",
          "MD",
          "MN",
          "NJ",
          "NY",
          "PA",
          "RI"
         ],
         "name": "John",
         "showlegend": true,
         "showscale": false,
         "type": "choropleth",
         "z": [
          1,
          1,
          1,
          1,
          1,
          1,
          1,
          1,
          1,
          1
         ]
        },
        {
         "colorscale": [
          [
           0,
           "rgb(251,128,114)"
          ],
          [
           1,
           "rgb(251,128,114)"
          ]
         ],
         "customdata": [
          [
           "IA",
           "Robert",
           71014
          ],
          [
           "ID",
           "Robert",
           16731
          ],
          [
           "IL",
           "Robert",
           276944
          ],
          [
           "IN",
           "Robert",
           128392
          ],
          [
           "KS",
           "Robert",
           51187
          ],
          [
           "ME",
           "Robert",
           26590
          ],
          [
           "MI",
           "Robert",
           215368
          ],
          [
           "MT",
           "Robert",
           18622
          ],
          [
           "ND",
           "Robert",
           16267
          ],
          [
           "NE",
           "Robert",
           39812
          ],
          [
           "NH",
           "Robert",
           19466
          ],
          [
           "OH",
           "Robert",
           278229
          ],
          [
           "SD",
           "Robert",
           17945
          ],
          [
           "VT",
           "Robert",
           11647
          ],
          [
           "WI",
           "Robert",
           104612
          ],
          [
           "WY",
           "Robert",
           8994
          ]
         ],
         "geo": "geo",
         "hovertemplate": "<b>%{hovertext}</b><br><br>Name=%{customdata[1]}<br>State=%{customdata[0]}<br>Count=%{customdata[2]}<extra></extra>",
         "hovertext": [
          "Robert",
          "Robert",
          "Robert",
          "Robert",
          "Robert",
          "Robert",
          "Robert",
          "Robert",
          "Robert",
          "Robert",
          "Robert",
          "Robert",
          "Robert",
          "Robert",
          "Robert",
          "Robert"
         ],
         "locationmode": "USA-states",
         "locations": [
          "IA",
          "ID",
          "IL",
          "IN",
          "KS",
          "ME",
          "MI",
          "MT",
          "ND",
          "NE",
          "NH",
          "OH",
          "SD",
          "VT",
          "WI",
          "WY"
         ],
         "name": "Robert",
         "showlegend": true,
         "showscale": false,
         "type": "choropleth",
         "z": [
          1,
          1,
          1,
          1,
          1,
          1,
          1,
          1,
          1,
          1,
          1,
          1,
          1,
          1,
          1,
          1
         ]
        },
        {
         "colorscale": [
          [
           0,
           "rgb(128,177,211)"
          ],
          [
           1,
           "rgb(128,177,211)"
          ]
         ],
         "customdata": [
          [
           "NM",
           "Mary",
           23823
          ]
         ],
         "geo": "geo",
         "hovertemplate": "<b>%{hovertext}</b><br><br>Name=%{customdata[1]}<br>State=%{customdata[0]}<br>Count=%{customdata[2]}<extra></extra>",
         "hovertext": [
          "Mary"
         ],
         "locationmode": "USA-states",
         "locations": [
          "NM"
         ],
         "name": "Mary",
         "showlegend": true,
         "showscale": false,
         "type": "choropleth",
         "z": [
          1
         ]
        }
       ],
       "layout": {
        "geo": {
         "center": {},
         "domain": {
          "x": [
           0,
           1
          ],
          "y": [
           0,
           1
          ]
         },
         "scope": "usa"
        },
        "legend": {
         "title": {
          "text": "Name"
         },
         "tracegroupgap": 0
        },
        "template": {
         "data": {
          "bar": [
           {
            "error_x": {
             "color": "#2a3f5f"
            },
            "error_y": {
             "color": "#2a3f5f"
            },
            "marker": {
             "line": {
              "color": "#E5ECF6",
              "width": 0.5
             },
             "pattern": {
              "fillmode": "overlay",
              "size": 10,
              "solidity": 0.2
             }
            },
            "type": "bar"
           }
          ],
          "barpolar": [
           {
            "marker": {
             "line": {
              "color": "#E5ECF6",
              "width": 0.5
             },
             "pattern": {
              "fillmode": "overlay",
              "size": 10,
              "solidity": 0.2
             }
            },
            "type": "barpolar"
           }
          ],
          "carpet": [
           {
            "aaxis": {
             "endlinecolor": "#2a3f5f",
             "gridcolor": "white",
             "linecolor": "white",
             "minorgridcolor": "white",
             "startlinecolor": "#2a3f5f"
            },
            "baxis": {
             "endlinecolor": "#2a3f5f",
             "gridcolor": "white",
             "linecolor": "white",
             "minorgridcolor": "white",
             "startlinecolor": "#2a3f5f"
            },
            "type": "carpet"
           }
          ],
          "choropleth": [
           {
            "colorbar": {
             "outlinewidth": 0,
             "ticks": ""
            },
            "type": "choropleth"
           }
          ],
          "contour": [
           {
            "colorbar": {
             "outlinewidth": 0,
             "ticks": ""
            },
            "colorscale": [
             [
              0,
              "#0d0887"
             ],
             [
              0.1111111111111111,
              "#46039f"
             ],
             [
              0.2222222222222222,
              "#7201a8"
             ],
             [
              0.3333333333333333,
              "#9c179e"
             ],
             [
              0.4444444444444444,
              "#bd3786"
             ],
             [
              0.5555555555555556,
              "#d8576b"
             ],
             [
              0.6666666666666666,
              "#ed7953"
             ],
             [
              0.7777777777777778,
              "#fb9f3a"
             ],
             [
              0.8888888888888888,
              "#fdca26"
             ],
             [
              1,
              "#f0f921"
             ]
            ],
            "type": "contour"
           }
          ],
          "contourcarpet": [
           {
            "colorbar": {
             "outlinewidth": 0,
             "ticks": ""
            },
            "type": "contourcarpet"
           }
          ],
          "heatmap": [
           {
            "colorbar": {
             "outlinewidth": 0,
             "ticks": ""
            },
            "colorscale": [
             [
              0,
              "#0d0887"
             ],
             [
              0.1111111111111111,
              "#46039f"
             ],
             [
              0.2222222222222222,
              "#7201a8"
             ],
             [
              0.3333333333333333,
              "#9c179e"
             ],
             [
              0.4444444444444444,
              "#bd3786"
             ],
             [
              0.5555555555555556,
              "#d8576b"
             ],
             [
              0.6666666666666666,
              "#ed7953"
             ],
             [
              0.7777777777777778,
              "#fb9f3a"
             ],
             [
              0.8888888888888888,
              "#fdca26"
             ],
             [
              1,
              "#f0f921"
             ]
            ],
            "type": "heatmap"
           }
          ],
          "histogram": [
           {
            "marker": {
             "pattern": {
              "fillmode": "overlay",
              "size": 10,
              "solidity": 0.2
             }
            },
            "type": "histogram"
           }
          ],
          "histogram2d": [
           {
            "colorbar": {
             "outlinewidth": 0,
             "ticks": ""
            },
            "colorscale": [
             [
              0,
              "#0d0887"
             ],
             [
              0.1111111111111111,
              "#46039f"
             ],
             [
              0.2222222222222222,
              "#7201a8"
             ],
             [
              0.3333333333333333,
              "#9c179e"
             ],
             [
              0.4444444444444444,
              "#bd3786"
             ],
             [
              0.5555555555555556,
              "#d8576b"
             ],
             [
              0.6666666666666666,
              "#ed7953"
             ],
             [
              0.7777777777777778,
              "#fb9f3a"
             ],
             [
              0.8888888888888888,
              "#fdca26"
             ],
             [
              1,
              "#f0f921"
             ]
            ],
            "type": "histogram2d"
           }
          ],
          "histogram2dcontour": [
           {
            "colorbar": {
             "outlinewidth": 0,
             "ticks": ""
            },
            "colorscale": [
             [
              0,
              "#0d0887"
             ],
             [
              0.1111111111111111,
              "#46039f"
             ],
             [
              0.2222222222222222,
              "#7201a8"
             ],
             [
              0.3333333333333333,
              "#9c179e"
             ],
             [
              0.4444444444444444,
              "#bd3786"
             ],
             [
              0.5555555555555556,
              "#d8576b"
             ],
             [
              0.6666666666666666,
              "#ed7953"
             ],
             [
              0.7777777777777778,
              "#fb9f3a"
             ],
             [
              0.8888888888888888,
              "#fdca26"
             ],
             [
              1,
              "#f0f921"
             ]
            ],
            "type": "histogram2dcontour"
           }
          ],
          "mesh3d": [
           {
            "colorbar": {
             "outlinewidth": 0,
             "ticks": ""
            },
            "type": "mesh3d"
           }
          ],
          "parcoords": [
           {
            "line": {
             "colorbar": {
              "outlinewidth": 0,
              "ticks": ""
             }
            },
            "type": "parcoords"
           }
          ],
          "pie": [
           {
            "automargin": true,
            "type": "pie"
           }
          ],
          "scatter": [
           {
            "fillpattern": {
             "fillmode": "overlay",
             "size": 10,
             "solidity": 0.2
            },
            "type": "scatter"
           }
          ],
          "scatter3d": [
           {
            "line": {
             "colorbar": {
              "outlinewidth": 0,
              "ticks": ""
             }
            },
            "marker": {
             "colorbar": {
              "outlinewidth": 0,
              "ticks": ""
             }
            },
            "type": "scatter3d"
           }
          ],
          "scattercarpet": [
           {
            "marker": {
             "colorbar": {
              "outlinewidth": 0,
              "ticks": ""
             }
            },
            "type": "scattercarpet"
           }
          ],
          "scattergeo": [
           {
            "marker": {
             "colorbar": {
              "outlinewidth": 0,
              "ticks": ""
             }
            },
            "type": "scattergeo"
           }
          ],
          "scattergl": [
           {
            "marker": {
             "colorbar": {
              "outlinewidth": 0,
              "ticks": ""
             }
            },
            "type": "scattergl"
           }
          ],
          "scattermap": [
           {
            "marker": {
             "colorbar": {
              "outlinewidth": 0,
              "ticks": ""
             }
            },
            "type": "scattermap"
           }
          ],
          "scattermapbox": [
           {
            "marker": {
             "colorbar": {
              "outlinewidth": 0,
              "ticks": ""
             }
            },
            "type": "scattermapbox"
           }
          ],
          "scatterpolar": [
           {
            "marker": {
             "colorbar": {
              "outlinewidth": 0,
              "ticks": ""
             }
            },
            "type": "scatterpolar"
           }
          ],
          "scatterpolargl": [
           {
            "marker": {
             "colorbar": {
              "outlinewidth": 0,
              "ticks": ""
             }
            },
            "type": "scatterpolargl"
           }
          ],
          "scatterternary": [
           {
            "marker": {
             "colorbar": {
              "outlinewidth": 0,
              "ticks": ""
             }
            },
            "type": "scatterternary"
           }
          ],
          "surface": [
           {
            "colorbar": {
             "outlinewidth": 0,
             "ticks": ""
            },
            "colorscale": [
             [
              0,
              "#0d0887"
             ],
             [
              0.1111111111111111,
              "#46039f"
             ],
             [
              0.2222222222222222,
              "#7201a8"
             ],
             [
              0.3333333333333333,
              "#9c179e"
             ],
             [
              0.4444444444444444,
              "#bd3786"
             ],
             [
              0.5555555555555556,
              "#d8576b"
             ],
             [
              0.6666666666666666,
              "#ed7953"
             ],
             [
              0.7777777777777778,
              "#fb9f3a"
             ],
             [
              0.8888888888888888,
              "#fdca26"
             ],
             [
              1,
              "#f0f921"
             ]
            ],
            "type": "surface"
           }
          ],
          "table": [
           {
            "cells": {
             "fill": {
              "color": "#EBF0F8"
             },
             "line": {
              "color": "white"
             }
            },
            "header": {
             "fill": {
              "color": "#C8D4E3"
             },
             "line": {
              "color": "white"
             }
            },
            "type": "table"
           }
          ]
         },
         "layout": {
          "annotationdefaults": {
           "arrowcolor": "#2a3f5f",
           "arrowhead": 0,
           "arrowwidth": 1
          },
          "autotypenumbers": "strict",
          "coloraxis": {
           "colorbar": {
            "outlinewidth": 0,
            "ticks": ""
           }
          },
          "colorscale": {
           "diverging": [
            [
             0,
             "#8e0152"
            ],
            [
             0.1,
             "#c51b7d"
            ],
            [
             0.2,
             "#de77ae"
            ],
            [
             0.3,
             "#f1b6da"
            ],
            [
             0.4,
             "#fde0ef"
            ],
            [
             0.5,
             "#f7f7f7"
            ],
            [
             0.6,
             "#e6f5d0"
            ],
            [
             0.7,
             "#b8e186"
            ],
            [
             0.8,
             "#7fbc41"
            ],
            [
             0.9,
             "#4d9221"
            ],
            [
             1,
             "#276419"
            ]
           ],
           "sequential": [
            [
             0,
             "#0d0887"
            ],
            [
             0.1111111111111111,
             "#46039f"
            ],
            [
             0.2222222222222222,
             "#7201a8"
            ],
            [
             0.3333333333333333,
             "#9c179e"
            ],
            [
             0.4444444444444444,
             "#bd3786"
            ],
            [
             0.5555555555555556,
             "#d8576b"
            ],
            [
             0.6666666666666666,
             "#ed7953"
            ],
            [
             0.7777777777777778,
             "#fb9f3a"
            ],
            [
             0.8888888888888888,
             "#fdca26"
            ],
            [
             1,
             "#f0f921"
            ]
           ],
           "sequentialminus": [
            [
             0,
             "#0d0887"
            ],
            [
             0.1111111111111111,
             "#46039f"
            ],
            [
             0.2222222222222222,
             "#7201a8"
            ],
            [
             0.3333333333333333,
             "#9c179e"
            ],
            [
             0.4444444444444444,
             "#bd3786"
            ],
            [
             0.5555555555555556,
             "#d8576b"
            ],
            [
             0.6666666666666666,
             "#ed7953"
            ],
            [
             0.7777777777777778,
             "#fb9f3a"
            ],
            [
             0.8888888888888888,
             "#fdca26"
            ],
            [
             1,
             "#f0f921"
            ]
           ]
          },
          "colorway": [
           "#636efa",
           "#EF553B",
           "#00cc96",
           "#ab63fa",
           "#FFA15A",
           "#19d3f3",
           "#FF6692",
           "#B6E880",
           "#FF97FF",
           "#FECB52"
          ],
          "font": {
           "color": "#2a3f5f"
          },
          "geo": {
           "bgcolor": "white",
           "lakecolor": "white",
           "landcolor": "#E5ECF6",
           "showlakes": true,
           "showland": true,
           "subunitcolor": "white"
          },
          "hoverlabel": {
           "align": "left"
          },
          "hovermode": "closest",
          "mapbox": {
           "style": "light"
          },
          "paper_bgcolor": "white",
          "plot_bgcolor": "#E5ECF6",
          "polar": {
           "angularaxis": {
            "gridcolor": "white",
            "linecolor": "white",
            "ticks": ""
           },
           "bgcolor": "#E5ECF6",
           "radialaxis": {
            "gridcolor": "white",
            "linecolor": "white",
            "ticks": ""
           }
          },
          "scene": {
           "xaxis": {
            "backgroundcolor": "#E5ECF6",
            "gridcolor": "white",
            "gridwidth": 2,
            "linecolor": "white",
            "showbackground": true,
            "ticks": "",
            "zerolinecolor": "white"
           },
           "yaxis": {
            "backgroundcolor": "#E5ECF6",
            "gridcolor": "white",
            "gridwidth": 2,
            "linecolor": "white",
            "showbackground": true,
            "ticks": "",
            "zerolinecolor": "white"
           },
           "zaxis": {
            "backgroundcolor": "#E5ECF6",
            "gridcolor": "white",
            "gridwidth": 2,
            "linecolor": "white",
            "showbackground": true,
            "ticks": "",
            "zerolinecolor": "white"
           }
          },
          "shapedefaults": {
           "line": {
            "color": "#2a3f5f"
           }
          },
          "ternary": {
           "aaxis": {
            "gridcolor": "white",
            "linecolor": "white",
            "ticks": ""
           },
           "baxis": {
            "gridcolor": "white",
            "linecolor": "white",
            "ticks": ""
           },
           "bgcolor": "#E5ECF6",
           "caxis": {
            "gridcolor": "white",
            "linecolor": "white",
            "ticks": ""
           }
          },
          "title": {
           "x": 0.05
          },
          "xaxis": {
           "automargin": true,
           "gridcolor": "white",
           "linecolor": "white",
           "ticks": "",
           "title": {
            "standoff": 15
           },
           "zerolinecolor": "white",
           "zerolinewidth": 2
          },
          "yaxis": {
           "automargin": true,
           "gridcolor": "white",
           "linecolor": "white",
           "ticks": "",
           "title": {
            "standoff": 15
           },
           "zerolinecolor": "white",
           "zerolinewidth": 2
          }
         }
        },
        "title": {
         "text": "Most Popular Baby Names by State"
        }
       }
      }
     },
     "metadata": {},
     "output_type": "display_data"
    }
   ],
   "source": [
    "import pandas as pd\n",
    "import plotly.express as px\n",
    "\n",
    "def plot_top_names_by_state(file_path):\n",
    "    \"\"\"\n",
    "    Generates a choropleth map of the USA, showing the most popular baby name in each state.\n",
    "\n",
    "    Parameters:\n",
    "    - file_path (str): Path to the StateNames.csv dataset.\n",
    "\n",
    "    Returns:\n",
    "    - A Plotly figure displaying the top names by state.\n",
    "    \"\"\"\n",
    "    # Load dataset\n",
    "    df = pd.read_csv(file_path)\n",
    "    \n",
    "    # Find the most popular name per state\n",
    "    top_names = df.groupby([\"State\", \"Name\"])[\"Count\"].sum().reset_index() #sums all occurances of the same baby name in the same state across all years,  .groupby converts the data frame to a grouped object, .reset_index converts it back\n",
    "    top_names = top_names.loc[top_names.groupby(\"State\")[\"Count\"].idxmax()]  # creates a grouped object - grouping states together, .idmax finds the index of the maximum count (done for each state), finally .loc makes a subsample of rows corresponding to the most occuring baby names per state\n",
    "    \n",
    "    # Create map visualization\n",
    "    fig = px.choropleth(\n",
    "        top_names,\n",
    "        locations=\"State\",\n",
    "        locationmode=\"USA-states\",\n",
    "        color=\"Name\", # coloring states by the most popular name\n",
    "        hover_name=\"Name\", # displays the most popular baby name of the state when hovering over it with a coursor\n",
    "        hover_data={\"State\": True, \"Name\": True, \"Count\": True}, # additional data shown when hovering over\n",
    "        title=\"Most Popular Baby Names by State\",\n",
    "        scope=\"usa\", # defines the map to be only USA\n",
    "        color_discrete_sequence=px.colors.qualitative.Set3\n",
    "    )\n",
    "    \n",
    "    fig.show()\n",
    "\n",
    "# Example usage:\n",
    "file_path = r\"C:\\Users\\matej\\.cache\\kagglehub\\datasets\\kaggle\\us-baby-names\\versions\\2\\StateNames.csv\"\n",
    "plot_top_names_by_state(file_path)"
   ]
  },
  {
   "cell_type": "code",
   "execution_count": 15,
   "metadata": {},
   "outputs": [
    {
     "ename": "AttributeError",
     "evalue": "The geopandas.dataset has been deprecated and was removed in GeoPandas 1.0. You can get the original 'naturalearth_lowres' data from https://www.naturalearthdata.com/downloads/110m-cultural-vectors/.",
     "output_type": "error",
     "traceback": [
      "\u001b[31m---------------------------------------------------------------------------\u001b[39m",
      "\u001b[31mAttributeError\u001b[39m                            Traceback (most recent call last)",
      "\u001b[36mCell\u001b[39m\u001b[36m \u001b[39m\u001b[32mIn[15]\u001b[39m\u001b[32m, line 49\u001b[39m\n\u001b[32m     47\u001b[39m \u001b[38;5;66;03m# Example usage:\u001b[39;00m\n\u001b[32m     48\u001b[39m file_path = \u001b[33mr\u001b[39m\u001b[33m\"\u001b[39m\u001b[33mC:\u001b[39m\u001b[33m\\\u001b[39m\u001b[33mUsers\u001b[39m\u001b[33m\\\u001b[39m\u001b[33mmatej\u001b[39m\u001b[33m\\\u001b[39m\u001b[33m.cache\u001b[39m\u001b[33m\\\u001b[39m\u001b[33mkagglehub\u001b[39m\u001b[33m\\\u001b[39m\u001b[33mdatasets\u001b[39m\u001b[33m\\\u001b[39m\u001b[33mkaggle\u001b[39m\u001b[33m\\\u001b[39m\u001b[33mus-baby-names\u001b[39m\u001b[33m\\\u001b[39m\u001b[33mversions\u001b[39m\u001b[33m\\\u001b[39m\u001b[33m2\u001b[39m\u001b[33m\\\u001b[39m\u001b[33mStateNames.csv\u001b[39m\u001b[33m\"\u001b[39m\n\u001b[32m---> \u001b[39m\u001b[32m49\u001b[39m \u001b[43mplot_top_names_by_state\u001b[49m\u001b[43m(\u001b[49m\u001b[43mfile_path\u001b[49m\u001b[43m)\u001b[49m\n",
      "\u001b[36mCell\u001b[39m\u001b[36m \u001b[39m\u001b[32mIn[15]\u001b[39m\u001b[32m, line 19\u001b[39m, in \u001b[36mplot_top_names_by_state\u001b[39m\u001b[34m(file_path)\u001b[39m\n\u001b[32m     16\u001b[39m top_names = top_names.loc[top_names.groupby(\u001b[33m\"\u001b[39m\u001b[33mState\u001b[39m\u001b[33m\"\u001b[39m)[\u001b[33m\"\u001b[39m\u001b[33mCount\u001b[39m\u001b[33m\"\u001b[39m].idxmax()]  \u001b[38;5;66;03m# Get top name per state\u001b[39;00m\n\u001b[32m     18\u001b[39m \u001b[38;5;66;03m# Load built-in US states shapefile from GeoPandas\u001b[39;00m\n\u001b[32m---> \u001b[39m\u001b[32m19\u001b[39m usa = gpd.read_file(\u001b[43mgpd\u001b[49m\u001b[43m.\u001b[49m\u001b[43mdatasets\u001b[49m\u001b[43m.\u001b[49m\u001b[43mget_path\u001b[49m\u001b[43m(\u001b[49m\u001b[33;43m'\u001b[39;49m\u001b[33;43mnaturalearth_lowres\u001b[39;49m\u001b[33;43m'\u001b[39;49m\u001b[43m)\u001b[49m)\n\u001b[32m     20\u001b[39m usa = usa[usa[\u001b[33m\"\u001b[39m\u001b[33mcontinent\u001b[39m\u001b[33m\"\u001b[39m] == \u001b[33m\"\u001b[39m\u001b[33mNorth America\u001b[39m\u001b[33m\"\u001b[39m]  \u001b[38;5;66;03m# Keep only North America\u001b[39;00m\n\u001b[32m     21\u001b[39m usa = usa[usa[\u001b[33m\"\u001b[39m\u001b[33mname\u001b[39m\u001b[33m\"\u001b[39m] == \u001b[33m\"\u001b[39m\u001b[33mUnited States of America\u001b[39m\u001b[33m\"\u001b[39m]  \u001b[38;5;66;03m# Keep only the USA\u001b[39;00m\n",
      "\u001b[36mFile \u001b[39m\u001b[32m~\\AppData\\Local\\Packages\\PythonSoftwareFoundation.Python.3.11_qbz5n2kfra8p0\\LocalCache\\local-packages\\Python311\\site-packages\\geopandas\\datasets\\__init__.py:18\u001b[39m, in \u001b[36mget_path\u001b[39m\u001b[34m(dataset)\u001b[39m\n\u001b[32m     12\u001b[39m error_msg = (\n\u001b[32m     13\u001b[39m     \u001b[33m\"\u001b[39m\u001b[33mThe geopandas.dataset has been deprecated and was removed in GeoPandas \u001b[39m\u001b[33m\"\u001b[39m\n\u001b[32m     14\u001b[39m     \u001b[33mf\u001b[39m\u001b[33m\"\u001b[39m\u001b[33m1.0. You can get the original \u001b[39m\u001b[33m'\u001b[39m\u001b[38;5;132;01m{\u001b[39;00mdataset\u001b[38;5;132;01m}\u001b[39;00m\u001b[33m'\u001b[39m\u001b[33m data from \u001b[39m\u001b[33m\"\u001b[39m\n\u001b[32m     15\u001b[39m     \u001b[33mf\u001b[39m\u001b[33m\"\u001b[39m\u001b[38;5;132;01m{\u001b[39;00mne_message\u001b[38;5;250m \u001b[39m\u001b[38;5;28;01mif\u001b[39;00m\u001b[38;5;250m \u001b[39m\u001b[33m'\u001b[39m\u001b[33mnatural\u001b[39m\u001b[33m'\u001b[39m\u001b[38;5;250m \u001b[39m\u001b[38;5;129;01min\u001b[39;00m\u001b[38;5;250m \u001b[39mdataset\u001b[38;5;250m \u001b[39m\u001b[38;5;28;01melse\u001b[39;00m\u001b[38;5;250m \u001b[39mnybb_message\u001b[38;5;132;01m}\u001b[39;00m\u001b[33m\"\u001b[39m\n\u001b[32m     16\u001b[39m )\n\u001b[32m     17\u001b[39m \u001b[38;5;28;01mif\u001b[39;00m dataset \u001b[38;5;129;01min\u001b[39;00m _prev_available:\n\u001b[32m---> \u001b[39m\u001b[32m18\u001b[39m     \u001b[38;5;28;01mraise\u001b[39;00m \u001b[38;5;167;01mAttributeError\u001b[39;00m(error_msg)\n\u001b[32m     19\u001b[39m \u001b[38;5;28;01melse\u001b[39;00m:\n\u001b[32m     20\u001b[39m     error_msg = (\n\u001b[32m     21\u001b[39m         \u001b[33m\"\u001b[39m\u001b[33mThe geopandas.dataset has been deprecated and \u001b[39m\u001b[33m\"\u001b[39m\n\u001b[32m     22\u001b[39m         \u001b[33m\"\u001b[39m\u001b[33mwas removed in GeoPandas 1.0. New sample datasets are now available \u001b[39m\u001b[33m\"\u001b[39m\n\u001b[32m     23\u001b[39m         \u001b[33m\"\u001b[39m\u001b[33min the geodatasets package (https://geodatasets.readthedocs.io/en/latest/)\u001b[39m\u001b[33m\"\u001b[39m\n\u001b[32m     24\u001b[39m     )\n",
      "\u001b[31mAttributeError\u001b[39m: The geopandas.dataset has been deprecated and was removed in GeoPandas 1.0. You can get the original 'naturalearth_lowres' data from https://www.naturalearthdata.com/downloads/110m-cultural-vectors/."
     ]
    }
   ],
   "source": [
    "def plot_top_names_by_state(file_path):\n",
    "    \"\"\"\n",
    "    Generates a map of the USA showing the most popular baby name in each state with text labels.\n",
    "\n",
    "    Parameters:\n",
    "    - file_path (str): Path to the StateNames.csv dataset.\n",
    "\n",
    "    Returns:\n",
    "    - A Matplotlib figure displaying the top names by state.\n",
    "    \"\"\"\n",
    "    # Load baby names dataset\n",
    "    df = pd.read_csv(file_path)\n",
    "\n",
    "    # Find the most popular name per state\n",
    "    top_names = df.groupby([\"State\", \"Name\"])[\"Count\"].sum().reset_index()\n",
    "    top_names = top_names.loc[top_names.groupby(\"State\")[\"Count\"].idxmax()]  # Get top name per state\n",
    "\n",
    "    # Load built-in US states shapefile from GeoPandas\n",
    "    usa = gpd.read_file(gpd.datasets.get_path('naturalearth_lowres'))\n",
    "    usa = usa[usa[\"continent\"] == \"North America\"]  # Keep only North America\n",
    "    usa = usa[usa[\"name\"] == \"United States of America\"]  # Keep only the USA\n",
    "\n",
    "    # Load a detailed US states shapefile (must be downloaded separately)\n",
    "    states = gpd.read_file(\"https://www2.census.gov/geo/tiger/GENZ2018/shp/cb_2018_us_state_20m.zip\")\n",
    "\n",
    "    # Remove non-continental states (Alaska, Hawaii, and territories)\n",
    "    states = states[~states[\"STUSPS\"].isin([\"HI\", \"AK\", \"PR\", \"GU\", \"VI\", \"MP\"])]\n",
    "\n",
    "    # Merge top names with state geometries\n",
    "    merged = states.merge(top_names, left_on=\"STUSPS\", right_on=\"State\", how=\"left\")\n",
    "\n",
    "    # Plot the map\n",
    "    fig, ax = plt.subplots(figsize=(12, 8))\n",
    "    merged.plot(column=\"Name\", cmap=\"tab20\", linewidth=0.8, edgecolor=\"black\", legend=False, ax=ax)\n",
    "\n",
    "    # Add text labels for each state's most common name\n",
    "    for idx, row in merged.iterrows():\n",
    "        if pd.notna(row[\"Name\"]):\n",
    "            plt.text(row.geometry.centroid.x, row.geometry.centroid.y, row[\"Name\"], fontsize=8, ha=\"center\", color=\"black\", weight=\"bold\")\n",
    "\n",
    "    # Customize the map\n",
    "    ax.set_title(\"Most Popular Baby Names by State\", fontsize=14)\n",
    "    ax.axis(\"off\")  # Hide axes\n",
    "\n",
    "    plt.show()\n",
    "\n",
    "# Example usage:\n",
    "file_path = r\"C:\\Users\\matej\\.cache\\kagglehub\\datasets\\kaggle\\us-baby-names\\versions\\2\\StateNames.csv\"\n",
    "plot_top_names_by_state(file_path)"
   ]
  },
  {
   "cell_type": "code",
   "execution_count": 11,
   "metadata": {},
   "outputs": [
    {
     "name": "stdout",
     "output_type": "stream",
     "text": [
      "Collecting geopandas\n",
      "  Downloading geopandas-1.0.1-py3-none-any.whl.metadata (2.2 kB)\n",
      "Requirement already satisfied: numpy>=1.22 in c:\\users\\matej\\appdata\\local\\packages\\pythonsoftwarefoundation.python.3.11_qbz5n2kfra8p0\\localcache\\local-packages\\python311\\site-packages (from geopandas) (2.2.3)\n",
      "Collecting pyogrio>=0.7.2 (from geopandas)\n",
      "  Downloading pyogrio-0.10.0-cp311-cp311-win_amd64.whl.metadata (5.6 kB)\n",
      "Requirement already satisfied: packaging in c:\\users\\matej\\appdata\\local\\packages\\pythonsoftwarefoundation.python.3.11_qbz5n2kfra8p0\\localcache\\local-packages\\python311\\site-packages (from geopandas) (24.2)\n",
      "Requirement already satisfied: pandas>=1.4.0 in c:\\users\\matej\\appdata\\local\\packages\\pythonsoftwarefoundation.python.3.11_qbz5n2kfra8p0\\localcache\\local-packages\\python311\\site-packages (from geopandas) (2.2.3)\n",
      "Collecting pyproj>=3.3.0 (from geopandas)\n",
      "  Downloading pyproj-3.7.1-cp311-cp311-win_amd64.whl.metadata (31 kB)\n",
      "Collecting shapely>=2.0.0 (from geopandas)\n",
      "  Downloading shapely-2.0.7-cp311-cp311-win_amd64.whl.metadata (7.1 kB)\n",
      "Requirement already satisfied: python-dateutil>=2.8.2 in c:\\users\\matej\\appdata\\local\\packages\\pythonsoftwarefoundation.python.3.11_qbz5n2kfra8p0\\localcache\\local-packages\\python311\\site-packages (from pandas>=1.4.0->geopandas) (2.9.0.post0)\n",
      "Requirement already satisfied: pytz>=2020.1 in c:\\users\\matej\\appdata\\local\\packages\\pythonsoftwarefoundation.python.3.11_qbz5n2kfra8p0\\localcache\\local-packages\\python311\\site-packages (from pandas>=1.4.0->geopandas) (2025.1)\n",
      "Requirement already satisfied: tzdata>=2022.7 in c:\\users\\matej\\appdata\\local\\packages\\pythonsoftwarefoundation.python.3.11_qbz5n2kfra8p0\\localcache\\local-packages\\python311\\site-packages (from pandas>=1.4.0->geopandas) (2025.1)\n",
      "Requirement already satisfied: certifi in c:\\users\\matej\\appdata\\local\\packages\\pythonsoftwarefoundation.python.3.11_qbz5n2kfra8p0\\localcache\\local-packages\\python311\\site-packages (from pyogrio>=0.7.2->geopandas) (2025.1.31)\n",
      "Requirement already satisfied: six>=1.5 in c:\\users\\matej\\appdata\\local\\packages\\pythonsoftwarefoundation.python.3.11_qbz5n2kfra8p0\\localcache\\local-packages\\python311\\site-packages (from python-dateutil>=2.8.2->pandas>=1.4.0->geopandas) (1.17.0)\n",
      "Downloading geopandas-1.0.1-py3-none-any.whl (323 kB)\n",
      "   ---------------------------------------- 0.0/323.6 kB ? eta -:--:--\n",
      "   --------------------- ------------------ 174.1/323.6 kB 5.3 MB/s eta 0:00:01\n",
      "   ---------------------------------------- 323.6/323.6 kB 5.1 MB/s eta 0:00:00\n",
      "Downloading pyogrio-0.10.0-cp311-cp311-win_amd64.whl (16.2 MB)\n",
      "   ---------------------------------------- 0.0/16.2 MB ? eta -:--:--\n",
      "   -- ------------------------------------- 0.9/16.2 MB 55.7 MB/s eta 0:00:01\n",
      "   ------ --------------------------------- 2.7/16.2 MB 35.1 MB/s eta 0:00:01\n",
      "   ------------- -------------------------- 5.3/16.2 MB 42.2 MB/s eta 0:00:01\n",
      "   ------------------- -------------------- 8.0/16.2 MB 46.4 MB/s eta 0:00:01\n",
      "   -------------------------- ------------- 10.6/16.2 MB 46.7 MB/s eta 0:00:01\n",
      "   -------------------------------- ------- 13.1/16.2 MB 54.4 MB/s eta 0:00:01\n",
      "   -------------------------------------- - 15.5/16.2 MB 54.7 MB/s eta 0:00:01\n",
      "   ---------------------------------------- 16.2/16.2 MB 50.4 MB/s eta 0:00:00\n",
      "Downloading pyproj-3.7.1-cp311-cp311-win_amd64.whl (6.3 MB)\n",
      "   ---------------------------------------- 0.0/6.3 MB ? eta -:--:--\n",
      "   ------- -------------------------------- 1.1/6.3 MB 23.7 MB/s eta 0:00:01\n",
      "   ------------------ --------------------- 2.8/6.3 MB 30.0 MB/s eta 0:00:01\n",
      "   ---------------------- ----------------- 3.5/6.3 MB 31.7 MB/s eta 0:00:01\n",
      "   ---------------------------------------- 6.3/6.3 MB 36.5 MB/s eta 0:00:00\n",
      "Downloading shapely-2.0.7-cp311-cp311-win_amd64.whl (1.4 MB)\n",
      "   ---------------------------------------- 0.0/1.4 MB ? eta -:--:--\n",
      "   ---------------------------------------- 1.4/1.4 MB 44.8 MB/s eta 0:00:00\n",
      "Installing collected packages: shapely, pyproj, pyogrio, geopandas\n",
      "Successfully installed geopandas-1.0.1 pyogrio-0.10.0 pyproj-3.7.1 shapely-2.0.7\n",
      "Note: you may need to restart the kernel to use updated packages.\n"
     ]
    },
    {
     "name": "stderr",
     "output_type": "stream",
     "text": [
      "\n",
      "[notice] A new release of pip is available: 24.0 -> 25.0.1\n",
      "[notice] To update, run: C:\\Users\\matej\\AppData\\Local\\Microsoft\\WindowsApps\\PythonSoftwareFoundation.Python.3.11_qbz5n2kfra8p0\\python.exe -m pip install --upgrade pip\n"
     ]
    }
   ],
   "source": [
    "%pip install geopandas"
   ]
  },
  {
   "cell_type": "code",
   "execution_count": 12,
   "metadata": {},
   "outputs": [],
   "source": [
    "import pandas as pd\n",
    "import geopandas as gpd\n",
    "import matplotlib.pyplot as plt"
   ]
  },
  {
   "cell_type": "code",
   "execution_count": 14,
   "metadata": {},
   "outputs": [
    {
     "ename": "DataSourceError",
     "evalue": "C:\\path\\to\\your\\shapefile\\us_states.shp: No such file or directory",
     "output_type": "error",
     "traceback": [
      "\u001b[31m---------------------------------------------------------------------------\u001b[39m",
      "\u001b[31mDataSourceError\u001b[39m                           Traceback (most recent call last)",
      "\u001b[36mCell\u001b[39m\u001b[36m \u001b[39m\u001b[32mIn[14]\u001b[39m\u001b[32m, line 61\u001b[39m\n\u001b[32m     59\u001b[39m file_path = \u001b[33mr\u001b[39m\u001b[33m\"\u001b[39m\u001b[33mC:\u001b[39m\u001b[33m\\\u001b[39m\u001b[33mUsers\u001b[39m\u001b[33m\\\u001b[39m\u001b[33mmatej\u001b[39m\u001b[33m\\\u001b[39m\u001b[33m.cache\u001b[39m\u001b[33m\\\u001b[39m\u001b[33mkagglehub\u001b[39m\u001b[33m\\\u001b[39m\u001b[33mdatasets\u001b[39m\u001b[33m\\\u001b[39m\u001b[33mkaggle\u001b[39m\u001b[33m\\\u001b[39m\u001b[33mus-baby-names\u001b[39m\u001b[33m\\\u001b[39m\u001b[33mversions\u001b[39m\u001b[33m\\\u001b[39m\u001b[33m2\u001b[39m\u001b[33m\\\u001b[39m\u001b[33mStateNames.csv\u001b[39m\u001b[33m\"\u001b[39m\n\u001b[32m     60\u001b[39m shapefile_path = \u001b[33mr\u001b[39m\u001b[33m\"\u001b[39m\u001b[33mC:\u001b[39m\u001b[33m\\\u001b[39m\u001b[33mpath\u001b[39m\u001b[33m\\\u001b[39m\u001b[33mto\u001b[39m\u001b[33m\\\u001b[39m\u001b[33myour\u001b[39m\u001b[33m\\\u001b[39m\u001b[33mshapefile\u001b[39m\u001b[33m\\\u001b[39m\u001b[33mus_states.shp\u001b[39m\u001b[33m\"\u001b[39m  \u001b[38;5;66;03m# Make sure to download a valid shapefile\u001b[39;00m\n\u001b[32m---> \u001b[39m\u001b[32m61\u001b[39m \u001b[43mplot_top_names_by_state_matplotlib\u001b[49m\u001b[43m(\u001b[49m\u001b[43mfile_path\u001b[49m\u001b[43m,\u001b[49m\u001b[43m \u001b[49m\u001b[43mshapefile_path\u001b[49m\u001b[43m)\u001b[49m\n",
      "\u001b[36mCell\u001b[39m\u001b[36m \u001b[39m\u001b[32mIn[14]\u001b[39m\u001b[32m, line 20\u001b[39m, in \u001b[36mplot_top_names_by_state_matplotlib\u001b[39m\u001b[34m(file_path, shapefile_path)\u001b[39m\n\u001b[32m     17\u001b[39m top_names = top_names.loc[top_names.groupby(\u001b[33m\"\u001b[39m\u001b[33mState\u001b[39m\u001b[33m\"\u001b[39m)[\u001b[33m\"\u001b[39m\u001b[33mCount\u001b[39m\u001b[33m\"\u001b[39m].idxmax()]  \u001b[38;5;66;03m# Get top name per state\u001b[39;00m\n\u001b[32m     19\u001b[39m \u001b[38;5;66;03m# Load a valid US states shapefile\u001b[39;00m\n\u001b[32m---> \u001b[39m\u001b[32m20\u001b[39m usa_states = \u001b[43mgpd\u001b[49m\u001b[43m.\u001b[49m\u001b[43mread_file\u001b[49m\u001b[43m(\u001b[49m\u001b[43mshapefile_path\u001b[49m\u001b[43m)\u001b[49m\n\u001b[32m     22\u001b[39m \u001b[38;5;66;03m# Ensure state abbreviations match (if shapefile contains full names, we need a mapping)\u001b[39;00m\n\u001b[32m     23\u001b[39m state_abbr_to_name = {\n\u001b[32m     24\u001b[39m     \u001b[33m\"\u001b[39m\u001b[33mAL\u001b[39m\u001b[33m\"\u001b[39m: \u001b[33m\"\u001b[39m\u001b[33mAlabama\u001b[39m\u001b[33m\"\u001b[39m, \u001b[33m\"\u001b[39m\u001b[33mAK\u001b[39m\u001b[33m\"\u001b[39m: \u001b[33m\"\u001b[39m\u001b[33mAlaska\u001b[39m\u001b[33m\"\u001b[39m, \u001b[33m\"\u001b[39m\u001b[33mAZ\u001b[39m\u001b[33m\"\u001b[39m: \u001b[33m\"\u001b[39m\u001b[33mArizona\u001b[39m\u001b[33m\"\u001b[39m, \u001b[33m\"\u001b[39m\u001b[33mAR\u001b[39m\u001b[33m\"\u001b[39m: \u001b[33m\"\u001b[39m\u001b[33mArkansas\u001b[39m\u001b[33m\"\u001b[39m, \u001b[33m\"\u001b[39m\u001b[33mCA\u001b[39m\u001b[33m\"\u001b[39m: \u001b[33m\"\u001b[39m\u001b[33mCalifornia\u001b[39m\u001b[33m\"\u001b[39m,\n\u001b[32m     25\u001b[39m     \u001b[33m\"\u001b[39m\u001b[33mCO\u001b[39m\u001b[33m\"\u001b[39m: \u001b[33m\"\u001b[39m\u001b[33mColorado\u001b[39m\u001b[33m\"\u001b[39m, \u001b[33m\"\u001b[39m\u001b[33mCT\u001b[39m\u001b[33m\"\u001b[39m: \u001b[33m\"\u001b[39m\u001b[33mConnecticut\u001b[39m\u001b[33m\"\u001b[39m, \u001b[33m\"\u001b[39m\u001b[33mDE\u001b[39m\u001b[33m\"\u001b[39m: \u001b[33m\"\u001b[39m\u001b[33mDelaware\u001b[39m\u001b[33m\"\u001b[39m, \u001b[33m\"\u001b[39m\u001b[33mFL\u001b[39m\u001b[33m\"\u001b[39m: \u001b[33m\"\u001b[39m\u001b[33mFlorida\u001b[39m\u001b[33m\"\u001b[39m, \u001b[33m\"\u001b[39m\u001b[33mGA\u001b[39m\u001b[33m\"\u001b[39m: \u001b[33m\"\u001b[39m\u001b[33mGeorgia\u001b[39m\u001b[33m\"\u001b[39m,\n\u001b[32m   (...)\u001b[39m\u001b[32m     34\u001b[39m     \u001b[33m\"\u001b[39m\u001b[33mWV\u001b[39m\u001b[33m\"\u001b[39m: \u001b[33m\"\u001b[39m\u001b[33mWest Virginia\u001b[39m\u001b[33m\"\u001b[39m, \u001b[33m\"\u001b[39m\u001b[33mWI\u001b[39m\u001b[33m\"\u001b[39m: \u001b[33m\"\u001b[39m\u001b[33mWisconsin\u001b[39m\u001b[33m\"\u001b[39m, \u001b[33m\"\u001b[39m\u001b[33mWY\u001b[39m\u001b[33m\"\u001b[39m: \u001b[33m\"\u001b[39m\u001b[33mWyoming\u001b[39m\u001b[33m\"\u001b[39m\n\u001b[32m     35\u001b[39m }\n",
      "\u001b[36mFile \u001b[39m\u001b[32m~\\AppData\\Local\\Packages\\PythonSoftwareFoundation.Python.3.11_qbz5n2kfra8p0\\LocalCache\\local-packages\\Python311\\site-packages\\geopandas\\io\\file.py:294\u001b[39m, in \u001b[36m_read_file\u001b[39m\u001b[34m(filename, bbox, mask, columns, rows, engine, **kwargs)\u001b[39m\n\u001b[32m    291\u001b[39m             from_bytes = \u001b[38;5;28;01mTrue\u001b[39;00m\n\u001b[32m    293\u001b[39m \u001b[38;5;28;01mif\u001b[39;00m engine == \u001b[33m\"\u001b[39m\u001b[33mpyogrio\u001b[39m\u001b[33m\"\u001b[39m:\n\u001b[32m--> \u001b[39m\u001b[32m294\u001b[39m     \u001b[38;5;28;01mreturn\u001b[39;00m \u001b[43m_read_file_pyogrio\u001b[49m\u001b[43m(\u001b[49m\n\u001b[32m    295\u001b[39m \u001b[43m        \u001b[49m\u001b[43mfilename\u001b[49m\u001b[43m,\u001b[49m\u001b[43m \u001b[49m\u001b[43mbbox\u001b[49m\u001b[43m=\u001b[49m\u001b[43mbbox\u001b[49m\u001b[43m,\u001b[49m\u001b[43m \u001b[49m\u001b[43mmask\u001b[49m\u001b[43m=\u001b[49m\u001b[43mmask\u001b[49m\u001b[43m,\u001b[49m\u001b[43m \u001b[49m\u001b[43mcolumns\u001b[49m\u001b[43m=\u001b[49m\u001b[43mcolumns\u001b[49m\u001b[43m,\u001b[49m\u001b[43m \u001b[49m\u001b[43mrows\u001b[49m\u001b[43m=\u001b[49m\u001b[43mrows\u001b[49m\u001b[43m,\u001b[49m\u001b[43m \u001b[49m\u001b[43m*\u001b[49m\u001b[43m*\u001b[49m\u001b[43mkwargs\u001b[49m\n\u001b[32m    296\u001b[39m \u001b[43m    \u001b[49m\u001b[43m)\u001b[49m\n\u001b[32m    298\u001b[39m \u001b[38;5;28;01melif\u001b[39;00m engine == \u001b[33m\"\u001b[39m\u001b[33mfiona\u001b[39m\u001b[33m\"\u001b[39m:\n\u001b[32m    299\u001b[39m     \u001b[38;5;28;01mif\u001b[39;00m pd.api.types.is_file_like(filename):\n",
      "\u001b[36mFile \u001b[39m\u001b[32m~\\AppData\\Local\\Packages\\PythonSoftwareFoundation.Python.3.11_qbz5n2kfra8p0\\LocalCache\\local-packages\\Python311\\site-packages\\geopandas\\io\\file.py:547\u001b[39m, in \u001b[36m_read_file_pyogrio\u001b[39m\u001b[34m(path_or_bytes, bbox, mask, rows, **kwargs)\u001b[39m\n\u001b[32m    538\u001b[39m     warnings.warn(\n\u001b[32m    539\u001b[39m         \u001b[33m\"\u001b[39m\u001b[33mThe \u001b[39m\u001b[33m'\u001b[39m\u001b[33minclude_fields\u001b[39m\u001b[33m'\u001b[39m\u001b[33m and \u001b[39m\u001b[33m'\u001b[39m\u001b[33mignore_fields\u001b[39m\u001b[33m'\u001b[39m\u001b[33m keywords are deprecated, and \u001b[39m\u001b[33m\"\u001b[39m\n\u001b[32m    540\u001b[39m         \u001b[33m\"\u001b[39m\u001b[33mwill be removed in a future release. You can use the \u001b[39m\u001b[33m'\u001b[39m\u001b[33mcolumns\u001b[39m\u001b[33m'\u001b[39m\u001b[33m keyword \u001b[39m\u001b[33m\"\u001b[39m\n\u001b[32m   (...)\u001b[39m\u001b[32m    543\u001b[39m         stacklevel=\u001b[32m3\u001b[39m,\n\u001b[32m    544\u001b[39m     )\n\u001b[32m    545\u001b[39m     kwargs[\u001b[33m\"\u001b[39m\u001b[33mcolumns\u001b[39m\u001b[33m\"\u001b[39m] = kwargs.pop(\u001b[33m\"\u001b[39m\u001b[33minclude_fields\u001b[39m\u001b[33m\"\u001b[39m)\n\u001b[32m--> \u001b[39m\u001b[32m547\u001b[39m \u001b[38;5;28;01mreturn\u001b[39;00m \u001b[43mpyogrio\u001b[49m\u001b[43m.\u001b[49m\u001b[43mread_dataframe\u001b[49m\u001b[43m(\u001b[49m\u001b[43mpath_or_bytes\u001b[49m\u001b[43m,\u001b[49m\u001b[43m \u001b[49m\u001b[43mbbox\u001b[49m\u001b[43m=\u001b[49m\u001b[43mbbox\u001b[49m\u001b[43m,\u001b[49m\u001b[43m \u001b[49m\u001b[43m*\u001b[49m\u001b[43m*\u001b[49m\u001b[43mkwargs\u001b[49m\u001b[43m)\u001b[49m\n",
      "\u001b[36mFile \u001b[39m\u001b[32m~\\AppData\\Local\\Packages\\PythonSoftwareFoundation.Python.3.11_qbz5n2kfra8p0\\LocalCache\\local-packages\\Python311\\site-packages\\pyogrio\\geopandas.py:265\u001b[39m, in \u001b[36mread_dataframe\u001b[39m\u001b[34m(path_or_buffer, layer, encoding, columns, read_geometry, force_2d, skip_features, max_features, where, bbox, mask, fids, sql, sql_dialect, fid_as_index, use_arrow, on_invalid, arrow_to_pandas_kwargs, **kwargs)\u001b[39m\n\u001b[32m    260\u001b[39m \u001b[38;5;28;01mif\u001b[39;00m \u001b[38;5;129;01mnot\u001b[39;00m use_arrow:\n\u001b[32m    261\u001b[39m     \u001b[38;5;66;03m# For arrow, datetimes are read as is.\u001b[39;00m\n\u001b[32m    262\u001b[39m     \u001b[38;5;66;03m# For numpy IO, datetimes are read as string values to preserve timezone info\u001b[39;00m\n\u001b[32m    263\u001b[39m     \u001b[38;5;66;03m# as numpy does not directly support timezones.\u001b[39;00m\n\u001b[32m    264\u001b[39m     kwargs[\u001b[33m\"\u001b[39m\u001b[33mdatetime_as_string\u001b[39m\u001b[33m\"\u001b[39m] = \u001b[38;5;28;01mTrue\u001b[39;00m\n\u001b[32m--> \u001b[39m\u001b[32m265\u001b[39m result = \u001b[43mread_func\u001b[49m\u001b[43m(\u001b[49m\n\u001b[32m    266\u001b[39m \u001b[43m    \u001b[49m\u001b[43mpath_or_buffer\u001b[49m\u001b[43m,\u001b[49m\n\u001b[32m    267\u001b[39m \u001b[43m    \u001b[49m\u001b[43mlayer\u001b[49m\u001b[43m=\u001b[49m\u001b[43mlayer\u001b[49m\u001b[43m,\u001b[49m\n\u001b[32m    268\u001b[39m \u001b[43m    \u001b[49m\u001b[43mencoding\u001b[49m\u001b[43m=\u001b[49m\u001b[43mencoding\u001b[49m\u001b[43m,\u001b[49m\n\u001b[32m    269\u001b[39m \u001b[43m    \u001b[49m\u001b[43mcolumns\u001b[49m\u001b[43m=\u001b[49m\u001b[43mcolumns\u001b[49m\u001b[43m,\u001b[49m\n\u001b[32m    270\u001b[39m \u001b[43m    \u001b[49m\u001b[43mread_geometry\u001b[49m\u001b[43m=\u001b[49m\u001b[43mread_geometry\u001b[49m\u001b[43m,\u001b[49m\n\u001b[32m    271\u001b[39m \u001b[43m    \u001b[49m\u001b[43mforce_2d\u001b[49m\u001b[43m=\u001b[49m\u001b[43mgdal_force_2d\u001b[49m\u001b[43m,\u001b[49m\n\u001b[32m    272\u001b[39m \u001b[43m    \u001b[49m\u001b[43mskip_features\u001b[49m\u001b[43m=\u001b[49m\u001b[43mskip_features\u001b[49m\u001b[43m,\u001b[49m\n\u001b[32m    273\u001b[39m \u001b[43m    \u001b[49m\u001b[43mmax_features\u001b[49m\u001b[43m=\u001b[49m\u001b[43mmax_features\u001b[49m\u001b[43m,\u001b[49m\n\u001b[32m    274\u001b[39m \u001b[43m    \u001b[49m\u001b[43mwhere\u001b[49m\u001b[43m=\u001b[49m\u001b[43mwhere\u001b[49m\u001b[43m,\u001b[49m\n\u001b[32m    275\u001b[39m \u001b[43m    \u001b[49m\u001b[43mbbox\u001b[49m\u001b[43m=\u001b[49m\u001b[43mbbox\u001b[49m\u001b[43m,\u001b[49m\n\u001b[32m    276\u001b[39m \u001b[43m    \u001b[49m\u001b[43mmask\u001b[49m\u001b[43m=\u001b[49m\u001b[43mmask\u001b[49m\u001b[43m,\u001b[49m\n\u001b[32m    277\u001b[39m \u001b[43m    \u001b[49m\u001b[43mfids\u001b[49m\u001b[43m=\u001b[49m\u001b[43mfids\u001b[49m\u001b[43m,\u001b[49m\n\u001b[32m    278\u001b[39m \u001b[43m    \u001b[49m\u001b[43msql\u001b[49m\u001b[43m=\u001b[49m\u001b[43msql\u001b[49m\u001b[43m,\u001b[49m\n\u001b[32m    279\u001b[39m \u001b[43m    \u001b[49m\u001b[43msql_dialect\u001b[49m\u001b[43m=\u001b[49m\u001b[43msql_dialect\u001b[49m\u001b[43m,\u001b[49m\n\u001b[32m    280\u001b[39m \u001b[43m    \u001b[49m\u001b[43mreturn_fids\u001b[49m\u001b[43m=\u001b[49m\u001b[43mfid_as_index\u001b[49m\u001b[43m,\u001b[49m\n\u001b[32m    281\u001b[39m \u001b[43m    \u001b[49m\u001b[43m*\u001b[49m\u001b[43m*\u001b[49m\u001b[43mkwargs\u001b[49m\u001b[43m,\u001b[49m\n\u001b[32m    282\u001b[39m \u001b[43m\u001b[49m\u001b[43m)\u001b[49m\n\u001b[32m    284\u001b[39m \u001b[38;5;28;01mif\u001b[39;00m use_arrow:\n\u001b[32m    285\u001b[39m     meta, table = result\n",
      "\u001b[36mFile \u001b[39m\u001b[32m~\\AppData\\Local\\Packages\\PythonSoftwareFoundation.Python.3.11_qbz5n2kfra8p0\\LocalCache\\local-packages\\Python311\\site-packages\\pyogrio\\raw.py:198\u001b[39m, in \u001b[36mread\u001b[39m\u001b[34m(path_or_buffer, layer, encoding, columns, read_geometry, force_2d, skip_features, max_features, where, bbox, mask, fids, sql, sql_dialect, return_fids, datetime_as_string, **kwargs)\u001b[39m\n\u001b[32m     59\u001b[39m \u001b[38;5;250m\u001b[39m\u001b[33;03m\"\"\"Read OGR data source into numpy arrays.\u001b[39;00m\n\u001b[32m     60\u001b[39m \n\u001b[32m     61\u001b[39m \u001b[33;03mIMPORTANT: non-linear geometry types (e.g., MultiSurface) are converted\u001b[39;00m\n\u001b[32m   (...)\u001b[39m\u001b[32m    194\u001b[39m \n\u001b[32m    195\u001b[39m \u001b[33;03m\"\"\"\u001b[39;00m\n\u001b[32m    196\u001b[39m dataset_kwargs = _preprocess_options_key_value(kwargs) \u001b[38;5;28;01mif\u001b[39;00m kwargs \u001b[38;5;28;01melse\u001b[39;00m {}\n\u001b[32m--> \u001b[39m\u001b[32m198\u001b[39m \u001b[38;5;28;01mreturn\u001b[39;00m \u001b[43mogr_read\u001b[49m\u001b[43m(\u001b[49m\n\u001b[32m    199\u001b[39m \u001b[43m    \u001b[49m\u001b[43mget_vsi_path_or_buffer\u001b[49m\u001b[43m(\u001b[49m\u001b[43mpath_or_buffer\u001b[49m\u001b[43m)\u001b[49m\u001b[43m,\u001b[49m\n\u001b[32m    200\u001b[39m \u001b[43m    \u001b[49m\u001b[43mlayer\u001b[49m\u001b[43m=\u001b[49m\u001b[43mlayer\u001b[49m\u001b[43m,\u001b[49m\n\u001b[32m    201\u001b[39m \u001b[43m    \u001b[49m\u001b[43mencoding\u001b[49m\u001b[43m=\u001b[49m\u001b[43mencoding\u001b[49m\u001b[43m,\u001b[49m\n\u001b[32m    202\u001b[39m \u001b[43m    \u001b[49m\u001b[43mcolumns\u001b[49m\u001b[43m=\u001b[49m\u001b[43mcolumns\u001b[49m\u001b[43m,\u001b[49m\n\u001b[32m    203\u001b[39m \u001b[43m    \u001b[49m\u001b[43mread_geometry\u001b[49m\u001b[43m=\u001b[49m\u001b[43mread_geometry\u001b[49m\u001b[43m,\u001b[49m\n\u001b[32m    204\u001b[39m \u001b[43m    \u001b[49m\u001b[43mforce_2d\u001b[49m\u001b[43m=\u001b[49m\u001b[43mforce_2d\u001b[49m\u001b[43m,\u001b[49m\n\u001b[32m    205\u001b[39m \u001b[43m    \u001b[49m\u001b[43mskip_features\u001b[49m\u001b[43m=\u001b[49m\u001b[43mskip_features\u001b[49m\u001b[43m,\u001b[49m\n\u001b[32m    206\u001b[39m \u001b[43m    \u001b[49m\u001b[43mmax_features\u001b[49m\u001b[43m=\u001b[49m\u001b[43mmax_features\u001b[49m\u001b[43m \u001b[49m\u001b[38;5;129;43;01mor\u001b[39;49;00m\u001b[43m \u001b[49m\u001b[32;43m0\u001b[39;49m\u001b[43m,\u001b[49m\n\u001b[32m    207\u001b[39m \u001b[43m    \u001b[49m\u001b[43mwhere\u001b[49m\u001b[43m=\u001b[49m\u001b[43mwhere\u001b[49m\u001b[43m,\u001b[49m\n\u001b[32m    208\u001b[39m \u001b[43m    \u001b[49m\u001b[43mbbox\u001b[49m\u001b[43m=\u001b[49m\u001b[43mbbox\u001b[49m\u001b[43m,\u001b[49m\n\u001b[32m    209\u001b[39m \u001b[43m    \u001b[49m\u001b[43mmask\u001b[49m\u001b[43m=\u001b[49m\u001b[43m_mask_to_wkb\u001b[49m\u001b[43m(\u001b[49m\u001b[43mmask\u001b[49m\u001b[43m)\u001b[49m\u001b[43m,\u001b[49m\n\u001b[32m    210\u001b[39m \u001b[43m    \u001b[49m\u001b[43mfids\u001b[49m\u001b[43m=\u001b[49m\u001b[43mfids\u001b[49m\u001b[43m,\u001b[49m\n\u001b[32m    211\u001b[39m \u001b[43m    \u001b[49m\u001b[43msql\u001b[49m\u001b[43m=\u001b[49m\u001b[43msql\u001b[49m\u001b[43m,\u001b[49m\n\u001b[32m    212\u001b[39m \u001b[43m    \u001b[49m\u001b[43msql_dialect\u001b[49m\u001b[43m=\u001b[49m\u001b[43msql_dialect\u001b[49m\u001b[43m,\u001b[49m\n\u001b[32m    213\u001b[39m \u001b[43m    \u001b[49m\u001b[43mreturn_fids\u001b[49m\u001b[43m=\u001b[49m\u001b[43mreturn_fids\u001b[49m\u001b[43m,\u001b[49m\n\u001b[32m    214\u001b[39m \u001b[43m    \u001b[49m\u001b[43mdataset_kwargs\u001b[49m\u001b[43m=\u001b[49m\u001b[43mdataset_kwargs\u001b[49m\u001b[43m,\u001b[49m\n\u001b[32m    215\u001b[39m \u001b[43m    \u001b[49m\u001b[43mdatetime_as_string\u001b[49m\u001b[43m=\u001b[49m\u001b[43mdatetime_as_string\u001b[49m\u001b[43m,\u001b[49m\n\u001b[32m    216\u001b[39m \u001b[43m\u001b[49m\u001b[43m)\u001b[49m\n",
      "\u001b[36mFile \u001b[39m\u001b[32mpyogrio\\\\_io.pyx:1240\u001b[39m, in \u001b[36mpyogrio._io.ogr_read\u001b[39m\u001b[34m()\u001b[39m\n",
      "\u001b[36mFile \u001b[39m\u001b[32mpyogrio\\\\_io.pyx:220\u001b[39m, in \u001b[36mpyogrio._io.ogr_open\u001b[39m\u001b[34m()\u001b[39m\n",
      "\u001b[31mDataSourceError\u001b[39m: C:\\path\\to\\your\\shapefile\\us_states.shp: No such file or directory"
     ]
    }
   ],
   "source": [
    "def plot_top_names_by_state_matplotlib(file_path, shapefile_path):\n",
    "    \"\"\"\n",
    "    Generates a map of the USA showing the most popular baby name in each state using Matplotlib.\n",
    "\n",
    "    Parameters:\n",
    "    - file_path (str): Path to the StateNames.csv dataset.\n",
    "    - shapefile_path (str): Path to a valid USA state boundaries shapefile.\n",
    "\n",
    "    Returns:\n",
    "    - A Matplotlib figure displaying the top names by state.\n",
    "    \"\"\"\n",
    "    # Load baby names dataset\n",
    "    df = pd.read_csv(file_path)\n",
    "\n",
    "    # Find the most popular name per state\n",
    "    top_names = df.groupby([\"State\", \"Name\"])[\"Count\"].sum().reset_index()\n",
    "    top_names = top_names.loc[top_names.groupby(\"State\")[\"Count\"].idxmax()]  # Get top name per state\n",
    "\n",
    "    # Load a valid US states shapefile\n",
    "    usa_states = gpd.read_file(shapefile_path)\n",
    "\n",
    "    # Ensure state abbreviations match (if shapefile contains full names, we need a mapping)\n",
    "    state_abbr_to_name = {\n",
    "        \"AL\": \"Alabama\", \"AK\": \"Alaska\", \"AZ\": \"Arizona\", \"AR\": \"Arkansas\", \"CA\": \"California\",\n",
    "        \"CO\": \"Colorado\", \"CT\": \"Connecticut\", \"DE\": \"Delaware\", \"FL\": \"Florida\", \"GA\": \"Georgia\",\n",
    "        \"HI\": \"Hawaii\", \"ID\": \"Idaho\", \"IL\": \"Illinois\", \"IN\": \"Indiana\", \"IA\": \"Iowa\",\n",
    "        \"KS\": \"Kansas\", \"KY\": \"Kentucky\", \"LA\": \"Louisiana\", \"ME\": \"Maine\", \"MD\": \"Maryland\",\n",
    "        \"MA\": \"Massachusetts\", \"MI\": \"Michigan\", \"MN\": \"Minnesota\", \"MS\": \"Mississippi\",\n",
    "        \"MO\": \"Missouri\", \"MT\": \"Montana\", \"NE\": \"Nebraska\", \"NV\": \"Nevada\", \"NH\": \"New Hampshire\",\n",
    "        \"NJ\": \"New Jersey\", \"NM\": \"New Mexico\", \"NY\": \"New York\", \"NC\": \"North Carolina\",\n",
    "        \"ND\": \"North Dakota\", \"OH\": \"Ohio\", \"OK\": \"Oklahoma\", \"OR\": \"Oregon\", \"PA\": \"Pennsylvania\",\n",
    "        \"RI\": \"Rhode Island\", \"SC\": \"South Carolina\", \"SD\": \"South Dakota\", \"TN\": \"Tennessee\",\n",
    "        \"TX\": \"Texas\", \"UT\": \"Utah\", \"VT\": \"Vermont\", \"VA\": \"Virginia\", \"WA\": \"Washington\",\n",
    "        \"WV\": \"West Virginia\", \"WI\": \"Wisconsin\", \"WY\": \"Wyoming\"\n",
    "    }\n",
    "\n",
    "    # Add a column with full state names for merging (if necessary)\n",
    "    top_names[\"State_Full\"] = top_names[\"State\"].map(state_abbr_to_name)\n",
    "\n",
    "    # Merge top names with state geometries\n",
    "    merged = usa_states.merge(top_names, left_on=\"NAME\", right_on=\"State_Full\", how=\"left\")\n",
    "\n",
    "    # Plot the map\n",
    "    fig, ax = plt.subplots(figsize=(12, 8))\n",
    "    merged.plot(column=\"Name\", cmap=\"tab20\", linewidth=0.8, edgecolor=\"black\", legend=True, ax=ax)\n",
    "\n",
    "    # Add text labels for each state's most common name\n",
    "    for idx, row in merged.iterrows():\n",
    "        if pd.notna(row[\"Name\"]):\n",
    "            plt.text(row.geometry.centroid.x, row.geometry.centroid.y, row[\"Name\"], fontsize=8, ha=\"center\")\n",
    "\n",
    "    # Customize the map\n",
    "    ax.set_title(\"Most Popular Baby Names by State\", fontsize=14)\n",
    "    ax.axis(\"off\")  # Hide axes\n",
    "\n",
    "    plt.show()\n",
    "\n",
    "# Example usage:\n",
    "file_path = r\"C:\\Users\\matej\\.cache\\kagglehub\\datasets\\kaggle\\us-baby-names\\versions\\2\\StateNames.csv\"\n",
    "shapefile_path = r\"C:\\path\\to\\your\\shapefile\\us_states.shp\"  # Make sure to download a valid shapefile\n",
    "plot_top_names_by_state_matplotlib(file_path, shapefile_path)"
   ]
  },
  {
   "cell_type": "markdown",
   "metadata": {},
   "source": []
  }
 ],
 "metadata": {
  "kernelspec": {
   "display_name": "Python 3",
   "language": "python",
   "name": "python3"
  },
  "language_info": {
   "codemirror_mode": {
    "name": "ipython",
    "version": 3
   },
   "file_extension": ".py",
   "mimetype": "text/x-python",
   "name": "python",
   "nbconvert_exporter": "python",
   "pygments_lexer": "ipython3",
   "version": "3.11.9"
  }
 },
 "nbformat": 4,
 "nbformat_minor": 2
}
